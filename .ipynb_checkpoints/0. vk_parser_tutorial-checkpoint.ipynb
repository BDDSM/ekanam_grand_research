{
 "cells": [
  {
   "cell_type": "markdown",
   "metadata": {},
   "source": [
    "<center>\n",
    "<img src=\"https://raw.githubusercontent.com/FUlyankin/ekenam_grand_research/master/images/cover.png\">\n",
    "</center>\n",
    "\n",
    "\n",
    "# <center> Иканам гранд рисёрч </center>\n",
    "## <center>  Туториал: Как скачать данные из контакта </center> \n",
    "\n",
    "\n",
    "Проект **Иканам гранд рисёрч** реализуется [Иканам стьюдентс коммьюнити,](https://vk.com/ikanam)\n",
    "в частности [вот этим парнем по имени Филипп.](https://vk.com/ppilif) Если вы нашли ошибку или у вас есть предложения, замечания, деньги, слава или женщины, можно ему написать. Весь говнокод, использованный в исследовании распространяется по лицензии [Creative Commons CC BY-NC-SA 4.0.](https://creativecommons.org/licenses/by-nc-sa/4.0/) Его можно использовать в любых целях (редактировать, поправлять и брать за основу), кроме коммерческих, но с обязательным упоминанием автора материала. При наличии технической возможности необходимо также указать активную гиперссылку на [страницу рисёрча.](https://github.com/FUlyankin/ekenam_grand_research)"
   ]
  },
  {
   "cell_type": "markdown",
   "metadata": {},
   "source": [
    "## 1. Подготовка\n",
    "\n",
    "Многие сайты и сервисы хотят упростить жизнь программистам и предоставляют им в пользование уже готовые куски кода, к которым можно просто обратиться и получить нужную информацию о сервисе. Такие куски кода называются API (Application programming interface). Вконтакте не является исключением.\n",
    "\n",
    "Сразу же стоит сказать, что API Вконтакте это рай для дата-сайентиста. Можно скачать огромное количество всего без серьёзных ограничений. Например, Facebook по своему API отдаст вам информацию только о тех людях, которые установили ваше приложение, API Одноклассников потребует написать им письмо с объяснением того, зачем это вам понадобились их данные, а API Вконтакте отдаст вам всё практически задаром. Единственное, что он попросит — это не обращаться к сайту очень часто, и это очень круто.\n",
    "\n",
    "Тем не менее, недавно Вконтакте провёл серьёзную реформу своей музыкальной части и монетизировал её. Это привело к изъятию куска API, связанного с музыкой из открытого доступа. Более того, существует опасность, что социальная сеть продолжит резать бесплатный функционал своего API после разных скандалов, связанных с банками, нагло собирающими информацию о пользователях для своих скоринговых моделей. В связи с этим, нужно успеть нарисёрчить по данным из соц сеток вдоволь, пока нас существенно не ограничили в их выгрузке.\n",
    "\n",
    "Ознакомиться со способами взаимодействия с Вконтакте можно [по ссылке, о существовании которой вы даже не догадывались...](https://vk.com/dev/manuals) По ней можно найти лучшего друга человека —  понятную документацию. Для того, чтобы получить доступ к выгрузке данных, нужно пройти ряд бюрократических процедур.\n",
    "\n",
    "Первая такая процедура заключается в [создании своего приложения.](http://vk.com/editapp?act=create) Заполняем все поля, загружаем предварительно подготовленные картинки нужного размера. Разрешаем доступ этому приложению к своей странице.\n",
    "\n",
    "<img align=\"center\" src=\"https://raw.githubusercontent.com/FUlyankin/vk_grand_research/master/images/vk6.png\" height=\"500\" width=\"500\">\n",
    "\n",
    "<img align=\"center\" src=\"https://raw.githubusercontent.com/FUlyankin/vk_grand_research/master/images/vk_2.png\" height=\"600\" width=\"600\">\n",
    "\n",
    "Для работы с частью методов API этого вполне достаточно (обычно в заголовке такого метода стоит соответствующая пометка). Для части методов, используемых нами, может понадобиться ключ доступа.\n",
    "\n",
    "Для того, чтобы получить его, необходимо сделать ещё пару странных манипуляций:\n",
    "\n",
    "Переходим по ссылке вида (на месте звездочек должен стоять ID созданного вами приложения):\n",
    "\n",
    "> https://oauth.vk.com/authorize?client_id=**********&scope=14&redirect_uri=https://oauth.vk.com/blank.html&display=page&v=5.16&response_type=token\n",
    "\n",
    "\n",
    "В итоге по этому запросу будет сформирована ссылка следующего вида:\n",
    "\n",
    "> https://oauth.vk.com/blank.html#access_token=95b636116ef20e0798fe4dff380511fc13&expires_in=86400&user_id=6045249\n",
    "\n",
    "\n",
    "Первый набор знаков - access token, т.е. маркер доступа. Вторая цифра (expires_in=) время работы маркера доступа в секундах (одни сутки). По истечению суток нужно будет получить новый маркер доступа. Последняя цифра (user_id=) ваш ID Вконтакте. Нам в дальнейшем понадобится маркер доступа и ID.  Для удобства сохраним их.\n",
    "\n",
    "Обратите внимание на ссылку, по которой мы делали запрос на предоставление токена. Внутри неё находится странный параметр `scope=14`. Эта загадочная цифра ничто иное, как права доступа к социальной сети. Подробнее [познакомиться с взаимно-однозначным соответствием между числами и правами можно в документации.](https://vk.com/dev/permissions) Например, если мы хотим получить доступ к друзьям, фото и аудио, мы подставим в `scope` цифру $2 + 4 + 8 = 14$.  \n"
   ]
  },
  {
   "cell_type": "code",
   "execution_count": 1,
   "metadata": {},
   "outputs": [],
   "source": [
    "token= \"74ff27e52b6aa780fc2f3be6c5f0b5a87d0709a071fb93791e33f3971e7c8e23e3d9e767db787d1db2866\"\n",
    "myid = \"6045249\""
   ]
  },
  {
   "cell_type": "markdown",
   "metadata": {},
   "source": [
    "## 2. Учимся собирательству\n",
    "\n",
    "Для начала подгрузим парочку пакетов. "
   ]
  },
  {
   "cell_type": "code",
   "execution_count": 2,
   "metadata": {},
   "outputs": [],
   "source": [
    "import requests                  # Пакет для скачки данных из этих ваших интернетов\n",
    "import pandas as pd              # Пакет для работы с таблицами\n",
    "import numpy as np               # Пакет для работы с векторами и матрицами\n",
    "import matplotlib.pyplot as plt  # Пакет для строительства графиков\n",
    "import time            # Пакет для работы со временем. Например, помогает ставить заглушки \n",
    "                       # time.sleep(секунды), необходимые для того что ВК не банил нащего\n",
    "                       # сборщика данных из-за слишком частых запросов\n",
    "        \n",
    "# Пакет для красивых циклов. При желании его можно отключить. Тогда из всех циклов придётся \n",
    "# удалять команду tqdm_notebook.\n",
    "from tqdm import tqdm_notebook   # подробнее: https://github.com/tqdm/tqdm"
   ]
  },
  {
   "cell_type": "markdown",
   "metadata": {},
   "source": [
    "Чтобы задать вопрос API вконтакте, нужно сформировать ссылку следующего вида:\n",
    "\n",
    "> https://api.vk.com/method/METHOD_NAME?PARAMETERS&access_token=ACCESS_TOKEN\n",
    "\n",
    "> https://название_api/используемый_метод?параметры_метода&другие_опции&ключ_доступа\n",
    "\n",
    "В ссылку сначала встраивается метод, с помощью которого мы осуществляем запрос и какие-то параметры для этого метода. Список всех существующих методов и параметров можно изучить, конечно же, в [документации.](https://vk.com/dev/methods)\n",
    "\n",
    "Попробуем узнать своё имя. Метод `users.get`  возвращает расширенную информацию о пользователе. Параметр `user_ids` отвечает за `id` пользователей, информацию о которых нам хотелось бы вытащить."
   ]
  },
  {
   "cell_type": "code",
   "execution_count": 3,
   "metadata": {},
   "outputs": [],
   "source": [
    "url = \"https://api.vk.com/method/users.get?user_ids=6045249&access_token=\"+str(token)"
   ]
  },
  {
   "cell_type": "code",
   "execution_count": 4,
   "metadata": {},
   "outputs": [
    {
     "data": {
      "text/plain": [
       "<Response [200]>"
      ]
     },
     "execution_count": 4,
     "metadata": {},
     "output_type": "execute_result"
    }
   ],
   "source": [
    "response = requests.get(url) \n",
    "response"
   ]
  },
  {
   "cell_type": "markdown",
   "metadata": {},
   "source": [
    "Ура! Благословенный 200-ответ! Мы получили его в удобном json формате, который python воспринимает как словарик."
   ]
  },
  {
   "cell_type": "code",
   "execution_count": 5,
   "metadata": {},
   "outputs": [
    {
     "data": {
      "text/plain": [
       "{'response': [{'first_name': 'Филипп',\n",
       "   'last_name': 'Ульянкин',\n",
       "   'uid': 6045249}]}"
      ]
     },
     "execution_count": 5,
     "metadata": {},
     "output_type": "execute_result"
    }
   ],
   "source": [
    "my_name = response.json()\n",
    "my_name"
   ]
  },
  {
   "cell_type": "markdown",
   "metadata": {},
   "source": [
    "Со словарями очень удобно работать. Круто, когда можно узнать как тебя зовут с комфортом. "
   ]
  },
  {
   "cell_type": "code",
   "execution_count": 6,
   "metadata": {},
   "outputs": [
    {
     "data": {
      "text/plain": [
       "{'first_name': 'Филипп', 'last_name': 'Ульянкин', 'uid': 6045249}"
      ]
     },
     "execution_count": 6,
     "metadata": {},
     "output_type": "execute_result"
    }
   ],
   "source": [
    "infa = my_name['response'][0]\n",
    "infa"
   ]
  },
  {
   "cell_type": "markdown",
   "metadata": {},
   "source": [
    "Оформим всё, что мы сделали выше в виде удобной функции, которая будет пригодна для любых методов и параметров."
   ]
  },
  {
   "cell_type": "code",
   "execution_count": 7,
   "metadata": {},
   "outputs": [
    {
     "data": {
      "text/plain": [
       "{'response': [{'first_name': 'Филипп',\n",
       "   'last_name': 'Ульянкин',\n",
       "   'uid': 6045249}]}"
      ]
     },
     "execution_count": 7,
     "metadata": {},
     "output_type": "execute_result"
    }
   ],
   "source": [
    "def vk_download(method, parameters, token = token):\n",
    "    url = 'https://api.vk.com/method/'+method+'?'+parameters+'&access_token='+str(token)\n",
    "    response = requests.get(url) \n",
    "    return(response.json())\n",
    "\n",
    "vk_download('users.get','user_ids=6045249')"
   ]
  },
  {
   "cell_type": "markdown",
   "metadata": {},
   "source": [
    "В принципе это всё. Дальнейшая стратегия будет такой: открываем документацию, находим нужные метод и параметры и применяем их. Попробуем с помощью новых знаний решить несколько рисёрческих задачек. Начнём с психологии. \n",
    "\n",
    "Все цитаты в пабликах вконтакте делятся на два вида: мудрые и недостаточно мудрые. Если цитата мудрая, то её не грех репостнуть на стеночку. Поговаривают, что если в цитате есть личные местоимения, то пользователь автоматически сопоставляет себя автору этой цитаты и вероятность того, что она буде репостнута повышается. Например, цитату \n",
    "\n",
    "> Можно простить человеку все, кроме отсутствия. (Экзюпери) \n",
    "\n",
    "мне не очень хотелось бы репостить. А вот цитата \n",
    "\n",
    "> Мне наплевать, что вы обо мне думаете. Я о вас вообще не думаю. (Булгаков) \n",
    "\n",
    "совершенно другое дело. \n",
    "\n",
    "\n",
    "Гипотеза сформулирована. Глаза загорелись. Пришло время проверить её. \n",
    "\n",
    "## 3. Какая мудрость более мудрая \n",
    "\n",
    "Для начала выгрузим пару записей со своей стены, чтобы ещё раз осознать как это всё работает. В качестве ответа на запрос мы получим длинный страшный кусок текста. В этом куске текста будет абсолютно все, что есть у нас на стене. Ссылки на картинки, количество лайков под каждой записью, подробная история того как и откуда был сделан репост записи и так далее. Нас среди всего этого добра будут интересовать только лайки, репосты и просмотры. "
   ]
  },
  {
   "cell_type": "code",
   "execution_count": 8,
   "metadata": {},
   "outputs": [
    {
     "name": "stdout",
     "output_type": "stream",
     "text": [
      "174\n",
      "{'id': 7408, 'from_id': 6045249, 'to_id': 6045249, 'date': 1515183451, 'post_type': 'post', 'text': '', 'can_delete': 1, 'can_pin': 1, 'media': {'type': 'share', 'share_url': 'https://echo.msk.ru/blog/pozner/2123362-echo/?utm_source=fb.com&amp;amp;amp;utm_medium=social&amp;amp;amp;utm_campaign=vladimir-pozner-o-sprose-na-svobodu-i-d&amp;amp;amp;utm_content=15116693', 'share_title': 'О спросе на свободу и демократию'}, 'attachment': {'type': 'link', 'link': {'url': 'https://echo.msk.ru/blog/pozner/2123362-echo/?utm_source=fb.com&amp;amp;amp;utm_medium=social&amp;amp;amp;utm_campaign=vladimir-pozner-o-sprose-na-svobodu-i-d&amp;amp;amp;utm_content=15116693', 'title': 'О спросе на свободу и демократию', 'description': 'Возникла мысль: почему у нас так не любят реформаторов? Я подчеркиваю, реформаторов, не революционеров. Вот с революционерами у нас как-то все хорошо…', 'target': 'internal', 'preview_page': '743459979_471156541', 'preview_url': 'https://m.vk.com/article743459979_471156541?api_view=1776f08ed2226bd17cbbc2acecf77b', 'image_src': 'https://pp.userapi.com/c840230/v840230509/604da/23JBeCQ16ts.jpg'}}, 'attachments': [{'type': 'link', 'link': {'url': 'https://echo.msk.ru/blog/pozner/2123362-echo/?utm_source=fb.com&amp;amp;amp;utm_medium=social&amp;amp;amp;utm_campaign=vladimir-pozner-o-sprose-na-svobodu-i-d&amp;amp;amp;utm_content=15116693', 'title': 'О спросе на свободу и демократию', 'description': 'Возникла мысль: почему у нас так не любят реформаторов? Я подчеркиваю, реформаторов, не революционеров. Вот с революционерами у нас как-то все хорошо…', 'target': 'internal', 'preview_page': '743459979_471156541', 'preview_url': 'https://m.vk.com/article743459979_471156541?api_view=1776f08ed2226bd17cbbc2acecf77b', 'image_src': 'https://pp.userapi.com/c840230/v840230509/604da/23JBeCQ16ts.jpg'}}], 'post_source': {'type': 'vk'}, 'comments': {'count': 0, 'groups_can_post': True, 'can_post': 1}, 'likes': {'count': 1, 'user_likes': 0, 'can_like': 1, 'can_publish': 0}, 'reposts': {'count': 0, 'user_reposted': 0}, 'online': 1, 'reply_count': 0}\n"
     ]
    }
   ],
   "source": [
    "wall = vk_download('wall.get','user_ids=6045249')['response']\n",
    "print(wall[0])\n",
    "print(wall[1])"
   ]
  },
  {
   "cell_type": "code",
   "execution_count": 9,
   "metadata": {},
   "outputs": [
    {
     "data": {
      "text/plain": [
       "21"
      ]
     },
     "execution_count": 9,
     "metadata": {},
     "output_type": "execute_result"
    }
   ],
   "source": [
    "len(wall)"
   ]
  },
  {
   "cell_type": "markdown",
   "metadata": {},
   "source": [
    "Скачалось целых 20 записей. Первая запись - число постов на стене. При этом в графе `likes` лежит часть того, что мы жаждем. "
   ]
  },
  {
   "cell_type": "code",
   "execution_count": 10,
   "metadata": {},
   "outputs": [
    {
     "data": {
      "text/plain": [
       "{'can_like': 1, 'can_publish': 0, 'count': 3, 'user_likes': 0}"
      ]
     },
     "execution_count": 10,
     "metadata": {},
     "output_type": "execute_result"
    }
   ],
   "source": [
    "wall[3]['likes']"
   ]
  },
  {
   "cell_type": "markdown",
   "metadata": {},
   "source": [
    "Вытащим все лайки со стены. "
   ]
  },
  {
   "cell_type": "code",
   "execution_count": 11,
   "metadata": {},
   "outputs": [
    {
     "data": {
      "text/plain": [
       "[1, 33, 3, 13, 6, 9, 5, 9, 8, 21, 11, 1, 15, 11, 23, 7, 0, 1, 55, 7]"
      ]
     },
     "execution_count": 11,
     "metadata": {},
     "output_type": "execute_result"
    }
   ],
   "source": [
    "[item['likes']['count'] for item in wall[1:]]"
   ]
  },
  {
   "cell_type": "markdown",
   "metadata": {},
   "source": [
    "Отлично! Мы готовы сделать первый рисёрчерский вывод. Кажется, обладатель этой стены среднепопулярный парень... \n",
    "\n",
    "Теперь попробуем провернуть аналогичный трюк с лайками из какой-нибудь [мудрой группы.](https://vk.com/ooioioioioioo) Отметим, что при этом есть одна тонкость, которая прописана в [описании метода wall.get.](https://vk.com/dev/wall.get) Если мы хотим вытащить записи из группы, то ее id должен быть записан со знаком минус. Сразу же обратим внимание на то, что нам хотелось бы получить больше $20$ записей. Пороемся в документации. Выясняем, что существуют такие параметры как `count` - число записей для скачки (не может превышать 100) и `offset` - смещение, необходимое для выборки определённого подмножества записей. "
   ]
  },
  {
   "cell_type": "code",
   "execution_count": 12,
   "metadata": {},
   "outputs": [
    {
     "data": {
      "text/plain": [
       "[51, 785, 473, 610, 822]"
      ]
     },
     "execution_count": 12,
     "metadata": {},
     "output_type": "execute_result"
    }
   ],
   "source": [
    "[item['likes']['count'] for item in vk_download('wall.get','owner_id=-26610299&count=5')['response'][1:]]"
   ]
  },
  {
   "cell_type": "code",
   "execution_count": 13,
   "metadata": {},
   "outputs": [
    {
     "data": {
      "text/plain": [
       "[473, 610, 822, 708, 1029]"
      ]
     },
     "execution_count": 13,
     "metadata": {},
     "output_type": "execute_result"
    }
   ],
   "source": [
    "[item['likes']['count'] for item in vk_download('wall.get','owner_id=-26610299&count=5&offset=2')['response'][1:]]"
   ]
  },
  {
   "cell_type": "markdown",
   "metadata": {},
   "source": [
    "Отлично! Мы только что скачали со стены первые пять лайков, а затем ещё пять со сдвигом два. Обратите внимание, что вторые три элемента первого списка и первые три второго совпадают.\n",
    "\n",
    "Дело осталось мизерное, написать цикл, который пройдёт по всей стенке и соберёт с неё лайки, тексты постов и репосты. "
   ]
  },
  {
   "cell_type": "code",
   "execution_count": 14,
   "metadata": {},
   "outputs": [
    {
     "name": "stdout",
     "output_type": "stream",
     "text": [
      "В группе целых 8773 мудростей\n"
     ]
    },
    {
     "data": {
      "application/vnd.jupyter.widget-view+json": {
       "model_id": "e15baf75e9b745a8a9a774f6bdc8dfb2",
       "version_major": 2,
       "version_minor": 0
      },
      "text/html": [
       "<p>Failed to display Jupyter Widget of type <code>HBox</code>.</p>\n",
       "<p>\n",
       "  If you're reading this message in the Jupyter Notebook or JupyterLab Notebook, it may mean\n",
       "  that the widgets JavaScript is still loading. If this message persists, it\n",
       "  likely means that the widgets JavaScript library is either not installed or\n",
       "  not enabled. See the <a href=\"https://ipywidgets.readthedocs.io/en/stable/user_install.html\">Jupyter\n",
       "  Widgets Documentation</a> for setup instructions.\n",
       "</p>\n",
       "<p>\n",
       "  If you're reading this message in another frontend (for example, a static\n",
       "  rendering on GitHub or <a href=\"https://nbviewer.jupyter.org/\">NBViewer</a>),\n",
       "  it may mean that your frontend doesn't currently support widgets.\n",
       "</p>\n"
      ],
      "text/plain": [
       "HBox(children=(IntProgress(value=0, max=89), HTML(value='')))"
      ]
     },
     "metadata": {},
     "output_type": "display_data"
    },
    {
     "name": "stdout",
     "output_type": "stream",
     "text": [
      "\n"
     ]
    }
   ],
   "source": [
    "# В этот словарик будем собирать информацию о лайках, репостах и текстах\n",
    "wall_inf = {'likes' : [ ],\n",
    "            'reposts' : [ ],\n",
    "            'text' : [ ]}\n",
    "\n",
    "# Выясним сколько всего в группе постов \n",
    "n = vk_download('wall.get','owner_id=-26610299')['response'][0] \n",
    "print('В группе целых', n, 'мудростей')\n",
    "\n",
    "# Цикл обёрнут в команду-вызыватель загрузочной строки. Можно её удалить.\n",
    "# Возможно, для её корректной работы понадобится виджеь, который можно \n",
    "# скачать вот тут: https://ipywidgets.readthedocs.io/en/stable/user_install.html\n",
    "\n",
    "for i in tqdm_notebook(range(0, n + 100, 100)): \n",
    "    # После каждого запроса будем ждать 0.4 секунды, иначе вк не отдаст данные. \n",
    "    # Чуть подробнее про заглушки мы ещё раз поговорим ниже. \n",
    "    time.sleep(0.4)\n",
    "    # Взяли себе очередные 100 записей со стены (не забываем что нулевая запись - длина стены)\n",
    "    # Именно поэтому мы её обрезаем. \n",
    "    wall = vk_download('wall.get','owner_id=-26610299&count=100&offset='+str(i))['response'][1:]\n",
    "    # Вытащили лайки \n",
    "    new_likes = [item['likes']['count'] for item in wall]\n",
    "    # Вытащили репосты \n",
    "    new_reposts = [item['reposts']['count'] for item in wall]\n",
    "    # Вытащили тексты постов \n",
    "    new_text = [item['text'] for item in wall]\n",
    "    # Закинули всё это добро в словарик с данными \n",
    "    wall_inf['likes'].extend(new_likes)\n",
    "    wall_inf['reposts'].extend(new_reposts)\n",
    "    wall_inf['text'].extend(new_text)"
   ]
  },
  {
   "cell_type": "markdown",
   "metadata": {},
   "source": [
    "Обратите внимание, что для сообществ нельзя делать более 20 запросов в секунду! Про все существующие ограничения можно прочесть всё в той же самой [документации.](https://vk.com/dev/api_requests?f=3.1.%20Частотные%20ограничения) В наших руках тем временем оказалось очень много мудрости. Превратим всю нашу мудрость в таблицу."
   ]
  },
  {
   "cell_type": "code",
   "execution_count": 15,
   "metadata": {},
   "outputs": [
    {
     "data": {
      "text/html": [
       "<div>\n",
       "<style scoped>\n",
       "    .dataframe tbody tr th:only-of-type {\n",
       "        vertical-align: middle;\n",
       "    }\n",
       "\n",
       "    .dataframe tbody tr th {\n",
       "        vertical-align: top;\n",
       "    }\n",
       "\n",
       "    .dataframe thead th {\n",
       "        text-align: right;\n",
       "    }\n",
       "</style>\n",
       "<table border=\"1\" class=\"dataframe\">\n",
       "  <thead>\n",
       "    <tr style=\"text-align: right;\">\n",
       "      <th></th>\n",
       "      <th>likes</th>\n",
       "      <th>reposts</th>\n",
       "      <th>text</th>\n",
       "    </tr>\n",
       "  </thead>\n",
       "  <tbody>\n",
       "    <tr>\n",
       "      <th>0</th>\n",
       "      <td>51</td>\n",
       "      <td>0</td>\n",
       "      <td>Новый формат нашей группы в инстаграме - @m.vk...</td>\n",
       "    </tr>\n",
       "    <tr>\n",
       "      <th>1</th>\n",
       "      <td>785</td>\n",
       "      <td>51</td>\n",
       "      <td>В самый трудный, в самый безысходный час своей...</td>\n",
       "    </tr>\n",
       "    <tr>\n",
       "      <th>2</th>\n",
       "      <td>473</td>\n",
       "      <td>13</td>\n",
       "      <td>Я часто цитирую себя — это придают беседе пика...</td>\n",
       "    </tr>\n",
       "    <tr>\n",
       "      <th>3</th>\n",
       "      <td>610</td>\n",
       "      <td>42</td>\n",
       "      <td>Просто диву даешься, как можно лгать, прикрыва...</td>\n",
       "    </tr>\n",
       "    <tr>\n",
       "      <th>4</th>\n",
       "      <td>822</td>\n",
       "      <td>20</td>\n",
       "      <td>Считается, что красивые мужчины никого не любя...</td>\n",
       "    </tr>\n",
       "  </tbody>\n",
       "</table>\n",
       "</div>"
      ],
      "text/plain": [
       "   likes  reposts                                               text\n",
       "0     51        0  Новый формат нашей группы в инстаграме - @m.vk...\n",
       "1    785       51  В самый трудный, в самый безысходный час своей...\n",
       "2    473       13  Я часто цитирую себя — это придают беседе пика...\n",
       "3    610       42  Просто диву даешься, как можно лгать, прикрыва...\n",
       "4    822       20  Считается, что красивые мужчины никого не любя..."
      ]
     },
     "execution_count": 15,
     "metadata": {},
     "output_type": "execute_result"
    }
   ],
   "source": [
    "df_wise = pd.DataFrame(wall_inf)\n",
    "df_wise.head()"
   ]
  },
  {
   "cell_type": "markdown",
   "metadata": {},
   "source": [
    "Возьмём все наши мудрые цитаты, уменьшим в них литеры методом `.lower()`, а после разобьём их по пробелам на слова методом `.split(' ')`. После мы сможем проверить есть ли в цитате местоимение \"я\"."
   ]
  },
  {
   "cell_type": "code",
   "execution_count": 16,
   "metadata": {},
   "outputs": [
    {
     "data": {
      "text/plain": [
       "['я',\n",
       " 'часто',\n",
       " 'цитирую',\n",
       " 'себя',\n",
       " '—',\n",
       " 'это',\n",
       " 'придают',\n",
       " 'беседе',\n",
       " 'пикантность.',\n",
       " '<br>',\n",
       " '<br>бернард',\n",
       " 'шоу']"
      ]
     },
     "execution_count": 16,
     "metadata": {},
     "output_type": "execute_result"
    }
   ],
   "source": [
    "df_wise.text[2].lower().split(' ')"
   ]
  },
  {
   "cell_type": "code",
   "execution_count": 17,
   "metadata": {},
   "outputs": [
    {
     "data": {
      "text/plain": [
       "2467"
      ]
     },
     "execution_count": 17,
     "metadata": {},
     "output_type": "execute_result"
    }
   ],
   "source": [
    "df_wise['I'] = ['я' in post.lower().split(' ') for post in df_wise.text]\n",
    "df_wise['I'].sum( ) "
   ]
  },
  {
   "cell_type": "markdown",
   "metadata": {},
   "source": [
    "Отлично! Местоимение \"я\" содержится в довольно большой части выборки. Наблюдений для проверки гипотезы нам очень даже хватает. Посчитаем среднее число лайков и среднее число репостов для постов обоих типов. "
   ]
  },
  {
   "cell_type": "code",
   "execution_count": 18,
   "metadata": {},
   "outputs": [
    {
     "data": {
      "text/plain": [
       "likes      2926.135792\n",
       "reposts     122.597487\n",
       "I             1.000000\n",
       "dtype: float64"
      ]
     },
     "execution_count": 18,
     "metadata": {},
     "output_type": "execute_result"
    }
   ],
   "source": [
    "df_wise[df_wise['I'] == 1].mean(axis=0)"
   ]
  },
  {
   "cell_type": "code",
   "execution_count": 19,
   "metadata": {},
   "outputs": [
    {
     "data": {
      "text/plain": [
       "likes      2830.547257\n",
       "reposts     116.253885\n",
       "I             0.000000\n",
       "dtype: float64"
      ]
     },
     "execution_count": 19,
     "metadata": {},
     "output_type": "execute_result"
    }
   ],
   "source": [
    "df_wise[df_wise['I'] == 0].mean(axis=0)"
   ]
  },
  {
   "cell_type": "code",
   "execution_count": 20,
   "metadata": {},
   "outputs": [
    {
     "data": {
      "image/png": "[encoded data removed]",
      "text/plain": [
       "<matplotlib.figure.Figure at 0x115c33da0>"
      ]
     },
     "metadata": {},
     "output_type": "display_data"
    }
   ],
   "source": [
    "# Картиночки\n",
    "plt.figure(figsize=(15, 4))\n",
    "plt.subplot(1,2,1)\n",
    "df_wise[df_wise['I'] == 1]['likes'].plot.hist(title='Цитаты, с местоимением')\n",
    "\n",
    "plt.subplot(1,2,2)\n",
    "df_wise[df_wise['I'] == 0]['likes'].plot.hist(title='Цитаты без местоимения')\n",
    "\n",
    "plt.show()"
   ]
  },
  {
   "cell_type": "markdown",
   "metadata": {},
   "source": [
    "Хмм... Под постами без этого чудного местоимения лайков и репостов, в среднем, поменьше. Проверим значимо ли это различие для лайков. Репосты останутся как домашнее задание.  \n",
    "\n",
    "$H_0\\colon$ в среднем посты лайкают одинаково. \n",
    "\n",
    "$H_1\\colon$ не одинаково.\n",
    "\n",
    "О боже! Это же гипотеза о равенстве средних значений двух произвольно распределённых случайных величин. Вычислим значение $t$-статистики, которая будет иметь асимптотически нормальное распределение и сравним её значение с критическим. Будем при этом считать, что дисперсии у наших случайных величин, разные. "
   ]
  },
  {
   "cell_type": "code",
   "execution_count": 21,
   "metadata": {},
   "outputs": [
    {
     "data": {
      "text/plain": [
       "Ttest_indResult(statistic=2.6412255842851025, pvalue=0.008289559365050889)"
      ]
     },
     "execution_count": 21,
     "metadata": {},
     "output_type": "execute_result"
    }
   ],
   "source": [
    "# Модуль для првоерки гипотез \n",
    "import scipy.stats\n",
    "\n",
    "likes_I = np.array(df_wise[df_wise['I'] == 1]['likes'])\n",
    "likes_noI = np.array(df_wise[df_wise['I'] == 0]['likes'])\n",
    "\n",
    "scipy.stats.ttest_ind(likes_I , likes_noI, equal_var = False)"
   ]
  },
  {
   "cell_type": "markdown",
   "metadata": {},
   "source": [
    "Гипотеза о равенстве средних для данного паблика отвергается на 5% уровне значимости. Вы владелец этого паблика? Постите побольше цитат с местоимением \"Я\" и успех к вам придёт (но это неточно)."
   ]
  },
  {
   "cell_type": "markdown",
   "metadata": {},
   "source": [
    "Пришло время сделать что-нибудь банальное. Настолько банальное, что читатель скажет \"Да вы лрпкрпзшпгйп3рхйп3ршхпх, это же уже было и я рпкшрп3ршгпкшгкйпщошцуждауш вас всех!!!\" \n",
    "\n",
    "## 4. Друзья и графы\n",
    "\n",
    "### 4.1 Выкачиваем друзей \n",
    "\n",
    "Скачаем с помощью метода [`friends.get`](https://vk.com/dev/friends.get) всех своих друзей, а после построим их граф.  "
   ]
  },
  {
   "cell_type": "code",
   "execution_count": 22,
   "metadata": {},
   "outputs": [
    {
     "data": {
      "text/plain": [
       "[11105, 56572, 238896, 347530, 530312]"
      ]
     },
     "execution_count": 22,
     "metadata": {},
     "output_type": "execute_result"
    }
   ],
   "source": [
    "friends_ids = vk_download('friends.get','user_ids=6045249')\n",
    "friends_ids = friends_ids['response']\n",
    "friends_ids[:5]"
   ]
  },
  {
   "cell_type": "markdown",
   "metadata": {},
   "source": [
    "Вот они, все мои друзья! "
   ]
  },
  {
   "cell_type": "code",
   "execution_count": 23,
   "metadata": {},
   "outputs": [
    {
     "data": {
      "text/plain": [
       "356"
      ]
     },
     "execution_count": 23,
     "metadata": {},
     "output_type": "execute_result"
    }
   ],
   "source": [
    "len(friends_ids)"
   ]
  },
  {
   "cell_type": "markdown",
   "metadata": {},
   "source": [
    "На самом деле метод `friends.get` предусматривает огромное количество параметров, среди них есть параметр `fields`, который отвечает за то какую именно информацию о друзьях нужно вернуть. Спектр этой информации довольно широкий. От пола до университета. \n",
    "\n",
    "Если этот параметр никак не задействовать, то функция в качестве ответа выдаст список ID. Если его задействовать в совершенно любом виде, то в добавок к дополнительной информации появятся еще и имена. Нам для построения графа достаточно будет знать только ID всех друзей. Однако можно сделать граф более красивым. С именами, а может быть даже фотографиями. \n",
    "\n",
    "Для построения графа нам понадобится метод `friends.getMutual`, который возвращает список общих друзей с каким-нибудь человеком. "
   ]
  },
  {
   "cell_type": "code",
   "execution_count": 24,
   "metadata": {},
   "outputs": [
    {
     "data": {
      "text/plain": [
       "40"
      ]
     },
     "execution_count": 24,
     "metadata": {},
     "output_type": "execute_result"
    }
   ],
   "source": [
    "# Например, вот столько общех друзей у меня с юзером 10592581\n",
    "len(vk_download('friends.getMutual','target_uid=10592581')['response'])"
   ]
  },
  {
   "cell_type": "markdown",
   "metadata": {},
   "source": [
    "Вытаскиваем общих друзей для каждого из своих друзей и записываем в словарик, по которому мы впоследствии будем строить наш граф."
   ]
  },
  {
   "cell_type": "code",
   "execution_count": 25,
   "metadata": {},
   "outputs": [
    {
     "data": {
      "application/vnd.jupyter.widget-view+json": {
       "model_id": "a469424f22494af3b5043a334248b7dd",
       "version_major": 2,
       "version_minor": 0
      },
      "text/html": [
       "<p>Failed to display Jupyter Widget of type <code>HBox</code>.</p>\n",
       "<p>\n",
       "  If you're reading this message in the Jupyter Notebook or JupyterLab Notebook, it may mean\n",
       "  that the widgets JavaScript is still loading. If this message persists, it\n",
       "  likely means that the widgets JavaScript library is either not installed or\n",
       "  not enabled. See the <a href=\"https://ipywidgets.readthedocs.io/en/stable/user_install.html\">Jupyter\n",
       "  Widgets Documentation</a> for setup instructions.\n",
       "</p>\n",
       "<p>\n",
       "  If you're reading this message in another frontend (for example, a static\n",
       "  rendering on GitHub or <a href=\"https://nbviewer.jupyter.org/\">NBViewer</a>),\n",
       "  it may mean that your frontend doesn't currently support widgets.\n",
       "</p>\n"
      ],
      "text/plain": [
       "HBox(children=(IntProgress(value=0, max=356), HTML(value='')))"
      ]
     },
     "metadata": {},
     "output_type": "display_data"
    },
    {
     "name": "stdout",
     "output_type": "stream",
     "text": [
      "\n"
     ]
    }
   ],
   "source": [
    "infa = { }\n",
    "for friend in tqdm_notebook(friends_ids):\n",
    "    current = vk_download('friends.getMutual','target_uid='+str(friend))\n",
    "    infa[friend] = current   "
   ]
  },
  {
   "cell_type": "markdown",
   "metadata": {},
   "source": [
    "Изучим поподробнее информацию, которую мы скачали и увидим пару странностей, а именно: \n",
    "\n",
    "```   \n",
    "382202404: {'error': {'error_code': 6,\n",
    "   'error_msg': 'Too many requests per second',\n",
    "   'request_params': [{'key': 'oauth', 'value': '1'},\n",
    "    {'key': 'method', 'value': 'friends.getMutual'},\n",
    "    {'key': 'target_uid', 'value': '382202404'}]}}\n",
    "\n",
    "```\n",
    "\n",
    "Откуда берутся такие друзья? На любой респонс всегда найдётся свой реквест! Посетим страничку такого друга...\n",
    "Это вполне себе живой друг, информация для которого не выкачалась. Почему? Потому что, как уже упоминалось, есть ограничения, и мы в секунду сделали слишком много запросов... \n",
    "\n",
    "Вот беда... Код слишком быстрый. Нужно научить его ждать. Сделать это нам поможет пакет `time`. \n",
    "\n",
    "<img align=\"center\" src=\"https://raw.githubusercontent.com/FUlyankin/vk_grand_research/master/images/waiter.jpg\" height=\"450\" width=\"450\"> \n",
    "\n",
    "\n",
    "Вроде бы Вконтакте позволяет делать не более 3 запросов в секунду. Поэтому будем выжидать после каждой итерации $0.4$ секунды, чтобы не пробить лимиты. "
   ]
  },
  {
   "cell_type": "code",
   "execution_count": 26,
   "metadata": {},
   "outputs": [
    {
     "data": {
      "application/vnd.jupyter.widget-view+json": {
       "model_id": "b451922459734b03b3365d5ae46bc262",
       "version_major": 2,
       "version_minor": 0
      },
      "text/html": [
       "<p>Failed to display Jupyter Widget of type <code>HBox</code>.</p>\n",
       "<p>\n",
       "  If you're reading this message in the Jupyter Notebook or JupyterLab Notebook, it may mean\n",
       "  that the widgets JavaScript is still loading. If this message persists, it\n",
       "  likely means that the widgets JavaScript library is either not installed or\n",
       "  not enabled. See the <a href=\"https://ipywidgets.readthedocs.io/en/stable/user_install.html\">Jupyter\n",
       "  Widgets Documentation</a> for setup instructions.\n",
       "</p>\n",
       "<p>\n",
       "  If you're reading this message in another frontend (for example, a static\n",
       "  rendering on GitHub or <a href=\"https://nbviewer.jupyter.org/\">NBViewer</a>),\n",
       "  it may mean that your frontend doesn't currently support widgets.\n",
       "</p>\n"
      ],
      "text/plain": [
       "HBox(children=(IntProgress(value=0, max=356), HTML(value='')))"
      ]
     },
     "metadata": {},
     "output_type": "display_data"
    },
    {
     "name": "stdout",
     "output_type": "stream",
     "text": [
      "\n",
      "Количество пользователей, удаливших свою страничку:  9\n"
     ]
    }
   ],
   "source": [
    "k = 0  # счётчки для пересчёта плохих друзей\n",
    "infa = { }\n",
    "for friend in tqdm_notebook(friends_ids):\n",
    "    time.sleep(0.4)  # Спать!  \n",
    "    try:\n",
    "        infa[friend] = vk_download('friends.getMutual','target_uid='+str(friend))['response']\n",
    "    # Если юзер выпилил себя из контакта, то код выше выдаст ошибку, т.к. для такого пользователя\n",
    "    # не будет респонса, а будет ошибка. Подсчитаем количество таких пользователей. \n",
    "    except:\n",
    "        infa[friend] = [ ]\n",
    "        k = k + 1\n",
    "print('Количество пользователей, удаливших свою страничку: ', k)"
   ]
  },
  {
   "cell_type": "markdown",
   "metadata": {},
   "source": [
    "Итак, количество плохих друзей в нашем списке уменьшилось. Посмотрим кто там остался. \n",
    "\n",
    "```\n",
    "1310129: {'error': {'error_code': 15,\n",
    "   'error_msg': 'Access denied: user deactivated',\n",
    "   'request_params': [{'key': 'oauth', 'value': '1'},\n",
    "    {'key': 'method', 'value': 'friends.getMutual'},\n",
    "    {'key': 'target_uid', 'value': '1310129'}]}},\n",
    "```\n",
    "\n",
    "Ага! Деактивэйтед юзерс. Или просто люди, которые удалили свою страницу. \n",
    "\n",
    "\n",
    "\n",
    "<img align=\"center\" src=\"images/vk_del.jpg\" height=\"450\" width=\"450\">\n"
   ]
  },
  {
   "cell_type": "markdown",
   "metadata": {},
   "source": [
    "Пока работал этот кусок кода, я успел пересчитать всех таких пользователей. Всё сходится! Друзей скачали. Пришло время рисовать граф. \n",
    "\n",
    "\n",
    "###  4.2 Networkx \n",
    "\n",
    "Попробуем немного проанализировать граф своих друзей. В анализе графа нм поможет библиотека `networkx`. Если у вас её нет, наверное, есть смысл её установить. \n",
    "\n",
    "``` pip3 install networkx```\n",
    "\n",
    "В этой библиотеке реализовано довольно [много крутых алгоритмов](https://networkx.github.io/documentation/networkx-1.9/reference/algorithms.html) на графах. Более того, по ним сделана довольно красивая [документация.](https://networkx.github.io/documentation/stable/) \n",
    "\n",
    "Также мы будем использовать в ходе нашего анализа пакет `nxviz`. Его также не помешает установить.\n",
    "\n",
    "``` pip3 install nxviz```\n",
    "\n",
    "Итак, создаём граф и рисуем наши первые картинки! "
   ]
  },
  {
   "cell_type": "code",
   "execution_count": 27,
   "metadata": {},
   "outputs": [],
   "source": [
    "import networkx as nx             # Пакет для работы с графами\n",
    "import nxviz as nv                # Немного визуализаций \n",
    "\n",
    "import matplotlib.pyplot as plt   # Пакет для визуализации\n",
    "plt.style.use('ggplot')           # Правильный стиль для отрисовки картинок\n",
    "%matplotlib inline               "
   ]
  },
  {
   "cell_type": "markdown",
   "metadata": {},
   "source": [
    "Прошу любить и жаловать! Граф друзей."
   ]
  },
  {
   "cell_type": "code",
   "execution_count": 28,
   "metadata": {},
   "outputs": [
    {
     "data": {
      "image/png": "[encoded data removed]",
      "text/plain": [
       "<matplotlib.figure.Figure at 0x118980c50>"
      ]
     },
     "metadata": {},
     "output_type": "display_data"
    }
   ],
   "source": [
    "plt.figure(figsize=(8,8))\n",
    "\n",
    "FG = nx.from_dict_of_lists(infa)\n",
    "nx.draw(FG, node_size=30,  linewidths=0.05, cmap=True)"
   ]
  },
  {
   "cell_type": "markdown",
   "metadata": {},
   "source": [
    "Нарисуем матрицу связности для нашего графа. Темные точки означают наличие рёбер. "
   ]
  },
  {
   "cell_type": "code",
   "execution_count": 29,
   "metadata": {},
   "outputs": [
    {
     "data": {
      "image/png": "[encoded data removed]",
      "text/plain": [
       "<matplotlib.figure.Figure at 0x118014908>"
      ]
     },
     "metadata": {},
     "output_type": "display_data"
    }
   ],
   "source": [
    "m = nv.MatrixPlot(FG)\n",
    "m.draw()"
   ]
  },
  {
   "cell_type": "markdown",
   "metadata": {},
   "source": [
    "Пакет `NetworkX` даёт довольно тошнотворные визуализации. Конечно же можно как следует поднапрячься, засесть на пару суток и родить граф-конфетку внутренними средствами пакета. Однако мы пойдём другой дорогой.\n",
    "\n",
    "Если как следует погуглить, то можно найти [вот такое вот офигенное приложение](http://www.yasiv.com/vk) для контакта, которое строит граф друзей. Только дай ему доступ и на выход ты получишь вот такую офигительную интерактивную, быстро работающую штуку. \n",
    "\n",
    "<img align=\"center\" src=\"images/2. loises_and_graph/d3_fr_gr.png\" width=\"900\"> \n",
    "\n",
    "<br>\n",
    "\n",
    "Можно добавлять людей, раскрашивать рёбра в другие цвета и всё такое. Можно даже выкинуть какого-нибудь человека и посмотреть на то как граф разваливается на части, и освободившиеся вершины разлетаются в разные стороны. Эта визуализация богоподобна, а её автор гений. Мой горький опыт говорит мне о том, что каждая хорошая визуализация это великое страдание. Чтобы построить такую прекрасную визуализацию, автор страдал довольно долго. Он писал на java script для визуализации [свою библиотеку.](https://github.com/anvaka/VivaGraphJS) На хабре можно найти [его статью](https://habrahabr.ru/post/144758/) об этом.\n",
    "\n",
    "Мы попробуем родить нечто похожее. К моему превеликому сожалению, я не могу в javascript, поэтому мы будем рожать нечто похожее по уже готовым шаблонам. Из статьи выше можно узнать, что основным тормозом подобных визуализаций является браузерный код прорисовки элементов. Автору удалось перетащить это бутылочное горлышко в свой алгоритм укладки. Благодаря этому его визуализация работает быстро. Это плохая новость для нас. Наш шаблон будет хорош только для маленьких графов. Большие будут сильно тормозить."
   ]
  },
  {
   "cell_type": "markdown",
   "metadata": {},
   "source": [
    "В сети выложено довольно много [шаблонов с красивым интерактивом.](https://github.com/d3/d3/wiki/Gallery) Люди, которые выкладывают эти визуализации в сеть - прекрасны. Они делают нас на шаг ближе к дзену, ровно, как и команда `import this`. \n",
    "\n",
    "Нас будет интересовать [шаблон графа.](https://bl.ocks.org/heybignick/3faf257bbbbc7743bb72310d03b86ee8) В конечном счёте, мы сможем открывать его в отдельной вкладке и дёргать за вершины. Возьмём шаблон и разберёмся в том как его правильно использовать. На страничке с описанием графа есть две вставки. Одна из них называется index.html \n",
    "\n",
    "<img align=\"center\" src=\"images/2. loises_and_graph/d3_index.png\" width=\"550\"> \n",
    "\n",
    "В этой вставке задаётся внешний вид графа и его моторика. Если вы знаете javascript или просто (как я) обладаете хорошей интуицией и можете в метод тыка и гугл, вы можете видоизменить дизайн графа.  Вторая вставка называется miserables.json.\n",
    "\n",
    "<img align=\"center\" src=\"images/2. loises_and_graph/miserables.png\"  width=\"550\"> \n",
    "\n",
    "В этой вставке находится содержимое графа. В виде словарика задаётся какие вершины с какими соединяются и как подписываются. Эти два куска кода можно скопировать к себе на рабочий стол в два разных текстовых файла. \n",
    "\n",
    "<img align=\"center\" src=\"images/2. loises_and_graph/d3_desktop.png\" width=\"300\"> \n",
    "\n",
    "Теперь, если открыть файл index.html в браузере firefox, вашему взору предстанет та самая визуализация с сайта. Наша задача заключается в следующем: мы должны сгенерировать словарик со своими друзьями и связями между ними, а после закинуть его в файл miserables.json. Таким образом, интерактивная визуализация будет готова и мы даже сможем поделиться ей со своими друзьями.\n",
    "\n",
    "Итак, сгенерируем словарик следущего вида: \n",
    "\n",
    "```\n",
    "{ \n",
    "\"nodes\": [ \n",
    "        {\"id\":\"Aлександр Конев\", \"group\":1}, \n",
    "        {\"id\":\"Александр Тишин\", \"group\":1}, \n",
    "        {\"id\":\"Давыдкина Кристина\",\"group\":1} \n",
    "        ], \n",
    "\"links\":[ \n",
    "        {\"source\":\"Aлександр Конев\", \"target\":\"Александр Тишин\", \"value\":1}, \n",
    "        {\"source\":\"Aлександр Конев\", \"target\":\"Давыдкина Кристина\", \"value\":8} \n",
    "        ] \n",
    "}\n",
    "```\n",
    "\n",
    "Первый список - вершины. Цифра в `group` отвечает за цвет вершины. Второй список - рёбра. `source` и `target` означают вершины, которые нужно соединить ребром. Цифра в `value`, судя по всему, отвечает за толщину ребра. Построить такой json-словарик нам поможет замечательный файлике `ikanam_info`, который выглядит следующим образом и преследует нас уже довольно давно. "
   ]
  },
  {
   "cell_type": "markdown",
   "metadata": {},
   "source": [
    "Выкачиваем по каждому другу информацию о имени, фамилии и полу."
   ]
  },
  {
   "cell_type": "code",
   "execution_count": 30,
   "metadata": {},
   "outputs": [
    {
     "data": {
      "text/plain": [
       "{'response': [{'first_name': 'Алексей',\n",
       "   'last_name': 'Реуэль',\n",
       "   'sex': 2,\n",
       "   'uid': 11105}]}"
      ]
     },
     "execution_count": 30,
     "metadata": {},
     "output_type": "execute_result"
    }
   ],
   "source": [
    "res = vk_download('users.get','user_ids='+str(11105)+'&fields=sex')\n",
    "res"
   ]
  },
  {
   "cell_type": "code",
   "execution_count": 31,
   "metadata": {},
   "outputs": [
    {
     "data": {
      "text/plain": [
       "'Реуэль Алексей'"
      ]
     },
     "execution_count": 31,
     "metadata": {},
     "output_type": "execute_result"
    }
   ],
   "source": [
    "# Имя \n",
    "res['response'][0]['last_name'] + ' ' + res['response'][0]['first_name']"
   ]
  },
  {
   "cell_type": "code",
   "execution_count": 32,
   "metadata": {},
   "outputs": [
    {
     "data": {
      "text/plain": [
       "2"
      ]
     },
     "execution_count": 32,
     "metadata": {},
     "output_type": "execute_result"
    }
   ],
   "source": [
    "# Пол \n",
    "res['response'][0]['sex']"
   ]
  },
  {
   "cell_type": "markdown",
   "metadata": {},
   "source": [
    "У нас уже есть словарик `infa`, где по ключу `id` хранится список из друзей, с которыми есть связь. Создадим ещё один словарик `id_names`, где по ключу `id` будет храниться базовая информация про юзера (фотка, имя , пол)."
   ]
  },
  {
   "cell_type": "code",
   "execution_count": 33,
   "metadata": {},
   "outputs": [
    {
     "data": {
      "application/vnd.jupyter.widget-view+json": {
       "model_id": "3666d3703da540c9a46ef94661044625",
       "version_major": 2,
       "version_minor": 0
      },
      "text/html": [
       "<p>Failed to display Jupyter Widget of type <code>HBox</code>.</p>\n",
       "<p>\n",
       "  If you're reading this message in the Jupyter Notebook or JupyterLab Notebook, it may mean\n",
       "  that the widgets JavaScript is still loading. If this message persists, it\n",
       "  likely means that the widgets JavaScript library is either not installed or\n",
       "  not enabled. See the <a href=\"https://ipywidgets.readthedocs.io/en/stable/user_install.html\">Jupyter\n",
       "  Widgets Documentation</a> for setup instructions.\n",
       "</p>\n",
       "<p>\n",
       "  If you're reading this message in another frontend (for example, a static\n",
       "  rendering on GitHub or <a href=\"https://nbviewer.jupyter.org/\">NBViewer</a>),\n",
       "  it may mean that your frontend doesn't currently support widgets.\n",
       "</p>\n"
      ],
      "text/plain": [
       "HBox(children=(IntProgress(value=0, max=356), HTML(value='')))"
      ]
     },
     "metadata": {},
     "output_type": "display_data"
    },
    {
     "name": "stdout",
     "output_type": "stream",
     "text": [
      "\n"
     ]
    }
   ],
   "source": [
    "id_names = { } # В этом словарике будем хранить информацию про юзера\n",
    "\n",
    "for fr in tqdm_notebook(friends_ids):\n",
    "    time.sleep(0.4)   # Не забываем отдохнуть между запросами\n",
    "    try:\n",
    "        cur_el = { }      # Информация по текущему другу будет храниться тут \n",
    "        res = vk_download('users.get','user_ids='+str(fr)+'&fields=sex,photo')['response'][0]\n",
    "        cur_el[\"id\"] = res['last_name'] + ' ' + res['first_name']\n",
    "        cur_el[\"group\"] = res['sex']\n",
    "        # Закидываем нового человека в словарик \n",
    "        id_names[fr] = cur_el        \n",
    "    except:\n",
    "        # Если скачка не удалась, выведем сообщение об ошибке\n",
    "        print('Ошибка с ', fr)"
   ]
  },
  {
   "cell_type": "code",
   "execution_count": 34,
   "metadata": {},
   "outputs": [
    {
     "data": {
      "text/plain": [
       "{'group': 1, 'id': 'Лепихина Анна'}"
      ]
     },
     "execution_count": 34,
     "metadata": {},
     "output_type": "execute_result"
    }
   ],
   "source": [
    "id_names[12846897]"
   ]
  },
  {
   "cell_type": "markdown",
   "metadata": {},
   "source": [
    "Отлично! Теперь на основе словариков `id_names` и `infa` мы модем сделать необходимый нам .json файлик. "
   ]
  },
  {
   "cell_type": "code",
   "execution_count": 35,
   "metadata": {},
   "outputs": [
    {
     "name": "stdout",
     "output_type": "stream",
     "text": [
      "[{'id': 'Реуэль Алексей', 'group': 2}, {'id': 'Фёдоровых Данил', 'group': 2}, {'id': 'Ульянкина Лариса', 'group': 1}, {'id': 'Матросова Ксения', 'group': 1}, {'id': 'Кильметов Ильдар', 'group': 2}]\n",
      "\n",
      "\n",
      "[{'source': 'Реуэль Алексей', 'target': 'Колупаева Анна', 'value': 1}, {'source': 'Реуэль Алексей', 'target': 'Карасёва Ксения', 'value': 1}, {'source': 'Реуэль Алексей', 'target': 'Алфеева Ольга', 'value': 1}, {'source': 'Реуэль Алексей', 'target': 'Цепанина Катя', 'value': 1}, {'source': 'Реуэль Алексей', 'target': 'Богданова Алёна', 'value': 1}]\n"
     ]
    }
   ],
   "source": [
    "nodes = [ ]  # Тут будем хранить вершины\n",
    "links = [ ]  # Тут будем хранить рёбра \n",
    "for fr in infa.keys():\n",
    "    nodes.append(id_names[fr]) # создали для текущего юзера вершину \n",
    "    # Создаём для текущей вершины все возможные рёбра\n",
    "    for fr_my_fr in infa[fr]:\n",
    "        cur_edge = { }\n",
    "        cur_edge[\"source\"] = id_names[fr]['id']\n",
    "        cur_edge[\"target\"] = id_names[fr_my_fr]['id']\n",
    "        cur_edge[\"value\"] = 1 # Этот параметр ни на что не влияет\n",
    "        links.append(cur_edge)\n",
    "        \n",
    "print(nodes[:5])\n",
    "print('\\n')\n",
    "print(links[:5])"
   ]
  },
  {
   "cell_type": "markdown",
   "metadata": {},
   "source": [
    "Посмотрим сколько в итоговом графе окажется рёбер, а затем созраним наш json. "
   ]
  },
  {
   "cell_type": "code",
   "execution_count": 36,
   "metadata": {},
   "outputs": [
    {
     "data": {
      "text/plain": [
       "9803"
      ]
     },
     "execution_count": 36,
     "metadata": {},
     "output_type": "execute_result"
    }
   ],
   "source": [
    "len(links)"
   ]
  },
  {
   "cell_type": "code",
   "execution_count": 37,
   "metadata": {},
   "outputs": [],
   "source": [
    "import json\n",
    "\n",
    "itog_js = { \"nodes\": nodes, \"links\": links }\n",
    "with open(\"miserables.json\",\"w\") as f:\n",
    "    json.dump(itog_js, f)"
   ]
  },
  {
   "cell_type": "markdown",
   "metadata": {},
   "source": [
    "Всё готово! Помещаем нвоый файлик рядом с html, открываем её и видим граф своих друзей. При большом количестве друзей он строится довольно медленно и анимация подтормаживает. Тем не менее, маленькие графы, выглядят довольно красиво. \n",
    "\n",
    "<img align=\"center\" src=\"images/2. loises_and_graph/d3_13_gr.png\"  width=\"850\"> \n"
   ]
  },
  {
   "cell_type": "markdown",
   "metadata": {},
   "source": [
    "## 5. Лайкограмма \n",
    "\n",
    "Граф друзей это конечно же хорошо, но никак не отражает реального положения дел. Намного интереснее было бы посмотреть на лайки. Если люди реально общаются, то они лайкают друг-друга. \n",
    "\n",
    "Более того, многие из нас когда-то оказывались в подобных ситуациях: \n",
    "\n",
    "<img align=\"center\" src=\"http://memesmix.net/media/created/bmflc0.jpg\" height=\"350\" width=\"350\"> \n",
    "\n",
    "Возможно, вы подумаете, что у нас есть решение этой проблемы. На самом деле нет. Быть плохим примером гораздо веселее. Мы будем играть на другой стороне, на стороне стервозных сучек. Добро пожаловать подкат, милая. Современный мир огромными шагами идёт в сторону автоматизации рутинных процессов. Мы поможем тебе автоматизировать подготовку к твоим бессмысленным истерикам и дадим тебе автоискатель почвы для твоего врождённого измухослонаделателя. Возьмём всех своих друзей и попробуем посмотреть как внутри неё происходит циркуляция лайков. \n",
    "\n",
    "Напишем несколько функций. Первая функция будет собирать тех, кто лайкнул стену нашего пользователя. В этом нам поможет уже знакомый нам метод `wall.get`. Напомним, что в лучшем друге человека, документации, написано, что у этого метода есть параметры `count` - число записей для скачки (не может превышать 100) и `offset` - смещение, необходимое для выборки определённого подмножества записей.  Ничего нового, вроде бы, в функции ниже нет. "
   ]
  },
  {
   "cell_type": "code",
   "execution_count": 38,
   "metadata": {},
   "outputs": [],
   "source": [
    "def Get_Wall(this_id):\n",
    "    # Делай раз! Выясним сколько у пользователя на стене записей...\n",
    "    n = vk_download('wall.get','owner_id=' + str(this_id))['response'][0]\n",
    "    \n",
    "    # Качаем со стены все записи!\n",
    "    chto_on_postit = [ ]\n",
    "    for i in range(0,100*(n//100+1),100):\n",
    "        # Качаем внеочередные 100 записей со стены.\n",
    "        time.sleep(0.4) # Не забываем немного вздремнуть \n",
    "        # Первый элемент всегда число записей, игнорируем его \n",
    "        wall = vk_download('wall.get', 'owner_id=' + str(this_id) +'&count=100&offset='+str(i))['response'][1:]\n",
    "        chto_on_postit.extend(wall)\n",
    "        \n",
    "    # В файлике chto_on postit будут лежать грязные стенки.\n",
    "    return chto_on_postit"
   ]
  },
  {
   "cell_type": "code",
   "execution_count": 39,
   "metadata": {},
   "outputs": [
    {
     "data": {
      "text/plain": [
       "{'attachment': {'type': 'video',\n",
       "  'video': {'access_key': '1a407046bc58456c1e',\n",
       "   'date': 1514391268,\n",
       "   'description': '',\n",
       "   'duration': 149,\n",
       "   'first_frame_130': 'https://pp.userapi.com/c840431/v840431767/39613/PI01M_nphjY.jpg',\n",
       "   'first_frame_160': 'https://pp.userapi.com/c840431/v840431767/39612/aM5zzWDcw2Q.jpg',\n",
       "   'first_frame_320': 'https://pp.userapi.com/c840431/v840431767/39611/Yplam6KCkbE.jpg',\n",
       "   'first_frame_800': 'https://pp.userapi.com/c840431/v840431767/39610/pqF_XD38zoI.jpg',\n",
       "   'image': 'https://pp.userapi.com/c834402/v834402767/66082/WPWfNhWSdT8.jpg',\n",
       "   'image_big': 'https://pp.userapi.com/c834402/v834402767/66082/WPWfNhWSdT8.jpg',\n",
       "   'image_small': 'https://pp.userapi.com/c834402/v834402767/66084/BEszhXwaZ9c.jpg',\n",
       "   'is_private': 1,\n",
       "   'owner_id': 144236573,\n",
       "   'title': 'Новогоднее Обращение Председателя Студенческого Совета Лицея Академии при Президенте РФ',\n",
       "   'vid': 456239160,\n",
       "   'views': 748}},\n",
       " 'attachments': [{'type': 'video',\n",
       "   'video': {'access_key': '1a407046bc58456c1e',\n",
       "    'date': 1514391268,\n",
       "    'description': '',\n",
       "    'duration': 149,\n",
       "    'first_frame_130': 'https://pp.userapi.com/c840431/v840431767/39613/PI01M_nphjY.jpg',\n",
       "    'first_frame_160': 'https://pp.userapi.com/c840431/v840431767/39612/aM5zzWDcw2Q.jpg',\n",
       "    'first_frame_320': 'https://pp.userapi.com/c840431/v840431767/39611/Yplam6KCkbE.jpg',\n",
       "    'first_frame_800': 'https://pp.userapi.com/c840431/v840431767/39610/pqF_XD38zoI.jpg',\n",
       "    'image': 'https://pp.userapi.com/c834402/v834402767/66082/WPWfNhWSdT8.jpg',\n",
       "    'image_big': 'https://pp.userapi.com/c834402/v834402767/66082/WPWfNhWSdT8.jpg',\n",
       "    'image_small': 'https://pp.userapi.com/c834402/v834402767/66084/BEszhXwaZ9c.jpg',\n",
       "    'is_private': 1,\n",
       "    'owner_id': 144236573,\n",
       "    'title': 'Новогоднее Обращение Председателя Студенческого Совета Лицея Академии при Президенте РФ',\n",
       "    'vid': 456239160,\n",
       "    'views': 748}}],\n",
       " 'comments': {'can_post': 0, 'count': 0, 'groups_can_post': True},\n",
       " 'copy_owner_id': -124390124,\n",
       " 'copy_post_date': 1514750406,\n",
       " 'copy_post_id': 339,\n",
       " 'copy_post_type': 'post',\n",
       " 'date': 1514757956,\n",
       " 'from_id': 11105,\n",
       " 'id': 470,\n",
       " 'likes': {'can_like': 1, 'can_publish': 1, 'count': 0, 'user_likes': 0},\n",
       " 'media': {'item_id': 456239160, 'owner_id': 144236573, 'type': 'video'},\n",
       " 'online': 0,\n",
       " 'post_source': {'platform': 'iphone', 'type': 'api'},\n",
       " 'post_type': 'copy',\n",
       " 'reply_count': 0,\n",
       " 'reposts': {'count': 0, 'user_reposted': 0},\n",
       " 'signer_id': 144236573,\n",
       " 'text': 'Когда остается буквально несколько минут до Нового Года, хочется сказать несколько теплых слов<br><br>Пусть этот год запомнится только хорошим, а новый принесет как можно больше позитивных эмоций!',\n",
       " 'to_id': 11105}"
      ]
     },
     "execution_count": 39,
     "metadata": {},
     "output_type": "execute_result"
    }
   ],
   "source": [
    "dw = Get_Wall(friends_ids[0])\n",
    "dw[0]"
   ]
  },
  {
   "cell_type": "markdown",
   "metadata": {},
   "source": [
    "Отлично! Грязная стена выгружается. Попробуем вытащить с неё время публикации и id каждого поста. "
   ]
  },
  {
   "cell_type": "code",
   "execution_count": 40,
   "metadata": {},
   "outputs": [
    {
     "data": {
      "text/plain": [
       "[[470, 1514757956],\n",
       " [469, 1511636868],\n",
       " [468, 1509518064],\n",
       " [467, 1507758390],\n",
       " [466, 1507574327]]"
      ]
     },
     "execution_count": 40,
     "metadata": {},
     "output_type": "execute_result"
    }
   ],
   "source": [
    "[[d['id'],d['date']] for d in dw][:5]"
   ]
  },
  {
   "cell_type": "markdown",
   "metadata": {},
   "source": [
    "Если кто-то не знает, вторая очень странная цифра в этом векторе — это время поста. А именно, количество секунд, которое прошло с $1970$ года до нашего дня. Чтобы перевести эту дату из такого формата в нормальный вид, можно воспользоваться пакетом `datetime`.\n",
    "\n",
    "С помощью этого же пакета можно вычитать и складывать время. Чуть ниже, когда мы будем заворачивать весь придуманный нами код в функцию, мы добавим в неё аргумент, отвечающий за то, насколько древнюю информацию нужно скачивать. Будем делать это за последний год. "
   ]
  },
  {
   "cell_type": "code",
   "execution_count": 41,
   "metadata": {},
   "outputs": [
    {
     "name": "stdout",
     "output_type": "stream",
     "text": [
      "2018-01-07\n",
      "2017-01-07\n"
     ]
    }
   ],
   "source": [
    "import datetime\n",
    "\n",
    "# Это сегодняшний день\n",
    "begin_data = datetime.date.today()\n",
    "print(begin_data)\n",
    "\n",
    "# Это день ровно год назад\n",
    "end_data = begin_data.replace(year=begin_data.year - 1)\n",
    "print(end_data)"
   ]
  },
  {
   "cell_type": "markdown",
   "metadata": {},
   "source": [
    "Проходимся циклом по всем юзерам и запоминаем грязные стены. "
   ]
  },
  {
   "cell_type": "code",
   "execution_count": 42,
   "metadata": {},
   "outputs": [
    {
     "data": {
      "application/vnd.jupyter.widget-view+json": {
       "model_id": "ed9d958c7558456394f350cbdfdf4ba8",
       "version_major": 2,
       "version_minor": 0
      },
      "text/html": [
       "<p>Failed to display Jupyter Widget of type <code>HBox</code>.</p>\n",
       "<p>\n",
       "  If you're reading this message in the Jupyter Notebook or JupyterLab Notebook, it may mean\n",
       "  that the widgets JavaScript is still loading. If this message persists, it\n",
       "  likely means that the widgets JavaScript library is either not installed or\n",
       "  not enabled. See the <a href=\"https://ipywidgets.readthedocs.io/en/stable/user_install.html\">Jupyter\n",
       "  Widgets Documentation</a> for setup instructions.\n",
       "</p>\n",
       "<p>\n",
       "  If you're reading this message in another frontend (for example, a static\n",
       "  rendering on GitHub or <a href=\"https://nbviewer.jupyter.org/\">NBViewer</a>),\n",
       "  it may mean that your frontend doesn't currently support widgets.\n",
       "</p>\n"
      ],
      "text/plain": [
       "HBox(children=(IntProgress(value=0, max=356), HTML(value='')))"
      ]
     },
     "metadata": {},
     "output_type": "display_data"
    },
    {
     "name": "stdout",
     "output_type": "stream",
     "text": [
      "Возникли проблемы с 1310129\n",
      "Возникли проблемы с 18782008\n",
      "Возникли проблемы с 26047823\n",
      "Возникли проблемы с 50549227\n",
      "Возникли проблемы с 92906905\n",
      "Возникли проблемы с 104172587\n",
      "Возникли проблемы с 154836355\n",
      "Возникли проблемы с 224768482\n",
      "Возникли проблемы с 294799490\n",
      "\n"
     ]
    }
   ],
   "source": [
    "dwd = { }       # aka dirty wall dict\n",
    "for friend in tqdm_notebook(friends_ids):\n",
    "    time.sleep(0.4) # не забываем дать серверу отдохнуть от нас\n",
    "    try: \n",
    "        dw = Get_Wall(friend)\n",
    "        dwd[friend] = [[d['id'],datetime.datetime.fromtimestamp(d['date'])] for d in dw]\n",
    "    except:\n",
    "        print('Возникли проблемы с', friend)"
   ]
  },
  {
   "cell_type": "markdown",
   "metadata": {},
   "source": [
    "Первая цифра в нашем векторе — это `id` поста. Чтобы собрать данные о конкретной записи, можно использовать метод `likes.getList`."
   ]
  },
  {
   "cell_type": "code",
   "execution_count": 47,
   "metadata": {},
   "outputs": [
    {
     "data": {
      "text/plain": [
       "{'response': {'count': 21,\n",
       "  'users': [889724,\n",
       "   937942,\n",
       "   965754,\n",
       "   1137235,\n",
       "   2096027,\n",
       "   2264492,\n",
       "   2545220,\n",
       "   8534038,\n",
       "   11372271,\n",
       "   13828185,\n",
       "   68688372,\n",
       "   103865835,\n",
       "   116557598,\n",
       "   126800106,\n",
       "   142121926,\n",
       "   144236573,\n",
       "   262942016,\n",
       "   347867759,\n",
       "   368227520,\n",
       "   395289096,\n",
       "   440769685]}}"
      ]
     },
     "execution_count": 47,
     "metadata": {},
     "output_type": "execute_result"
    }
   ],
   "source": [
    "vk_download('likes.getList','type=post&owner_id='+str(friends_ids[0])+'&item_id='+str(dwd[friends_ids[0]][10][0]))"
   ]
  },
  {
   "cell_type": "markdown",
   "metadata": {},
   "source": [
    "В качестве ответа получаем число лайков и список людей, которые лайкнули всё это чудо. Соберём данные по всей стене и сохраним их в виде cловарика. \n",
    "\n",
    "````{дата создания поста: [id лайкнувших] } ````"
   ]
  },
  {
   "cell_type": "markdown",
   "metadata": {},
   "source": [
    "Мы могли бы взять и пройтись по всем юзерам и по всем id из нашего списка и получить все списки из лайкнувших. Однако, делать это напрямую слишком долго. К счастью, процесс можно ускорить с помощью метода [execute.](https://vk.com/dev/execute) Этот метод позволяет делать цепи из параллельных запросов к вк. Максимально в один батч из запросов можно поместить 25 запросов. Вы уже читали о нём в туториале и сейчас пришло время использовать его в боевых условиях. \n",
    "\n",
    "Напомню, что метод работает следующим образом. Мы должны перечислить через запятую внутри нашей ссылки все 25 запросов, которые мы делаем. И тогда в качестве ответа мы получим вектор из лайков."
   ]
  },
  {
   "cell_type": "code",
   "execution_count": 48,
   "metadata": {},
   "outputs": [
    {
     "data": {
      "text/plain": [
       "{'response': [{'count': 17,\n",
       "   'users': [16622554,\n",
       "    50139669,\n",
       "    79473594,\n",
       "    89784122,\n",
       "    107749291,\n",
       "    132035102,\n",
       "    141335795,\n",
       "    156619631,\n",
       "    159365241,\n",
       "    191335615,\n",
       "    202696404,\n",
       "    232276410,\n",
       "    242183537,\n",
       "    289729652,\n",
       "    322723607,\n",
       "    347373543,\n",
       "    399045384]},\n",
       "  {'count': 11,\n",
       "   'users': [454460773,\n",
       "    50139669,\n",
       "    89784122,\n",
       "    132035102,\n",
       "    145819622,\n",
       "    202696404,\n",
       "    227558867,\n",
       "    265772903,\n",
       "    399045384,\n",
       "    408027254,\n",
       "    415740262]}]}"
      ]
     },
     "execution_count": 48,
     "metadata": {},
     "output_type": "execute_result"
    }
   ],
   "source": [
    "url = 'https://api.vk.com/method/execute?code=return[\\\n",
    "API.likes.getList({\"type\":\"post\",\"owner_id\":\"22261760\",\"item_id\":\"3468\",\"count\":\"1000\"}),\\\n",
    "API.likes.getList({\"type\":\"post\",\"owner_id\":\"22261760\",\"item_id\":\"3486\",\"count\":\"1000\"})];&access_token='+token\n",
    "\n",
    "res = requests.get(url)\n",
    "res.json( )"
   ]
  },
  {
   "cell_type": "markdown",
   "metadata": {},
   "source": [
    "Например, в данной ситуации, мы попросили его отдать там юзеров, которые лайкнули два конкретных поста и получили их. Аналогично можно было бы ускорить код, который мы писали выше. \n",
    "\n",
    "Итак, перейдём к делу. Напишем функцию, которая для каждого конкретного пользователя будет понимать сколько у него на стене постов и будет делать из них батчи по 25 штук. Будем делать это для глубины в два года. "
   ]
  },
  {
   "cell_type": "code",
   "execution_count": 75,
   "metadata": {},
   "outputs": [],
   "source": [
    "def make_batch(this_uid, dwd, end_date = datetime.date.today().replace(year = datetime.date.today().year - 2)):\n",
    "    # Делаем массив вида [id, дата]\n",
    "    # В условии отбираем все даты, которые младще 2 лет\n",
    "    wall = [wl for wl in dwd[this_uid] if wl[1].date() > end_date ]\n",
    "    # Делим стенку на батчи \n",
    "    batches = [wall[i:i+25] for i in range(0,len(wall),25)]\n",
    "    return batches "
   ]
  },
  {
   "cell_type": "code",
   "execution_count": 68,
   "metadata": {},
   "outputs": [
    {
     "data": {
      "text/plain": [
       "[25, 23]"
      ]
     },
     "execution_count": 68,
     "metadata": {},
     "output_type": "execute_result"
    }
   ],
   "source": [
    "[len(item) for item in make_batch(friends_ids[0], dwd)]"
   ]
  },
  {
   "cell_type": "markdown",
   "metadata": {},
   "source": [
    "Вроде бы всё работает. Теперь напишем функцию, которая для батча будет генерировать запрос в виде ссылки. "
   ]
  },
  {
   "cell_type": "code",
   "execution_count": 69,
   "metadata": {},
   "outputs": [],
   "source": [
    "def make_url(this_uid, batch, token):\n",
    "    begin = 'https://api.vk.com/method/execute?code=return['\n",
    "    end = '];&access_token='+token\n",
    "    s = ''\n",
    "    for bt in batch:\n",
    "        s += 'API.likes.getList({\"type\":\"post\",\"owner_id\":\"' + str(this_uid) + \\\n",
    "             '\",\"item_id\":\"' + str(bt[0]) + '\",\"count\":\"1000\"}),'\n",
    "    return begin + s[:-1] + end "
   ]
  },
  {
   "cell_type": "code",
   "execution_count": 77,
   "metadata": {},
   "outputs": [
    {
     "data": {
      "text/plain": [
       "'https://api.vk.com/method/execute?code=return[API.likes.getList({\"type\":\"post\",\"owner_id\":\"11105\",\"item_id\":\"444\",\"count\":\"1000\"}),API.likes.getList({\"type\":\"post\",\"owner_id\":\"11105\",\"item_id\":\"443\",\"count\":\"1000\"}),API.likes.getList({\"type\":\"post\",\"owner_id\":\"11105\",\"item_id\":\"442\",\"count\":\"1000\"}),API.likes.getList({\"type\":\"post\",\"owner_id\":\"11105\",\"item_id\":\"441\",\"count\":\"1000\"}),API.likes.getList({\"type\":\"post\",\"owner_id\":\"11105\",\"item_id\":\"440\",\"count\":\"1000\"}),API.likes.getList({\"type\":\"post\",\"owner_id\":\"11105\",\"item_id\":\"439\",\"count\":\"1000\"}),API.likes.getList({\"type\":\"post\",\"owner_id\":\"11105\",\"item_id\":\"438\",\"count\":\"1000\"}),API.likes.getList({\"type\":\"post\",\"owner_id\":\"11105\",\"item_id\":\"437\",\"count\":\"1000\"}),API.likes.getList({\"type\":\"post\",\"owner_id\":\"11105\",\"item_id\":\"436\",\"count\":\"1000\"}),API.likes.getList({\"type\":\"post\",\"owner_id\":\"11105\",\"item_id\":\"435\",\"count\":\"1000\"}),API.likes.getList({\"type\":\"post\",\"owner_id\":\"11105\",\"item_id\":\"434\",\"count\":\"1000\"}),API.likes.getList({\"type\":\"post\",\"owner_id\":\"11105\",\"item_id\":\"433\",\"count\":\"1000\"}),API.likes.getList({\"type\":\"post\",\"owner_id\":\"11105\",\"item_id\":\"432\",\"count\":\"1000\"}),API.likes.getList({\"type\":\"post\",\"owner_id\":\"11105\",\"item_id\":\"431\",\"count\":\"1000\"}),API.likes.getList({\"type\":\"post\",\"owner_id\":\"11105\",\"item_id\":\"430\",\"count\":\"1000\"}),API.likes.getList({\"type\":\"post\",\"owner_id\":\"11105\",\"item_id\":\"429\",\"count\":\"1000\"}),API.likes.getList({\"type\":\"post\",\"owner_id\":\"11105\",\"item_id\":\"428\",\"count\":\"1000\"}),API.likes.getList({\"type\":\"post\",\"owner_id\":\"11105\",\"item_id\":\"427\",\"count\":\"1000\"}),API.likes.getList({\"type\":\"post\",\"owner_id\":\"11105\",\"item_id\":\"425\",\"count\":\"1000\"}),API.likes.getList({\"type\":\"post\",\"owner_id\":\"11105\",\"item_id\":\"424\",\"count\":\"1000\"}),API.likes.getList({\"type\":\"post\",\"owner_id\":\"11105\",\"item_id\":\"423\",\"count\":\"1000\"}),API.likes.getList({\"type\":\"post\",\"owner_id\":\"11105\",\"item_id\":\"421\",\"count\":\"1000\"}),API.likes.getList({\"type\":\"post\",\"owner_id\":\"11105\",\"item_id\":\"420\",\"count\":\"1000\"})];&access_token=74ff27e52b6aa780fc2f3be6c5f0b5a87d0709a071fb93791e33f3971e7c8e23e3d9e767db787d1db2866'"
      ]
     },
     "execution_count": 77,
     "metadata": {},
     "output_type": "execute_result"
    }
   ],
   "source": [
    "url = make_url(friends_ids[0], make_batch(friends_ids[0],dwd)[-1], token)\n",
    "url"
   ]
  },
  {
   "cell_type": "markdown",
   "metadata": {},
   "source": [
    "Ссылка сгенерировалась. Попробуем сделать по ней запрос. "
   ]
  },
  {
   "cell_type": "code",
   "execution_count": 78,
   "metadata": {},
   "outputs": [
    {
     "name": "stdout",
     "output_type": "stream",
     "text": [
      "23\n"
     ]
    },
    {
     "data": {
      "text/plain": [
       "{'count': 3, 'users': [996821, 5954920, 347867759]}"
      ]
     },
     "execution_count": 78,
     "metadata": {},
     "output_type": "execute_result"
    }
   ],
   "source": [
    "res = requests.get(url)\n",
    "itg = res.json( )['response']\n",
    "print(len(itg))\n",
    "itg[1]"
   ]
  },
  {
   "cell_type": "markdown",
   "metadata": {},
   "source": [
    "Получаем за один запрос дофига ответов. Всё работает. Только что нам удалось ускорить наш код в 25 раз. Пишем итоговую функцию. "
   ]
  },
  {
   "cell_type": "code",
   "execution_count": 96,
   "metadata": {},
   "outputs": [],
   "source": [
    "def get_likes(this_uid, dwd=dwd, \n",
    "             end_date = datetime.date.today().replace(year = datetime. date.today().year - 2), token = token):\n",
    "    # Создаём под лайки вектор \n",
    "    wall_likes_u = { }\n",
    "    # Делаем батчи\n",
    "    batch = make_batch(this_uid, dwd, end_date)\n",
    "    for btc in batch:\n",
    "        # Создаём для батча ссылку \n",
    "        url = make_url(this_uid, btc, token)\n",
    "        # Делаем запрос\n",
    "        time.sleep(0.4)\n",
    "        res = requests.get(url)\n",
    "        itg = res.json( )['response']\n",
    "        # Распаковываем в формате {время поста: юзеры, которые лайкали}\n",
    "        wall_likes_u.update({b[1].strftime('%Y-%m-%d %H:%M:%S')\n",
    "                             : it['users'] for b,it in zip(btc,itg)})\n",
    "    return wall_likes_u"
   ]
  },
  {
   "cell_type": "code",
   "execution_count": 98,
   "metadata": {},
   "outputs": [
    {
     "data": {
      "text/plain": [
       "dict_keys(['2018-01-01 01:05:56', '2017-11-25 22:07:48', '2017-11-01 09:34:24', '2017-10-12 00:46:30', '2017-10-09 21:38:47', '2017-10-08 23:08:55', '2017-10-08 14:02:48', '2017-09-17 13:39:15', '2017-09-17 13:32:55', '2017-08-22 19:21:55', '2017-08-09 12:23:33', '2017-08-07 20:47:33', '2017-06-22 20:36:56', '2017-06-10 11:53:52', '2017-05-31 19:48:00', '2017-05-21 16:45:23', '2017-05-18 16:40:15', '2017-05-09 20:08:25', '2017-04-22 20:44:47', '2017-04-22 20:07:02', '2017-04-22 13:19:11', '2017-04-22 11:44:52', '2017-04-20 21:07:22', '2017-04-19 00:33:58', '2017-03-27 21:26:00', '2017-03-24 17:38:47', '2017-03-23 17:56:34', '2017-03-23 17:05:46', '2017-03-02 18:06:49', '2017-02-15 15:43:52', '2017-02-10 20:55:04', '2017-02-09 15:39:13', '2017-02-08 17:11:49', '2016-12-30 09:38:43', '2016-12-18 17:44:36', '2016-12-02 20:32:42', '2016-11-19 14:25:32', '2016-10-28 10:14:08', '2016-10-20 21:28:56', '2016-10-11 11:00:21', '2016-09-01 20:21:01', '2016-08-31 16:55:41', '2016-05-26 19:50:40', '2016-02-27 22:42:00', '2016-02-18 23:29:42', '2016-02-18 13:34:50', '2016-02-07 19:55:00', '2016-01-12 22:14:20'])"
      ]
     },
     "execution_count": 98,
     "metadata": {},
     "output_type": "execute_result"
    }
   ],
   "source": [
    "loises = get_likes(friends_ids[0])\n",
    "loises.keys()"
   ]
  },
  {
   "cell_type": "markdown",
   "metadata": {},
   "source": [
    "Ура! Всё работает. Теперь мы можем задействовать нашу функцию в промышленных масштабах. Пускаем цикл по всем пользователям. "
   ]
  },
  {
   "cell_type": "code",
   "execution_count": 99,
   "metadata": {},
   "outputs": [
    {
     "data": {
      "application/vnd.jupyter.widget-view+json": {
       "model_id": "c850215e86c44fa6b41b93f8c5f5ac26",
       "version_major": 2,
       "version_minor": 0
      },
      "text/html": [
       "<p>Failed to display Jupyter Widget of type <code>HBox</code>.</p>\n",
       "<p>\n",
       "  If you're reading this message in the Jupyter Notebook or JupyterLab Notebook, it may mean\n",
       "  that the widgets JavaScript is still loading. If this message persists, it\n",
       "  likely means that the widgets JavaScript library is either not installed or\n",
       "  not enabled. See the <a href=\"https://ipywidgets.readthedocs.io/en/stable/user_install.html\">Jupyter\n",
       "  Widgets Documentation</a> for setup instructions.\n",
       "</p>\n",
       "<p>\n",
       "  If you're reading this message in another frontend (for example, a static\n",
       "  rendering on GitHub or <a href=\"https://nbviewer.jupyter.org/\">NBViewer</a>),\n",
       "  it may mean that your frontend doesn't currently support widgets.\n",
       "</p>\n"
      ],
      "text/plain": [
       "HBox(children=(IntProgress(value=0, max=356), HTML(value='')))"
      ]
     },
     "metadata": {},
     "output_type": "display_data"
    },
    {
     "name": "stdout",
     "output_type": "stream",
     "text": [
      "Возникли проблемы с  1310129\n",
      "Возникли проблемы с  18782008\n",
      "Возникли проблемы с  26047823\n",
      "Возникли проблемы с  50549227\n",
      "Возникли проблемы с  92906905\n",
      "Возникли проблемы с  104172587\n",
      "Возникли проблемы с  154836355\n",
      "Возникли проблемы с  224768482\n",
      "Возникли проблемы с  294799490\n",
      "\n"
     ]
    }
   ],
   "source": [
    "wall_likes = { }\n",
    "for uid in tqdm_notebook(friends_ids):\n",
    "    try:\n",
    "        wall_likes[uid] = get_likes(uid)\n",
    "    except:\n",
    "        print('Возникли проблемы с ', uid)"
   ]
  },
  {
   "cell_type": "code",
   "execution_count": 100,
   "metadata": {},
   "outputs": [
    {
     "data": {
      "text/plain": [
       "347"
      ]
     },
     "execution_count": 100,
     "metadata": {},
     "output_type": "execute_result"
    }
   ],
   "source": [
    "len(wall_likes)"
   ]
  },
  {
   "cell_type": "markdown",
   "metadata": {},
   "source": [
    "Феноменально! Лайки по всем друзьям за два года скачались за $15$ минут. Вау! Пришло время их немного поисследовать. Построим **матрицу лайков.** Напомню, что мы скачали все лайки, которые юзеры ставили друг-другу в течение последних двух лет. \n",
    "\n",
    "По строкам и столбцам расположим id людей. На месте $(i,j)$ будет стоять число лайков, которое пользоваатель i поставил пользователю j. На диагонали окажутся самолайки. Обратите внимание на то, что в матрице никакой симметрии не будет. "
   ]
  },
  {
   "cell_type": "code",
   "execution_count": 108,
   "metadata": {},
   "outputs": [
    {
     "name": "stdout",
     "output_type": "stream",
     "text": [
      "CPU times: user 2.15 s, sys: 3.23 ms, total: 2.15 s\n",
      "Wall time: 2.15 s\n"
     ]
    }
   ],
   "source": [
    "%%time \n",
    "\n",
    "def like_matrix_creator(wall_likes):\n",
    "    users = list(wall_likes.keys())\n",
    "    n = len(users)\n",
    "\n",
    "    # Матрицы для абсолютного количества лайков \n",
    "    L_wall = np.zeros([n,n])\n",
    "    \n",
    "    # По строкам расположим тех, кто лайкает \n",
    "    # По столбцам тех, кого лайкают \n",
    "    for i in range(n):  \n",
    "        for j in range(n):\n",
    "            a = int(sum([users[i] in v for k,v in wall_likes[users[j]].items()]))\n",
    "            L_wall[i,j] = a \n",
    "                \n",
    "    return L_wall\n",
    "\n",
    "L_wall = like_matrix_creator(wall_likes)"
   ]
  },
  {
   "cell_type": "code",
   "execution_count": 109,
   "metadata": {},
   "outputs": [
    {
     "data": {
      "text/plain": [
       "array([[ 0.,  0.,  0., ...,  0.,  0.,  0.],\n",
       "       [ 0.,  0.,  0., ...,  0.,  0.,  0.],\n",
       "       [ 0.,  0.,  0., ...,  0.,  0.,  0.],\n",
       "       ..., \n",
       "       [ 0.,  0.,  0., ...,  3.,  0.,  0.],\n",
       "       [ 0.,  0.,  0., ...,  0.,  0.,  0.],\n",
       "       [ 0.,  0.,  0., ...,  0.,  0.,  5.]])"
      ]
     },
     "execution_count": 109,
     "metadata": {},
     "output_type": "execute_result"
    }
   ],
   "source": [
    "L_wall"
   ]
  },
  {
   "cell_type": "code",
   "execution_count": 110,
   "metadata": {},
   "outputs": [
    {
     "data": {
      "text/plain": [
       "246.0"
      ]
     },
     "execution_count": 110,
     "metadata": {},
     "output_type": "execute_result"
    }
   ],
   "source": [
    "np.max(L_wall)"
   ]
  },
  {
   "cell_type": "markdown",
   "metadata": {},
   "source": [
    "Построим несколько лайк-топов. Для их визуализации напишем функцию. Напомню, что в словарике `id_names` лежит соотвествие каждого имени каждому id. "
   ]
  },
  {
   "cell_type": "code",
   "execution_count": 113,
   "metadata": {},
   "outputs": [],
   "source": [
    "def top_freq_plot(top, title, k=30):\n",
    "\n",
    "    # Сортируем словарик по частотам\n",
    "    sorted_word_count = sorted(top, key=lambda w: w[1], reverse=True)     \n",
    "    \n",
    "    # Делаем срез и по этому срезу строим картиночку \n",
    "    example_list = sorted_word_count[:k]\n",
    "    name = []\n",
    "    frequency = []\n",
    "    for i in range(len(example_list)):\n",
    "        name.append(example_list[i][0])\n",
    "        frequency.append(example_list[i][1])\n",
    "\n",
    "    indices = np.arange(len(example_list))\n",
    "    \n",
    "    plt.figure(figsize=(22,8))\n",
    "    plt.bar(indices, frequency)\n",
    "    plt.xticks(indices, name, rotation='vertical',fontsize=16)\n",
    "    plt.tight_layout()\n",
    "    plt.title(title, fontsize = 30)\n",
    "    pass"
   ]
  },
  {
   "cell_type": "markdown",
   "metadata": {},
   "source": [
    "Составим рейтинг самолайков среди своих друзей. "
   ]
  },
  {
   "cell_type": "code",
   "execution_count": 117,
   "metadata": {},
   "outputs": [],
   "source": [
    "# Составляем список из самолайков\n",
    "def top_like_yourself(users, L, id_names = id_names):\n",
    "    like_your_self = [ ]\n",
    "    for i in range(len(users)):\n",
    "        like_your_self.append((id_names[users[i]]['id'],L[i,i]))\n",
    "    return like_your_self\n",
    "\n",
    "lys = top_like_yourself(list(wall_likes.keys()), L_wall)"
   ]
  },
  {
   "cell_type": "code",
   "execution_count": 119,
   "metadata": {},
   "outputs": [
    {
     "data": {
      "image/png": "[encoded data removed]",
      "text/plain": [
       "<matplotlib.figure.Figure at 0x1194774a8>"
      ]
     },
     "metadata": {},
     "output_type": "display_data"
    }
   ],
   "source": [
    "top_freq_plot(lys,'Рейтинг самолайков')"
   ]
  },
  {
   "cell_type": "markdown",
   "metadata": {},
   "source": [
    "Пришло время составить индивидуальную статистику по лайкам для каждого человека."
   ]
  },
  {
   "cell_type": "code",
   "execution_count": 124,
   "metadata": {},
   "outputs": [],
   "source": [
    "def like_me(L, name, id_names=id_names, users = list(wall_likes.keys()), k=20):\n",
    "    names = [id_names[i]['id'] for i in users]\n",
    "\n",
    "    if isinstance(name, str):\n",
    "        i = names.index(name)\n",
    "    else:\n",
    "        i = users.index(name)\n",
    "        name = id_names[name]\n",
    "\n",
    "    li = L[i,:]  # лайкаю я\n",
    "    lj = L[:,i]  # лайкают меня\n",
    "    \n",
    "    # 1. График с теми, кого лайкает человек\n",
    "    a = zip(names,li,range(len(names)))\n",
    "    # Сортируем и делаем срез для картиночки\n",
    "    sorted_word_count1 = sorted(a, key=lambda w: w[1], reverse=True)\n",
    "    example_list1 = sorted_word_count1[:k]\n",
    "    nname1 = []\n",
    "    frequency1 = []\n",
    "    ind1 = [ ]\n",
    "    \n",
    "    for i in range(len(example_list1)):\n",
    "        nname1.append(example_list1[i][0])\n",
    "        frequency1.append(example_list1[i][1])\n",
    "        ind1.append(example_list1[i][2])\n",
    "        \n",
    "    indices1 = np.arange(len(example_list1))\n",
    "    \n",
    "    plt.figure(figsize=(22,7))\n",
    "    plt.bar(indices1, frequency1)\n",
    "    plt.xticks(indices1, nname1, rotation='vertical',fontsize=16)\n",
    "    plt.tight_layout()\n",
    "    plt.title(name + ' ставит лайки', fontsize = 30)\n",
    "    #########################################\n",
    "      \n",
    "    # 2. График с теми, кто лайкает человека\n",
    "    a = zip(names,lj,range(len(names)))\n",
    "    # Сортируем и делаем срез для картиночки\n",
    "    sorted_word_count2 = sorted(a, key=lambda w: w[1], reverse=True)\n",
    "    example_list2 = sorted_word_count2[:k]\n",
    "    nname2 = []\n",
    "    frequency2 = []\n",
    "    ind2 = [ ]\n",
    "    \n",
    "    for i in range(len(example_list2)):\n",
    "        nname2.append(example_list2[i][0])\n",
    "        frequency2.append(example_list2[i][1])\n",
    "        ind2.append(example_list2[i][2])\n",
    "    \n",
    "    indices2 = np.arange(len(example_list2))\n",
    "    \n",
    "    plt.figure(figsize=(22,7))\n",
    "    plt.bar(indices2, frequency2)\n",
    "    plt.xticks(indices2, nname2, rotation='vertical',fontsize=16)\n",
    "    plt.tight_layout()\n",
    "    plt.title(name + ' получает лайки', fontsize = 30)\n",
    "    pass"
   ]
  },
  {
   "cell_type": "code",
   "execution_count": 137,
   "metadata": {},
   "outputs": [
    {
     "data": {
      "image/png": "[encoded data removed]",
      "text/plain": [
       "<matplotlib.figure.Figure at 0x11dd01470>"
      ]
     },
     "metadata": {},
     "output_type": "display_data"
    },
    {
     "data": {
      "image/png": "[encoded data removed]",
      "text/plain": [
       "<matplotlib.figure.Figure at 0x11dd015c0>"
      ]
     },
     "metadata": {},
     "output_type": "display_data"
    }
   ],
   "source": [
    "like_me(L_wall, 'Быков Мирослав')"
   ]
  },
  {
   "cell_type": "markdown",
   "metadata": {},
   "source": [
    "На этом остановимся. Дальше простор для исследований довольно широк. Можно найти взаимные лайки, людей, которые попадают к другим людям в топы чаще всего. При желании можно даже построить граф лайков. "
   ]
  },
  {
   "cell_type": "markdown",
   "metadata": {
    "collapsed": true
   },
   "source": [
    "<img align=\"center\" src=\"https://raw.githubusercontent.com/FUlyankin/Parsers/master/images%20/cats.jpg\" height=\"1200\" width=\"1200\"> "
   ]
  }
 ],
 "metadata": {
  "kernelspec": {
   "display_name": "Python 3",
   "language": "python",
   "name": "python3"
  },
  "language_info": {
   "codemirror_mode": {
    "name": "ipython",
    "version": 3
   },
   "file_extension": ".py",
   "mimetype": "text/x-python",
   "name": "python",
   "nbconvert_exporter": "python",
   "pygments_lexer": "ipython3",
   "version": "3.6.3"
  },
  "widgets": {
   "state": {
    "2742031b364a47c88a9e1560957f18a6": {
     "views": [
      {
       "cell_index": 24
      }
     ]
    },
    "87d7cf453c0c4c92bd2141787ff2e270": {
     "views": [
      {
       "cell_index": 22
      }
     ]
    },
    "bbe6f01fa3b3415fb8fc0c66491471a0": {
     "views": [
      {
       "cell_index": 42
      }
     ]
    }
   },
   "version": "1.2.0"
  }
 },
 "nbformat": 4,
 "nbformat_minor": 2
}
