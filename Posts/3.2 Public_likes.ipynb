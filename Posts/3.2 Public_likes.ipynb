{
 "cells": [
  {
   "cell_type": "markdown",
   "metadata": {},
   "source": [
    "<center>\n",
    "<img src=\"https://raw.githubusercontent.com/FUlyankin/ekenam_grand_research/master/images/cover.png\">\n",
    "</center>\n",
    "\n",
    "\n",
    "# <center> Иканам гранд рисёрч </center>\n",
    "## <center>  Часть третья: Качаем паблики </center> \n",
    "\n",
    "\n",
    "Проект **Иканам гранд рисёрч** реализуется [Иканам стьюдентс коммьюнити,](https://vk.com/ikanam)\n",
    "в частности [вот этим парнем по имени Филипп.](https://vk.com/ppilif)  Если вы нашли ошибку или у вас есть предложения, замечания, деньги, слава или женщины, можно ему написать. Весь говнокод, использованный в исследовании распостраняется по лицензии [Creative Commons CC BY-NC-SA 4.0.](https://creativecommons.org/licenses/by-nc-sa/4.0/) Его можно использовать в любых целях (редактировать, поправлять и брать за основу), кроме коммерческих, но с обязательным упоминанием автора материала. При наличии технической возможности необходимо также указать активную гиперссылку на [страницу рисёрча.](https://github.com/FUlyankin/ekenam_grand_research) \n"
   ]
  },
  {
   "cell_type": "markdown",
   "metadata": {},
   "source": [
    "# 1  Тематические профили \n",
    "\n",
    "Итак, у каждого человека есть подписки. У каждого паблика есть темы. Давайте возьмём конкретного юзера и посмотрим на то какие темы чаще всего встречаются в его пабликах. В конечном итоге, мы сможем увидеть для каждого юзера его тематический профиль. "
   ]
  },
  {
   "cell_type": "code",
   "execution_count": null,
   "metadata": {},
   "outputs": [],
   "source": []
  },
  {
   "cell_type": "code",
   "execution_count": null,
   "metadata": {},
   "outputs": [],
   "source": []
  },
  {
   "cell_type": "markdown",
   "metadata": {},
   "source": [
    "Ради интереса посмотрим на то насколько сильно между собой коррелируют различные темы из построенных профилей. \n",
    "\n",
    "<img align=\"center\" src=\"../images/3. publics/pub_corr_20.png\" width=\"700\">\n"
   ]
  },
  {
   "cell_type": "markdown",
   "metadata": {},
   "source": [
    "<img align=\"center\" src=\"../images/3. publics/pub_corr_30.png\" width=\"700\">\n",
    "\n",
    "Как можно увидеть, темы не коррелируют друг с другом особо сильно. Это хорошо. Каждая из них несёт какую-то уникальную информацию. Более того, когда мы будем строить по ним регрессию, не возникнит никаких окололинейных зависимостей и необратимых матриц. "
   ]
  },
  {
   "cell_type": "code",
   "execution_count": null,
   "metadata": {},
   "outputs": [],
   "source": []
  },
  {
   "cell_type": "code",
   "execution_count": null,
   "metadata": {},
   "outputs": [],
   "source": []
  },
  {
   "cell_type": "code",
   "execution_count": null,
   "metadata": {},
   "outputs": [],
   "source": []
  },
  {
   "cell_type": "code",
   "execution_count": null,
   "metadata": {},
   "outputs": [],
   "source": []
  },
  {
   "cell_type": "code",
   "execution_count": null,
   "metadata": {},
   "outputs": [],
   "source": []
  },
  {
   "cell_type": "markdown",
   "metadata": {},
   "source": [
    "# 2  Новая матрица лайков\n",
    "\n",
    "Построим очереднуб матрицу лайков. На этот раз будем откладывать по строкам пользователей, по столбцам группы. На месте $(i,j)$ будет стоять число лайков, которое юзер $i$ оставил группе $j$. \n",
    "\n",
    "\n",
    "\n"
   ]
  },
  {
   "cell_type": "markdown",
   "metadata": {},
   "source": [
    "По аналогии сконструируем матрицу подписок для каждого юзера. Если юзер $i$ подписан на группу $j$, будем ставить единичку. "
   ]
  },
  {
   "cell_type": "markdown",
   "metadata": {},
   "source": [
    "# 3 Лайковые паблик-топы \n",
    "\n",
    "## 3.1 Рейтинги пабликов\n",
    "\n",
    "Пришло время рейтингов! Посмотрим в каких пабликах эконом просаживает свои лайки в самом большом количестве. "
   ]
  },
  {
   "cell_type": "markdown",
   "metadata": {},
   "source": [
    "Посмотрим на то, как лайки эконома распределены по выделенным в ходе кластеризации темам. "
   ]
  },
  {
   "cell_type": "markdown",
   "metadata": {},
   "source": [
    "Посмотрим на то какие паблики наиболее сильно лайкаются из топа тем. "
   ]
  },
  {
   "cell_type": "markdown",
   "metadata": {},
   "source": [
    "Посмотрим на то какие темы обычно лайкают люди, при этом не подписываясь на них. "
   ]
  },
  {
   "cell_type": "markdown",
   "metadata": {},
   "source": [
    "Посмотрим на то, какие паблики люди обычно лайкают, но при этом не подписываются на них. "
   ]
  },
  {
   "cell_type": "markdown",
   "metadata": {},
   "source": [
    "## 3.2 Рейтинги людей \n",
    "\n",
    "Посмотрим на тех, кто оставляет в пабликах наибольшее число лайков. "
   ]
  },
  {
   "cell_type": "markdown",
   "metadata": {},
   "source": [
    "Посмотрим на тезm кто больше всего лайкает, но при этом не подписывается. Посмотрим что за паблики они лайкают."
   ]
  },
  {
   "cell_type": "markdown",
   "metadata": {},
   "source": [
    "Посмотрим топы из людей по тематикам "
   ]
  },
  {
   "cell_type": "markdown",
   "metadata": {},
   "source": [
    "## 3.3 Индивидуальные лайки \n",
    "\n",
    "Составим для каждого человека профиль по тому на какие группы он подписан, по тому какие группы он лайкает, выведем топ из самых лайкаемых им групп и те группы, которые он лайкает, но при этом не подписывается."
   ]
  },
  {
   "cell_type": "markdown",
   "metadata": {},
   "source": [
    "Запилим интерактивную визуализацию для каждого человека на иканами в подобном формате. "
   ]
  },
  {
   "cell_type": "markdown",
   "metadata": {},
   "source": [
    "# 4 Похожие предпочтения \n",
    "\n",
    "Попробуем расположить весь иканам по их тематикам и предпочтениям на плоскости. Будем использовать для этого TSNE. Ради фана, раскрасим всех, кого отчислили в одни цвета, а всех кого оставили в другие. Посчитаем для каждого человека пять самых близких к нему людей по евклидовой мере в TSNE-пространстве. "
   ]
  },
  {
   "cell_type": "markdown",
   "metadata": {},
   "source": []
  },
  {
   "cell_type": "markdown",
   "metadata": {},
   "source": []
  },
  {
   "cell_type": "markdown",
   "metadata": {},
   "source": []
  }
 ],
 "metadata": {
  "kernelspec": {
   "display_name": "Python 3",
   "language": "python",
   "name": "python3"
  },
  "language_info": {
   "codemirror_mode": {
    "name": "ipython",
    "version": 3
   },
   "file_extension": ".py",
   "mimetype": "text/x-python",
   "name": "python",
   "nbconvert_exporter": "python",
   "pygments_lexer": "ipython3",
   "version": "3.6.3"
  }
 },
 "nbformat": 4,
 "nbformat_minor": 2
}
