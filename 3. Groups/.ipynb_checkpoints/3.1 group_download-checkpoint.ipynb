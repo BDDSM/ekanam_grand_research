{
 "cells": [
  {
   "cell_type": "markdown",
   "metadata": {},
   "source": [
    "<center>\n",
    "<img src=\"https://raw.githubusercontent.com/FUlyankin/ekenam_grand_research/master/images/cover.png\">\n",
    "</center>\n",
    "\n",
    "\n",
    "# <center> Иканам гранд рисёрч </center>\n",
    "## <center>  Часть третья: Паблики. Скачиваем лайки и посты. </center> \n",
    "\n",
    "\n",
    "Проект **Иканам гранд рисёрч** реализуется [Иканам стьюдентс коммьюнити,](https://vk.com/ikanam)\n",
    "в частности [вот этим парнем по имени Филипп.](https://vk.com/ppilif)  Если вы нашли ошибку или у вас есть предложения, замечания, деньги, слава или женщины, можно ему написать. Весь говнокод, использованный в исследовании распостраняется по лицензии [Creative Commons CC BY-NC-SA 4.0.](https://creativecommons.org/licenses/by-nc-sa/4.0/) Его можно использовать в любых целях (редактировать, поправлять и брать за основу), кроме коммерческих, но с обязательным упоминанием автора материала. При наличии технической возможности необходимо также указать активную гиперссылку на [страницу рисёрча.](https://github.com/FUlyankin/ekenam_grand_research) \n"
   ]
  },
  {
   "cell_type": "markdown",
   "metadata": {},
   "source": [
    "## 1. Скачка стен с пабликов \n",
    "\n",
    "Наконец-то мы дорвались до пабликов. В этом скрипте мы займёмся скачкой контента и лайков. В следующем проанализируем всё то добро, которое накачаем. При скачке базы данных с контакта, мы скачали инфу о том на какие группы подписаны юзеры. Составим единый перечень из уникальных групп, а после скачаем из каждой группы по сто постов. "
   ]
  },
  {
   "cell_type": "code",
   "execution_count": 1,
   "metadata": {},
   "outputs": [],
   "source": [
    "import requests        # Пакет для скачки данных из этих ваших интернетов\n",
    "import pandas as pd    # Пакет для работы с таблицами\n",
    "import numpy as np     # Пакет для работы с векторами и матрицами\n",
    "import matplotlib.pyplot as plt  # Пакет для строительства графиков\n",
    "plt.style.use('ggplot')          # Правильный стиль для графиков\n",
    "\n",
    "import re              # Модуль для работы с регулярными выражениями \n",
    "import time            # Пакет для работы со временем. Например, помогает ставить заглушки \n",
    "                       # time.sleep(секунды), необходимые для того что ВК не банил нанего\n",
    "                       # сборщика данных из-за слишком частых запросов\n",
    "        \n",
    " # Пакет для красивых циклов. При желании его можно отключить и удалить из всех циклов \n",
    "# команду tqdm_notebook.\n",
    "from tqdm import tqdm_notebook\n",
    "\n",
    "import pickle   # Пакет для сохранения и подгрузки данных "
   ]
  },
  {
   "cell_type": "code",
   "execution_count": 2,
   "metadata": {},
   "outputs": [],
   "source": [
    "%matplotlib inline"
   ]
  },
  {
   "cell_type": "code",
   "execution_count": null,
   "metadata": {},
   "outputs": [],
   "source": [
    "# Кусок кода, который уже стал классическим \n",
    "token=  \n",
    "myid =  \n",
    "\n",
    "def vk_download(method,parameters,token = token):\n",
    "    url = 'https://api.vk.com/method/'+method+'?'+parameters+'&access_token='+str(token)\n",
    "    response = requests.get(url) \n",
    "    return(response.json())\n",
    "\n",
    "# Проверяем всё ли работает на своём имени.\n",
    "vk_download('users.get','user_ids='+myid)"
   ]
  },
  {
   "cell_type": "markdown",
   "metadata": {},
   "source": [
    "Заглянем в папку с данными и подгрузим сюда файлик, в который мы записали все id групп, на которые подписан иканам. В ячейке ниже ! означает, что мы вызываем терминал. После мы пишем команду ls, которая выводит на экран терминала содержимое папки ../1.Download_vk_data. Команда ../ означает перейти в ту папку, в которой лежит текущая папка, то есть вернуться на уровень назад. "
   ]
  },
  {
   "cell_type": "code",
   "execution_count": 4,
   "metadata": {},
   "outputs": [
    {
     "name": "stdout",
     "output_type": "stream",
     "text": [
      "1. ikanam_save_data.ipynb         vk_dirty_wall_data_v18-12-17.csv\r\n",
      "ikanam_info_v18-12-17             vk_dirty_wall_v18-12-17\r\n",
      "profile_about_v18-12-17.csv       vk_photo_data_v18-12-17.csv\r\n",
      "vk_data_group_v18-12-17           vk_profile_data_v18-12-17\r\n",
      "vk_data_photos_v18-12-17          vk_total_photo_likes_v18-12-17\r\n",
      "vk_data_profile_v18-12-17.csv     vk_total_wal_likes_v18-12-17\r\n",
      "vk_dirty_photo_data_v18-12-17.csv vk_user_photo_dict\r\n",
      "vk_dirty_photo_v18-12-17          vk_wall_data_v18-12-17.csv\r\n"
     ]
    }
   ],
   "source": [
    "!ls ../1.Download_vk_data"
   ]
  },
  {
   "cell_type": "code",
   "execution_count": 5,
   "metadata": {},
   "outputs": [],
   "source": [
    "with open('../1.Download_vk_data/vk_data_group_v18-12-17', 'rb') as f:\n",
    "    group_list = pickle.load(f)"
   ]
  },
  {
   "cell_type": "code",
   "execution_count": 6,
   "metadata": {},
   "outputs": [
    {
     "name": "stdout",
     "output_type": "stream",
     "text": [
      "У юзера 422131817 нет пабликов! Как можно жить без мемов?\n",
      "У юзера 333801583 нет пабликов! Как можно жить без мемов?\n",
      "У юзера 5058781 нет пабликов! Как можно жить без мемов?\n",
      "У юзера 137859376 нет пабликов! Как можно жить без мемов?\n",
      "У юзера 27742513 нет пабликов! Как можно жить без мемов?\n",
      "У юзера 123857237 нет пабликов! Как можно жить без мемов?\n",
      "У юзера 172437917 нет пабликов! Как можно жить без мемов?\n",
      "У юзера 247298498 нет пабликов! Как можно жить без мемов?\n",
      "У юзера 224768482 нет пабликов! Как можно жить без мемов?\n",
      "У юзера 63482547 нет пабликов! Как можно жить без мемов?\n",
      "У юзера 5188414 нет пабликов! Как можно жить без мемов?\n",
      "У юзера 73743189 нет пабликов! Как можно жить без мемов?\n",
      "У юзера 297810775 нет пабликов! Как можно жить без мемов?\n",
      "У юзера 62432186 нет пабликов! Как можно жить без мемов?\n",
      "У юзера 31996903 нет пабликов! Как можно жить без мемов?\n",
      "У юзера 104172587 нет пабликов! Как можно жить без мемов?\n",
      "У юзера 72121441 нет пабликов! Как можно жить без мемов?\n",
      "У юзера 374541479 нет пабликов! Как можно жить без мемов?\n",
      "У юзера 65514793 нет пабликов! Как можно жить без мемов?\n",
      "У юзера 233305440 нет пабликов! Как можно жить без мемов?\n",
      "У юзера 8793479 нет пабликов! Как можно жить без мемов?\n",
      "У юзера 92906905 нет пабликов! Как можно жить без мемов?\n",
      "У юзера 1310129 нет пабликов! Как можно жить без мемов?\n",
      "У юзера 179819959 нет пабликов! Как можно жить без мемов?\n",
      "У юзера 4247018 нет пабликов! Как можно жить без мемов?\n",
      "У юзера 71331354 нет пабликов! Как можно жить без мемов?\n",
      "У юзера 387620385 нет пабликов! Как можно жить без мемов?\n",
      "У юзера 20905547 нет пабликов! Как можно жить без мемов?\n",
      "У юзера 60802824 нет пабликов! Как можно жить без мемов?\n",
      "У юзера 3061537 нет пабликов! Как можно жить без мемов?\n",
      "У юзера 287801204 нет пабликов! Как можно жить без мемов?\n",
      "У юзера 293615481 нет пабликов! Как можно жить без мемов?\n",
      "У юзера 109545397 нет пабликов! Как можно жить без мемов?\n",
      "У юзера 378433490 нет пабликов! Как можно жить без мемов?\n"
     ]
    }
   ],
   "source": [
    "group_count = dict() \n",
    "for item in group_list:\n",
    "    try:\n",
    "        cur_keys = group_count.keys() \n",
    "        for gr in item['groups']:\n",
    "            if gr in cur_keys:\n",
    "                group_count[gr] += 1\n",
    "            else:\n",
    "                group_count[gr] = 1\n",
    "    except:\n",
    "        print('У юзера', item['uid'], 'нет пабликов! Как можно жить без мемов?')    "
   ]
  },
  {
   "cell_type": "markdown",
   "metadata": {},
   "source": [
    "Запомним о том, что у нас есть такой замечательный лист с парами: `(группа, число юзеров с эконома в ней)`. Создадим множество из групп и приступим к сбору контента с них. "
   ]
  },
  {
   "cell_type": "code",
   "execution_count": 7,
   "metadata": {},
   "outputs": [
    {
     "data": {
      "text/plain": [
       "20060"
      ]
     },
     "execution_count": 7,
     "metadata": {},
     "output_type": "execute_result"
    }
   ],
   "source": [
    "group_set = set(group_count.keys())\n",
    "len(group_set)"
   ]
  },
  {
   "cell_type": "markdown",
   "metadata": {},
   "source": [
    "В нашем распоряжении оказалось более $20000$ групп. Хотелось бы скачать из каждой сто постов. Будем сохранять контент по каждой группе в следующем формате:\n",
    "\n",
    "```\n",
    "{'group_id' : ...., 'group_name' : .... , 'group_content' : пост}\n",
    "```\n",
    "\n",
    "Часть групп окажется закрытой, у части групп не будет контента. Проигнорируем такие группы. "
   ]
  },
  {
   "cell_type": "code",
   "execution_count": null,
   "metadata": {
    "scrolled": false
   },
   "outputs": [],
   "source": [
    "group_posts = { }\n",
    "error_ids = [ ]\n",
    "dgw = { }  # aka dirty group wall\n",
    "for group_id in tqdm_notebook(group_set):\n",
    "    try:\n",
    "        time.sleep(0.4)   # Немного подождём\n",
    "        cur_group = { }   # Создаём чистый словарик под новую группу \n",
    "        \n",
    "        # Качаем 100 записей со стены группы\n",
    "        wall = vk_download('wall.get','owner_id=-'+str(group_id)+'&count=100')['response'][1:]\n",
    "        dgw[group_id] = wall\n",
    "        \n",
    "        # Объединяем все сто постов в один большой текст: \n",
    "        content = ' '.join([wl['text'] for wl in wall])\n",
    "        \n",
    "        time.sleep(0.4) # Снова немного ждём, после забираем себе имя группы \n",
    "        group_name = vk_download('groups.getById','group_id='+str(group_id))['response'][0]['name']\n",
    "        \n",
    "        # Записываем всю информацию в словарик и добавляем его в вектор \n",
    "        cur_group['group_id'] = group_id\n",
    "        cur_group['group_name'] = group_name\n",
    "        cur_group['group_content'] = content \n",
    "        group_posts[group_id] = cur_group\n",
    "    except:\n",
    "        error_ids.append(group_id)       # Если не получилось, добавляем проблемный id в список проблем\n",
    "        print('Ошибка с id',group_id)"
   ]
  },
  {
   "cell_type": "code",
   "execution_count": null,
   "metadata": {},
   "outputs": [],
   "source": [
    "len(error_ids)"
   ]
  },
  {
   "cell_type": "markdown",
   "metadata": {},
   "source": [
    "По той или иной причине мы не смогли скачать около  60  групп. Забьём на них. Вытаскиваем из всех групп id постов и количество лайков, которое под ними стоит. "
   ]
  },
  {
   "cell_type": "code",
   "execution_count": null,
   "metadata": {},
   "outputs": [],
   "source": [
    "posts_id = { }\n",
    "for k,v in tqdm_notebook(dgw.items()):\n",
    "    posts_id[k] = [(item['id'],item['likes']['count']) for item in v]"
   ]
  },
  {
   "cell_type": "code",
   "execution_count": null,
   "metadata": {},
   "outputs": [],
   "source": [
    "posts_id[58556421][:10]"
   ]
  },
  {
   "cell_type": "markdown",
   "metadata": {},
   "source": [
    "Сохраняем данные. "
   ]
  },
  {
   "cell_type": "code",
   "execution_count": null,
   "metadata": {},
   "outputs": [],
   "source": [
    "with open('vk_group_posts_ids_v18-12-17', 'wb') as f:\n",
    "    pickle.dump(posts_id, f)\n",
    "\n",
    "with open('vk_group_posts_v18-12-17', 'wb') as f:\n",
    "    pickle.dump(group_posts, f)\n",
    "    \n",
    "with open('error_groups_v18-12-17', 'wb') as f:\n",
    "    pickle.dump(error_ids, f)"
   ]
  },
  {
   "cell_type": "markdown",
   "metadata": {},
   "source": [
    "Ниже код, который подгружает те же данные. Он тут на всякий случай."
   ]
  },
  {
   "cell_type": "code",
   "execution_count": 8,
   "metadata": {},
   "outputs": [],
   "source": [
    "with open('vk_group_posts_ids_v18-12-17', 'rb') as f:\n",
    "    posts_id = pickle.load(f)\n",
    "\n",
    "with open('vk_group_posts_v18-12-17', 'rb') as f:\n",
    "    group_posts = pickle.load(f)\n",
    "    \n",
    "with open('error_groups_v18-12-17', 'rb') as f:\n",
    "    error_ids = pickle.load(f)"
   ]
  },
  {
   "cell_type": "markdown",
   "metadata": {},
   "source": [
    "## 2. Скачиваем лайки под постами \n",
    "\n",
    "Наступил исторический момент. Наша последняя скачка данных из вк. Мы хотели бы скачать из каждого паблика с каждого из 100 постов информацию о людях, которые их лайкнули. Нам на пути встретится одна сложность. Переодически лайков под постом будет на порядок больше 1000. Из-за этого придётся использовать уже знакомый нам параметр `offset`. \n",
    "\n",
    "Для скачки лайков адаптируем тот код, который мы использовали для прохода по постам и фоткам при сборе информации со страничек юзеров. \n",
    "\n",
    "Для начала создадим два вектора. В первый мы поместим все запросы, которые мы должны будем сделать. Во второй мы поместим информацию о группе, посте и сдвиге. Второй вектор после серии запросов позволит нам понять какие лайки к какому посту относятся. "
   ]
  },
  {
   "cell_type": "code",
   "execution_count": 9,
   "metadata": {},
   "outputs": [],
   "source": [
    "requ = [ ]\n",
    "req_info = [ ]  # здесь будет лежать информация о каждом запросе\n",
    "# Проходимся по всем группам\n",
    "for group_id in posts_id.keys():\n",
    "    # Проходимся по всем постам в группе \n",
    "    for item in posts_id[group_id]:\n",
    "        # Сдвиги в лайках для текущего поста \n",
    "        for ofset in range(item[1]//1000 + 1):\n",
    "            s = 'API.likes.getList({\"type\":\"post\",\"owner_id\":\"-' + str(group_id) + \\\n",
    "                 '\",\"item_id\":\"' + str(item[0]) + '\",\"count\":\"1000\",\"offset\":\"'+str(1000*ofset)+'\"}),'\n",
    "            s_inf = (group_id, item[0], 1000*ofset, item[1])\n",
    "            requ.append(s)\n",
    "            req_info.append(s_inf)"
   ]
  },
  {
   "cell_type": "code",
   "execution_count": 10,
   "metadata": {},
   "outputs": [
    {
     "data": {
      "text/plain": [
       "['API.likes.getList({\"type\":\"post\",\"owner_id\":\"-58556421\",\"item_id\":\"176584\",\"count\":\"1000\",\"offset\":\"0\"}),',\n",
       " 'API.likes.getList({\"type\":\"post\",\"owner_id\":\"-58556421\",\"item_id\":\"181755\",\"count\":\"1000\",\"offset\":\"0\"}),',\n",
       " 'API.likes.getList({\"type\":\"post\",\"owner_id\":\"-58556421\",\"item_id\":\"181739\",\"count\":\"1000\",\"offset\":\"0\"}),',\n",
       " 'API.likes.getList({\"type\":\"post\",\"owner_id\":\"-58556421\",\"item_id\":\"181722\",\"count\":\"1000\",\"offset\":\"0\"}),',\n",
       " 'API.likes.getList({\"type\":\"post\",\"owner_id\":\"-58556421\",\"item_id\":\"181712\",\"count\":\"1000\",\"offset\":\"0\"}),']"
      ]
     },
     "execution_count": 10,
     "metadata": {},
     "output_type": "execute_result"
    }
   ],
   "source": [
    "requ[:5]"
   ]
  },
  {
   "cell_type": "code",
   "execution_count": 11,
   "metadata": {},
   "outputs": [
    {
     "data": {
      "text/plain": [
       "[(58556421, 176584, 0, 873),\n",
       " (58556421, 181755, 0, 10),\n",
       " (58556421, 181739, 0, 65),\n",
       " (58556421, 181722, 0, 92),\n",
       " (58556421, 181712, 0, 160)]"
      ]
     },
     "execution_count": 11,
     "metadata": {},
     "output_type": "execute_result"
    }
   ],
   "source": [
    "req_info[:5]  # Информации о группах, постах и сдвигах на всякий случай"
   ]
  },
  {
   "cell_type": "markdown",
   "metadata": {},
   "source": [
    "Всего надо будет сделать не такое уж и большое число запросов. "
   ]
  },
  {
   "cell_type": "code",
   "execution_count": 12,
   "metadata": {},
   "outputs": [
    {
     "data": {
      "text/plain": [
       "84236.72"
      ]
     },
     "execution_count": 12,
     "metadata": {},
     "output_type": "execute_result"
    }
   ],
   "source": [
    "len(requ)/25"
   ]
  },
  {
   "cell_type": "markdown",
   "metadata": {},
   "source": [
    "За секунду делается 75 запросов. Ждать нам придётся около 8 часов. Нас устраивает. "
   ]
  },
  {
   "cell_type": "code",
   "execution_count": 13,
   "metadata": {},
   "outputs": [
    {
     "data": {
      "text/plain": [
       "7.799696296296296"
      ]
     },
     "execution_count": 13,
     "metadata": {},
     "output_type": "execute_result"
    }
   ],
   "source": [
    "len(requ)/25/3/60/60"
   ]
  },
  {
   "cell_type": "code",
   "execution_count": 14,
   "metadata": {},
   "outputs": [
    {
     "name": "stdout",
     "output_type": "stream",
     "text": [
      "Всего батчей: 84237\n"
     ]
    }
   ],
   "source": [
    "# Делим реквесты на батчи по 25 штук. \n",
    "batches = [requ[i:i+25] for i in range(0,len(requ),25)]\n",
    "print(\"Всего батчей:\", len(batches))\n",
    "\n",
    "# Функция, которая создаёт по батчу ссылку для метода execute\n",
    "def make_url(bat,token=token):\n",
    "    begin = 'https://api.vk.com/method/execute?code=return['\n",
    "    end = '];&access_token='+token\n",
    "    s = ''\n",
    "    for bt in bat:\n",
    "        s += bt\n",
    "    return begin + s[:-1] + end "
   ]
  },
  {
   "cell_type": "markdown",
   "metadata": {},
   "source": [
    "Собираем лайки со всех постов. "
   ]
  },
  {
   "cell_type": "code",
   "execution_count": null,
   "metadata": {},
   "outputs": [],
   "source": [
    "i = 0\n",
    "loises = [ ]\n",
    "for btc in tqdm_notebook(batches):\n",
    "    try:\n",
    "        time.sleep(0.4)\n",
    "        res = requests.get(make_url(btc)).json()['response']\n",
    "        loises.extend(res)\n",
    "    except:\n",
    "        print('Проблемы с', i, 'бaтчем')\n",
    "        loises.extend([[]]*25)\n",
    "    i+=1"
   ]
  },
  {
   "cell_type": "markdown",
   "metadata": {},
   "source": [
    "Мы думали, что скачка будет идти 8 часов. Она в итоге шла 17 часов. Где наши ожидания, а где жестокая реальность. Как вы понимаете, если скачивать более 100 последних постов, то мы упоремся. Можно ускорить выкачку, создав новых аккаунтов или попросив у своих друзей вк их ключи доступа (имейте в виду, что ключ доступа должен использоваться с того ip, с которого он был получен). Сохраняем всё это сокровище в виде отдельных батчей. Форма pickle позволяет сохранять файлы весом менее двух гигов.  Будем хранит в одном батче $40000$ лайков. "
   ]
  },
  {
   "cell_type": "code",
   "execution_count": null,
   "metadata": {},
   "outputs": [],
   "source": [
    "loises_batches = [loises[i:i+400000] for i in range(0,len(loises),400000)]\n",
    "print([len(btc) for btc in loises_batches])\n",
    "\n",
    "i_btc = 0 # Номер батча\n",
    "for bitem in loises_batches:\n",
    "    with open('batch' + str(i_btc) + 'vk_group_posts_dirty_loises_v08-01-18', 'wb') as f:\n",
    "        pickle.dump(bitem, f)\n",
    "    i_btc += 1"
   ]
  },
  {
   "cell_type": "markdown",
   "metadata": {},
   "source": [
    "Пройдёмся по тем сокровищам, которые мы накачали и приведём их в божеский вид: \n",
    "\n",
    "```\n",
    "{ id_group : [ {id_post : [list of likers]} , ... ], ...} \n",
    "```\n",
    "\n",
    "Лучшего способа для распаковки этого всего чуда, нежели один огромный цикл, я не вижу. Скорее всего это не самый оптимальный вариант, но и иже с ним. "
   ]
  },
  {
   "cell_type": "code",
   "execution_count": null,
   "metadata": {},
   "outputs": [],
   "source": [
    "loises_1 = np.array(loises)\n",
    "req_info_1 = np.array(req_info)"
   ]
  },
  {
   "cell_type": "code",
   "execution_count": null,
   "metadata": {},
   "outputs": [],
   "source": [
    "len(loises_1)"
   ]
  },
  {
   "cell_type": "code",
   "execution_count": null,
   "metadata": {
    "scrolled": true
   },
   "outputs": [],
   "source": [
    "req_info_1[0] # информация о том что лежит в нулевом элементе loises "
   ]
  },
  {
   "cell_type": "markdown",
   "metadata": {},
   "source": [
    "Наишем функцию для распаковки лайков по одной группе."
   ]
  },
  {
   "cell_type": "code",
   "execution_count": 19,
   "metadata": {},
   "outputs": [],
   "source": [
    "def group_unpack(gr_id, req_info_1, loises_1):\n",
    "    \n",
    "    # Находим позиции, которые соответствуют этой группе\n",
    "    positions = np.where([rq[0] == gr_id for rq in req_info_1])[0]\n",
    "\n",
    "    # Выбираем в векторах соответсвующие ей подвекторы\n",
    "    gr_req_info = req_info_1[positions]\n",
    "    gr_unpacked_loises = loises_1[positions]\n",
    "\n",
    "    cur_group = { }                     # Словарик для лайков под постами в текущей группе\n",
    "    b1 = gr_req_info[0][1]              # id самого первого поста \n",
    "    cur_post = gr_unpacked_loises[0]['users']    # Лайки под текущим постом\n",
    "    i = 1                               # Флажок ддя нашего текущего положения\n",
    "\n",
    "    for _,b,c,_ in gr_req_info[1:]:\n",
    "        if b == b1:                      # Если мы в текущем посте, расширяем список лайков \n",
    "            cur_post.extend(gr_unpacked_loises[i]['users'])\n",
    "            i += 1                       # Переходим к следущему объекту \n",
    "        else:                            # Вышли за пределы поста\n",
    "            cur_group[b1] = cur_post     # Сохраняем лайки текущего поста \n",
    "            b1 = b                       # Обновляем номер поста \n",
    "            cur_post = gr_unpacked_loises[i]['users']  # Обновляем вектор с лайками\n",
    "            i += 1                       # Переходим к новому посту \n",
    "\n",
    "    cur_group[b] = cur_post # Не забываем о самом последнем объекте\n",
    "    return cur_group    "
   ]
  },
  {
   "cell_type": "markdown",
   "metadata": {},
   "source": [
    "Сначала в коде был кусок, который сравнивал число лайков после выгрузки с значением счётчика до выгрузки. Однако это оказалось бесполезным, так как в течение суток люди успевали наставить новых лайков и сравниватель отваливался. \n",
    "\n",
    "Вроде бы работает. Попробуем провести распаковку всего этого добра. В ходе распаковки некоторые группы будут вылетать в виде ошибок. Попробуйте найти эти страницы вконтакте по их id. Обычно это какие-то левые страницы без лайков либо удалённые страницы. При этом, по большей части, это даже не паблики. "
   ]
  },
  {
   "cell_type": "code",
   "execution_count": 20,
   "metadata": {
    "scrolled": false
   },
   "outputs": [
    {
     "name": "stdout",
     "output_type": "stream",
     "text": [
      "400000\n",
      "400000\n"
     ]
    },
    {
     "data": {
      "application/vnd.jupyter.widget-view+json": {
       "model_id": "fea827f61b444ffc90811126e58d3083",
       "version_major": 2,
       "version_minor": 0
      },
      "text/html": [
       "<p>Failed to display Jupyter Widget of type <code>HBox</code>.</p>\n",
       "<p>\n",
       "  If you're reading this message in the Jupyter Notebook or JupyterLab Notebook, it may mean\n",
       "  that the widgets JavaScript is still loading. If this message persists, it\n",
       "  likely means that the widgets JavaScript library is either not installed or\n",
       "  not enabled. See the <a href=\"https://ipywidgets.readthedocs.io/en/stable/user_install.html\">Jupyter\n",
       "  Widgets Documentation</a> for setup instructions.\n",
       "</p>\n",
       "<p>\n",
       "  If you're reading this message in another frontend (for example, a static\n",
       "  rendering on GitHub or <a href=\"https://nbviewer.jupyter.org/\">NBViewer</a>),\n",
       "  it may mean that your frontend doesn't currently support widgets.\n",
       "</p>\n"
      ],
      "text/plain": [
       "HBox(children=(IntProgress(value=0, max=3595), HTML(value='')))"
      ]
     },
     "metadata": {},
     "output_type": "display_data"
    },
    {
     "name": "stdout",
     "output_type": "stream",
     "text": [
      "67403939\n",
      "62390570\n",
      "29172062\n",
      "29524387\n",
      "24969733\n",
      "94765657\n",
      "138118010\n",
      "52692072\n",
      "103842943\n",
      "65242323\n",
      "113509634\n",
      "104072544\n",
      "68257384\n",
      "98895523\n",
      "153290465\n",
      "112166786\n",
      "127895774\n",
      "114329840\n",
      "61737301\n",
      "84642180\n",
      "39029231\n",
      "94276273\n",
      "71469874\n",
      "128322361\n",
      "104958788\n",
      "38833064\n",
      "112921532\n",
      "55708719\n",
      "57576589\n",
      "47975736\n",
      "34377125\n",
      "50302386\n",
      "80285261\n",
      "31395521\n",
      "68849537\n",
      "39456644\n",
      "55677048\n",
      "127668907\n",
      "48599876\n",
      "72684460\n",
      "34509911\n",
      "79369346\n",
      "58070187\n",
      "56006279\n",
      "28743414\n",
      "80320383\n",
      "136583046\n",
      "\n",
      "47\n",
      "400000\n",
      "400000\n"
     ]
    },
    {
     "data": {
      "application/vnd.jupyter.widget-view+json": {
       "model_id": "a16b0fb251384a2785e3312d7eae4214",
       "version_major": 2,
       "version_minor": 0
      },
      "text/html": [
       "<p>Failed to display Jupyter Widget of type <code>HBox</code>.</p>\n",
       "<p>\n",
       "  If you're reading this message in the Jupyter Notebook or JupyterLab Notebook, it may mean\n",
       "  that the widgets JavaScript is still loading. If this message persists, it\n",
       "  likely means that the widgets JavaScript library is either not installed or\n",
       "  not enabled. See the <a href=\"https://ipywidgets.readthedocs.io/en/stable/user_install.html\">Jupyter\n",
       "  Widgets Documentation</a> for setup instructions.\n",
       "</p>\n",
       "<p>\n",
       "  If you're reading this message in another frontend (for example, a static\n",
       "  rendering on GitHub or <a href=\"https://nbviewer.jupyter.org/\">NBViewer</a>),\n",
       "  it may mean that your frontend doesn't currently support widgets.\n",
       "</p>\n"
      ],
      "text/plain": [
       "HBox(children=(IntProgress(value=0, max=3673), HTML(value='')))"
      ]
     },
     "metadata": {},
     "output_type": "display_data"
    },
    {
     "name": "stdout",
     "output_type": "stream",
     "text": [
      "108830752\n",
      "92479860\n",
      "117481905\n",
      "31007281\n",
      "116040353\n",
      "42181593\n",
      "78357516\n",
      "109356072\n",
      "54699088\n",
      "92120151\n",
      "56075428\n",
      "52307154\n",
      "136095014\n",
      "50898485\n",
      "31925949\n",
      "35333843\n",
      "75409126\n",
      "68855729\n",
      "59353038\n",
      "102737982\n",
      "31959255\n",
      "52308236\n",
      "74623284\n",
      "30681436\n",
      "72755553\n",
      "146811376\n",
      "50211489\n",
      "95398832\n",
      "102214833\n",
      "33762611\n",
      "58044112\n",
      "33959816\n",
      "44046306\n",
      "38443011\n",
      "103356432\n",
      "70326342\n",
      "61577384\n",
      "130947811\n",
      "71736111\n",
      "67574682\n",
      "143137934\n",
      "101358777\n",
      "2071812\n",
      "143138064\n",
      "25042196\n",
      "49618272\n",
      "74063424\n",
      "76815959\n",
      "35004121\n",
      "80387955\n",
      "\n",
      "50\n",
      "400000\n",
      "400000\n"
     ]
    },
    {
     "data": {
      "application/vnd.jupyter.widget-view+json": {
       "model_id": "b3a62cf36602407a8c271518b59ec20c",
       "version_major": 2,
       "version_minor": 0
      },
      "text/html": [
       "<p>Failed to display Jupyter Widget of type <code>HBox</code>.</p>\n",
       "<p>\n",
       "  If you're reading this message in the Jupyter Notebook or JupyterLab Notebook, it may mean\n",
       "  that the widgets JavaScript is still loading. If this message persists, it\n",
       "  likely means that the widgets JavaScript library is either not installed or\n",
       "  not enabled. See the <a href=\"https://ipywidgets.readthedocs.io/en/stable/user_install.html\">Jupyter\n",
       "  Widgets Documentation</a> for setup instructions.\n",
       "</p>\n",
       "<p>\n",
       "  If you're reading this message in another frontend (for example, a static\n",
       "  rendering on GitHub or <a href=\"https://nbviewer.jupyter.org/\">NBViewer</a>),\n",
       "  it may mean that your frontend doesn't currently support widgets.\n",
       "</p>\n"
      ],
      "text/plain": [
       "HBox(children=(IntProgress(value=0, max=3725), HTML(value='')))"
      ]
     },
     "metadata": {},
     "output_type": "display_data"
    },
    {
     "name": "stdout",
     "output_type": "stream",
     "text": [
      "58015826\n",
      "25772219\n",
      "73548063\n",
      "53952995\n",
      "80364207\n",
      "33440517\n",
      "79512405\n",
      "66831203\n",
      "150193199\n",
      "35996811\n",
      "33637610\n",
      "40977654\n",
      "116049343\n",
      "120047050\n",
      "73319954\n",
      "103466577\n",
      "85870180\n",
      "80365384\n",
      "133810038\n",
      "42878850\n",
      "148490158\n",
      "53162008\n",
      "72724590\n",
      "89764635\n",
      "141997010\n",
      "26391544\n",
      "77902897\n",
      "131150908\n",
      "132068601\n",
      "87569701\n",
      "90879363\n",
      "92288397\n",
      "113292781\n",
      "82982438\n",
      "41203305\n",
      "120043387\n",
      "65779643\n",
      "79837181\n",
      "107821067\n",
      "29177907\n",
      "68663462\n",
      "96745760\n",
      "47462719\n",
      "143178085\n",
      "143178160\n",
      "119487025\n",
      "58702492\n",
      "143178397\n",
      "80362366\n",
      "116374405\n",
      "61553582\n",
      "85834856\n",
      "44219535\n",
      "96648361\n",
      "70991127\n",
      "56835547\n",
      "68402671\n",
      "92192311\n",
      "141737655\n",
      "126730060\n",
      "74727326\n",
      "\n",
      "61\n",
      "400000\n",
      "400000\n"
     ]
    },
    {
     "data": {
      "application/vnd.jupyter.widget-view+json": {
       "model_id": "fa22f3f5905143f6af38598f8a28ac9a",
       "version_major": 2,
       "version_minor": 0
      },
      "text/html": [
       "<p>Failed to display Jupyter Widget of type <code>HBox</code>.</p>\n",
       "<p>\n",
       "  If you're reading this message in the Jupyter Notebook or JupyterLab Notebook, it may mean\n",
       "  that the widgets JavaScript is still loading. If this message persists, it\n",
       "  likely means that the widgets JavaScript library is either not installed or\n",
       "  not enabled. See the <a href=\"https://ipywidgets.readthedocs.io/en/stable/user_install.html\">Jupyter\n",
       "  Widgets Documentation</a> for setup instructions.\n",
       "</p>\n",
       "<p>\n",
       "  If you're reading this message in another frontend (for example, a static\n",
       "  rendering on GitHub or <a href=\"https://nbviewer.jupyter.org/\">NBViewer</a>),\n",
       "  it may mean that your frontend doesn't currently support widgets.\n",
       "</p>\n"
      ],
      "text/plain": [
       "HBox(children=(IntProgress(value=0, max=3699), HTML(value='')))"
      ]
     },
     "metadata": {},
     "output_type": "display_data"
    },
    {
     "name": "stdout",
     "output_type": "stream",
     "text": [
      "43671582\n",
      "91048008\n",
      "61720832\n",
      "66210326\n",
      "132729641\n",
      "80366513\n",
      "75877414\n",
      "123588009\n",
      "83512833\n",
      "128405236\n",
      "55431079\n",
      "45699066\n",
      "72339496\n",
      "46158026\n",
      "104616282\n",
      "149705135\n",
      "137581052\n",
      "141611644\n",
      "34001720\n",
      "72766372\n",
      "63230963\n",
      "89445397\n",
      "78271704\n",
      "55793030\n",
      "78697975\n",
      "76404291\n",
      "94721624\n",
      "153147216\n",
      "43276227\n",
      "89806816\n",
      "121067595\n",
      "66902096\n",
      "27842693\n",
      "80009412\n",
      "101472506\n",
      "37509488\n",
      "74340784\n",
      "35936722\n",
      "86006525\n",
      "70212409\n",
      "112942144\n",
      "135191689\n",
      "50060579\n",
      "32300421\n",
      "32235360\n",
      "\n",
      "45\n",
      "400000\n",
      "400000\n"
     ]
    },
    {
     "data": {
      "application/vnd.jupyter.widget-view+json": {
       "model_id": "8cc899aac0e74c12b171ac0a713080b5",
       "version_major": 2,
       "version_minor": 0
      },
      "text/html": [
       "<p>Failed to display Jupyter Widget of type <code>HBox</code>.</p>\n",
       "<p>\n",
       "  If you're reading this message in the Jupyter Notebook or JupyterLab Notebook, it may mean\n",
       "  that the widgets JavaScript is still loading. If this message persists, it\n",
       "  likely means that the widgets JavaScript library is either not installed or\n",
       "  not enabled. See the <a href=\"https://ipywidgets.readthedocs.io/en/stable/user_install.html\">Jupyter\n",
       "  Widgets Documentation</a> for setup instructions.\n",
       "</p>\n",
       "<p>\n",
       "  If you're reading this message in another frontend (for example, a static\n",
       "  rendering on GitHub or <a href=\"https://nbviewer.jupyter.org/\">NBViewer</a>),\n",
       "  it may mean that your frontend doesn't currently support widgets.\n",
       "</p>\n"
      ],
      "text/plain": [
       "HBox(children=(IntProgress(value=0, max=3745), HTML(value='')))"
      ]
     },
     "metadata": {},
     "output_type": "display_data"
    },
    {
     "name": "stdout",
     "output_type": "stream",
     "text": [
      "94625946\n",
      "37118278\n",
      "55566668\n",
      "123691790\n",
      "27976623\n",
      "30565313\n",
      "68674502\n",
      "111502457\n",
      "92759320\n",
      "96232908\n",
      "56878759\n",
      "58451669\n",
      "113698589\n",
      "61630403\n",
      "92891105\n",
      "59205608\n",
      "41805840\n",
      "76998785\n",
      "29583637\n",
      "124021210\n",
      "39971403\n",
      "65694302\n",
      "114224058\n",
      "51899339\n",
      "126315587\n",
      "66808936\n",
      "62778663\n",
      "41643401\n",
      "36859349\n",
      "140471870\n",
      "78606000\n",
      "102920054\n",
      "67170182\n",
      "141193529\n",
      "54489408\n",
      "35615085\n",
      "85717372\n",
      "43315917\n",
      "34042699\n",
      "73331578\n",
      "70087620\n",
      "45446432\n",
      "91387327\n",
      "59471559\n",
      "93190045\n",
      "137951188\n",
      "125663402\n",
      "\n",
      "47\n",
      "105918\n",
      "105918\n"
     ]
    },
    {
     "data": {
      "application/vnd.jupyter.widget-view+json": {
       "model_id": "e4664f42aa7941d0a432a128e541addf",
       "version_major": 2,
       "version_minor": 0
      },
      "text/html": [
       "<p>Failed to display Jupyter Widget of type <code>HBox</code>.</p>\n",
       "<p>\n",
       "  If you're reading this message in the Jupyter Notebook or JupyterLab Notebook, it may mean\n",
       "  that the widgets JavaScript is still loading. If this message persists, it\n",
       "  likely means that the widgets JavaScript library is either not installed or\n",
       "  not enabled. See the <a href=\"https://ipywidgets.readthedocs.io/en/stable/user_install.html\">Jupyter\n",
       "  Widgets Documentation</a> for setup instructions.\n",
       "</p>\n",
       "<p>\n",
       "  If you're reading this message in another frontend (for example, a static\n",
       "  rendering on GitHub or <a href=\"https://nbviewer.jupyter.org/\">NBViewer</a>),\n",
       "  it may mean that your frontend doesn't currently support widgets.\n",
       "</p>\n"
      ],
      "text/plain": [
       "HBox(children=(IntProgress(value=0, max=988), HTML(value='')))"
      ]
     },
     "metadata": {},
     "output_type": "display_data"
    },
    {
     "name": "stdout",
     "output_type": "stream",
     "text": [
      "32012627\n",
      "66714007\n",
      "89946841\n",
      "72645347\n",
      "34831137\n",
      "87784309\n",
      "49085313\n",
      "103840663\n",
      "58621120\n",
      "59538671\n",
      "98696453\n",
      "71761162\n",
      "55737957\n",
      "72154848\n",
      "61636348\n",
      "65044350\n",
      "\n",
      "16\n"
     ]
    }
   ],
   "source": [
    "for i in range(6):\n",
    "    # Подгружаем батч\n",
    "    with open('batch' + str(i) + 'vk_group_posts_dirty_loises_v08-01-18', 'rb') as f:\n",
    "        loises = pickle.load(f)\n",
    "\n",
    "    req_info_1 = np.array(req_info[i*400000 :(i+1)*400000 ])\n",
    "    loises_1 = np.array(loises)\n",
    "\n",
    "    print(len(req_info_1))\n",
    "    print(len(loises_1))\n",
    "\n",
    "    i_error = 0\n",
    "\n",
    "    # Распаковываем этот батч\n",
    "    unpacked_loises = { }\n",
    "    for gr_id in tqdm_notebook(list(set([item[0] for item in req_info_1]))):\n",
    "        try:\n",
    "            unpacked_loises[gr_id] = group_unpack(gr_id, loises_1 = loises_1, req_info_1 = req_info_1)\n",
    "        except:\n",
    "            i_error += 1\n",
    "            print(gr_id)\n",
    "\n",
    "    print(i_error)\n",
    "\n",
    "    # Сохраняем резултат распаковки\n",
    "    with open('unpacked_batch' + str(i) + 'vk_group_posts_dirty_loises_v08-01-18', 'wb') as f:\n",
    "        pickle.dump(unpacked_loises, f)"
   ]
  },
  {
   "cell_type": "markdown",
   "metadata": {},
   "source": [
    "Мы ещё обязательно вернёмся к лайкам чуть позже, когда разберёмся с контентом, который распространяется группами. Чтобы понять какая тематика у контента, мы пустим в ход модели :3 Для того, чтобы всё сработало,данные, которые мы скачали из групп, надо будет немного предобработать.\n",
    "\n",
    "<img align=\"center\" src=\"https://raw.githubusercontent.com/FUlyankin/Parsers/master/images%20/cats.jpg\" height=\"1200\" width=\"1200\"> "
   ]
  }
 ],
 "metadata": {
  "kernelspec": {
   "display_name": "Python 3",
   "language": "python",
   "name": "python3"
  },
  "language_info": {
   "codemirror_mode": {
    "name": "ipython",
    "version": 3
   },
   "file_extension": ".py",
   "mimetype": "text/x-python",
   "name": "python",
   "nbconvert_exporter": "python",
   "pygments_lexer": "ipython3",
   "version": "3.6.3"
  }
 },
 "nbformat": 4,
 "nbformat_minor": 2
}
