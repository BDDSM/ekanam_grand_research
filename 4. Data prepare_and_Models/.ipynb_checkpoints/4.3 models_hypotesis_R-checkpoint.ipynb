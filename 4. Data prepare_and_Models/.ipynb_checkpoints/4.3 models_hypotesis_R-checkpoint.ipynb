{
 "cells": [
  {
   "cell_type": "markdown",
   "metadata": {},
   "source": [
    "<center>\n",
    "<img src=\"https://raw.githubusercontent.com/FUlyankin/ekenam_grand_research/master/images/cover.png\">\n",
    "</center>\n",
    "\n",
    "\n",
    "# <center> Иканам гранд рисёрч </center>\n",
    "## <center>  Часть седьмая: моделирование </center>\n",
    "\n",
    "\n",
    "Проект **Иканам гранд рисёрч** реализуется [Иканам стьюдентс коммьюнити,](https://vk.com/ikanam)\n",
    "в частности [вот этим парнем по имени Филипп.](https://vk.com/ppilif)  Если вы нашли ошибку или у вас есть предложения, замечания, деньги, слава или женщины, можно ему написать. Весь говнокод, использованный в исследовании распостраняется по лицензии [Creative Commons CC BY-NC-SA 4.0.](https://creativecommons.org/licenses/by-nc-sa/4.0/) Его можно использовать в любых целях (редактировать, поправлять и брать за основу), кроме коммерческих, но с обязательным упоминанием автора материала. При наличии технической возможности необходимо также указать активную гиперссылку на [страницу рисёрча.](https://github.com/FUlyankin/ekenam_grand_research) "
   ]
  },
  {
   "cell_type": "markdown",
   "metadata": {},
   "source": [
    "# 1. Отбор переменных через ~~постель~~ проверку гипотез\n",
    "\n",
    "Проведём селекцию переменных из уже знакомой нам таблички эконометрическими способами. Делать это мы будем не в python, а в R. Потому что R делался именно для таких вещей."
   ]
  },
  {
   "cell_type": "code",
   "execution_count": null,
   "metadata": {},
   "outputs": [],
   "source": [
    "library(\"dplyr\")\n",
    "library(\"ggplot2\")\n",
    "library(\"mlogit\")\n",
    "library('boot')\n",
    "library('pROC') \n",
    "\n",
    "options(stringsAsFactors=FALSE)\n",
    "\n",
    "df = read.csv('train_data_for_R.csv', sep = ';')\n",
    "new_df = read.csv('test_data_for_R.csv', sep = ';')\n",
    "print(dim(df))"
   ]
  },
  {
   "cell_type": "code",
   "execution_count": null,
   "metadata": {},
   "outputs": [],
   "source": [
    "head(df)"
   ]
  },
  {
   "cell_type": "markdown",
   "metadata": {},
   "source": [
    "Оцениваем логистическую регрессию! "
   ]
  },
  {
   "cell_type": "code",
   "execution_count": null,
   "metadata": {},
   "outputs": [],
   "source": [
    "m_logit$family"
   ]
  },
  {
   "cell_type": "code",
   "execution_count": null,
   "metadata": {
    "scrolled": false
   },
   "outputs": [],
   "source": [
    "m_logit <- glm(data = df, target_1~. ,family=binomial(link=\"logit\"))\n",
    "summary(m_logit)"
   ]
  },
  {
   "cell_type": "markdown",
   "metadata": {},
   "source": [
    "Отбираем только значимые на $10\\%$ уровне переменные. "
   ]
  },
  {
   "cell_type": "code",
   "execution_count": null,
   "metadata": {
    "scrolled": false
   },
   "outputs": [],
   "source": [
    "res = summary(m_logit)\n",
    "n = length(res$coefficients[,4])\n",
    "df = df[,c(res$coefficients[,4][2:n] < 0.1, TRUE)]\n",
    "dim(df)\n",
    "#head(df)\n",
    "\n",
    "m_logit_1 <- glm(data = df, target_1~. ,family=binomial(link=\"logit\"),x=TRUE)\n",
    "res_1 = summary(m_logit_1)\n",
    "lrtest(m_logit,m_logit_1)\n",
    "res_1"
   ]
  },
  {
   "cell_type": "code",
   "execution_count": null,
   "metadata": {},
   "outputs": [],
   "source": [
    "n = length(res_1$coefficients[,4])\n",
    "df = df[,c(res_1$coefficients[,4][2:n] < 0.1, TRUE)]\n",
    "dim(df)\n",
    "# head(df)\n",
    "\n",
    "m_logit_2 <- glm(data = df, target_1~., family=binomial(link=\"logit\"))\n",
    "res_2 = summary(m_logit_2)\n",
    "lrtest(m_logit_1,m_logit_2)\n",
    "res_2"
   ]
  },
  {
   "cell_type": "code",
   "execution_count": null,
   "metadata": {},
   "outputs": [],
   "source": [
    "n = length(res_2$coefficients[,4])\n",
    "df = df[,c(res_2$coefficients[,4][2:n] < 0.1, TRUE)]\n",
    "dim(df)\n",
    "#head(df)\n",
    "\n",
    "m_logit_3 <- glm(data = df, target_1~., family=binomial(link=\"logit\"))\n",
    "res_3 = summary(m_logit_3)\n",
    "lrtest(m_logit_2,m_logit_3)\n",
    "\n",
    "res_3"
   ]
  },
  {
   "cell_type": "code",
   "execution_count": null,
   "metadata": {},
   "outputs": [],
   "source": [
    "n = length(res_3$coefficients[,4])\n",
    "df = df[,c(res_3$coefficients[,4][2:n] < 0.1, TRUE)]\n",
    "dim(df)\n",
    "#head(df)\n",
    "\n",
    "m_logit_4 <- glm(data = df, target_1~., family=binomial(link=\"logit\"))\n",
    "res_4 = summary(m_logit_4)\n",
    "lrtest(m_logit_3,m_logit_4)\n",
    "\n",
    "res_4"
   ]
  },
  {
   "cell_type": "code",
   "execution_count": null,
   "metadata": {},
   "outputs": [],
   "source": [
    "pred_df = new_df[colnames(t(res_4$coefficients))[-1]]\n",
    "pred_prob = predict(m_logit_4, pred_df, se=TRUE)\n",
    "real_targets = new_df['target_1']"
   ]
  },
  {
   "cell_type": "code",
   "execution_count": null,
   "metadata": {},
   "outputs": [],
   "source": [
    "pred_df = data_frame(prob = plogis(pred_prob$fit),\n",
    "                     left_ci=plogis(pred_prob$fit-1.96*pred_prob$se.fit),\n",
    "                     right_ci=plogis(pred_prob$fit+1.96*pred_prob$se.fit))\n",
    "head(pred_df)\n",
    "\n",
    "t = data.frame(prob = pred_prob$fit, target = real_targets)\n",
    "roc.data <- roc(t$target,t$prob)\n",
    "roc.data$auc\n",
    "\n",
    "ric_auc_score <- function(x,y){\n",
    "    roc.data <- roc(x,y)\n",
    "    return(roc.data$auc)\n",
    "}\n",
    "\n",
    "kfCV <- cv.glm(data=df, glmfit=m_logit_4, K=5, cost = ric_auc_score)\n",
    "kfCV$delta"
   ]
  }
 ],
 "metadata": {
  "kernelspec": {
   "display_name": "R",
   "language": "R",
   "name": "ir"
  },
  "language_info": {
   "codemirror_mode": "r",
   "file_extension": ".r",
   "mimetype": "text/x-r-source",
   "name": "R",
   "pygments_lexer": "r",
   "version": "3.4.2"
  }
 },
 "nbformat": 4,
 "nbformat_minor": 2
}
