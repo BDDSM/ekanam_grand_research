{
 "cells": [
  {
   "cell_type": "markdown",
   "metadata": {},
   "source": [
    "<center>\n",
    "<img src=\"https://raw.githubusercontent.com/FUlyankin/ekenam_grand_research/master/images/cover.png\">\n",
    "</center>\n",
    "\n",
    "\n",
    "# <center> Иканам гранд рисёрч </center>\n",
    "## <center>  Часть пятая: предобработка данных </center>\n",
    "\n",
    "\n",
    "Проект **Иканам гранд рисёрч** реализуется [Иканам стьюдентс коммьюнити,](https://vk.com/ikanam)\n",
    "в частности [вот этим парнем по имени Филипп.](https://vk.com/ppilif)  Если вы нашли ошибку или у вас есть предложения, замечания, деньги, слава или женщины, можно ему написать. Весь говнокод, использованный в исследовании распостраняется по лицензии [Creative Commons CC BY-NC-SA 4.0.](https://creativecommons.org/licenses/by-nc-sa/4.0/) Его можно использовать в любых целях (редактировать, поправлять и брать за основу), кроме коммерческих, но с обязательным упоминанием автора материала. При наличии технической возможности необходимо также указать активную гиперссылку на [страницу рисёрча.](https://github.com/FUlyankin/ekenam_grand_research) "
   ]
  },
  {
   "cell_type": "code",
   "execution_count": 1,
   "metadata": {},
   "outputs": [],
   "source": [
    "import warnings     # Игнорирование варнингов\n",
    "warnings.filterwarnings(\"ignore\")  "
   ]
  },
  {
   "cell_type": "code",
   "execution_count": 2,
   "metadata": {},
   "outputs": [],
   "source": [
    "import numpy as np     # Нумпай для векторов \n",
    "import pandas as pd    # Пандас для табличек \n",
    "# Округлять в табличках значения до второго знака\n",
    "pd.set_option('precision', 2)           \n",
    "\n",
    "# Пакеты для графииков\n",
    "import matplotlib.pyplot as plt                             \n",
    "import seaborn as sns\n",
    "plt.style.use('ggplot')   # Правильный стиль графиков   \n",
    "\n",
    "# Пакет для красивых циклов. При желании его можно отключить. Тогда из всех циклов придётся \n",
    "# удалять команду tqdm_notebook.\n",
    "from tqdm import tqdm_notebook   # подробнее: https://github.com/tqdm/tqdm"
   ]
  },
  {
   "cell_type": "code",
   "execution_count": 3,
   "metadata": {},
   "outputs": [],
   "source": [
    "%matplotlib inline  "
   ]
  },
  {
   "cell_type": "markdown",
   "metadata": {},
   "source": [
    "И для начала несколько определений. **Фича** - регрессор, признак, объясняющая переменная, на которую мы можем посмотреть. **Таргет** - объясняемая переменная, переменная, которую нужно спрогнозировать. **Варить фичи** - создавать из грязного массива данных годные числовые переменные, которые можно запихнуть в модель. В дальнейшем тетрадка будет устроена следующим образом:\n",
    "\n",
    "* Раздел с варкой фичей по табличке \n",
    "    - Подраздел с варкой фичей \n",
    "    - Подраздел с проверкой гипотез и вузуализацией \n",
    "\n",
    "Ясное дело, что для каждой таблички будет свой собственный раздел. "
   ]
  },
  {
   "cell_type": "markdown",
   "metadata": {},
   "source": [
    "# 1. Агрегируем данные асессоров и варим таргеты \n",
    "\n",
    "\n",
    "В нашем распоряжении есть довольно много табличек с разным содержимым. Всё это содержимое надо как следует переварить. Начнём мы процесс переваривания с коллекции табличек под названием  `Total_razm`. \n",
    "\n",
    "`Total_razm` это набор из 6 табличек по данным о наборах с 2012 по 2017 год. Внутри находятся данные о ЕГЭ, условиях поступления, отметка на каком курсе учится человек, а также с какого курса его отчислили. Кроме того, проставлены две субъективные переменные, отражающие степень того как часто человек ходит на пары и как часто зажигает на вечеринках. Напомню, что каждую разметку проставляли независимо друг от друга несколько разных групп людей. Отдельно отметим, что данные по людям, взятым на учёбу в 2017 году, мы будем использовать для прогнозирования отчислений. \n",
    "\n",
    "## 1.1 Варим табличку\n",
    "\n",
    "Подгружаем всё это добро в нашу тетрадку. "
   ]
  },
  {
   "cell_type": "code",
   "execution_count": 4,
   "metadata": {},
   "outputs": [],
   "source": [
    "# файлы, в которых лежат id и другие размеченые данные называются Total_20XX \n",
    "# Заведем вектор со всеми годами, которые есть у нас в распоряжении\n",
    "file_names = ['2012','2013','2014','2015','2016','2017']\n",
    "tables = [ ] # Вектор, куда мы будем записывать все уиды  (user id)\n",
    "\n",
    "# Проходимся по всем файлам и подгружаем их\n",
    "for file in file_names: \n",
    "    cur_df = pd.read_excel('../Total_razmetka/Total_' + file + '.xlsx') # В этой папке файлы...\n",
    "    tables.append(cur_df)"
   ]
  },
  {
   "cell_type": "markdown",
   "metadata": {},
   "source": [
    "Посмотрим на одну из табличек. "
   ]
  },
  {
   "cell_type": "code",
   "execution_count": 5,
   "metadata": {},
   "outputs": [
    {
     "data": {
      "text/html": [
       "<div>\n",
       "<style scoped>\n",
       "    .dataframe tbody tr th:only-of-type {\n",
       "        vertical-align: middle;\n",
       "    }\n",
       "\n",
       "    .dataframe tbody tr th {\n",
       "        vertical-align: top;\n",
       "    }\n",
       "\n",
       "    .dataframe thead th {\n",
       "        text-align: right;\n",
       "    }\n",
       "</style>\n",
       "<table border=\"1\" class=\"dataframe\">\n",
       "  <thead>\n",
       "    <tr style=\"text-align: right;\">\n",
       "      <th></th>\n",
       "      <th>firstname</th>\n",
       "      <th>lastname</th>\n",
       "      <th>kurs_misha</th>\n",
       "      <th>kurs_ahmed</th>\n",
       "      <th>kurs_vova</th>\n",
       "      <th>Leto-zima_misha</th>\n",
       "      <th>Leto-zima_ahmed</th>\n",
       "      <th>Leto-zima_vova</th>\n",
       "      <th>Akadem_misha</th>\n",
       "      <th>Akadem_ahmed</th>\n",
       "      <th>...</th>\n",
       "      <th>tusovka_vova</th>\n",
       "      <th>EGE</th>\n",
       "      <th>dogovor</th>\n",
       "      <th>Ochko-zaochka</th>\n",
       "      <th>olimp</th>\n",
       "      <th>chelevoe</th>\n",
       "      <th>lgota</th>\n",
       "      <th>prohodnoy</th>\n",
       "      <th>year</th>\n",
       "      <th>uids</th>\n",
       "    </tr>\n",
       "  </thead>\n",
       "  <tbody>\n",
       "    <tr>\n",
       "      <th>0</th>\n",
       "      <td>Гильдин</td>\n",
       "      <td>Марк</td>\n",
       "      <td>1</td>\n",
       "      <td>1.0</td>\n",
       "      <td>1.0</td>\n",
       "      <td>leto</td>\n",
       "      <td>NaN</td>\n",
       "      <td>leto</td>\n",
       "      <td>NaN</td>\n",
       "      <td>NaN</td>\n",
       "      <td>...</td>\n",
       "      <td>1.0</td>\n",
       "      <td>307</td>\n",
       "      <td>0</td>\n",
       "      <td>0</td>\n",
       "      <td>1</td>\n",
       "      <td>0</td>\n",
       "      <td>0</td>\n",
       "      <td>253</td>\n",
       "      <td>2015</td>\n",
       "      <td>1.20e+08</td>\n",
       "    </tr>\n",
       "    <tr>\n",
       "      <th>1</th>\n",
       "      <td>Гуров</td>\n",
       "      <td>Дмитрий</td>\n",
       "      <td>3</td>\n",
       "      <td>3.0</td>\n",
       "      <td>3.0</td>\n",
       "      <td>NaN</td>\n",
       "      <td>NaN</td>\n",
       "      <td>NaN</td>\n",
       "      <td>NaN</td>\n",
       "      <td>NaN</td>\n",
       "      <td>...</td>\n",
       "      <td>3.0</td>\n",
       "      <td>238</td>\n",
       "      <td>0</td>\n",
       "      <td>0</td>\n",
       "      <td>1</td>\n",
       "      <td>0</td>\n",
       "      <td>0</td>\n",
       "      <td>253</td>\n",
       "      <td>2015</td>\n",
       "      <td>8.53e+07</td>\n",
       "    </tr>\n",
       "    <tr>\n",
       "      <th>2</th>\n",
       "      <td>Касьянова</td>\n",
       "      <td>Ксения</td>\n",
       "      <td>3</td>\n",
       "      <td>3.0</td>\n",
       "      <td>3.0</td>\n",
       "      <td>NaN</td>\n",
       "      <td>NaN</td>\n",
       "      <td>NaN</td>\n",
       "      <td>NaN</td>\n",
       "      <td>NaN</td>\n",
       "      <td>...</td>\n",
       "      <td>2.0</td>\n",
       "      <td>269</td>\n",
       "      <td>0</td>\n",
       "      <td>0</td>\n",
       "      <td>1</td>\n",
       "      <td>0</td>\n",
       "      <td>0</td>\n",
       "      <td>253</td>\n",
       "      <td>2015</td>\n",
       "      <td>3.77e+07</td>\n",
       "    </tr>\n",
       "    <tr>\n",
       "      <th>3</th>\n",
       "      <td>Митдзиев</td>\n",
       "      <td>Азамат</td>\n",
       "      <td>1</td>\n",
       "      <td>1.0</td>\n",
       "      <td>NaN</td>\n",
       "      <td>zima</td>\n",
       "      <td>zima</td>\n",
       "      <td>NaN</td>\n",
       "      <td>NaN</td>\n",
       "      <td>NaN</td>\n",
       "      <td>...</td>\n",
       "      <td>NaN</td>\n",
       "      <td>254</td>\n",
       "      <td>0</td>\n",
       "      <td>0</td>\n",
       "      <td>0</td>\n",
       "      <td>1</td>\n",
       "      <td>0</td>\n",
       "      <td>253</td>\n",
       "      <td>2015</td>\n",
       "      <td>1.40e+08</td>\n",
       "    </tr>\n",
       "    <tr>\n",
       "      <th>4</th>\n",
       "      <td>Цгоева</td>\n",
       "      <td>Милана</td>\n",
       "      <td>3</td>\n",
       "      <td>3.0</td>\n",
       "      <td>3.0</td>\n",
       "      <td>NaN</td>\n",
       "      <td>NaN</td>\n",
       "      <td>NaN</td>\n",
       "      <td>NaN</td>\n",
       "      <td>NaN</td>\n",
       "      <td>...</td>\n",
       "      <td>1.0</td>\n",
       "      <td>247</td>\n",
       "      <td>0</td>\n",
       "      <td>0</td>\n",
       "      <td>0</td>\n",
       "      <td>1</td>\n",
       "      <td>0</td>\n",
       "      <td>253</td>\n",
       "      <td>2015</td>\n",
       "      <td>8.66e+07</td>\n",
       "    </tr>\n",
       "  </tbody>\n",
       "</table>\n",
       "<p>5 rows × 26 columns</p>\n",
       "</div>"
      ],
      "text/plain": [
       "   firstname lastname  kurs_misha  kurs_ahmed  kurs_vova Leto-zima_misha  \\\n",
       "0    Гильдин     Марк           1         1.0        1.0            leto   \n",
       "1      Гуров  Дмитрий           3         3.0        3.0             NaN   \n",
       "2  Касьянова   Ксения           3         3.0        3.0             NaN   \n",
       "3   Митдзиев   Азамат           1         1.0        NaN            zima   \n",
       "4     Цгоева   Милана           3         3.0        3.0             NaN   \n",
       "\n",
       "  Leto-zima_ahmed Leto-zima_vova  Akadem_misha  Akadem_ahmed    ...     \\\n",
       "0             NaN           leto           NaN           NaN    ...      \n",
       "1             NaN            NaN           NaN           NaN    ...      \n",
       "2             NaN            NaN           NaN           NaN    ...      \n",
       "3            zima            NaN           NaN           NaN    ...      \n",
       "4             NaN            NaN           NaN           NaN    ...      \n",
       "\n",
       "   tusovka_vova  EGE  dogovor  Ochko-zaochka  olimp  chelevoe  lgota  \\\n",
       "0           1.0  307        0              0      1         0      0   \n",
       "1           3.0  238        0              0      1         0      0   \n",
       "2           2.0  269        0              0      1         0      0   \n",
       "3           NaN  254        0              0      0         1      0   \n",
       "4           1.0  247        0              0      0         1      0   \n",
       "\n",
       "   prohodnoy  year      uids  \n",
       "0        253  2015  1.20e+08  \n",
       "1        253  2015  8.53e+07  \n",
       "2        253  2015  3.77e+07  \n",
       "3        253  2015  1.40e+08  \n",
       "4        253  2015  8.66e+07  \n",
       "\n",
       "[5 rows x 26 columns]"
      ]
     },
     "execution_count": 5,
     "metadata": {},
     "output_type": "execute_result"
    }
   ],
   "source": [
    "tables[3].head()"
   ]
  },
  {
   "cell_type": "code",
   "execution_count": 6,
   "metadata": {},
   "outputs": [
    {
     "data": {
      "text/plain": [
       "Index(['firstname', 'lastname', 'kurs_misha', 'kurs_ahmed', 'kurs_vova',\n",
       "       'Leto-zima_misha', 'Leto-zima_ahmed', 'Leto-zima_vova', 'Akadem_misha',\n",
       "       'Akadem_ahmed', 'Akadem_vova', 'hodit_para_misha', 'hodit_para_ahmed',\n",
       "       'hodit_para_vova', 'tusovka_misha', 'tusovka_ahmed', 'tusovka_vova',\n",
       "       'EGE', 'dogovor', 'Ochko-zaochka', 'olimp', 'chelevoe', 'lgota',\n",
       "       'prohodnoy', 'year', 'uids'],\n",
       "      dtype='object')"
      ]
     },
     "execution_count": 6,
     "metadata": {},
     "output_type": "execute_result"
    }
   ],
   "source": [
    "tables[3].columns"
   ]
  },
  {
   "cell_type": "markdown",
   "metadata": {},
   "source": [
    "Отлично! Берём нашу табличку и руководствуясь мудростью толпы начинаем усреднять ответы асессоров. Где-то мы будем брать медиану, где-то среднее. "
   ]
  },
  {
   "cell_type": "code",
   "execution_count": 7,
   "metadata": {
    "scrolled": false
   },
   "outputs": [],
   "source": [
    "def table_creator(ddf):\n",
    "    df = ddf.copy()\n",
    "    ok_col = ['uids', 'firstname', 'lastname', 'year', 'EGE', 'prohodnoy',\n",
    "     'lgota', 'chelevoe', 'olimp', 'dogovor']\n",
    "\n",
    "    dff = df[ok_col]\n",
    "    if 'Ochko-zaochka' in df.columns:\n",
    "        dff['ochko-zaochka'] = df['Ochko-zaochka']\n",
    "    else:\n",
    "        dff['ochko-zaochka'] = [0]*df.shape[0]\n",
    "\n",
    "    df.drop(ok_col, axis = 1, inplace=True)\n",
    "    \n",
    "    # Заполняем колонку курс медианой. \n",
    "    dff['kurs'] = np.nanmedian(df[[name for name in \\\n",
    "                            df.columns if name[:5] == 'kurs_']].get_values(), axis=1).astype(int)\n",
    "\n",
    "    # Заполняем колонку из сессий, будем выбирать максимальную из предложенных оценок\n",
    "    seazon = df[[name for name in df.columns if name[:5] == 'Leto-']].fillna(0)\\\n",
    "                                 .replace({'leto':1,'zima':2}).max(axis=1)\n",
    "        \n",
    "    dff['zima'] = [1 if z == 2 else 0 for z in seazon]\n",
    "    dff['leto'] = [1 if z == 1 else 0 for z in seazon]\n",
    "\n",
    "    # Если хотя бы раз пацаны подумали, что человек пытался вернуться (академ или восстановление), \n",
    "    # то поставим единичку \n",
    "    ak = df[[name for name in df.columns if name[:5] == 'Akade']].fillna(0).sum(axis=1)\n",
    "    dff['akadem'] = [int(item > 0) for item in ak] \n",
    "\n",
    "    # Оценку хождения на пары и на тусовки усредним\n",
    "    dff['hodit_para'] = np.nanmean(df[[name for name in df.columns if name[:5] == 'hodit']],axis=1)\n",
    "\n",
    "    # Я тупанул и попросил часть людей ставить оценку по 3-бальной шкале, \n",
    "    # часть людей я попросил ставить оценку по 5-бальной шкале\n",
    "    maxes = np.nanmax(df[[name for name in df.columns if name[:5] == 'tusov']],axis=0)\n",
    "    # Поэтому сначала перенормируем, потом усредним\n",
    "    dff['hodit_tusa'] = np.nanmean(df[[name for name in df.columns if name[:5] == 'tusov']]\\\n",
    "                                     .ix[:,maxes == 3]*5/3, axis=1)\n",
    "    return dff"
   ]
  },
  {
   "cell_type": "code",
   "execution_count": 8,
   "metadata": {},
   "outputs": [
    {
     "data": {
      "text/html": [
       "<div>\n",
       "<style scoped>\n",
       "    .dataframe tbody tr th:only-of-type {\n",
       "        vertical-align: middle;\n",
       "    }\n",
       "\n",
       "    .dataframe tbody tr th {\n",
       "        vertical-align: top;\n",
       "    }\n",
       "\n",
       "    .dataframe thead th {\n",
       "        text-align: right;\n",
       "    }\n",
       "</style>\n",
       "<table border=\"1\" class=\"dataframe\">\n",
       "  <thead>\n",
       "    <tr style=\"text-align: right;\">\n",
       "      <th></th>\n",
       "      <th>uids</th>\n",
       "      <th>firstname</th>\n",
       "      <th>lastname</th>\n",
       "      <th>year</th>\n",
       "      <th>EGE</th>\n",
       "      <th>prohodnoy</th>\n",
       "      <th>lgota</th>\n",
       "      <th>chelevoe</th>\n",
       "      <th>olimp</th>\n",
       "      <th>dogovor</th>\n",
       "      <th>ochko-zaochka</th>\n",
       "      <th>kurs</th>\n",
       "      <th>zima</th>\n",
       "      <th>leto</th>\n",
       "      <th>akadem</th>\n",
       "      <th>hodit_para</th>\n",
       "      <th>hodit_tusa</th>\n",
       "    </tr>\n",
       "  </thead>\n",
       "  <tbody>\n",
       "    <tr>\n",
       "      <th>0</th>\n",
       "      <td>1.18e+07</td>\n",
       "      <td>Данильченко</td>\n",
       "      <td>Леонид</td>\n",
       "      <td>2012</td>\n",
       "      <td>203</td>\n",
       "      <td>247</td>\n",
       "      <td>0</td>\n",
       "      <td>0</td>\n",
       "      <td>1</td>\n",
       "      <td>0</td>\n",
       "      <td>0</td>\n",
       "      <td>5</td>\n",
       "      <td>0</td>\n",
       "      <td>0</td>\n",
       "      <td>0</td>\n",
       "      <td>2.67</td>\n",
       "      <td>3.33</td>\n",
       "    </tr>\n",
       "    <tr>\n",
       "      <th>1</th>\n",
       "      <td>2.03e+07</td>\n",
       "      <td>Лисовская</td>\n",
       "      <td>Людмила</td>\n",
       "      <td>2012</td>\n",
       "      <td>255</td>\n",
       "      <td>247</td>\n",
       "      <td>0</td>\n",
       "      <td>0</td>\n",
       "      <td>1</td>\n",
       "      <td>0</td>\n",
       "      <td>0</td>\n",
       "      <td>5</td>\n",
       "      <td>0</td>\n",
       "      <td>0</td>\n",
       "      <td>0</td>\n",
       "      <td>3.67</td>\n",
       "      <td>3.33</td>\n",
       "    </tr>\n",
       "    <tr>\n",
       "      <th>2</th>\n",
       "      <td>1.55e+08</td>\n",
       "      <td>Кочеткова</td>\n",
       "      <td>Полина</td>\n",
       "      <td>2012</td>\n",
       "      <td>249</td>\n",
       "      <td>247</td>\n",
       "      <td>0</td>\n",
       "      <td>0</td>\n",
       "      <td>1</td>\n",
       "      <td>0</td>\n",
       "      <td>0</td>\n",
       "      <td>5</td>\n",
       "      <td>0</td>\n",
       "      <td>0</td>\n",
       "      <td>0</td>\n",
       "      <td>3.67</td>\n",
       "      <td>3.33</td>\n",
       "    </tr>\n",
       "    <tr>\n",
       "      <th>3</th>\n",
       "      <td>1.35e+08</td>\n",
       "      <td>Канаева</td>\n",
       "      <td>Дельгир</td>\n",
       "      <td>2012</td>\n",
       "      <td>242</td>\n",
       "      <td>247</td>\n",
       "      <td>1</td>\n",
       "      <td>0</td>\n",
       "      <td>0</td>\n",
       "      <td>0</td>\n",
       "      <td>0</td>\n",
       "      <td>1</td>\n",
       "      <td>0</td>\n",
       "      <td>1</td>\n",
       "      <td>0</td>\n",
       "      <td>3.33</td>\n",
       "      <td>1.67</td>\n",
       "    </tr>\n",
       "    <tr>\n",
       "      <th>4</th>\n",
       "      <td>1.04e+08</td>\n",
       "      <td>Климова</td>\n",
       "      <td>Екатерина</td>\n",
       "      <td>2012</td>\n",
       "      <td>203</td>\n",
       "      <td>247</td>\n",
       "      <td>1</td>\n",
       "      <td>0</td>\n",
       "      <td>0</td>\n",
       "      <td>0</td>\n",
       "      <td>0</td>\n",
       "      <td>2</td>\n",
       "      <td>1</td>\n",
       "      <td>0</td>\n",
       "      <td>1</td>\n",
       "      <td>3.67</td>\n",
       "      <td>1.67</td>\n",
       "    </tr>\n",
       "  </tbody>\n",
       "</table>\n",
       "</div>"
      ],
      "text/plain": [
       "       uids    firstname   lastname  year  EGE  prohodnoy  lgota  chelevoe  \\\n",
       "0  1.18e+07  Данильченко     Леонид  2012  203        247      0         0   \n",
       "1  2.03e+07    Лисовская    Людмила  2012  255        247      0         0   \n",
       "2  1.55e+08    Кочеткова     Полина  2012  249        247      0         0   \n",
       "3  1.35e+08      Канаева    Дельгир  2012  242        247      1         0   \n",
       "4  1.04e+08      Климова  Екатерина  2012  203        247      1         0   \n",
       "\n",
       "   olimp  dogovor  ochko-zaochka  kurs  zima  leto  akadem  hodit_para  \\\n",
       "0      1        0              0     5     0     0       0        2.67   \n",
       "1      1        0              0     5     0     0       0        3.67   \n",
       "2      1        0              0     5     0     0       0        3.67   \n",
       "3      0        0              0     1     0     1       0        3.33   \n",
       "4      0        0              0     2     1     0       1        3.67   \n",
       "\n",
       "   hodit_tusa  \n",
       "0        3.33  \n",
       "1        3.33  \n",
       "2        3.33  \n",
       "3        1.67  \n",
       "4        1.67  "
      ]
     },
     "execution_count": 8,
     "metadata": {},
     "output_type": "execute_result"
    }
   ],
   "source": [
    "test_df = table_creator(tables[0])\n",
    "test_df.head()"
   ]
  },
  {
   "cell_type": "code",
   "execution_count": 9,
   "metadata": {
    "scrolled": false
   },
   "outputs": [
    {
     "name": "stdout",
     "output_type": "stream",
     "text": [
      "(460, 17)\n"
     ]
    },
    {
     "data": {
      "text/html": [
       "<div>\n",
       "<style scoped>\n",
       "    .dataframe tbody tr th:only-of-type {\n",
       "        vertical-align: middle;\n",
       "    }\n",
       "\n",
       "    .dataframe tbody tr th {\n",
       "        vertical-align: top;\n",
       "    }\n",
       "\n",
       "    .dataframe thead th {\n",
       "        text-align: right;\n",
       "    }\n",
       "</style>\n",
       "<table border=\"1\" class=\"dataframe\">\n",
       "  <thead>\n",
       "    <tr style=\"text-align: right;\">\n",
       "      <th></th>\n",
       "      <th>uids</th>\n",
       "      <th>firstname</th>\n",
       "      <th>lastname</th>\n",
       "      <th>year</th>\n",
       "      <th>EGE</th>\n",
       "      <th>prohodnoy</th>\n",
       "      <th>lgota</th>\n",
       "      <th>chelevoe</th>\n",
       "      <th>olimp</th>\n",
       "      <th>dogovor</th>\n",
       "      <th>ochko-zaochka</th>\n",
       "      <th>kurs</th>\n",
       "      <th>zima</th>\n",
       "      <th>leto</th>\n",
       "      <th>akadem</th>\n",
       "      <th>hodit_para</th>\n",
       "      <th>hodit_tusa</th>\n",
       "    </tr>\n",
       "  </thead>\n",
       "  <tbody>\n",
       "    <tr>\n",
       "      <th>0</th>\n",
       "      <td>1.18e+07</td>\n",
       "      <td>Данильченко</td>\n",
       "      <td>Леонид</td>\n",
       "      <td>2012</td>\n",
       "      <td>203.0</td>\n",
       "      <td>247</td>\n",
       "      <td>0</td>\n",
       "      <td>0.0</td>\n",
       "      <td>1</td>\n",
       "      <td>0</td>\n",
       "      <td>0</td>\n",
       "      <td>5.0</td>\n",
       "      <td>0</td>\n",
       "      <td>0</td>\n",
       "      <td>0</td>\n",
       "      <td>2.67</td>\n",
       "      <td>3.33</td>\n",
       "    </tr>\n",
       "    <tr>\n",
       "      <th>1</th>\n",
       "      <td>2.03e+07</td>\n",
       "      <td>Лисовская</td>\n",
       "      <td>Людмила</td>\n",
       "      <td>2012</td>\n",
       "      <td>255.0</td>\n",
       "      <td>247</td>\n",
       "      <td>0</td>\n",
       "      <td>0.0</td>\n",
       "      <td>1</td>\n",
       "      <td>0</td>\n",
       "      <td>0</td>\n",
       "      <td>5.0</td>\n",
       "      <td>0</td>\n",
       "      <td>0</td>\n",
       "      <td>0</td>\n",
       "      <td>3.67</td>\n",
       "      <td>3.33</td>\n",
       "    </tr>\n",
       "    <tr>\n",
       "      <th>2</th>\n",
       "      <td>1.55e+08</td>\n",
       "      <td>Кочеткова</td>\n",
       "      <td>Полина</td>\n",
       "      <td>2012</td>\n",
       "      <td>249.0</td>\n",
       "      <td>247</td>\n",
       "      <td>0</td>\n",
       "      <td>0.0</td>\n",
       "      <td>1</td>\n",
       "      <td>0</td>\n",
       "      <td>0</td>\n",
       "      <td>5.0</td>\n",
       "      <td>0</td>\n",
       "      <td>0</td>\n",
       "      <td>0</td>\n",
       "      <td>3.67</td>\n",
       "      <td>3.33</td>\n",
       "    </tr>\n",
       "    <tr>\n",
       "      <th>3</th>\n",
       "      <td>1.35e+08</td>\n",
       "      <td>Канаева</td>\n",
       "      <td>Дельгир</td>\n",
       "      <td>2012</td>\n",
       "      <td>242.0</td>\n",
       "      <td>247</td>\n",
       "      <td>1</td>\n",
       "      <td>0.0</td>\n",
       "      <td>0</td>\n",
       "      <td>0</td>\n",
       "      <td>0</td>\n",
       "      <td>1.0</td>\n",
       "      <td>0</td>\n",
       "      <td>1</td>\n",
       "      <td>0</td>\n",
       "      <td>3.33</td>\n",
       "      <td>1.67</td>\n",
       "    </tr>\n",
       "    <tr>\n",
       "      <th>4</th>\n",
       "      <td>1.04e+08</td>\n",
       "      <td>Климова</td>\n",
       "      <td>Екатерина</td>\n",
       "      <td>2012</td>\n",
       "      <td>203.0</td>\n",
       "      <td>247</td>\n",
       "      <td>1</td>\n",
       "      <td>0.0</td>\n",
       "      <td>0</td>\n",
       "      <td>0</td>\n",
       "      <td>0</td>\n",
       "      <td>2.0</td>\n",
       "      <td>1</td>\n",
       "      <td>0</td>\n",
       "      <td>1</td>\n",
       "      <td>3.67</td>\n",
       "      <td>1.67</td>\n",
       "    </tr>\n",
       "  </tbody>\n",
       "</table>\n",
       "</div>"
      ],
      "text/plain": [
       "       uids    firstname   lastname  year    EGE  prohodnoy  lgota  chelevoe  \\\n",
       "0  1.18e+07  Данильченко     Леонид  2012  203.0        247      0       0.0   \n",
       "1  2.03e+07    Лисовская    Людмила  2012  255.0        247      0       0.0   \n",
       "2  1.55e+08    Кочеткова     Полина  2012  249.0        247      0       0.0   \n",
       "3  1.35e+08      Канаева    Дельгир  2012  242.0        247      1       0.0   \n",
       "4  1.04e+08      Климова  Екатерина  2012  203.0        247      1       0.0   \n",
       "\n",
       "   olimp  dogovor  ochko-zaochka  kurs  zima  leto  akadem  hodit_para  \\\n",
       "0      1        0              0   5.0     0     0       0        2.67   \n",
       "1      1        0              0   5.0     0     0       0        3.67   \n",
       "2      1        0              0   5.0     0     0       0        3.67   \n",
       "3      0        0              0   1.0     0     1       0        3.33   \n",
       "4      0        0              0   2.0     1     0       1        3.67   \n",
       "\n",
       "   hodit_tusa  \n",
       "0        3.33  \n",
       "1        3.33  \n",
       "2        3.33  \n",
       "3        1.67  \n",
       "4        1.67  "
      ]
     },
     "execution_count": 9,
     "metadata": {},
     "output_type": "execute_result"
    }
   ],
   "source": [
    "total_df = table_creator(tables[0])\n",
    "\n",
    "for tbl in tables[1:]:\n",
    "    total_df = total_df.append(table_creator(tbl))\n",
    "\n",
    "# Заполняем новый, 2017 год нанами.\n",
    "total_df.ix[total_df.year == 2017,'kurs'] = None\n",
    "\n",
    "print(total_df.shape)\n",
    "total_df.head()"
   ]
  },
  {
   "cell_type": "markdown",
   "metadata": {},
   "source": [
    "Посмотрим на размеры таблички и количество пропусков. "
   ]
  },
  {
   "cell_type": "code",
   "execution_count": 10,
   "metadata": {},
   "outputs": [
    {
     "name": "stdout",
     "output_type": "stream",
     "text": [
      "(460, 17)\n"
     ]
    },
    {
     "data": {
      "text/plain": [
       "uids              22\n",
       "firstname          0\n",
       "lastname           0\n",
       "year               0\n",
       "EGE                8\n",
       "prohodnoy          0\n",
       "lgota              0\n",
       "chelevoe          83\n",
       "olimp              0\n",
       "dogovor            0\n",
       "ochko-zaochka      0\n",
       "kurs              79\n",
       "zima               0\n",
       "leto               0\n",
       "akadem             0\n",
       "hodit_para        44\n",
       "hodit_tusa       107\n",
       "dtype: int64"
      ]
     },
     "execution_count": 10,
     "metadata": {},
     "output_type": "execute_result"
    }
   ],
   "source": [
    "print(total_df.shape)\n",
    "total_df.isnull().sum()"
   ]
  },
  {
   "cell_type": "markdown",
   "metadata": {},
   "source": [
    "Доводим нашу таблицу до ума. \n",
    "\n",
    "* Каждый год разный проходной балл. Построим переменную, которая будет выглядть как балл - проходной балл\n",
    "* Введём дамми-переменную с незамысловатым наименованием `kozko` (поймут не все)\n",
    "* Построим несколько таргетов `target_i = 1`, если человек закончил курс i, при условии что он закончил предыдущие"
   ]
  },
  {
   "cell_type": "code",
   "execution_count": 11,
   "metadata": {},
   "outputs": [],
   "source": [
    "# Строим переменные \n",
    "total_df.dropna(subset=['EGE'], inplace=True)\n",
    "total_df['ege_diff'] = total_df['EGE'] - total_df['prohodnoy']\n",
    "total_df['kozko'] = (total_df.year == 2013)|(total_df.year == 2015)|(total_df.year == 2017)\n",
    "total_df['kozko'] = total_df['kozko'].astype(int)\n",
    "\n",
    "# Строим таргеты \n",
    "# человек закончил 1 курс \n",
    "# 1 - закончил 1 курс, 0 - нет, na - неизвестно\n",
    "total_df['target_1'] = 1*(total_df.kurs > 1).astype(int)\n",
    "total_df.ix[total_df.year == 2017,'target_1'] = None\n",
    "\n",
    "# человек закончил 2 курс, при условии, что он закончил 1 \n",
    "# 1 - закончил 2 курс, при условии что закончил 1, 0 - нет, na - неизвестно\n",
    "# na - не поступил на 2 курс, чтобы его закончить... \n",
    "total_df['target_2'] = 1*((total_df.target_1 == 1)&(total_df.kurs > 2)).astype(int)\n",
    "total_df.ix[(total_df.year > 2015)|(total_df.target_1 == 0), 'target_2'] = None\n",
    "\n",
    "# человек закончил 3 курс, при условии, что он закончил 2\n",
    "# 1 - закончил 3 курс, при условии что закончил 2, 0 - нет, na - неизвестно\n",
    "total_df['target_3'] = 1*((total_df.target_2 == 1)&(total_df.kurs > 3))\n",
    "total_df.ix[(total_df.year > 2014)|(total_df.target_2 == 0)|(total_df.target_1 == 0), 'target_3'] = None\n",
    "\n",
    "# человек закончил 4 курс, при условии, что он закончил 3\n",
    "# 1 - закончил 4 курс, при условии что закончил 3, 0 - нет, na - неизвестно\n",
    "total_df['target_4'] = 1*((total_df.target_3 == 1)&(total_df.kurs > 4)).astype(int)\n",
    "total_df.ix[(total_df.year > 2013)|\\\n",
    "         (total_df.target_3 == 0)|(total_df.target_2 == 0)|(total_df.target_1 == 0),'target_4'] = None\n"
   ]
  },
  {
   "cell_type": "code",
   "execution_count": 12,
   "metadata": {},
   "outputs": [
    {
     "data": {
      "text/html": [
       "<div>\n",
       "<style scoped>\n",
       "    .dataframe tbody tr th:only-of-type {\n",
       "        vertical-align: middle;\n",
       "    }\n",
       "\n",
       "    .dataframe tbody tr th {\n",
       "        vertical-align: top;\n",
       "    }\n",
       "\n",
       "    .dataframe thead th {\n",
       "        text-align: right;\n",
       "    }\n",
       "</style>\n",
       "<table border=\"1\" class=\"dataframe\">\n",
       "  <thead>\n",
       "    <tr style=\"text-align: right;\">\n",
       "      <th></th>\n",
       "      <th>uids</th>\n",
       "      <th>firstname</th>\n",
       "      <th>lastname</th>\n",
       "      <th>year</th>\n",
       "      <th>EGE</th>\n",
       "      <th>prohodnoy</th>\n",
       "      <th>lgota</th>\n",
       "      <th>chelevoe</th>\n",
       "      <th>olimp</th>\n",
       "      <th>dogovor</th>\n",
       "      <th>...</th>\n",
       "      <th>leto</th>\n",
       "      <th>akadem</th>\n",
       "      <th>hodit_para</th>\n",
       "      <th>hodit_tusa</th>\n",
       "      <th>ege_diff</th>\n",
       "      <th>kozko</th>\n",
       "      <th>target_1</th>\n",
       "      <th>target_2</th>\n",
       "      <th>target_3</th>\n",
       "      <th>target_4</th>\n",
       "    </tr>\n",
       "  </thead>\n",
       "  <tbody>\n",
       "    <tr>\n",
       "      <th>0</th>\n",
       "      <td>1.18e+07</td>\n",
       "      <td>Данильченко</td>\n",
       "      <td>Леонид</td>\n",
       "      <td>2012</td>\n",
       "      <td>203.0</td>\n",
       "      <td>247</td>\n",
       "      <td>0</td>\n",
       "      <td>0.0</td>\n",
       "      <td>1</td>\n",
       "      <td>0</td>\n",
       "      <td>...</td>\n",
       "      <td>0</td>\n",
       "      <td>0</td>\n",
       "      <td>2.67</td>\n",
       "      <td>3.33</td>\n",
       "      <td>-44.0</td>\n",
       "      <td>0</td>\n",
       "      <td>1.0</td>\n",
       "      <td>1.0</td>\n",
       "      <td>1.0</td>\n",
       "      <td>1.0</td>\n",
       "    </tr>\n",
       "    <tr>\n",
       "      <th>1</th>\n",
       "      <td>2.03e+07</td>\n",
       "      <td>Лисовская</td>\n",
       "      <td>Людмила</td>\n",
       "      <td>2012</td>\n",
       "      <td>255.0</td>\n",
       "      <td>247</td>\n",
       "      <td>0</td>\n",
       "      <td>0.0</td>\n",
       "      <td>1</td>\n",
       "      <td>0</td>\n",
       "      <td>...</td>\n",
       "      <td>0</td>\n",
       "      <td>0</td>\n",
       "      <td>3.67</td>\n",
       "      <td>3.33</td>\n",
       "      <td>8.0</td>\n",
       "      <td>0</td>\n",
       "      <td>1.0</td>\n",
       "      <td>1.0</td>\n",
       "      <td>1.0</td>\n",
       "      <td>1.0</td>\n",
       "    </tr>\n",
       "    <tr>\n",
       "      <th>2</th>\n",
       "      <td>1.55e+08</td>\n",
       "      <td>Кочеткова</td>\n",
       "      <td>Полина</td>\n",
       "      <td>2012</td>\n",
       "      <td>249.0</td>\n",
       "      <td>247</td>\n",
       "      <td>0</td>\n",
       "      <td>0.0</td>\n",
       "      <td>1</td>\n",
       "      <td>0</td>\n",
       "      <td>...</td>\n",
       "      <td>0</td>\n",
       "      <td>0</td>\n",
       "      <td>3.67</td>\n",
       "      <td>3.33</td>\n",
       "      <td>2.0</td>\n",
       "      <td>0</td>\n",
       "      <td>1.0</td>\n",
       "      <td>1.0</td>\n",
       "      <td>1.0</td>\n",
       "      <td>1.0</td>\n",
       "    </tr>\n",
       "    <tr>\n",
       "      <th>3</th>\n",
       "      <td>1.35e+08</td>\n",
       "      <td>Канаева</td>\n",
       "      <td>Дельгир</td>\n",
       "      <td>2012</td>\n",
       "      <td>242.0</td>\n",
       "      <td>247</td>\n",
       "      <td>1</td>\n",
       "      <td>0.0</td>\n",
       "      <td>0</td>\n",
       "      <td>0</td>\n",
       "      <td>...</td>\n",
       "      <td>1</td>\n",
       "      <td>0</td>\n",
       "      <td>3.33</td>\n",
       "      <td>1.67</td>\n",
       "      <td>-5.0</td>\n",
       "      <td>0</td>\n",
       "      <td>0.0</td>\n",
       "      <td>NaN</td>\n",
       "      <td>NaN</td>\n",
       "      <td>NaN</td>\n",
       "    </tr>\n",
       "    <tr>\n",
       "      <th>4</th>\n",
       "      <td>1.04e+08</td>\n",
       "      <td>Климова</td>\n",
       "      <td>Екатерина</td>\n",
       "      <td>2012</td>\n",
       "      <td>203.0</td>\n",
       "      <td>247</td>\n",
       "      <td>1</td>\n",
       "      <td>0.0</td>\n",
       "      <td>0</td>\n",
       "      <td>0</td>\n",
       "      <td>...</td>\n",
       "      <td>0</td>\n",
       "      <td>1</td>\n",
       "      <td>3.67</td>\n",
       "      <td>1.67</td>\n",
       "      <td>-44.0</td>\n",
       "      <td>0</td>\n",
       "      <td>1.0</td>\n",
       "      <td>0.0</td>\n",
       "      <td>NaN</td>\n",
       "      <td>NaN</td>\n",
       "    </tr>\n",
       "  </tbody>\n",
       "</table>\n",
       "<p>5 rows × 23 columns</p>\n",
       "</div>"
      ],
      "text/plain": [
       "       uids    firstname   lastname  year    EGE  prohodnoy  lgota  chelevoe  \\\n",
       "0  1.18e+07  Данильченко     Леонид  2012  203.0        247      0       0.0   \n",
       "1  2.03e+07    Лисовская    Людмила  2012  255.0        247      0       0.0   \n",
       "2  1.55e+08    Кочеткова     Полина  2012  249.0        247      0       0.0   \n",
       "3  1.35e+08      Канаева    Дельгир  2012  242.0        247      1       0.0   \n",
       "4  1.04e+08      Климова  Екатерина  2012  203.0        247      1       0.0   \n",
       "\n",
       "   olimp  dogovor    ...     leto  akadem  hodit_para  hodit_tusa  ege_diff  \\\n",
       "0      1        0    ...        0       0        2.67        3.33     -44.0   \n",
       "1      1        0    ...        0       0        3.67        3.33       8.0   \n",
       "2      1        0    ...        0       0        3.67        3.33       2.0   \n",
       "3      0        0    ...        1       0        3.33        1.67      -5.0   \n",
       "4      0        0    ...        0       1        3.67        1.67     -44.0   \n",
       "\n",
       "   kozko  target_1  target_2  target_3  target_4  \n",
       "0      0       1.0       1.0       1.0       1.0  \n",
       "1      0       1.0       1.0       1.0       1.0  \n",
       "2      0       1.0       1.0       1.0       1.0  \n",
       "3      0       0.0       NaN       NaN       NaN  \n",
       "4      0       1.0       0.0       NaN       NaN  \n",
       "\n",
       "[5 rows x 23 columns]"
      ]
     },
     "execution_count": 12,
     "metadata": {},
     "output_type": "execute_result"
    }
   ],
   "source": [
    "total_df.head()"
   ]
  },
  {
   "cell_type": "markdown",
   "metadata": {},
   "source": [
    "Посмотрим на распределения таргетов. "
   ]
  },
  {
   "cell_type": "code",
   "execution_count": 13,
   "metadata": {},
   "outputs": [
    {
     "data": {
      "text/plain": [
       "1.0    258\n",
       "0.0    121\n",
       "Name: target_1, dtype: int64"
      ]
     },
     "execution_count": 13,
     "metadata": {},
     "output_type": "execute_result"
    }
   ],
   "source": [
    "total_df.target_1.value_counts()"
   ]
  },
  {
   "cell_type": "code",
   "execution_count": 14,
   "metadata": {},
   "outputs": [
    {
     "data": {
      "text/plain": [
       "1.0    185\n",
       "0.0     23\n",
       "Name: target_2, dtype: int64"
      ]
     },
     "execution_count": 14,
     "metadata": {},
     "output_type": "execute_result"
    }
   ],
   "source": [
    "total_df.target_2.value_counts()"
   ]
  },
  {
   "cell_type": "code",
   "execution_count": 15,
   "metadata": {},
   "outputs": [
    {
     "data": {
      "text/plain": [
       "1.0    115\n",
       "0.0     10\n",
       "Name: target_3, dtype: int64"
      ]
     },
     "execution_count": 15,
     "metadata": {},
     "output_type": "execute_result"
    }
   ],
   "source": [
    "total_df.target_3.value_counts()"
   ]
  },
  {
   "cell_type": "code",
   "execution_count": 16,
   "metadata": {},
   "outputs": [
    {
     "data": {
      "text/plain": [
       "1.0    67\n",
       "0.0     4\n",
       "Name: target_4, dtype: int64"
      ]
     },
     "execution_count": 16,
     "metadata": {},
     "output_type": "execute_result"
    }
   ],
   "source": [
    "total_df.target_4.value_counts()"
   ]
  },
  {
   "cell_type": "markdown",
   "metadata": {},
   "source": [
    "Строить модель, которая будет прогнозировать отчисления с первого курса будет легко и весело. У нас довольно много как положительных, так и отрицательных примеров. С прогнозированием отчисление со второго, третьего и четвёртого курса, у нас будет довольно много проблем. Модель мы будем строить по 379 наблдюдениям. "
   ]
  },
  {
   "cell_type": "code",
   "execution_count": 17,
   "metadata": {},
   "outputs": [
    {
     "data": {
      "text/plain": [
       "379"
      ]
     },
     "execution_count": 17,
     "metadata": {},
     "output_type": "execute_result"
    }
   ],
   "source": [
    "sum(total_df.year != 2017)"
   ]
  },
  {
   "cell_type": "markdown",
   "metadata": {},
   "source": [
    "Прогнозы мы будем строить для 73 первокурсников. "
   ]
  },
  {
   "cell_type": "code",
   "execution_count": 18,
   "metadata": {},
   "outputs": [
    {
     "data": {
      "text/plain": [
       "73"
      ]
     },
     "execution_count": 18,
     "metadata": {},
     "output_type": "execute_result"
    }
   ],
   "source": [
    "sum(total_df.year == 2017)"
   ]
  },
  {
   "cell_type": "markdown",
   "metadata": {},
   "source": [
    "Сохраняем первый, самый простой датасет. "
   ]
  },
  {
   "cell_type": "code",
   "execution_count": 19,
   "metadata": {},
   "outputs": [
    {
     "name": "stdout",
     "output_type": "stream",
     "text": [
      "/Users/fulyankin/Documents/ekanam_grand_research/5. Data prepare\r\n"
     ]
    }
   ],
   "source": [
    "!pwd"
   ]
  },
  {
   "cell_type": "code",
   "execution_count": 20,
   "metadata": {},
   "outputs": [],
   "source": [
    "total_df.to_csv('simple_data.csv', sep = '\\t')"
   ]
  },
  {
   "cell_type": "code",
   "execution_count": 21,
   "metadata": {},
   "outputs": [
    {
     "name": "stdout",
     "output_type": "stream",
     "text": [
      "data_1_easy.csv    models.ipynb       simple_data.csv\r\n",
      "data_prepare.ipynb prof_data.csv\r\n"
     ]
    }
   ],
   "source": [
    "!ls"
   ]
  },
  {
   "cell_type": "markdown",
   "metadata": {},
   "source": [
    "## 1.2 Проверяем гипотезу десятилетия \n",
    "\n",
    "Во-первых, заметим, что люля людей, которые заканчивают первый курс равна примерно $2/3$.  "
   ]
  },
  {
   "cell_type": "code",
   "execution_count": 22,
   "metadata": {},
   "outputs": [
    {
     "data": {
      "text/plain": [
       "0.68073878627968343"
      ]
     },
     "execution_count": 22,
     "metadata": {},
     "output_type": "execute_result"
    }
   ],
   "source": [
    "stat = total_df.target_1.value_counts()\n",
    "stat[1]/(stat[0] + stat[1])"
   ]
  },
  {
   "cell_type": "markdown",
   "metadata": {},
   "source": [
    "Ахмед, Лёша. Добро пожаловать в этот раздел. Сейчас я собираюсь уничтожить всё, что вам действительно дорого. Пришло время развеять один очень важный миф, который поселился среди студентов иканама:  \n",
    "\n",
    "> Когда матан читает Козко, с первого курса отчисляют больше людей. \n",
    "\n",
    "Сформулируем гипотезу. \n",
    "\n",
    "$H_0\\colon$ в среднем людей отчисляют одинаково, $p_{k} = p_{ch}$\n",
    "\n",
    "$H_1\\colon$ ничего подобного, $p_{k} \\ne p_{ch}$\n",
    "\n",
    "Для проверки гипотезы возьмём 2012, 2013, 2014 и 2015 года. "
   ]
  },
  {
   "cell_type": "code",
   "execution_count": 23,
   "metadata": {},
   "outputs": [
    {
     "name": "stdout",
     "output_type": "stream",
     "text": [
      "Вероятность не закончить 1 курс при Козко: 0.3496932515337423\n",
      "Вероятность не закончить 1 курс при Чирском: 0.296551724137931\n"
     ]
    }
   ],
   "source": [
    "kozko_df = total_df.dropna(subset=['target_1'])\n",
    "x_kozko = 1 -kozko_df[(kozko_df.kozko == 1)&(kozko_df.year != 2016)].target_1\n",
    "x_nekozko = 1 - kozko_df[(kozko_df.kozko == 0)&(kozko_df.year != 2016)].target_1\n",
    "\n",
    "print('Вероятность не закончить 1 курс при Козко:',   sum(x_kozko)/len(x_kozko))\n",
    "print('Вероятность не закончить 1 курс при Чирском:', sum(x_nekozko)/len(x_nekozko))"
   ]
  },
  {
   "cell_type": "markdown",
   "metadata": {},
   "source": [
    "Чтобы всё было максимально прозрачно, напишем свою функцию для проверки гипотезы, руководствуясь лекциями Палыча."
   ]
  },
  {
   "cell_type": "code",
   "execution_count": 24,
   "metadata": {},
   "outputs": [],
   "source": [
    "import scipy\n",
    "\n",
    "def proportions_diff_z_stat_ind(sample1, sample2):\n",
    "    '''\n",
    "    Функция, написанная по лекциям Палыча\n",
    "    \n",
    "    '''\n",
    "    n1 = len(sample1)\n",
    "    n2 = len(sample2)\n",
    "    \n",
    "    p1 = float(sum(sample1)) / n1\n",
    "    p2 = float(sum(sample2)) / n2 \n",
    "    P = float(p1*n1 + p2*n2) / (n1 + n2)\n",
    "    \n",
    "    return (p1 - p2) / np.sqrt(P * (1 - P) * (1. / n1 + 1. / n2))\n",
    "\n",
    "def proportions_diff_z_test(z_stat, alternative = 'two-sided'):\n",
    "    '''\n",
    "    функция для расчта p-value при разных альтернативах\n",
    "    \n",
    "    '''\n",
    "    \n",
    "    if alternative not in ('two-sided', 'less', 'greater'):\n",
    "        raise ValueError(\"alternative not recognized\\n\"\n",
    "                         \"should be 'two-sided', 'less' or 'greater'\")\n",
    "    \n",
    "    if alternative == 'two-sided':\n",
    "        return 2 * (1 - scipy.stats.norm.cdf(np.abs(z_stat)))\n",
    "    \n",
    "    if alternative == 'less':\n",
    "        return scipy.stats.norm.cdf(z_stat)\n",
    "\n",
    "    if alternative == 'greater':\n",
    "        return 1 - scipy.stats.norm.cdf(z_stat)"
   ]
  },
  {
   "cell_type": "markdown",
   "metadata": {},
   "source": [
    "Мы готовы к проверке. "
   ]
  },
  {
   "cell_type": "code",
   "execution_count": 25,
   "metadata": {},
   "outputs": [
    {
     "data": {
      "text/plain": [
       "0.32014582359010602"
      ]
     },
     "execution_count": 25,
     "metadata": {},
     "output_type": "execute_result"
    }
   ],
   "source": [
    "proportions_diff_z_test(proportions_diff_z_stat_ind(x_kozko, x_nekozko))"
   ]
  },
  {
   "cell_type": "markdown",
   "metadata": {},
   "source": [
    "Альтернатива должна быть $p_k > p_{ch}$? Окей. "
   ]
  },
  {
   "cell_type": "code",
   "execution_count": 26,
   "metadata": {},
   "outputs": [
    {
     "data": {
      "text/plain": [
       "0.16007291179505301"
      ]
     },
     "execution_count": 26,
     "metadata": {},
     "output_type": "execute_result"
    }
   ],
   "source": [
    "proportions_diff_z_test(proportions_diff_z_stat_ind(x_kozko, x_nekozko),'greater')"
   ]
  },
  {
   "cell_type": "markdown",
   "metadata": {},
   "source": [
    "Результат не поменялся. Гипотеза о равенстве долей не отвергается. Можно попробовать не выкидывать \"лишний год\" и проверять гипотезу на 3-х годах Чирского и двух годах Козко. "
   ]
  },
  {
   "cell_type": "code",
   "execution_count": 27,
   "metadata": {},
   "outputs": [
    {
     "name": "stdout",
     "output_type": "stream",
     "text": [
      "Вероятность не закончить 1 курс при Козко: 0.3496932515337423\n",
      "Вероятность не закончить 1 курс при Чирском: 0.2962962962962963\n"
     ]
    },
    {
     "data": {
      "text/plain": [
       "0.26960949655974931"
      ]
     },
     "execution_count": 27,
     "metadata": {},
     "output_type": "execute_result"
    }
   ],
   "source": [
    "kozko_df = total_df.dropna(subset=['target_1'])\n",
    "x_kozko = 1 -kozko_df[(kozko_df.kozko == 1)].target_1\n",
    "x_nekozko = 1 - kozko_df[(kozko_df.kozko == 0)].target_1\n",
    "\n",
    "print('Вероятность не закончить 1 курс при Козко:',   sum(x_kozko)/len(x_kozko))\n",
    "print('Вероятность не закончить 1 курс при Чирском:', sum(x_nekozko)/len(x_nekozko))\n",
    "\n",
    "proportions_diff_z_test(proportions_diff_z_stat_ind(x_kozko, x_nekozko))"
   ]
  },
  {
   "cell_type": "markdown",
   "metadata": {},
   "source": [
    "Напомню, что в других преподах между двумя первыми курсами различий нет. Мораль всего этого проста: __Если ты тупой, неважно кто читает у тебя матан.__  Скорее всего, вы мне предложите дождаться результатов по отчислениям за этот год, а после перепроверить гипотезу. Друзья, я в курсе, что вы ходите принимать колки по матану. Неужели вы способны для того, чтобы доказать свою точку зрения поставить лишние двойки? "
   ]
  },
  {
   "cell_type": "markdown",
   "metadata": {},
   "source": [
    "Посмотрим на матрицу корреляций для нашей таблички. "
   ]
  },
  {
   "cell_type": "code",
   "execution_count": 46,
   "metadata": {},
   "outputs": [
    {
     "data": {
      "text/plain": [
       "<matplotlib.axes._subplots.AxesSubplot at 0x11a3ed080>"
      ]
     },
     "execution_count": 46,
     "metadata": {},
     "output_type": "execute_result"
    },
    {
     "data": {
      "image/png": "[encoded data removed]",
      "text/plain": [
       "<matplotlib.figure.Figure at 0x11a2145f8>"
      ]
     },
     "metadata": {},
     "output_type": "display_data"
    }
   ],
   "source": [
    "plt.subplots(figsize=(12, 12))\n",
    "sns.heatmap(data.corr(), square=True,annot=True,fmt=\".1f\",linewidths=0.1,cmap=\"RdBu\")"
   ]
  },
  {
   "cell_type": "code",
   "execution_count": null,
   "metadata": {},
   "outputs": [],
   "source": [
    "regr = ['EGE', 'hodit_para', 'hodit_tusa', 'ege_diff', 'target_1']\n",
    "sns.pairplot(total_df[regr], hue = 'target_1', diag_kind=\"kde\")"
   ]
  },
  {
   "cell_type": "markdown",
   "metadata": {},
   "source": [
    "Видим, что баллы за ЕГЭ не в среднем никак не говорят об отчисляемостию При этом те, кого отчисляют, судя по всему, в среднем ходят на пары реже. Не будем забывать, что показатель, отвечающий за хождение на пары, проставляли асессоры. Они могли ставить более низкие оценки тем ребятам, которых отчислили чисто психологически. \n",
    "\n",
    "На последок посмотрим сколько людей отчислили летом, а сколько зимой. "
   ]
  },
  {
   "cell_type": "code",
   "execution_count": null,
   "metadata": {},
   "outputs": [],
   "source": [
    "print('Отчислили летом:',   sum(total_df.leto))\n",
    "print('Отчислили зимой:', sum(total_df.zima))"
   ]
  },
  {
   "cell_type": "markdown",
   "metadata": {},
   "source": [
    "# 2. Данные по профилям вк \n",
    "\n",
    "Добавим к общему пулу из данных всё то добро, что мы вытащили из профилей людей вконтакте. "
   ]
  },
  {
   "cell_type": "code",
   "execution_count": null,
   "metadata": {},
   "outputs": [],
   "source": [
    "df_pr = pd.read_csv('../1.Download_vk_data/vk_data_profile_v18-12-17.csv', sep = '\\t', index_col=0)\n",
    "df_pr.shape"
   ]
  },
  {
   "cell_type": "markdown",
   "metadata": {},
   "source": [
    "Сразу же избавимся от людей, которые оказались забанены или удалили свою страницу. "
   ]
  },
  {
   "cell_type": "code",
   "execution_count": null,
   "metadata": {},
   "outputs": [],
   "source": [
    "df_pr.deactivated_dummy.value_counts()"
   ]
  },
  {
   "cell_type": "code",
   "execution_count": null,
   "metadata": {},
   "outputs": [],
   "source": [
    "df_pr = df_pr[df_pr.deactivated_dummy == '0']\n",
    "df_pr.drop('deactivated_dummy',axis=1,inplace=True)\n",
    "df_pr.shape"
   ]
  },
  {
   "cell_type": "markdown",
   "metadata": {},
   "source": [
    "Отлично! $674$ человека, $55$ переменных. Как вы помните, в данных по профилям было очень много пропусков. Попробуем их визуализировать. Жёлтое - в переменной есть пропуск. Лиловое - в переменной нет пропуска. "
   ]
  },
  {
   "cell_type": "code",
   "execution_count": null,
   "metadata": {},
   "outputs": [],
   "source": [
    "sns.set(font_scale=1)\n",
    "fig, ax = plt.subplots(figsize=(20,12))\n",
    "sns_heatmap = sns.heatmap(df_pr.isnull(),yticklabels=False,cbar=False,cmap='viridis')"
   ]
  },
  {
   "cell_type": "code",
   "execution_count": null,
   "metadata": {},
   "outputs": [],
   "source": [
    "plt.figure(figsize=(8,4))\n",
    "plt.hist(df_pr.isnull().sum()) \n",
    "plt.title('Пропуски в переменных', fontsize=20)\n",
    "plt.xlabel('Количество пропусков', fontsize=14)\n",
    "plt.ylabel('Число переменных', fontsize=14)"
   ]
  },
  {
   "cell_type": "markdown",
   "metadata": {},
   "source": [
    "## 2.1 Обработка пропусков\n",
    "\n",
    "Посмотрим что за пропуски такие и в каких переменных они встречаются. \n",
    "\n",
    "### 2.1.1 Переменные без пропусков "
   ]
  },
  {
   "cell_type": "code",
   "execution_count": null,
   "metadata": {},
   "outputs": [],
   "source": [
    "vr_0 = [item for item in df_pr.columns if df_pr[item].isnull().sum() == 0]\n",
    "print(len(vr_0))\n",
    "vr_0"
   ]
  },
  {
   "cell_type": "markdown",
   "metadata": {},
   "source": [
    "Без пропусков оказалась 21 переменная. Перевариваем их. "
   ]
  },
  {
   "cell_type": "code",
   "execution_count": null,
   "metadata": {},
   "outputs": [],
   "source": [
    "df_pr_clean = pd.DataFrame( )  # Чистая табличка для переваренного добра "
   ]
  },
  {
   "cell_type": "code",
   "execution_count": null,
   "metadata": {},
   "outputs": [],
   "source": [
    "# уид, имя и фамилию оставляем без изменений \n",
    "df_pr_clean['uids'] = df_pr['uid']\n",
    "df_pr_clean['profile_first_name'] = df_pr['profile_first_name']\n",
    "df_pr_clean['profile_last_name'] = df_pr['profile_last_name']\n",
    "\n",
    "# переменная с городом проживания\n",
    "# чаще всего он либо не указан, либо это Москва, преобразуем колонку в две дамми переменные\n",
    "# возможно, имеет смысл сделать отедльную дамми на крупные города, но мне влом\n",
    "df_pr_clean['profile_city_moscow_dummy'] = 1*(df_pr['profile_city'] == 'Москва')\n",
    "df_pr_clean['profile_city_none_dummy'] = 1*(df_pr['profile_city'] == 'Город не указан')\n",
    "\n",
    "# Страну также разбиваем на несколько дамми \n",
    "df_pr_clean['profile_country_russia_dummy'] = 1*(df_pr.profile_country == 'Россия' )\n",
    "df_pr_clean['profile_country_none_dummy'] = 1*(df_pr.profile_country == 'Страна не указана')\n",
    "\n",
    "# Число подписчиков \n",
    "df_pr_clean['profile_folowers_cnt'] = df_pr.profile_folowers_cnt\n",
    "\n",
    "##### Много разных дамми-пеерменных ######\n",
    "\n",
    "# Пол, указанный вк оставляем без изменений \n",
    "df_pr_clean['profile_male_dummy'] = df_pr.profile_male_dummy\n",
    "\n",
    "# Есть ли у человека аватар \n",
    "df_pr_clean['profile_has_ava_dummy'] = df_pr.profile_has_ava_dummy\n",
    "\n",
    "# Открыта ли стена для комментов \n",
    "df_pr_clean['profile_wall_comments_dummy'] = df_pr.profile_wall_comments_dummy\n",
    "\n",
    "# Указана ли вк ссылка на facebook (указана у 19 человек)\n",
    "df_pr_clean['profile_facebook_dummy'] = df_pr.pofile_facebook_dummy\n",
    "\n",
    "# Указана ли ссылка на инстаграмм (указана у 135 человек)\n",
    "df_pr_clean['profile_instagram_dummy'] = df_pr.profile_instagram_dummy\n",
    "\n",
    "# Указана ли ссылка на skype (указана у 103 человек)\n",
    "df_pr_clean['profile_skype_dummy'] = df_pr.profile_skype_dummy\n",
    "\n",
    "# Указана ли ссылка на twitter (указана у 37 человек)\n",
    "df_pr_clean['profile_twitter_dummy'] = df_pr.profile_twitter_dummy\n",
    "\n",
    "# Указан ли домашнией телефон (указан у 39 человек)\n",
    "df_pr_clean['profile_home_phone_dummy'] =  df_pr.profile_home_phone_dummy\n",
    "\n",
    "# Указан ли у человека мобильник (указан у 125 человек) \n",
    "df_pr_clean['profile_mobile_phone_dummy'] =  df_pr.profile_mobile_phone_dummy\n",
    "\n",
    "# указан ли какой-нибудь сайт (указан у 94 человек)\n",
    "df_pr_clean['profile_site_dummy'] = df_pr.profile_site_dummy\n",
    "\n",
    "##### немного странные дамми-переменные ###### \n",
    "\n",
    "# могу ли я писать на и комментиоровать стену (454 нет)\n",
    "df_pr_clean['meprofile_can_post_dummy'] = df_pr.meprofile_can_post_dummy\n",
    "\n",
    "# могу лия видеть все посты (352 нет)\n",
    "df_pr_clean['meprofile_can_see_all_posts_dummy'] = df_pr.meprofile_can_see_all_posts_dummy\n",
    "\n",
    "# могу ли я видеть аудио (416 нет)\n",
    "df_pr_clean['meprofile_can_see_audio_dummy'] = df_pr.meprofile_can_see_audio_dummy\n",
    "\n",
    "# могу ли я писать в личку  (62 нет)\n",
    "df_pr_clean['meprofile_can_write_private_message_dummy'] = df_pr.meprofile_can_write_private_message_dummy\n",
    "\n",
    "# Выбрасываем :  'profile_has_mobile_dummy'"
   ]
  },
  {
   "cell_type": "markdown",
   "metadata": {},
   "source": [
    "Надежды и пояснения: \n",
    "\n",
    "* Скорее всего, все поля в телефонах и ссылках на разные соц сетки заполняют только троли. Обычно, они там должны отсавлять всякие глупости. Наличие дамми о заполненности этих полей помогут выявить рофлеров.\n",
    "* Наличие данных о том кому я могу писть и чьи аудио я вижу, говорят про отношение человека к приватности. Интересно будет узнать как более \"приватные\" люди проявляют себя в учёбе. Скорее всего, в процесси построения модели, половину этих дамми придётся выбросить. \n",
    "\n",
    "\n",
    "### 2.1.2 Не более 100 пропусков \n",
    "\n",
    "А мы тем временем переходим к данным, в которых есть мене сотни пропусков. В основном, это переменные-счётчики. Все их нам бы хотелось оставит в выборке. В каждой из них не более двух пропусков. У людей закрыты страницы. Приватность так приватность, заполним эти пропуски нулями."
   ]
  },
  {
   "cell_type": "code",
   "execution_count": null,
   "metadata": {},
   "outputs": [],
   "source": [
    "vr_100 = [item for item in df_pr.columns if 0 < df_pr[item].isnull().sum() < 100]\n",
    "vr_100"
   ]
  },
  {
   "cell_type": "code",
   "execution_count": null,
   "metadata": {},
   "outputs": [],
   "source": [
    "df_pr_clean[vr_100] =  df_pr[vr_100].fillna(0)"
   ]
  },
  {
   "cell_type": "markdown",
   "metadata": {},
   "source": [
    "Движемся по числу пропусков дальше. \n",
    "\n",
    "### 2.1.3 От 100 до 300 пропусков "
   ]
  },
  {
   "cell_type": "code",
   "execution_count": null,
   "metadata": {},
   "outputs": [],
   "source": [
    "vr_300 = [item for item in df_pr.columns if 100 < df_pr[item].isnull().sum() < 300]\n",
    "vr_300"
   ]
  },
  {
   "cell_type": "code",
   "execution_count": null,
   "metadata": {},
   "outputs": [],
   "source": [
    "print(df_pr.profile_bmonth.isnull().sum())\n",
    "print(df_pr.profile_bday.isnull().sum())\n",
    "print(df_pr.profile_relation_cat.isnull().sum())\n",
    "df_pr[vr_300].head()"
   ]
  },
  {
   "cell_type": "markdown",
   "metadata": {},
   "source": [
    "Все переменные категориальные с большим числом пропусков.  Мы условились, что пока что не будем их трогать. "
   ]
  },
  {
   "cell_type": "code",
   "execution_count": null,
   "metadata": {},
   "outputs": [],
   "source": [
    "df_pr_clean['profile_bmonth_cat'] = df_pr.profile_bmonth\n",
    "df_pr_clean['profile_bday_cat'] = df_pr.profile_bday\n",
    "\n",
    "# заменяем все NaN на не указано и оставляем переменную категориальной \n",
    "df_pr_clean['profile_relation_cat'] = df_pr['profile_relation_cat'].fillna('не указано')"
   ]
  },
  {
   "cell_type": "markdown",
   "metadata": {},
   "source": [
    "### 2.1.4 От 300 до 400 пропусков \n",
    "\n",
    "Не думаю, что эта информация окажется поллезной. Тем не менее, мы продолжаем двигаться вперёд, по всем нашим пропускам. "
   ]
  },
  {
   "cell_type": "code",
   "execution_count": null,
   "metadata": {},
   "outputs": [],
   "source": [
    "vr_300 = [item for item in df_pr.columns if 300 < df_pr[item].isnull().sum() < 400]\n",
    "vr_300"
   ]
  },
  {
   "cell_type": "code",
   "execution_count": null,
   "metadata": {},
   "outputs": [],
   "source": [
    "df_pr.profile_university_str.value_counts()"
   ]
  },
  {
   "cell_type": "markdown",
   "metadata": {},
   "source": [
    "Преобразуем переменную, которая отвечает за ВУЗ в три дамми. Скорее всего тот факт, что кто-то не указал на своей страничке в качестве вуза __Российскую академию народного хозяйствао и государственной сложбы при президенте Российской Федерации,__ о чём-то говорит. Наши стешняшки <3 "
   ]
  },
  {
   "cell_type": "code",
   "execution_count": null,
   "metadata": {},
   "outputs": [],
   "source": [
    "# Дамми для ранепы\n",
    "df_pr_clean['profile_vuz_ranepa_yes_dummy'] = \\\n",
    "1*(df_pr.profile_university_str == 'РАНХиГС при Президенте РФ (АНХ при Правительстве РФ, РАГС при Президенте РФ)')\n",
    "\n",
    "# Дамми для пропусков \n",
    "df_pr_clean['profile_vuz_none_dummy'] = 1*(df_pr.profile_university_str.isnull())\n",
    "\n",
    "# Всё остальное - другие вузы. Мы не должны попасть в дамми-ловушку! \n",
    "\n",
    "# Пропуски в подарках заполняем нулями \n",
    "df_pr_clean['profile_gifts_cnt'] = df_pr.profile_gifts_cnt.fillna(0)"
   ]
  },
  {
   "cell_type": "markdown",
   "metadata": {},
   "source": [
    "### 2.1.5 От 400 до 500 пропусков \n",
    "\n",
    "Переходим к переменным, для которых число пропусков очень велико."
   ]
  },
  {
   "cell_type": "code",
   "execution_count": null,
   "metadata": {},
   "outputs": [],
   "source": [
    "vr_400 = [item for item in df_pr.columns if 400 < df_pr[item].isnull().sum() < 500]\n",
    "vr_400"
   ]
  },
  {
   "cell_type": "code",
   "execution_count": null,
   "metadata": {},
   "outputs": [],
   "source": [
    "df_pr[vr_400].head()"
   ]
  },
  {
   "cell_type": "code",
   "execution_count": null,
   "metadata": {},
   "outputs": [],
   "source": [
    "# Всё, что отвечает за год рождения, выкидываем \n",
    "\n",
    "# Дамми отвечающая за то является ли москва для человека родным городом \n",
    "df_pr_clean['profile_moscow_hometown_dummy'] = 1*(df_pr.profile_home_town == 'Москва')\n",
    "\n",
    "# Указан ли в профиле иканам \n",
    "df_pr_clean['profile_econom_yes_dummy'] = 1*(df_pr.profile_faculty_str == 'Экономический факультет')\n",
    "\n",
    "# Сколько фоток у юзера в профиле \n",
    "df_pr_clean['profile_photos_cnt'] = df_pr.profile_user_photos_cnt.fillna(0)\n",
    "\n",
    "# Информация про школу \n",
    "# Человек столько раз при смене школы поменял город. Переменная - категориальная\n",
    "df_pr_clean['profile_change_city_school_cat'] = df_pr.profile_change_city_school_cnt\n",
    "# Человек поменял в принципе школу столько раз. Переменная - категориальная\n",
    "df_pr_clean['profile_schools_cat'] = df_pr.profile_schools_cnt"
   ]
  },
  {
   "cell_type": "markdown",
   "metadata": {},
   "source": [
    "### 2.1.6 От 500 пропусков \n",
    "\n",
    "Больше всего пропусков в самых интересных переменных, отвечающих за политические взгляды, отношение к куреню и прочие подобные вещи. Все такие категориальные фичи мы оставим без изменений. Интересно будет посмотреть на людей, которые указываи о себе хоть что-то. В конечном счёте мы выбросим все эти переменные из рассмотрения сразу после визуализаций. "
   ]
  },
  {
   "cell_type": "code",
   "execution_count": null,
   "metadata": {},
   "outputs": [],
   "source": [
    "vr_500 = [item for item in df_pr.columns if df_pr[item].isnull().sum() > 500]\n",
    "vr_500"
   ]
  },
  {
   "cell_type": "code",
   "execution_count": null,
   "metadata": {},
   "outputs": [],
   "source": [
    "# Дамми, равная 1, если указан партнёр по отношениям\n",
    "df_pr_clean['profile_relation_partner_yes_dummy'] = 1- 1*(df_pr.profile_relation_partner.isnull())\n",
    "\n",
    "# Дамми, равная 1, если человек скрыл группы (не паблики)\n",
    "df_pr_clean['profile_group_hide_dummy'] = 1*(df_pr.profile_groups_cnt.isnull())\n",
    "# Число групп, в которых состоит человек. Пропуски заполнены нулями\n",
    "df_pr_clean['profile_group_hide_dummy'] = df_pr.profile_groups_cnt.fillna(0)\n",
    "\n",
    "# Указан ли английский язык как второй в профиле \n",
    "df_pr_clean['profile_engl_dummy'] = 1*(df_pr.profile_engl_dummy == 1)\n",
    "\n",
    "# Число языков, которое указано в профиле. Пропуски - 0. Ничего же не указано... \n",
    "df_pr_clean['profile_lang_cnt'] = df_pr.profile_lang_cnt.fillna(0)\n",
    "\n",
    "# Все категориальные фичи оставляем без изменений, чтобы потом поугарать \n",
    "cat_var = ['profile_alco_love_cat','profile_smoke_love_cat','profile_life_main_cat',\n",
    "           'profile_people_main_cat','profile_political_cat'] \n",
    "\n",
    "df_pr_clean[cat_var] = df_pr[cat_var]\n",
    "\n",
    "# Поугараем над тем кто какую религию и веру указал у себя в профиле и выбросим эти переменные\n",
    "# Переменная, отвечающая за букву класса сварилась плохо, её также выкидываем "
   ]
  },
  {
   "cell_type": "code",
   "execution_count": null,
   "metadata": {},
   "outputs": [],
   "source": [
    "df_pr.profile_religion_str.value_counts()"
   ]
  },
  {
   "cell_type": "code",
   "execution_count": null,
   "metadata": {},
   "outputs": [],
   "source": [
    "df_pr.profile_inspired_by_str.value_counts()"
   ]
  },
  {
   "cell_type": "code",
   "execution_count": null,
   "metadata": {},
   "outputs": [],
   "source": [
    "# Объкдиняем с первой табличкой \n",
    "total_df_1 = pd.merge(total_df, df_pr_clean, on = 'uids', how='left')\n",
    "total_df_1.shape"
   ]
  },
  {
   "cell_type": "code",
   "execution_count": null,
   "metadata": {},
   "outputs": [],
   "source": [
    "total_df_1.to_csv('prof_data.csv', sep='\\t', index=False, header=True)"
   ]
  },
  {
   "cell_type": "markdown",
   "metadata": {},
   "source": [
    "## 2.2 Визуализации и гипотезы "
   ]
  },
  {
   "cell_type": "code",
   "execution_count": null,
   "metadata": {},
   "outputs": [],
   "source": [
    "df_pr_clean.shape"
   ]
  },
  {
   "cell_type": "code",
   "execution_count": null,
   "metadata": {},
   "outputs": [],
   "source": [
    "total_df.shape"
   ]
  },
  {
   "cell_type": "markdown",
   "metadata": {},
   "source": [
    "гипотезы: \n",
    "\n",
    "* доля пацанов и телок от курса к курсу, кого чаще отчисляют "
   ]
  },
  {
   "cell_type": "markdown",
   "metadata": {},
   "source": [
    "# 3. Данные по фоткам \n",
    "\n",
    "## 3.1 Заполняем пропуски \n",
    "\n",
    "По фотографиям мы сварили не очень большое, но довольно хорошо заполненное число переменных. Посмотрим на них чуть более подробно. Все созданные нами при скачке данных переменные, в основном, являются счётчиками. В связи с этим заполним все пропуски нулями. "
   ]
  },
  {
   "cell_type": "code",
   "execution_count": null,
   "metadata": {},
   "outputs": [],
   "source": [
    "df_ph = pd.read_csv('../1.Download_vk_data/vk_photo_data_v18-12-17.csv', sep = '\\t', index_col=0)\n",
    "print('С удалёнными:', df_ph.shape)\n",
    "\n",
    "# Убрали удалённые странички \n",
    "df_ph = pd.merge(df_ph, df_pr[['uid']], on = 'uid', how='right')\n",
    "print('Без удалённых:', df_ph.shape) "
   ]
  },
  {
   "cell_type": "code",
   "execution_count": null,
   "metadata": {},
   "outputs": [],
   "source": [
    "sns.set(font_scale=1)\n",
    "fig, ax = plt.subplots(figsize=(20,12))\n",
    "sns_heatmap = sns.heatmap(df_ph.isnull(),yticklabels=False,cbar=False,cmap='viridis')"
   ]
  },
  {
   "cell_type": "code",
   "execution_count": null,
   "metadata": {},
   "outputs": [],
   "source": [
    "plt.figure(figsize=(8,4))\n",
    "plt.hist(df_ph.isnull().sum()) \n",
    "plt.title('Пропуски в переменных', fontsize=20)\n",
    "plt.xlabel('Количество пропусков', fontsize=14)\n",
    "plt.ylabel('Число переменных', fontsize=14)"
   ]
  },
  {
   "cell_type": "code",
   "execution_count": null,
   "metadata": {},
   "outputs": [],
   "source": [
    "df_ph_clean = pd.DataFrame() \n",
    " \n",
    "variables = ['photo_cnt', 'photo_height_mean',   'photo_width_mean',   'photo_like_max',   'photo_like_mean', \n",
    "         # Число фоток     средняя высота фото  средняя ширина фото   максимально лайков    средне лайков      \n",
    "         #                     (лол што)             (ЗАЧЕМ)              под фото             под фото \n",
    "\n",
    "        'photo_like_median', 'photo_repost_cnt',  'photo_repost_max',  'photo_repost_mean', 'photo_repost_median',\n",
    "         # медиана лайков       число репостов       максимально            среднее              медиана  \n",
    "       \n",
    "        'vk_photo_ava_change_cnt', 'vk_photo_wall_ph_post_cnt',     'photo_text_len_cnt',      \n",
    "         # сколько аватарок            сколько фоток на стене       длина подписей под фото \n",
    "         \n",
    "         'vk_photo_text_url_len_cnt',   'photo_month_mean',        'photo_yer_mean']\n",
    "         # длина ссылок под фото       в среднем выложил фоток    в среднем выложил фоток\n",
    "         #                                  за месяц                  за год \n",
    " \n",
    " # все пропуски заполняем нулями\n",
    "df_ph_clean[variables] = df_ph[variables].fillna(0)\n",
    "df_ph_clean['uid'] = df_ph['uid']"
   ]
  },
  {
   "cell_type": "markdown",
   "metadata": {},
   "source": [
    "Текст, который обычно оставляют под фотками, и который мы тоже скачали, сам по себе проигнорируем. "
   ]
  },
  {
   "cell_type": "code",
   "execution_count": null,
   "metadata": {},
   "outputs": [],
   "source": [
    "df_ph['photo_text'][:20]"
   ]
  },
  {
   "cell_type": "markdown",
   "metadata": {},
   "source": [
    "## 3.2 Визуализации и гипотезы "
   ]
  },
  {
   "cell_type": "code",
   "execution_count": null,
   "metadata": {},
   "outputs": [],
   "source": []
  },
  {
   "cell_type": "code",
   "execution_count": null,
   "metadata": {},
   "outputs": [],
   "source": []
  },
  {
   "cell_type": "code",
   "execution_count": null,
   "metadata": {},
   "outputs": [],
   "source": []
  },
  {
   "cell_type": "markdown",
   "metadata": {},
   "source": [
    "# 4. Данные по стенам  \n",
    "\n",
    "## 4.1 Заполняем пропуски "
   ]
  },
  {
   "cell_type": "code",
   "execution_count": null,
   "metadata": {},
   "outputs": [],
   "source": [
    "df_wl = pd.read_csv('../1.Download_vk_data/vk_wall_data_v18-12-17.csv', sep = '\\t', index_col=0)\n",
    "print('С удалёнными:', df_wl.shape)\n",
    "\n",
    "# Убрали удалённые странички \n",
    "df_wl = pd.merge(df_wl, df_pr[['uid']], on = 'uid', how='right')\n",
    "print('Без удалённых:', df_wl.shape) "
   ]
  },
  {
   "cell_type": "code",
   "execution_count": null,
   "metadata": {},
   "outputs": [],
   "source": [
    "sns.set(font_scale=1)\n",
    "fig, ax = plt.subplots(figsize=(20,12))\n",
    "sns_heatmap = sns.heatmap(df_wl.isnull(),yticklabels=False,cbar=False,cmap='viridis')"
   ]
  },
  {
   "cell_type": "code",
   "execution_count": null,
   "metadata": {},
   "outputs": [],
   "source": [
    "plt.figure(figsize=(8,4))\n",
    "plt.hist(df_wl.isnull().sum()) \n",
    "plt.title('Пропуски в переменных', fontsize=20)\n",
    "plt.xlabel('Количество пропусков', fontsize=14)\n",
    "plt.ylabel('Число переменных', fontsize=14)"
   ]
  },
  {
   "cell_type": "markdown",
   "metadata": {},
   "source": [
    "Дву сотни пропусков находится в переменной, которая называется `emoji_trace`...  Трэшаком мы уже занимались, здесь мы проигнорируем эту переменную. Также проигнорируем `wall_text`.\n",
    "\n",
    "Пройдёмся по всем остальным переменным. Как и в прошлом случае, там, по большей части, одни счётчики. Поэтому будем заполнять все пропуски нулями. "
   ]
  },
  {
   "cell_type": "code",
   "execution_count": null,
   "metadata": {},
   "outputs": [],
   "source": [
    "df_wl.drop(['wall_text','wall_emoji_trace'],axis=1,inplace=True)\n",
    "df_wl = df_wl.fillna(0)\n",
    "df_wl.head()"
   ]
  },
  {
   "cell_type": "markdown",
   "metadata": {},
   "source": [
    "## 4.2 Немного статитсики и визуализаций \n",
    "\n",
    "Напомню, что на стенках, под постами, подписывается с какого устройства сделан пост. На основе этой информации можно оценить долю яблочников на иканаме. "
   ]
  },
  {
   "cell_type": "code",
   "execution_count": null,
   "metadata": {},
   "outputs": [],
   "source": [
    "sum(df_wl.wall_post_iphone_cnt > 0)/df_wl.shape[0]"
   ]
  },
  {
   "cell_type": "code",
   "execution_count": null,
   "metadata": {},
   "outputs": [],
   "source": [
    "sum(df_wl.wall_post_android_cnt > 0)/df_wl.shape[0]"
   ]
  },
  {
   "cell_type": "code",
   "execution_count": null,
   "metadata": {},
   "outputs": [],
   "source": [
    "sum(df_wl.wall_post_wphone_cnt > 0)/df_wl.shape[0]"
   ]
  },
  {
   "cell_type": "code",
   "execution_count": null,
   "metadata": {},
   "outputs": [],
   "source": []
  },
  {
   "cell_type": "code",
   "execution_count": null,
   "metadata": {},
   "outputs": [],
   "source": []
  },
  {
   "cell_type": "code",
   "execution_count": null,
   "metadata": {},
   "outputs": [],
   "source": []
  },
  {
   "cell_type": "markdown",
   "metadata": {},
   "source": [
    "'wall_post_instagram_cnt',\n",
    "'wall_post_ipad_cnt',\n",
    "'wall_post_mweb_cnt',\n",
    "'wall_post_original_cnt',\n",
    "'wall_post_other_cnt',\n",
    "'wall_post_reply_cnt',\n",
    "'wall_post_web_cnt',\n",
    "'wall_post_widget',\n",
    " \n",
    " \n",
    " \n",
    "'wall_post_wphone_cnt',\n",
    "'wall_post_iphone_cnt',\n",
    "'wall_post_android_cnt',"
   ]
  },
  {
   "cell_type": "code",
   "execution_count": null,
   "metadata": {},
   "outputs": [],
   "source": []
  },
  {
   "cell_type": "code",
   "execution_count": null,
   "metadata": {},
   "outputs": [],
   "source": []
  },
  {
   "cell_type": "code",
   "execution_count": null,
   "metadata": {},
   "outputs": [],
   "source": []
  },
  {
   "cell_type": "code",
   "execution_count": null,
   "metadata": {},
   "outputs": [],
   "source": []
  },
  {
   "cell_type": "markdown",
   "metadata": {},
   "source": [
    "Сделать отдельный блокнот с названием трэш\n",
    "\n",
    "* эмодзи-следы людей \n",
    "* эмодзи-сдеды групп \n",
    "* кластеризация эмодзи \n",
    "* топы групп по числу эмодзи и по их разнообразию \n",
    "\n",
    "* Тексты под фотками, их кластеризация \n",
    "* Тексты стен и их кластеризция \n",
    "* Репосты и паблосы \n"
   ]
  },
  {
   "cell_type": "code",
   "execution_count": null,
   "metadata": {},
   "outputs": [],
   "source": []
  },
  {
   "cell_type": "code",
   "execution_count": null,
   "metadata": {},
   "outputs": [],
   "source": []
  },
  {
   "cell_type": "code",
   "execution_count": null,
   "metadata": {},
   "outputs": [],
   "source": []
  },
  {
   "cell_type": "code",
   "execution_count": null,
   "metadata": {},
   "outputs": [],
   "source": []
  }
 ],
 "metadata": {
  "kernelspec": {
   "display_name": "Python 3",
   "language": "python",
   "name": "python3"
  },
  "language_info": {
   "codemirror_mode": {
    "name": "ipython",
    "version": 3
   },
   "file_extension": ".py",
   "mimetype": "text/x-python",
   "name": "python",
   "nbconvert_exporter": "python",
   "pygments_lexer": "ipython3",
   "version": "3.6.3"
  }
 },
 "nbformat": 4,
 "nbformat_minor": 2
}
