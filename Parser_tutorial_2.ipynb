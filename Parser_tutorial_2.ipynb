{
 "cells": [
  {
   "cell_type": "markdown",
   "metadata": {},
   "source": [
    "<center>\n",
    "<img src=\"https://raw.githubusercontent.com/FUlyankin/ekenam_grand_research/master/images/cover.png\">\n",
    "</center>\n",
    "\n",
    "\n",
    "# <center> Иканам гранд рисёрч </center>\n",
    "## <center>  Туториал: Как скачать данные из контакта </center> \n",
    "\n",
    "\n",
    "Проект **Иканам гранд рисёрч** реализуется [Иканам стьюдентс коммьюнити,](https://vk.com/ikanam)\n",
    "в частности [вот этим парнем по имени Филипп.](https://vk.com/ppilif)  Если вы нашли ошибку или у вас есть предложения, замечания, деньги, слава или женщины, можно ему написать. Весь говнокод, использованный в исследовании распостраняется по лицензии [Creative Commons CC BY-NC-SA 4.0.](https://creativecommons.org/licenses/by-nc-sa/4.0/) Его можно использовать в любых целях (редактировать, поправлять и брать за основу), кроме коммерческих, но с обязательным упоминанием автора материала. При наличии технической возможности необходимо также указать активную гиперссылку на [страницу рисёрча.](https://github.com/FUlyankin/ekenam_grand_research) \n"
   ]
  },
  {
   "cell_type": "markdown",
   "metadata": {},
   "source": [
    "## 1. Подготовка\n",
    "\n",
    "Многие сайты и сервисы хотят упростить жизнь программистам и предоставляют им в пользование уже готорвые куски кода, к которым можно просто обратиться и получить нужную инфомрацию о сервисе. Такие куски кода называются API (Application programming interface). Вконтакте не является исключением. \n",
    "\n",
    "Сразу же стоит сказать, что API Вконтакте это рай для дата-сайентиста. Можно скачать огромное количество всего без серьёзных ограничений. Например, Facebook по своему API отдаст вам информацию только о тех людях, которые установили ваше приложение, API Одноклассников потребует написать им письмо с объяснением того, зачем это вам понадобились их данные, а API Вконтакте отдаст вам всё практически задаром. Единственное, что он попросит — это не обращаться к сайту очень часто, и это очень круто.\n",
    "\n",
    "Тем не менее, недавно Вконтакте провёл серьёзную реформу своей музыкальной части и монетизировал её. Это привело к изъятию куска API, связанного с музыкой из открытого доступа. Более того, существует опасность, что социальная сеть продолжит резать бесплатный функционал своего API после разных скандалов, связанных с банками, нагло собирающими информацию о пользователях для своих скоринговых моделей. В связи с этим, нужно успеть нарисёрчить по данным из соц сеток вдоволь, пока нас существенно не ограничили в их выгрузке. \n",
    "\n",
    "Ознакомиться со способами взаимодействия с Вконтакте можно [по ссылке, о существовании которой вы даже не догадывались...](https://vk.com/dev/manuals) По ней можно найти лучшего друга человека —  понятную документацию. Для того, чтобы получить доступ к выгрузке данных, нужно пройти ряд бюрократических процедур.\n",
    "\n",
    "Первая такая процедура заключается в [создании своего приложения.](http://vk.com/editapp?act=create) Заполняем все поля, загружаем предварительно подготовленные картинки нужного размера. Разрешаем доступ этому приложению к своей старнцие.\n",
    "\n",
    "<img align=\"center\" src=\"https://raw.githubusercontent.com/FUlyankin/vk_grand_research/master/images/vk6.png\" height=\"500\" width=\"500\">\n",
    "\n",
    "<img align=\"center\" src=\"https://raw.githubusercontent.com/FUlyankin/vk_grand_research/master/images/vk_2.png\" height=\"600\" width=\"600\">\n",
    "\n",
    "\n",
    "Для работы с частью методов API этого вполне достаточно (обычно в заголовке такого метода стоит соответствующая пометка). Для части методов, используемых нами, может понадобиться ключ доступа.\n",
    "\n",
    "Для того, чтобы получить его, необходимо сделать ещё пару странных манипуляций:\n",
    "\n",
    "Переходим по ссылке вида (на месте звездочек должен стоять ID созданного вами приложения):\n",
    "\n",
    "> https://oauth.vk.com/authorize?client_id=**********&scope=14&redirect_uri=https://oauth.vk.com/blank.html&display=page&v=5.16&response_type=token\n",
    "\n",
    "\n",
    "В итоге по этому запросу будет сформирована ссылка следующего вида:\n",
    "\n",
    "> https://oauth.vk.com/blank.html#access_token=95b636116ef20e0798fe4dff380511fc13&expires_in=86400&user_id=6045249\n",
    "\n",
    "\n",
    "Первый набор знаков - access token, т.е. маркер доступа. Вторая цифра (expires_in=) время работы маркера доступа в секундах (одни сутки). По истечению суток нужно будет получить новый маркер доступа. Последняя цифра (user_id=) ваш ID Вконтакте. Нам в дальнейшем понадобится маркер доступа и ID.  Для удобства сохраним их.\n",
    "\n",
    "Обратите внимание на ссылку, по которой мы делали запрос на предоставление токена. Внутри неё находится странный параметр `scope=14`. Эта загадочная цифра ничто иное, как права доступа к социальной сети. Подробнее [познакомиться с взаимно-однозначным соответствием между числами и правами можно в документации.](https://vk.com/dev/permissions) Например, если мы хотим получить доступ к друзьям, фото и аудио, мы подставим в `scope` цифру $2 + 4 + 8 = 14$.  \n"
   ]
  },
  {
   "cell_type": "code",
   "execution_count": 29,
   "metadata": {},
   "outputs": [],
   "source": [
    "token= \"64892a92740305e884543c02c538b1d2c2941a323d86e8c481fc64e5333e406b34e53a0a5dc879d005152\"\n",
    "myid = \"6045249\""
   ]
  },
  {
   "cell_type": "markdown",
   "metadata": {},
   "source": [
    "## 2. Учимся собирательству\n",
    "\n",
    "Для начала подгрузим парочку пакетов. "
   ]
  },
  {
   "cell_type": "code",
   "execution_count": 30,
   "metadata": {},
   "outputs": [],
   "source": [
    "import requests                  # Пакет для скачки данных из этих ваших интернетов\n",
    "import pandas as pd              # Пакет для работы с таблицами\n",
    "import numpy as np               # Пакет для работы с векторами и матрицами\n",
    "import matplotlib.pyplot as plt  # Пакет для строительства графиков\n",
    "import time            # Пакет для работы со временем. Например, помогает ставить заглушки \n",
    "                       # time.sleep(секунды), необходимые для того что ВК не банил нащего\n",
    "                       # сборщика данных из-за слишком частых запросов\n",
    "        \n",
    "# Пакет для красивых циклов. При желании его можно отключить. Тогда из всех циклов придётся \n",
    "# удалять команду tqdm_notebook.\n",
    "from tqdm import tqdm_notebook   # подробнее: https://github.com/tqdm/tqdm"
   ]
  },
  {
   "cell_type": "markdown",
   "metadata": {},
   "source": [
    "Чтобы задать вопрос API вконтакте, нужно сформировать ссылку следующего вида:\n",
    "\n",
    "> https://api.vk.com/method/METHOD_NAME?PARAMETERS&access_token=ACCESS_TOKEN\n",
    "\n",
    "> https://название_api/используемый_метод?параметры_метода&другие_опции&ключ_доступа\n",
    "\n",
    "В ссылку сначала встраивается метод, с помощью которого мы осуществляем запрос и какие-то параметры для этого метода. Cписок всех существующих методов и параметров можно изучить, конечно же, в [документации.](https://vk.com/dev/methods)\n",
    "\n",
    "Попробуем узнать своё имя. Метод `users.get`  возвращает расширенную информацию о пользователе. Параметр `user_ids` отвечает за `id` польователей, информацию о которых нам хотелось бы вытащить."
   ]
  },
  {
   "cell_type": "code",
   "execution_count": 31,
   "metadata": {},
   "outputs": [],
   "source": [
    "url = \"https://api.vk.com/method/users.get?user_ids=6045249&access_token=\"+str(token)"
   ]
  },
  {
   "cell_type": "code",
   "execution_count": 32,
   "metadata": {},
   "outputs": [
    {
     "data": {
      "text/plain": [
       "<Response [200]>"
      ]
     },
     "execution_count": 32,
     "metadata": {},
     "output_type": "execute_result"
    }
   ],
   "source": [
    "response = requests.get(url) \n",
    "response"
   ]
  },
  {
   "cell_type": "markdown",
   "metadata": {},
   "source": [
    "Ура! Благославенный 200-ответ! Мы получили его в удобном json формате, который python воспринимает как словарик. "
   ]
  },
  {
   "cell_type": "code",
   "execution_count": 33,
   "metadata": {},
   "outputs": [
    {
     "data": {
      "text/plain": [
       "{'response': [{'first_name': 'Филипп',\n",
       "   'last_name': 'Ульянкин',\n",
       "   'uid': 6045249}]}"
      ]
     },
     "execution_count": 33,
     "metadata": {},
     "output_type": "execute_result"
    }
   ],
   "source": [
    "my_name = response.json()\n",
    "my_name"
   ]
  },
  {
   "cell_type": "markdown",
   "metadata": {},
   "source": [
    "Со словарями очень удобно работать. Круто, когда можно узнать как тебя зовут с комфортом. "
   ]
  },
  {
   "cell_type": "code",
   "execution_count": 34,
   "metadata": {},
   "outputs": [
    {
     "data": {
      "text/plain": [
       "{'first_name': 'Филипп', 'last_name': 'Ульянкин', 'uid': 6045249}"
      ]
     },
     "execution_count": 34,
     "metadata": {},
     "output_type": "execute_result"
    }
   ],
   "source": [
    "infa = my_name['response'][0]\n",
    "infa"
   ]
  },
  {
   "cell_type": "markdown",
   "metadata": {},
   "source": [
    "Оформим всё, что мы сделали выше в виде удобной функции, которая будет пригодна для любых методов и параметров."
   ]
  },
  {
   "cell_type": "code",
   "execution_count": 35,
   "metadata": {},
   "outputs": [
    {
     "data": {
      "text/plain": [
       "{'response': [{'first_name': 'Филипп',\n",
       "   'last_name': 'Ульянкин',\n",
       "   'uid': 6045249}]}"
      ]
     },
     "execution_count": 35,
     "metadata": {},
     "output_type": "execute_result"
    }
   ],
   "source": [
    "def vk_download(method, parameters, token = token):\n",
    "    url = 'https://api.vk.com/method/'+method+'?'+parameters+'&access_token='+str(token)\n",
    "    response = requests.get(url) \n",
    "    return(response.json())\n",
    "\n",
    "vk_download('users.get','user_ids=6045249')"
   ]
  },
  {
   "cell_type": "markdown",
   "metadata": {},
   "source": [
    "В принципе это всё. Дальнейшая стратегия будет такой: открываем документацию, находим нужные метод и параметры и применяем их. Попробуем с помощью новых знаний решить несколько рисёрческих задачек. Начнём с психологии. \n",
    "\n",
    "Все цитаты в пабликах вконтакте делятся на два вида: мудрые и недостаточно мудрые. Если цитата мудрая, то её не грех репостнуть на стеночку. Поговаривают, что если в цитате есть личные местоимения, то пользователь автоматически сопоставляет себя автору этой цитаты и вероятность того, что она буде репостнута повышается. Например, цитату \n",
    "\n",
    "> Можно простить человеку все, кроме отсутствия. (Экзюпери) \n",
    "\n",
    "мне не очень хотелось бы репостить. А вот цитата \n",
    "\n",
    "> Мне наплевать, что вы обо мне думаете. Я о вас вообще не думаю. (Булгаков) \n",
    "\n",
    "совершенно другое дело. \n",
    "\n",
    "\n",
    "Гипотеза сформулирована. Глаза загорелись. Пришло время проверить её. \n",
    "\n",
    "## 3. Какая мудрость более мудрая \n",
    "\n",
    "Для начала выгрузим пару записей со своей стены, чтобы ещё раз осознать как это всё работает. В качестве ответа на запрос мы получим длинный страшный кусок текста. В этом куске текста будет абсолютно все, что есть у нас на стене. Ссылки на картинки, количество лайков под каждой записью, подробная история того как и откуда был сделан репост записи и так далее. Нас среди всего этого добра будут интересовать только лайки, репосты и просмотры. "
   ]
  },
  {
   "cell_type": "code",
   "execution_count": 36,
   "metadata": {},
   "outputs": [
    {
     "name": "stdout",
     "output_type": "stream",
     "text": [
      "172\n",
      "{'id': 7393, 'from_id': 6045249, 'to_id': 6045249, 'date': 1514221749, 'post_type': 'copy', 'text': 'Поделюсь личным опытом: летом мы участвовали в собственной избирательной кампании. Раздавали листовки, больше месяца ходили по квартирам, переговорили с огромным количеством людей. Колоссальная доля тех, с кем мы познакомились, придерживаются такого же мнения. Пора что-то менять. <br><br>Это были всего-навсего муниципальные выборы. Однако уже на этом уровне мы столкнулись с настоящими \"подковровыми играми\". Тихие сговоры, подкупы, воровство бюллетеней, распространение сплетен, фальсификация итогов голосования, прессование и много чего еще.<br><br>Все это мы видели собственными глазами, с этим мы боролись собственными руками. <br>Если готовиться, заранее изучать то, с чем столкнешься и то, как на это реагировать, то результаты на лицо!<br><br>Я ЛИЧНО поймала бабульку, которая делала небольшой, но все же вброс. <br>БОГДАН ЛИЧНО предотвратил фальсификацию итогов голосования. Для этого всей команде пришлось больше 1,5 суток искать, а потом караулить сбежавшего и закрывшегося в кабинете председателя комиссии (которую все это время прессовали 2 ее коллеги и звонки \"сверху\"). А потом в течение нескольких недель караулить по очереди бюллетени, постоянно держать набранными номера СМИ, участвовать в самых настоящих битвах за честные выборы. И эта борьба продолжается до сих пор. Буквально 2 недели назад были подкупные \\'жители нашего района\\', в чью работу входило освистывать и толпой прессовать тех, кто против текущих устоев.<br><br>Поэтому я присоединяюсь к словам Навального - посетите семинар о том, как можно контролировать выборы. Занятия проводятся массово и бесплатно. Идите наблюдателем (помните, что как в \"Золушке\", все метаморфозы происходят после 12 ночи), находитесь вместе с членами комиссии до последнего - до утра. Снимайте все на камеры, вы с большой вероятностью словите какой-нибудь вброс или правонарушение.<br><br>У нас получилось сделать наш район независимым. У Богдана получилось стать депутатом. Если идти до конца, то возможно многое!<br><br>Оригинал: https://vk.com/wall-125004421_1462404', 'copy_post_date': 1514219380, 'copy_post_type': 'post', 'copy_owner_id': 29709842, 'copy_post_id': 2752, 'can_delete': 1, 'can_pin': 1, 'post_source': {'type': 'vk'}, 'comments': {'count': 2, 'groups_can_post': True, 'can_post': 1}, 'likes': {'count': 3, 'user_likes': 0, 'can_like': 1, 'can_publish': 0}, 'reposts': {'count': 0, 'user_reposted': 0}, 'online': 1, 'reply_count': 2}\n"
     ]
    }
   ],
   "source": [
    "wall = vk_download('wall.get','user_ids=6045249')['response']\n",
    "print(wall[0])\n",
    "print(wall[1])"
   ]
  },
  {
   "cell_type": "code",
   "execution_count": 37,
   "metadata": {},
   "outputs": [
    {
     "data": {
      "text/plain": [
       "21"
      ]
     },
     "execution_count": 37,
     "metadata": {},
     "output_type": "execute_result"
    }
   ],
   "source": [
    "len(wall)"
   ]
  },
  {
   "cell_type": "markdown",
   "metadata": {},
   "source": [
    "Скачалось целых 20 записей. Первая запись - число постов на стене. При этом в графе `likes` лежит часть того, что мы жаждем. "
   ]
  },
  {
   "cell_type": "code",
   "execution_count": 38,
   "metadata": {},
   "outputs": [
    {
     "data": {
      "text/plain": [
       "{'can_like': 1, 'can_publish': 0, 'count': 6, 'user_likes': 0}"
      ]
     },
     "execution_count": 38,
     "metadata": {},
     "output_type": "execute_result"
    }
   ],
   "source": [
    "wall[3]['likes']"
   ]
  },
  {
   "cell_type": "markdown",
   "metadata": {},
   "source": [
    "Вытащим все лайки со стены. "
   ]
  },
  {
   "cell_type": "code",
   "execution_count": 39,
   "metadata": {},
   "outputs": [
    {
     "data": {
      "text/plain": [
       "[3, 13, 6, 9, 5, 9, 8, 21, 11, 1, 15, 11, 23, 7, 0, 1, 55, 7, 4, 3]"
      ]
     },
     "execution_count": 39,
     "metadata": {},
     "output_type": "execute_result"
    }
   ],
   "source": [
    "[item['likes']['count'] for item in wall[1:]]"
   ]
  },
  {
   "cell_type": "markdown",
   "metadata": {},
   "source": [
    "Отлично! Мы готовы сделать первый рисёрчерский вывод. Кажется, обладатель этой стены среднепопулярный парень... \n",
    "\n",
    "Теперь попробуем провернуть аналогичный трюк с лайками из какой-нибудь [мудрой группы.](https://vk.com/ooioioioioioo) Отметим, что при этом есть одна тонкость, которая прописана в [описании метода wall.get.](https://vk.com/dev/wall.get) Если мы хотим вытащить записи из группы, то ее id должен быть записан со знаком минус. Сразу же обратим внимание на то, что нам хотелось бы получить больше $20$ записей. Пороемся в документаци. Выясняем, что существуют такие параметры как `count` - число записей для скачки (не может превышать 100) и `offset` - смещение, необходимое для выборки определённого подмножества записей. "
   ]
  },
  {
   "cell_type": "code",
   "execution_count": 40,
   "metadata": {},
   "outputs": [
    {
     "data": {
      "text/plain": [
       "[40, 454, 359, 344, 304]"
      ]
     },
     "execution_count": 40,
     "metadata": {},
     "output_type": "execute_result"
    }
   ],
   "source": [
    "[item['likes']['count'] for item in vk_download('wall.get','owner_id=-26610299&count=5')['response'][1:]]"
   ]
  },
  {
   "cell_type": "code",
   "execution_count": 41,
   "metadata": {},
   "outputs": [
    {
     "data": {
      "text/plain": [
       "[359, 344, 304, 505, 328]"
      ]
     },
     "execution_count": 41,
     "metadata": {},
     "output_type": "execute_result"
    }
   ],
   "source": [
    "[item['likes']['count'] for item in vk_download('wall.get','owner_id=-26610299&count=5&offset=2')['response'][1:]]"
   ]
  },
  {
   "cell_type": "markdown",
   "metadata": {},
   "source": [
    "Отлично! Мы только что скачали со стены первые пять лайков, а затем ещё пять со сдвигом два. Обратите внимание, что вторыое три элемента первого списка и первые три второго совпадают.\n",
    "\n",
    "Дело осталось мизерное, написать цикл, который пройдёт по всей стенке и соберёт с неё лайки, тексты постов и репосты. "
   ]
  },
  {
   "cell_type": "code",
   "execution_count": 42,
   "metadata": {},
   "outputs": [
    {
     "name": "stdout",
     "output_type": "stream",
     "text": [
      "В группе целых 8761 мудростей\n"
     ]
    },
    {
     "data": {
      "application/vnd.jupyter.widget-view+json": {
       "model_id": "2da61eca2e2e407aa7784e68646d77a3",
       "version_major": 2,
       "version_minor": 0
      },
      "text/html": [
       "<p>Failed to display Jupyter Widget of type <code>HBox</code>.</p>\n",
       "<p>\n",
       "  If you're reading this message in the Jupyter Notebook or JupyterLab Notebook, it may mean\n",
       "  that the widgets JavaScript is still loading. If this message persists, it\n",
       "  likely means that the widgets JavaScript library is either not installed or\n",
       "  not enabled. See the <a href=\"https://ipywidgets.readthedocs.io/en/stable/user_install.html\">Jupyter\n",
       "  Widgets Documentation</a> for setup instructions.\n",
       "</p>\n",
       "<p>\n",
       "  If you're reading this message in another frontend (for example, a static\n",
       "  rendering on GitHub or <a href=\"https://nbviewer.jupyter.org/\">NBViewer</a>),\n",
       "  it may mean that your frontend doesn't currently support widgets.\n",
       "</p>\n"
      ],
      "text/plain": [
       "HBox(children=(IntProgress(value=0, max=89), HTML(value='')))"
      ]
     },
     "metadata": {},
     "output_type": "display_data"
    },
    {
     "name": "stdout",
     "output_type": "stream",
     "text": [
      "\n"
     ]
    }
   ],
   "source": [
    "# В этот словарик будем собирать информацию о лайках, репостах и текстах\n",
    "wall_inf = {'likes' : [ ],\n",
    "            'reposts' : [ ],\n",
    "            'text' : [ ]}\n",
    "\n",
    "# Выясним сколько всего в группе постов \n",
    "n = vk_download('wall.get','owner_id=-26610299')['response'][0] \n",
    "print('В группе целых', n, 'мудростей')\n",
    "\n",
    "# Цикл обёрнут в команду-вызыватель загрузочной строки. Можно её удалить.\n",
    "# Возможно, для её корректной работы понадобится виджеь, который можно \n",
    "# скачать вот тут: https://ipywidgets.readthedocs.io/en/stable/user_install.html\n",
    "\n",
    "for i in tqdm_notebook(range(0, n + 100, 100)): \n",
    "    # После каждого запроса будем ждать 0.4 секунды, иначе вк не отдаст данные. \n",
    "    # Чуть подробнее про заглушки мы ещё раз поговорим ниже. \n",
    "    time.sleep(0.4)\n",
    "    # Взяли себе очередные 100 записей со стены (не забываем что нулевая запись - длина стены)\n",
    "    # Именно поэтому мы её обрезаем. \n",
    "    wall = vk_download('wall.get','owner_id=-26610299&count=100&offset='+str(i))['response'][1:]\n",
    "    # Вытащили лайки \n",
    "    new_likes = [item['likes']['count'] for item in wall]\n",
    "    # Вытащили репосты \n",
    "    new_reposts = [item['reposts']['count'] for item in wall]\n",
    "    # Вытащили тексты постов \n",
    "    new_text = [item['text'] for item in wall]\n",
    "    # Закинули всё это добро в словарик с данными \n",
    "    wall_inf['likes'].extend(new_likes)\n",
    "    wall_inf['reposts'].extend(new_reposts)\n",
    "    wall_inf['text'].extend(new_text)"
   ]
  },
  {
   "cell_type": "markdown",
   "metadata": {},
   "source": [
    "Обратите внимание, что для сообществ нельзя делать более 20 запросов в секунду! Про все существующие ограничения можно прочесть всё в той же самой [документации.](https://vk.com/dev/api_requests?f=3.1.%20Частотные%20ограничения) В наших руках тем временем оказалось очень много мудрости. Превратим всю нашу мудрость в таблицу."
   ]
  },
  {
   "cell_type": "code",
   "execution_count": 43,
   "metadata": {},
   "outputs": [
    {
     "data": {
      "text/html": [
       "<div>\n",
       "<style scoped>\n",
       "    .dataframe tbody tr th:only-of-type {\n",
       "        vertical-align: middle;\n",
       "    }\n",
       "\n",
       "    .dataframe tbody tr th {\n",
       "        vertical-align: top;\n",
       "    }\n",
       "\n",
       "    .dataframe thead th {\n",
       "        text-align: right;\n",
       "    }\n",
       "</style>\n",
       "<table border=\"1\" class=\"dataframe\">\n",
       "  <thead>\n",
       "    <tr style=\"text-align: right;\">\n",
       "      <th></th>\n",
       "      <th>likes</th>\n",
       "      <th>reposts</th>\n",
       "      <th>text</th>\n",
       "    </tr>\n",
       "  </thead>\n",
       "  <tbody>\n",
       "    <tr>\n",
       "      <th>0</th>\n",
       "      <td>40</td>\n",
       "      <td>0</td>\n",
       "      <td>Новый формат нашей группы в инстаграме - @m.vk...</td>\n",
       "    </tr>\n",
       "    <tr>\n",
       "      <th>1</th>\n",
       "      <td>454</td>\n",
       "      <td>14</td>\n",
       "      <td>Итак, объявляю вас бывшим мужем и бывшей женой...</td>\n",
       "    </tr>\n",
       "    <tr>\n",
       "      <th>2</th>\n",
       "      <td>359</td>\n",
       "      <td>15</td>\n",
       "      <td>Когда читаешь роман какой-нибудь, то кажется, ...</td>\n",
       "    </tr>\n",
       "    <tr>\n",
       "      <th>3</th>\n",
       "      <td>344</td>\n",
       "      <td>17</td>\n",
       "      <td>Этим вечером она поняла, что при желании люди,...</td>\n",
       "    </tr>\n",
       "    <tr>\n",
       "      <th>4</th>\n",
       "      <td>304</td>\n",
       "      <td>24</td>\n",
       "      <td>Ничем нельзя оправдать, когда кто-то решает за...</td>\n",
       "    </tr>\n",
       "  </tbody>\n",
       "</table>\n",
       "</div>"
      ],
      "text/plain": [
       "   likes  reposts                                               text\n",
       "0     40        0  Новый формат нашей группы в инстаграме - @m.vk...\n",
       "1    454       14  Итак, объявляю вас бывшим мужем и бывшей женой...\n",
       "2    359       15  Когда читаешь роман какой-нибудь, то кажется, ...\n",
       "3    344       17  Этим вечером она поняла, что при желании люди,...\n",
       "4    304       24  Ничем нельзя оправдать, когда кто-то решает за..."
      ]
     },
     "execution_count": 43,
     "metadata": {},
     "output_type": "execute_result"
    }
   ],
   "source": [
    "df_wise = pd.DataFrame(wall_inf)\n",
    "df_wise.head()"
   ]
  },
  {
   "cell_type": "markdown",
   "metadata": {},
   "source": [
    "Возьмём все наши мудрые цитаты, уменьшим в них литеры методом `.lower()`, а после разобьём их по пробелам на слова методом `.split(' ')`. После мы сможем проверить есть ли в цитате местоимение \"я\"."
   ]
  },
  {
   "cell_type": "code",
   "execution_count": 44,
   "metadata": {},
   "outputs": [
    {
     "data": {
      "text/plain": [
       "['когда',\n",
       " 'читаешь',\n",
       " 'роман',\n",
       " 'какой-нибудь,',\n",
       " 'то',\n",
       " 'кажется,',\n",
       " 'что',\n",
       " 'все',\n",
       " 'это',\n",
       " 'старо,',\n",
       " 'и',\n",
       " 'все',\n",
       " 'так',\n",
       " 'понятно,',\n",
       " 'а',\n",
       " 'как',\n",
       " 'сама',\n",
       " 'полюбишь,',\n",
       " 'то',\n",
       " 'и',\n",
       " 'видно',\n",
       " 'тебе,',\n",
       " 'что',\n",
       " 'никто',\n",
       " 'ничего',\n",
       " 'не',\n",
       " 'знает',\n",
       " 'и',\n",
       " 'каждый',\n",
       " 'должен',\n",
       " 'решать',\n",
       " 'сам',\n",
       " 'за',\n",
       " 'себя...',\n",
       " '',\n",
       " '<br><br>а.',\n",
       " 'чехов,',\n",
       " '\"три',\n",
       " 'сестры\"']"
      ]
     },
     "execution_count": 44,
     "metadata": {},
     "output_type": "execute_result"
    }
   ],
   "source": [
    "df_wise.text[2].lower().split(' ')"
   ]
  },
  {
   "cell_type": "code",
   "execution_count": 45,
   "metadata": {},
   "outputs": [
    {
     "data": {
      "text/plain": [
       "2466"
      ]
     },
     "execution_count": 45,
     "metadata": {},
     "output_type": "execute_result"
    }
   ],
   "source": [
    "df_wise['I'] = ['я' in post.lower().split(' ') for post in df_wise.text]\n",
    "df_wise['I'].sum( ) "
   ]
  },
  {
   "cell_type": "markdown",
   "metadata": {},
   "source": [
    "Отлично! Местоимение \"я\" содержится в довольно большой части выборки. Наблюдений для проверки гипотезы нам очень даже хватает. Посчитаем среднее число лайков и среднее число репостов для постов обоих типов. "
   ]
  },
  {
   "cell_type": "code",
   "execution_count": 46,
   "metadata": {},
   "outputs": [
    {
     "data": {
      "text/plain": [
       "likes      2926.218978\n",
       "reposts     122.755069\n",
       "I             1.000000\n",
       "dtype: float64"
      ]
     },
     "execution_count": 46,
     "metadata": {},
     "output_type": "execute_result"
    }
   ],
   "source": [
    "df_wise[df_wise['I'] == 1].mean(axis=0)"
   ]
  },
  {
   "cell_type": "code",
   "execution_count": 47,
   "metadata": {},
   "outputs": [
    {
     "data": {
      "text/plain": [
       "likes      2832.662113\n",
       "reposts     116.467196\n",
       "I             0.000000\n",
       "dtype: float64"
      ]
     },
     "execution_count": 47,
     "metadata": {},
     "output_type": "execute_result"
    }
   ],
   "source": [
    "df_wise[df_wise['I'] == 0].mean(axis=0)"
   ]
  },
  {
   "cell_type": "code",
   "execution_count": 48,
   "metadata": {},
   "outputs": [
    {
     "data": {
      "image/png": "[encoded data removed]",
      "text/plain": [
       "<matplotlib.figure.Figure at 0x10cbcbfd0>"
      ]
     },
     "metadata": {},
     "output_type": "display_data"
    }
   ],
   "source": [
    "# Картиночки\n",
    "plt.figure(figsize=(15, 4))\n",
    "plt.subplot(1,2,1)\n",
    "df_wise[df_wise['I'] == 1]['likes'].plot.hist(title='Цитаты, с местоимением')\n",
    "\n",
    "plt.subplot(1,2,2)\n",
    "df_wise[df_wise['I'] == 0]['likes'].plot.hist(title='Цитаты без местоимения')\n",
    "\n",
    "plt.show()"
   ]
  },
  {
   "cell_type": "markdown",
   "metadata": {},
   "source": [
    "Хмм... Под постами без этого чудного местоимения лайков и репостов, в среднем, поменьше. Проверим значимо ли это различие для лайков. Репосты останутся как домашнее задание.  \n",
    "\n",
    "$H_0\\colon$ в среднем посты лайкают одинаково. \n",
    "\n",
    "$H_1\\colon$ не одинаково.\n",
    "\n",
    "О боже! Это же гипотеза о равенстве средних значений двух произвольно распределённых случайных величин. Вычислим значение $t$-статистики, которая будет иметь асимптотически нормальное распределение и сравним её значение с критическим. Будем при этом считать, что дисперсии у наших случайных величин, разные. "
   ]
  },
  {
   "cell_type": "code",
   "execution_count": 49,
   "metadata": {},
   "outputs": [
    {
     "data": {
      "text/plain": [
       "Ttest_indResult(statistic=2.5840213796172948, pvalue=0.0097971562221424967)"
      ]
     },
     "execution_count": 49,
     "metadata": {},
     "output_type": "execute_result"
    }
   ],
   "source": [
    "# Модуль для првоерки гипотез \n",
    "import scipy.stats\n",
    "\n",
    "likes_I = np.array(df_wise[df_wise['I'] == 1]['likes'])\n",
    "likes_noI = np.array(df_wise[df_wise['I'] == 0]['likes'])\n",
    "\n",
    "scipy.stats.ttest_ind(likes_I , likes_noI, equal_var = False)"
   ]
  },
  {
   "cell_type": "markdown",
   "metadata": {},
   "source": [
    "Гипотеза о равенстве средних для данного паблика отвергается на 5% уровне значимости. Вы владелец этого паблика? Постите побольше цитат с местоимением \"Я\" и успех к вам придёт (но это неточно)."
   ]
  },
  {
   "cell_type": "markdown",
   "metadata": {},
   "source": [
    "Пришло время сделать что-нибудь банальное. Настолько банальное, что читатель скажет \"Да вы лрпкрпзшпгйп3рхйп3ршхпх, это же уже было и я рпкшрп3ршгпкшгкйпщошцуждауш вас всех!!!\" \n",
    "\n",
    "## 4. Друзья и графы\n",
    "\n",
    "### 4.1 Выкачиваем друзей \n",
    "\n",
    "Скачаем с помощью метода [`friends.get`](https://vk.com/dev/friends.get) всех своих друзей, а после построим их граф.  "
   ]
  },
  {
   "cell_type": "code",
   "execution_count": 50,
   "metadata": {},
   "outputs": [
    {
     "data": {
      "text/plain": [
       "[11105, 56572, 238896, 347530, 530312]"
      ]
     },
     "execution_count": 50,
     "metadata": {},
     "output_type": "execute_result"
    }
   ],
   "source": [
    "friends_ids = vk_download('friends.get','user_ids=6045249')\n",
    "friends_ids = friends_ids['response']\n",
    "friends_ids[:5]"
   ]
  },
  {
   "cell_type": "markdown",
   "metadata": {},
   "source": [
    "Вот они, все мои друзья! "
   ]
  },
  {
   "cell_type": "code",
   "execution_count": 51,
   "metadata": {},
   "outputs": [
    {
     "data": {
      "text/plain": [
       "356"
      ]
     },
     "execution_count": 51,
     "metadata": {},
     "output_type": "execute_result"
    }
   ],
   "source": [
    "len(friends_ids)"
   ]
  },
  {
   "cell_type": "markdown",
   "metadata": {},
   "source": [
    "На самом деле метод `friends.get` предусматривает огромное количество параметров, среди них есть параметр `fields`, который отвечает за то какую именно информацию о друзьях нужно вернуть. Спектр этой информации довольно широкий. От пола до университета. \n",
    "\n",
    "Если этот параметр никак не задействовать, то функция в качестве ответа выдаст список ID. Если его задействовать в совершенно любом виде, то в добавок к дополнительной информации появятся еще и имена. Нам для построение графа достаточно будет знать только ID всех друзей. Однако можно сделать граф более красивым. С именами, а может быть даже фотографиями. \n",
    "\n",
    "Для построения графа нам понадобится метод `friends.getMutual`, который возвращает список общих друзей с каким-нибудь человеком. "
   ]
  },
  {
   "cell_type": "code",
   "execution_count": 52,
   "metadata": {},
   "outputs": [
    {
     "data": {
      "text/plain": [
       "40"
      ]
     },
     "execution_count": 52,
     "metadata": {},
     "output_type": "execute_result"
    }
   ],
   "source": [
    "# Например, вот столько общех друзей у меня с юзером 10592581\n",
    "len(vk_download('friends.getMutual','target_uid=10592581')['response'])"
   ]
  },
  {
   "cell_type": "markdown",
   "metadata": {},
   "source": [
    "Вытаскиваем общих друзей для каждого из своих друзей и записываем в словарик, по которому мы впоследствии будем строить наш граф."
   ]
  },
  {
   "cell_type": "code",
   "execution_count": 53,
   "metadata": {},
   "outputs": [
    {
     "data": {
      "application/vnd.jupyter.widget-view+json": {
       "model_id": "2e248323b2c84e66a7eeb86cfe9b9046",
       "version_major": 2,
       "version_minor": 0
      },
      "text/html": [
       "<p>Failed to display Jupyter Widget of type <code>HBox</code>.</p>\n",
       "<p>\n",
       "  If you're reading this message in the Jupyter Notebook or JupyterLab Notebook, it may mean\n",
       "  that the widgets JavaScript is still loading. If this message persists, it\n",
       "  likely means that the widgets JavaScript library is either not installed or\n",
       "  not enabled. See the <a href=\"https://ipywidgets.readthedocs.io/en/stable/user_install.html\">Jupyter\n",
       "  Widgets Documentation</a> for setup instructions.\n",
       "</p>\n",
       "<p>\n",
       "  If you're reading this message in another frontend (for example, a static\n",
       "  rendering on GitHub or <a href=\"https://nbviewer.jupyter.org/\">NBViewer</a>),\n",
       "  it may mean that your frontend doesn't currently support widgets.\n",
       "</p>\n"
      ],
      "text/plain": [
       "HBox(children=(IntProgress(value=0, max=356), HTML(value='')))"
      ]
     },
     "metadata": {},
     "output_type": "display_data"
    },
    {
     "name": "stdout",
     "output_type": "stream",
     "text": [
      "\n"
     ]
    }
   ],
   "source": [
    "infa = { }\n",
    "for friend in tqdm_notebook(friends_ids):\n",
    "    current = vk_download('friends.getMutual','target_uid='+str(friend))\n",
    "    infa[friend] = current   "
   ]
  },
  {
   "cell_type": "markdown",
   "metadata": {},
   "source": [
    "Изучим поподробнее информацию, которую мы скачали и увидим пару странностей, а именно: \n",
    "\n",
    "```   \n",
    "382202404: {'error': {'error_code': 6,\n",
    "   'error_msg': 'Too many requests per second',\n",
    "   'request_params': [{'key': 'oauth', 'value': '1'},\n",
    "    {'key': 'method', 'value': 'friends.getMutual'},\n",
    "    {'key': 'target_uid', 'value': '382202404'}]}}\n",
    "\n",
    "```\n",
    "\n",
    "Откуда берутся такие друзья? На любой респонс всегда найдётся свой реквест! Посетим страничку такого друга...\n",
    "Это вполне себе живой друг, информация для которого не выкачалась. Почему? Потому что, как уже упоминалось, есть ограничения, и мы в секунду сделали слишком много запросов... \n",
    "\n",
    "Вот беда... Код слишком быстрый. Нужно научить его ждать. Сделать это нам поможет пакет `time`. \n",
    "\n",
    "<img align=\"center\" src=\"https://raw.githubusercontent.com/FUlyankin/vk_grand_research/master/images/waiter.jpg\" height=\"450\" width=\"450\"> \n",
    "\n",
    "\n",
    "Вроде бы Вконтакте позволяет делать не более 3 запросов в секунду. Поэтому будем выжидать после кажой итерации $0.4$ секнуды, чтобы не пробить лимиты. "
   ]
  },
  {
   "cell_type": "code",
   "execution_count": 54,
   "metadata": {},
   "outputs": [
    {
     "data": {
      "application/vnd.jupyter.widget-view+json": {
       "model_id": "0405a89aa9a24f42a8fc9863fdbfd6b8",
       "version_major": 2,
       "version_minor": 0
      },
      "text/html": [
       "<p>Failed to display Jupyter Widget of type <code>HBox</code>.</p>\n",
       "<p>\n",
       "  If you're reading this message in the Jupyter Notebook or JupyterLab Notebook, it may mean\n",
       "  that the widgets JavaScript is still loading. If this message persists, it\n",
       "  likely means that the widgets JavaScript library is either not installed or\n",
       "  not enabled. See the <a href=\"https://ipywidgets.readthedocs.io/en/stable/user_install.html\">Jupyter\n",
       "  Widgets Documentation</a> for setup instructions.\n",
       "</p>\n",
       "<p>\n",
       "  If you're reading this message in another frontend (for example, a static\n",
       "  rendering on GitHub or <a href=\"https://nbviewer.jupyter.org/\">NBViewer</a>),\n",
       "  it may mean that your frontend doesn't currently support widgets.\n",
       "</p>\n"
      ],
      "text/plain": [
       "HBox(children=(IntProgress(value=0, max=356), HTML(value='')))"
      ]
     },
     "metadata": {},
     "output_type": "display_data"
    },
    {
     "name": "stdout",
     "output_type": "stream",
     "text": [
      "\n",
      "Количество пользователей, удаливших свою страничку:  10\n"
     ]
    }
   ],
   "source": [
    "k = 0  # счётчки для пересчёта плохих друзей\n",
    "infa = { }\n",
    "for friend in tqdm_notebook(friends_ids):\n",
    "    time.sleep(0.4)  # Спать!  \n",
    "    try:\n",
    "        infa[friend] = vk_download('friends.getMutual','target_uid='+str(friend))['response']\n",
    "    # Если юзер выпилил себя из контакта, то код выше выдаст ошибку, т.к. для такого пользователя\n",
    "    # не будет респонса, а будет ошибка. Подсчитаем количество таких пользователей. \n",
    "    except:\n",
    "        infa[friend] = [ ]\n",
    "        k = k + 1\n",
    "print('Количество пользователей, удаливших свою страничку: ', k)"
   ]
  },
  {
   "cell_type": "markdown",
   "metadata": {},
   "source": [
    "Итак, количество плохих друзей в нашем списке уменьшилось. Посмотрим кто там остался. \n",
    "\n",
    "```\n",
    "1310129: {'error': {'error_code': 15,\n",
    "   'error_msg': 'Access denied: user deactivated',\n",
    "   'request_params': [{'key': 'oauth', 'value': '1'},\n",
    "    {'key': 'method', 'value': 'friends.getMutual'},\n",
    "    {'key': 'target_uid', 'value': '1310129'}]}},\n",
    "```\n",
    "\n",
    "Ага! Деактивэйтед юзерс. Или просто люди, которые удалили свою страницу. \n",
    "\n",
    "\n",
    "\n",
    "<img align=\"center\" src=\"https://raw.githubusercontent.com/FUlyankin/vk_grand_research/master/images/vk_del.jpg\" height=\"450\" width=\"450\">\n"
   ]
  },
  {
   "cell_type": "markdown",
   "metadata": {},
   "source": [
    "Пока работал этот кусок кода, я успел пересчитать всех таких пользователей. Всё сходится! Друзей скачали. Пришло время рисовать граф. \n",
    "\n",
    "\n",
    "###  4.2 Networkx \n",
    "\n",
    "Попробуем немного поанализировать граф своих друзей. В анализе графа нм поможет библиотека `networkx`. Если у вас её нет, наверное, есть смысл её установить. \n",
    "\n",
    "``` pip3 install networkx```\n",
    "\n",
    "В этой библиотеке реализовано довольно [много крутых алгоритмов](https://networkx.github.io/documentation/networkx-1.9/reference/algorithms.html) на графах. Более того, по ним сделана довольно красивая [документация.](https://networkx.github.io/documentation/stable/) \n",
    "\n",
    "Также мы будем использовать в ходе нашего анализа пакет `nxviz`. Его также не помешает установть.\n",
    "\n",
    "``` pip3 install nxviz```\n",
    "\n",
    "Итак, создаём граф и рисуем наши первые картинки! "
   ]
  },
  {
   "cell_type": "code",
   "execution_count": 60,
   "metadata": {},
   "outputs": [],
   "source": [
    "import networkx as nx             # Пакет для работы с графами\n",
    "import nxviz as nv                # Немного визуализаций \n",
    "\n",
    "import matplotlib.pyplot as plt   # Пакет для визуализации\n",
    "plt.style.use('ggplot')           # Правильный стиль для отрисовки картинок\n",
    "%matplotlib inline               "
   ]
  },
  {
   "cell_type": "markdown",
   "metadata": {},
   "source": [
    "Прошу любить и жаловать! Граф друзей."
   ]
  },
  {
   "cell_type": "code",
   "execution_count": 61,
   "metadata": {},
   "outputs": [
    {
     "data": {
      "image/png": "[encoded data removed]",
      "text/plain": [
       "<matplotlib.figure.Figure at 0x109bd02e8>"
      ]
     },
     "metadata": {},
     "output_type": "display_data"
    }
   ],
   "source": [
    "plt.figure(figsize=(8,8))\n",
    "\n",
    "FG = nx.from_dict_of_lists(infa)\n",
    "nx.draw(FG, node_size=30,  linewidths=0.05, cmap=True)"
   ]
  },
  {
   "cell_type": "markdown",
   "metadata": {},
   "source": [
    "Скорее всего, вы за свою жизнь никогда не встречали настолько уродливую визуализацию. Я тоже. Нарисуем матрицу связности для нашего графа. Темные точки означают наличие рёбер. "
   ]
  },
  {
   "cell_type": "code",
   "execution_count": null,
   "metadata": {},
   "outputs": [],
   "source": [
    "m = nv.MatrixPlot(IG)\n",
    "m.draw()"
   ]
  },
  {
   "cell_type": "markdown",
   "metadata": {},
   "source": [
    "Бьюсь об заклад, что вы ожидали не такой убогой картинки. Можно полазить по документации и попытаться среди кучи [убогих картинок](https://networkx.github.io/documentation/networkx-1.10/examples/drawing/index.html) выбрать наименее убогую. В конечном счёте, скорее всего, получится что-то вроде [вот этого.](http://blog.esemi.ru/2011/12/networkx-python.html) "
   ]
  },
  {
   "cell_type": "code",
   "execution_count": null,
   "metadata": {},
   "outputs": [],
   "source": [
    "plt.figure(figsize=(50,50))\n",
    "\n",
    "label_names = {item : ikanam_info[item]['name'] for item in IG.nodes()}\n",
    "nx.draw_spring(IG, labels=label_names , with_labels = True, node_size=0, linewidths=0.01,\n",
    "         font_size=35, font_color=\"Blue\",  alpha=0.7, cmap = True)"
   ]
  },
  {
   "cell_type": "markdown",
   "metadata": {},
   "source": [
    "Пакет `NetworkX` даёт довольно тошнотворные визуализации. Конечно же можно как следует поднапрячься, засесть на пару суток и родить граф-конфетку внутренними средствами пакета. Однако мы пойдём другой дорогой.\n",
    "\n",
    "Если как следует погуглить, то можно найти [вот такое вот офигенное приложение](http://www.yasiv.com/vk) для контакта, которое строит граф друзей. Только дай ему доступ и на выход ты получишь вот такую офигительную интерактивную, быстро работающую штуку. \n",
    "\n",
    "<img align=\"center\" src=\"images/2. loises_and_graph/d3_fr_gr.png\" width=\"900\"> \n",
    "\n",
    "<br>\n",
    "\n",
    "Можно добавлять людей, рскрашивать рёбра в другие цвета и всё такое. Можно даже выкинуть какого-нибудь человека и посмотреть на то как граф разваливается на части и освободившиеся вершины разлетаются в разные стороны. Эта визуализация богоподобна, а её автор гений.  Мой горький опыт говорит мне о том, что каждая хорошая визуализация это великое страдание. Чтобы построить такую прекрасную визуализацию, автор страдал довольно долго. Он писал на java script для визуализации [свою библиотеку.](https://github.com/anvaka/VivaGraphJS) На хабре можно найти [его статью](https://habrahabr.ru/post/144758/) об этом. \n",
    "\n",
    "Мы попробуем родить нечто похожее. К моему превиликому сожалению, я не могу в javascript, поэтому мы будем рожать нечто похожее по уже готовым шаблонам. Из статьи выше можно узать, что основным тормозом подобных визуализаций является браузерный код отрисовки элементов. Автору удалось перетащить это бутылочное горлышко в свой алгоритм укладки. Благодаря этому его визуализация работает быстро. Это плохая новость для нас. Наш шаблон будет хорош только для маленьких графов. Большие будут сильно тормозить."
   ]
  },
  {
   "cell_type": "markdown",
   "metadata": {},
   "source": [
    "В сети выложено довольно много [шаблонов с красивым интерактивом.](https://github.com/d3/d3/wiki/Gallery) Люди, которые выкладывают эти визуализации в сеть - прекрасны. Они делают нас на шаг ближе к дзену, ровно как и команда `import this`. \n",
    "\n",
    "Нас будет интересовать [шаблон графа.](https://bl.ocks.org/mbostock/4062045) В конечном счёте, мы сможем открывать его в отдельной вкладке и дёргать за вершины. Возьмём шаблон и разберёмся в том как его правильно использовать. На страничке с описанием графа есть две вставки. Одна из них называется index.html \n",
    "\n",
    "<img align=\"center\" src=\"images/2. loises_and_graph/d3_index.png\" width=\"550\"> \n",
    "\n",
    "В этой вставке задаётся внешний вид графа и его моторика. Если вы знаете javascript или просто (как я) обладаете хорошей интуицией и можете в метод тыка и гугл, вы можете видоизменить дизайн графа.  Вторая вставка называется miserables.json.\n",
    "\n",
    "<img align=\"center\" src=\"images/2. loises_and_graph/miserables.png\"  width=\"550\"> \n",
    "\n",
    "В этой вставке находится содержимое графа. В виде словарика задаётся какие вершины с какими соединяются и как подписываются. Эти два куска кода можно скопировать к себе на рабочий стол в два разных текстовых файла. \n",
    "\n",
    "<img align=\"center\" src=\"images/2. loises_and_graph/d3_desktop.png\" width=\"300\"> \n",
    "\n",
    "Теперь, если открыть файл index.html в браузере firefox, вашему взору предстанет та самая визуализация с сайта. \n",
    "\n",
    "<img align=\"center\" src=\"images/2. loises_and_graph/d3_firefox.png\" width=\"700\"> \n",
    "\n",
    "Наша задача заключается в следующем: мы должны сгенерировать словарик со своими друзьями и связями между ними, а после закинуть его в файл miserables.json. Таким образом, интерактивная визуализация будет готова и мы даже сможем поделиться ей со своими друзьями.\n",
    "\n",
    "Итак, сгенерируем словарик следущего вида: \n",
    "\n",
    "```\n",
    "{ \n",
    "\"nodes\": [ \n",
    "        {\"id\":\"Aлександр Конев\", \"group\":1}, \n",
    "        {\"id\":\"Александр Тишин\", \"group\":1}, \n",
    "        {\"id\":\"Давыдкина Кристина\",\"group\":1} \n",
    "        ], \n",
    "\"links\":[ \n",
    "        {\"source\":\"Aлександр Конев\", \"target\":\"Александр Тишин\", \"value\":1}, \n",
    "        {\"source\":\"Aлександр Конев\", \"target\":\"Давыдкина Кристина\", \"value\":8} \n",
    "        ] \n",
    "}\n",
    "```\n",
    "\n",
    "Первый список - вершины. Цифра в `group` отвечает за цвет вершины. Второй список - рёбра. `source` и `target` означают вершины, которые нужно соединить ребром. Цифра в `value`, судя по всему, отвечает за толщину ребра. Построить такой json-словарик нам поможет замечательный файлике `ikanam_info`, который выглядит следующим образом и преследует нас уже довольно давно. "
   ]
  },
  {
   "cell_type": "markdown",
   "metadata": {},
   "source": [
    "Выкачиваем по каждому другу информацию о имени, фамилии и полу."
   ]
  },
  {
   "cell_type": "code",
   "execution_count": 100,
   "metadata": {},
   "outputs": [
    {
     "data": {
      "text/plain": [
       "{'response': [{'first_name': 'Алексей',\n",
       "   'last_name': 'Реуэль',\n",
       "   'photo': 'https://pp.userapi.com/c633631/v633631105/15484/foQ5GgvvYc4.jpg',\n",
       "   'sex': 2,\n",
       "   'uid': 11105}]}"
      ]
     },
     "execution_count": 100,
     "metadata": {},
     "output_type": "execute_result"
    }
   ],
   "source": [
    "res = vk_download('users.get','user_ids='+str(11105)+'&fields=sex')\n",
    "res"
   ]
  },
  {
   "cell_type": "code",
   "execution_count": 90,
   "metadata": {},
   "outputs": [
    {
     "data": {
      "text/plain": [
       "'Реуэль Алексей'"
      ]
     },
     "execution_count": 90,
     "metadata": {},
     "output_type": "execute_result"
    }
   ],
   "source": [
    "# Имя \n",
    "res['response'][0]['last_name'] + ' ' + res['response'][0]['first_name']"
   ]
  },
  {
   "cell_type": "code",
   "execution_count": 91,
   "metadata": {},
   "outputs": [
    {
     "data": {
      "text/plain": [
       "2"
      ]
     },
     "execution_count": 91,
     "metadata": {},
     "output_type": "execute_result"
    }
   ],
   "source": [
    "# Пол \n",
    "res['response'][0]['sex']"
   ]
  },
  {
   "cell_type": "code",
   "execution_count": 101,
   "metadata": {},
   "outputs": [
    {
     "data": {
      "text/plain": [
       "'https://pp.userapi.com/c633631/v633631105/15484/foQ5GgvvYc4.jpg'"
      ]
     },
     "execution_count": 101,
     "metadata": {},
     "output_type": "execute_result"
    }
   ],
   "source": [
    "# Фотка в самом плохом качестве \n",
    "res['response'][0]['photo']"
   ]
  },
  {
   "cell_type": "markdown",
   "metadata": {},
   "source": [
    "У нас уже есть словарик `infa`, где по ключу `id` хранится список из друзей, с которыми есть связь. Создадим ещё один словарик `id_names`, где по ключу `id` будет храниться базовая информация про юзера (фотка, имя , пол)."
   ]
  },
  {
   "cell_type": "code",
   "execution_count": 140,
   "metadata": {},
   "outputs": [
    {
     "data": {
      "application/vnd.jupyter.widget-view+json": {
       "model_id": "c7c165b5c81541b4afc976ad3b853cb1",
       "version_major": 2,
       "version_minor": 0
      },
      "text/html": [
       "<p>Failed to display Jupyter Widget of type <code>HBox</code>.</p>\n",
       "<p>\n",
       "  If you're reading this message in the Jupyter Notebook or JupyterLab Notebook, it may mean\n",
       "  that the widgets JavaScript is still loading. If this message persists, it\n",
       "  likely means that the widgets JavaScript library is either not installed or\n",
       "  not enabled. See the <a href=\"https://ipywidgets.readthedocs.io/en/stable/user_install.html\">Jupyter\n",
       "  Widgets Documentation</a> for setup instructions.\n",
       "</p>\n",
       "<p>\n",
       "  If you're reading this message in another frontend (for example, a static\n",
       "  rendering on GitHub or <a href=\"https://nbviewer.jupyter.org/\">NBViewer</a>),\n",
       "  it may mean that your frontend doesn't currently support widgets.\n",
       "</p>\n"
      ],
      "text/plain": [
       "HBox(children=(IntProgress(value=0, max=355), HTML(value='')))"
      ]
     },
     "metadata": {},
     "output_type": "display_data"
    },
    {
     "name": "stdout",
     "output_type": "stream",
     "text": [
      "\n"
     ]
    }
   ],
   "source": [
    "id_names = { } # В этом словарике будем хранить информацию про юзера\n",
    "\n",
    "for fr in tqdm_notebook(friends_ids):\n",
    "    time.sleep(0.4)   # Не забываем отдохнуть между запросами\n",
    "    try:\n",
    "        cur_el = { }      # Информация по текущему другу будет храниться тут \n",
    "        res = vk_download('users.get','user_ids='+str(fr)+'&fields=sex,photo')['response'][0]\n",
    "        cur_el[\"id\"] = res['last_name'] + ' ' + res['first_name']\n",
    "        cur_el[\"group\"] = res['sex']\n",
    "        # Закидываем нового человека в словарик \n",
    "        id_names[fr] = cur_el        \n",
    "    except:\n",
    "        # Если скачка не удалась, выведем сообщение об ошибке\n",
    "        print('Ошибка с ', fr)"
   ]
  },
  {
   "cell_type": "code",
   "execution_count": 141,
   "metadata": {},
   "outputs": [
    {
     "data": {
      "text/plain": [
       "{'group': 1,\n",
       " 'id': 'Лепихина Анна',\n",
       " 'photo': 'https://pp.userapi.com/c622120/v622120897/3c056/WQmnokE17gU.jpg'}"
      ]
     },
     "execution_count": 141,
     "metadata": {},
     "output_type": "execute_result"
    }
   ],
   "source": [
    "id_names[12846897]"
   ]
  },
  {
   "cell_type": "markdown",
   "metadata": {},
   "source": [
    "Отлично! Теперь на основе словариков `id_names` и `infa` мы модем сделать необходимый нам .json файлик. "
   ]
  },
  {
   "cell_type": "code",
   "execution_count": 142,
   "metadata": {},
   "outputs": [
    {
     "name": "stdout",
     "output_type": "stream",
     "text": [
      "[{'id': 'Реуэль Алексей', 'group': 2, 'photo': 'https://pp.userapi.com/c633631/v633631105/15484/foQ5GgvvYc4.jpg'}, {'id': 'Фёдоровых Данил', 'group': 2, 'photo': 'https://pp.userapi.com/c837721/v837721572/11dbe/hXbjkcNCwyo.jpg'}, {'id': 'Ульянкина Лариса', 'group': 1, 'photo': 'https://pp.userapi.com/c836328/v836328563/4e026/8_8wcMMVpio.jpg'}, {'id': 'Матросова Ксения', 'group': 1, 'photo': 'https://pp.userapi.com/c628028/v628028530/4d51b/qxdnhj1yOkY.jpg'}, {'id': 'Кильметов Ильдар', 'group': 2, 'photo': 'https://pp.userapi.com/c303508/u530312/e_6cb735dc.jpg'}]\n",
      "\n",
      "\n",
      "[{'source': 'Реуэль Алексей', 'target': 'Колупаева Анна', 'value': 1}, {'source': 'Реуэль Алексей', 'target': 'Карасёва Ксения', 'value': 1}, {'source': 'Реуэль Алексей', 'target': 'Алфеева Ольга', 'value': 1}, {'source': 'Реуэль Алексей', 'target': 'Цепанина Катя', 'value': 1}, {'source': 'Реуэль Алексей', 'target': 'Богданова Алёна', 'value': 1}]\n"
     ]
    }
   ],
   "source": [
    "nodes = [ ]  # Тут будем хранить вершины\n",
    "links = [ ]  # Тут будем хранить рёбра \n",
    "for fr in infa.keys():\n",
    "    nodes.append(id_names[fr]) # создали для текущего юзера вершину \n",
    "    # Создаём для текущей вершины все возможные рёбра\n",
    "    for fr_my_fr in infa[fr]:\n",
    "        cur_edge = { }\n",
    "        cur_edge[\"source\"] = id_names[fr]['id']\n",
    "        cur_edge[\"target\"] = id_names[fr_my_fr]['id']\n",
    "        cur_edge[\"value\"] = 1 # Этот параметр ни на что не влияет\n",
    "        links.append(cur_edge)\n",
    "        \n",
    "print(nodes[:5])\n",
    "print('\\n')\n",
    "print(links[:5])"
   ]
  },
  {
   "cell_type": "markdown",
   "metadata": {},
   "source": [
    "Посмотрим сколько в итоговом графе окажется рёбер, а затем созраним наш json. "
   ]
  },
  {
   "cell_type": "code",
   "execution_count": 143,
   "metadata": {},
   "outputs": [
    {
     "data": {
      "text/plain": [
       "9786"
      ]
     },
     "execution_count": 143,
     "metadata": {},
     "output_type": "execute_result"
    }
   ],
   "source": [
    "len(links)"
   ]
  },
  {
   "cell_type": "code",
   "execution_count": 144,
   "metadata": {},
   "outputs": [],
   "source": [
    "import json\n",
    "\n",
    "itog_js = { \"nodes\": nodes, \"links\": links }\n",
    "with open(\"miserables.json\",\"w\") as f:\n",
    "    json.dump(itog_js, f)"
   ]
  },
  {
   "cell_type": "markdown",
   "metadata": {},
   "source": [
    "Всё готово! Помещаем нвоый файлик рядом с html, открываем её и видим граф своих друзей. При большом количестве друзей он строится довольно медленно и анимация подтормаживает. Ничего не поделаешь, бремя популярности. \n",
    "\n",
    "<img align=\"center\" src=\"images/d3_gr_1.png\"  width=\"450\"> \n"
   ]
  },
  {
   "cell_type": "code",
   "execution_count": null,
   "metadata": {},
   "outputs": [],
   "source": []
  },
  {
   "cell_type": "code",
   "execution_count": null,
   "metadata": {},
   "outputs": [],
   "source": []
  },
  {
   "cell_type": "code",
   "execution_count": null,
   "metadata": {},
   "outputs": [],
   "source": []
  },
  {
   "cell_type": "markdown",
   "metadata": {},
   "source": [
    "## 5. Лайкограмма \n",
    "\n",
    "Граф друзей это конечно же хорошо, но никак не отражает реального положения дел. Намного интереснее было бы посмотерть на лайки. Если люди реально общаются, то они лайкают друг-друга. \n",
    "\n",
    "Более того, многие из нас когда-то оказывались в подобных ситуациях: \n",
    "\n",
    "<img align=\"center\" src=\"http://memesmix.net/media/created/bmflc0.jpg\" height=\"350\" width=\"350\"> \n",
    "\n",
    "Возможно, вы подумаете, что у нас есть решение этой проблемы. На самом деле нет. Быть плохим примером гораздо веселее. Мы будем играть на другой стороне, на стороне стервозных сучек. Добро пожаловать подкат, милая. Современный мир огромными шагами идёт в сторону автоматизации рутинных процессов. Мы поможем тебе автоматизировать подготовку к твоим бессмысленным истерикам и дадим тебе автоискатель почвы для твоего врождённого измухослонаделателя. Возьмём всех своих друзей и попробуем посмотреть как внутри неё происходит циркуляция лайков. \n",
    "\n",
    "### 5.1 Подготовка\n",
    "\n",
    "Напишем несколько функций. Первая функция будет собирать тех, кто лайкнул стену нашего пользователя. В этом нам поможет уже знакомый нам метод `wall.get`. Напомним, что в лучшем друге человека, документации, написано, что у этого метода есть параметры `count` - число записей для скачки (не может превышать 100) и `offset` - смещение, необходимое для выборки определённого подмножества записей.  Ничего нового, вроде бы, в функции ниже нет. "
   ]
  },
  {
   "cell_type": "code",
   "execution_count": 72,
   "metadata": {},
   "outputs": [],
   "source": [
    "def Get_Wall(this_id):\n",
    "    # Делай раз! Выясним сколько у пользователя на стене записей...\n",
    "    n = vk_download('wall.get','owner_id=' + str(this_id))['response'][0]\n",
    "    \n",
    "    # Качаем со стены все записи!\n",
    "    chto_on_postit = [ ]\n",
    "    for i in range(0,100*(n//100+1),100):\n",
    "        # Качаем внеочередные 100 записей со стены.\n",
    "        time.sleep(0.4) # Не забываем немного вздремнуть \n",
    "        # Первый элемент всегда число записей, игнорируем его \n",
    "        wall = vk_download('wall.get', 'owner_id=' + str(this_id) +'&count=100&offset='+str(i))['response'][1:]\n",
    "        chto_on_postit.extend(wall)\n",
    "        \n",
    "    # В файлике chto_on postit будут лежать грязные стенки.\n",
    "    return chto_on_postit"
   ]
  },
  {
   "cell_type": "code",
   "execution_count": 75,
   "metadata": {},
   "outputs": [
    {
     "data": {
      "text/plain": [
       "{'attachment': {'photo': {'access_key': '7809ba11c617f78b4f',\n",
       "   'aid': -7,\n",
       "   'created': 1511616357,\n",
       "   'height': 480,\n",
       "   'owner_id': -7573076,\n",
       "   'pid': 456239051,\n",
       "   'post_id': 2542,\n",
       "   'src': 'https://pp.userapi.com/c840732/v840732769/292d8/C5-eSx3lVZo.jpg',\n",
       "   'src_big': 'https://pp.userapi.com/c840732/v840732769/292d9/HgT8iNonBg8.jpg',\n",
       "   'src_small': 'https://pp.userapi.com/c840732/v840732769/292d7/ekH5Tcd5aA8.jpg',\n",
       "   'src_xbig': 'https://pp.userapi.com/c840732/v840732769/292da/P8CF_3PU7b4.jpg',\n",
       "   'text': '',\n",
       "   'user_id': 100,\n",
       "   'width': 640},\n",
       "  'type': 'photo'},\n",
       " 'attachments': [{'photo': {'access_key': '7809ba11c617f78b4f',\n",
       "    'aid': -7,\n",
       "    'created': 1511616357,\n",
       "    'height': 480,\n",
       "    'owner_id': -7573076,\n",
       "    'pid': 456239051,\n",
       "    'post_id': 2542,\n",
       "    'src': 'https://pp.userapi.com/c840732/v840732769/292d8/C5-eSx3lVZo.jpg',\n",
       "    'src_big': 'https://pp.userapi.com/c840732/v840732769/292d9/HgT8iNonBg8.jpg',\n",
       "    'src_small': 'https://pp.userapi.com/c840732/v840732769/292d7/ekH5Tcd5aA8.jpg',\n",
       "    'src_xbig': 'https://pp.userapi.com/c840732/v840732769/292da/P8CF_3PU7b4.jpg',\n",
       "    'text': '',\n",
       "    'user_id': 100,\n",
       "    'width': 640},\n",
       "   'type': 'photo'},\n",
       "  {'audio': {'aid': 456241187,\n",
       "    'artist': 'Ska-P',\n",
       "    'content_restricted': 1,\n",
       "    'duration': 25,\n",
       "    'owner_id': 2000339196,\n",
       "    'performer': 'Ska-P',\n",
       "    'title': 'Estampida',\n",
       "    'url': ''},\n",
       "   'type': 'audio'}],\n",
       " 'comments': {'can_post': 0, 'count': 0, 'groups_can_post': True},\n",
       " 'copy_owner_id': -7573076,\n",
       " 'copy_post_date': 1511616357,\n",
       " 'copy_post_id': 2542,\n",
       " 'copy_post_type': 'post',\n",
       " 'date': 1511636868,\n",
       " 'from_id': 11105,\n",
       " 'id': 469,\n",
       " 'likes': {'can_like': 1, 'can_publish': 1, 'count': 4, 'user_likes': 0},\n",
       " 'media': {'item_id': 456241187, 'owner_id': 2000339196, 'type': 'audio'},\n",
       " 'online': 0,\n",
       " 'post_source': {'platform': 'iphone', 'type': 'api'},\n",
       " 'post_type': 'copy',\n",
       " 'reply_count': 0,\n",
       " 'reposts': {'count': 0, 'user_reposted': 0},\n",
       " 'text': '',\n",
       " 'to_id': 11105}"
      ]
     },
     "execution_count": 75,
     "metadata": {},
     "output_type": "execute_result"
    }
   ],
   "source": [
    "dw = Get_Wall(friends_ids[0])\n",
    "dw[0]"
   ]
  },
  {
   "cell_type": "markdown",
   "metadata": {},
   "source": [
    "Отлично! Грязная стена выгружается. Попробуем вытащить с неё время публикации и id каждого поста. "
   ]
  },
  {
   "cell_type": "code",
   "execution_count": 78,
   "metadata": {},
   "outputs": [
    {
     "data": {
      "text/plain": [
       "[[469, 1511636868],\n",
       " [468, 1509518064],\n",
       " [467, 1507758390],\n",
       " [466, 1507574327],\n",
       " [465, 1507493335]]"
      ]
     },
     "execution_count": 78,
     "metadata": {},
     "output_type": "execute_result"
    }
   ],
   "source": [
    "[[d['id'],d['date']] for d in dw][:5]"
   ]
  },
  {
   "cell_type": "markdown",
   "metadata": {},
   "source": [
    "Если кто-то не знает, вторая очень странная цифра в этом векторе — это время поста. А именно, количество секунд, которое прошло с $1970$ года до нашего дня. Чтобы перевести эту дату из такого формата в нормальный вид, можно воспользоваться пакетом `datetime`.\n",
    "\n",
    "С помощью этого же пакета можно вычитать и складывать время. Чуть ниже, когда мы будем заворачивать весь придуманный нами код в функцию, мы добавим в неё аргумент, отвечающий за то, насколько древнюю информацию нужно скачивать. Будем делать это за последний год. "
   ]
  },
  {
   "cell_type": "code",
   "execution_count": 83,
   "metadata": {},
   "outputs": [
    {
     "name": "stdout",
     "output_type": "stream",
     "text": [
      "2017-12-31\n",
      "2016-12-31\n"
     ]
    }
   ],
   "source": [
    "import datetime\n",
    "\n",
    "# Это сегодняшний день\n",
    "begin_data = datetime.date.today()\n",
    "print(begin_data)\n",
    "\n",
    "# Это день ровно год назад\n",
    "end_data = begin_data.replace(year=begin_data.year - 1)\n",
    "print(end_data)"
   ]
  },
  {
   "cell_type": "markdown",
   "metadata": {},
   "source": [
    "Проходимся циклом по всем юзерам и запоминаем грязные стены. "
   ]
  },
  {
   "cell_type": "code",
   "execution_count": 84,
   "metadata": {},
   "outputs": [
    {
     "data": {
      "application/vnd.jupyter.widget-view+json": {
       "model_id": "5fe62366d53243ca86e4ee0e3c8305de",
       "version_major": 2,
       "version_minor": 0
      },
      "text/html": [
       "<p>Failed to display Jupyter Widget of type <code>HBox</code>.</p>\n",
       "<p>\n",
       "  If you're reading this message in the Jupyter Notebook or JupyterLab Notebook, it may mean\n",
       "  that the widgets JavaScript is still loading. If this message persists, it\n",
       "  likely means that the widgets JavaScript library is either not installed or\n",
       "  not enabled. See the <a href=\"https://ipywidgets.readthedocs.io/en/stable/user_install.html\">Jupyter\n",
       "  Widgets Documentation</a> for setup instructions.\n",
       "</p>\n",
       "<p>\n",
       "  If you're reading this message in another frontend (for example, a static\n",
       "  rendering on GitHub or <a href=\"https://nbviewer.jupyter.org/\">NBViewer</a>),\n",
       "  it may mean that your frontend doesn't currently support widgets.\n",
       "</p>\n"
      ],
      "text/plain": [
       "HBox(children=(IntProgress(value=0, max=356), HTML(value='')))"
      ]
     },
     "metadata": {},
     "output_type": "display_data"
    },
    {
     "name": "stdout",
     "output_type": "stream",
     "text": [
      "Возникли проблемы с 1310129\n",
      "Возникли проблемы с 18782008\n",
      "Возникли проблемы с 26047823\n",
      "Возникли проблемы с 50549227\n",
      "Возникли проблемы с 92906905\n",
      "Возникли проблемы с 104172587\n",
      "Возникли проблемы с 154836355\n",
      "Возникли проблемы с 224768482\n",
      "Возникли проблемы с 294799490\n",
      "\n"
     ]
    }
   ],
   "source": [
    "dwd = { }       # aka dirty wall dict\n",
    "for friend in tqdm_notebook(friends_ids):\n",
    "    time.sleep(0.4) # не забываем дать серверу отдохнуть от нас\n",
    "    try: \n",
    "        dw = Get_Wall(friend)\n",
    "        dwd[friend] = [[d['id'],datetime.datetime.fromtimestamp(d['date'])] for d in dw]\n",
    "    except:\n",
    "        print('Возникли проблемы с', friend)"
   ]
  },
  {
   "cell_type": "markdown",
   "metadata": {},
   "source": [
    "Первая цифра в нашем векторе — это `id` поста. Чтобы собрать данные о конкретной записи, можно использовать метод `likes.getList`."
   ]
  },
  {
   "cell_type": "code",
   "execution_count": null,
   "metadata": {},
   "outputs": [],
   "source": [
    "vk_download('likes.getList','type=post&owner_id='+str(friends_ids[0])+'&item_id='+str(dwd[friends_ids[0]]))"
   ]
  },
  {
   "cell_type": "markdown",
   "metadata": {},
   "source": [
    "В качестве ответа получаем число лайков и список людей, которые лайкнули всё это чудо. Соберём данные по всей стене и сохраним их в виде cловарика. \n",
    "\n",
    "````{дата создания поста: [id лайкнувших] } ````"
   ]
  },
  {
   "cell_type": "markdown",
   "metadata": {},
   "source": [
    "Мы могли бы взять и пройтись по всем юзерам и по всем id из нашего списка и получить все списки из лайкнувших. Однако, делать это напрямую слишком долго. К счастью, процесс можно ускорить с помощью метода [execute.](https://vk.com/dev/execute) Этот метод позволяет делать цепи из параллельных запросов к вк. Максимально в один батч из запросов можно поместить 25 запросов. Вы уже читали о нём в туториале и сейчас пришло время использовать его в боевых условиях. \n",
    "\n",
    "Напомню, что метод работает следующим образом. Мы должны перечислить через запятую внутри нашей ссылки все 25 запросов, которые мы делаем. И тогда в качестве ответа мы получим вектор из лайков."
   ]
  },
  {
   "cell_type": "code",
   "execution_count": null,
   "metadata": {},
   "outputs": [],
   "source": [
    "url = 'https://api.vk.com/method/execute?code=return[\\\n",
    "API.likes.getList({\"type\":\"post\",\"owner_id\":\"22261760\",\"item_id\":\"3468\",\"count\":\"1000\"}),\\\n",
    "API.likes.getList({\"type\":\"post\",\"owner_id\":\"22261760\",\"item_id\":\"3486\",\"count\":\"1000\"})];&access_token='+token\n",
    "\n",
    "res = requests.get(url)\n",
    "res.json( )"
   ]
  },
  {
   "cell_type": "markdown",
   "metadata": {},
   "source": [
    "Например, в данной ситуации, мы попросили его отдать там юзеров, которые лайкнули два конкретных поста и получили их. Аналогично можно было бы ускорить код, который мы писали выше. \n",
    "\n",
    "Итак, перейдём к делу. Напишем функцию, которая для каждого конкретного пользователя будет понимать сколько у него на стене постов и будет делать из них батчи по 25 штук. Будем делать это для глубины в два года. "
   ]
  },
  {
   "cell_type": "code",
   "execution_count": null,
   "metadata": {},
   "outputs": [],
   "source": [
    "def make_batch(this_uid, dwd, end_date):\n",
    "    # Делаем массив вида [id, дата]\n",
    "    # В условии отбираем все даты, которые младще 2 лет\n",
    "    wall = [wl for wl in dwd[this_uid] if wl[1].date() > end_date ]\n",
    "    # Делим стенку на батчи \n",
    "    batches = [wall[i:i+25] for i in range(0,len(wall),25)]\n",
    "    return batches "
   ]
  },
  {
   "cell_type": "code",
   "execution_count": null,
   "metadata": {},
   "outputs": [],
   "source": []
  },
  {
   "cell_type": "code",
   "execution_count": null,
   "metadata": {},
   "outputs": [],
   "source": [
    "[len(item) for item in make_batch(all_uids[570], dwd, date.today().replace(year = date.today().year - 2))]"
   ]
  },
  {
   "cell_type": "markdown",
   "metadata": {},
   "source": [
    "Вроде бы всё работает. Теперь напишем функцию, которая для батча будет генерировать запрос в виде ссылки. "
   ]
  },
  {
   "cell_type": "code",
   "execution_count": null,
   "metadata": {},
   "outputs": [],
   "source": [
    "def make_url(this_uid, batch, token):\n",
    "    begin = 'https://api.vk.com/method/execute?code=return['\n",
    "    end = '];&access_token='+token\n",
    "    s = ''\n",
    "    for bt in batch:\n",
    "        s += 'API.likes.getList({\"type\":\"post\",\"owner_id\":\"' + str(this_uid) + \\\n",
    "             '\",\"item_id\":\"' + str(bt[0]) + '\",\"count\":\"1000\"}),'\n",
    "    return begin + s[:-1] + end "
   ]
  },
  {
   "cell_type": "code",
   "execution_count": null,
   "metadata": {},
   "outputs": [],
   "source": [
    "url = make_url(all_uids[570], make_bathc(all_uids[570])[-1], token)\n",
    "url"
   ]
  },
  {
   "cell_type": "code",
   "execution_count": null,
   "metadata": {},
   "outputs": [],
   "source": []
  },
  {
   "cell_type": "code",
   "execution_count": null,
   "metadata": {},
   "outputs": [],
   "source": [
    "res = requests.get(url)\n",
    "itg = res.json( )['response']\n",
    "print(len(itg))\n",
    "itg[1]"
   ]
  },
  {
   "cell_type": "markdown",
   "metadata": {},
   "source": [
    "Получаем за один запрос дофига ответов. Всё работает. Пишем итоговую функцию. "
   ]
  },
  {
   "cell_type": "code",
   "execution_count": null,
   "metadata": {},
   "outputs": [],
   "source": [
    "def get_likes(this_uid, dwd=dwd, end_date = date.today().replace(year = date.today().year - 2), token = token):\n",
    "    # Создаём под лайки вектор \n",
    "    wall_likes_u = { }\n",
    "    # Делаем батчи\n",
    "    batch = make_batch(this_uid, dwd, end_date)\n",
    "    for btc in batch:\n",
    "        # Создаём для батча ссылку \n",
    "        url = make_url(this_uid, btc, token)\n",
    "        # Делаем запрос\n",
    "        time.sleep(0.4)\n",
    "        res = requests.get(url)\n",
    "        itg = res.json( )['response']\n",
    "        # Распаковываем в формате {время поста: юзеры, которые лайкали}\n",
    "        wall_likes_u.update({datetime.datetime.fromtimestamp(b[1]).strftime('%Y-%m-%d %H:%M:%S') \n",
    "                             : it['users'] for b,it in zip(btc,itg)})\n",
    "    return wall_likes_u"
   ]
  },
  {
   "cell_type": "code",
   "execution_count": null,
   "metadata": {},
   "outputs": [],
   "source": [
    "loises = get_likes(all_uids[570])\n",
    "loises['2016-01-20 06:50:47']"
   ]
  },
  {
   "cell_type": "markdown",
   "metadata": {},
   "source": [
    "Ура! Всё работает. Теперь мы можем задействовать нашу функцию в промышленных масштабах. Пускаем цикл по всем пользователям. "
   ]
  },
  {
   "cell_type": "code",
   "execution_count": null,
   "metadata": {},
   "outputs": [],
   "source": [
    "wall_likes = { }\n",
    "for uid in tqdm_notebook(all_uids):\n",
    "    try:\n",
    "        wall_likes[uid] = get_likes(uid)\n",
    "    except:\n",
    "        print('Возникли проблемы с ', uid)"
   ]
  },
  {
   "cell_type": "code",
   "execution_count": null,
   "metadata": {},
   "outputs": [],
   "source": [
    "len(wall_likes)"
   ]
  },
  {
   "cell_type": "markdown",
   "metadata": {},
   "source": [
    "Время работы кода в разы уменьшилось. Для того, чтобы по аналогии сделать с фотками, достаточно внести в код минимальный правки. Не будем делать это."
   ]
  },
  {
   "cell_type": "code",
   "execution_count": null,
   "metadata": {},
   "outputs": [],
   "source": []
  },
  {
   "cell_type": "code",
   "execution_count": null,
   "metadata": {},
   "outputs": [],
   "source": []
  },
  {
   "cell_type": "code",
   "execution_count": null,
   "metadata": {},
   "outputs": [],
   "source": []
  },
  {
   "cell_type": "code",
   "execution_count": null,
   "metadata": {},
   "outputs": [],
   "source": []
  },
  {
   "cell_type": "code",
   "execution_count": null,
   "metadata": {},
   "outputs": [],
   "source": []
  },
  {
   "cell_type": "code",
   "execution_count": null,
   "metadata": {},
   "outputs": [],
   "source": []
  },
  {
   "cell_type": "code",
   "execution_count": null,
   "metadata": {},
   "outputs": [],
   "source": []
  },
  {
   "cell_type": "code",
   "execution_count": null,
   "metadata": {},
   "outputs": [],
   "source": []
  },
  {
   "cell_type": "code",
   "execution_count": null,
   "metadata": {},
   "outputs": [],
   "source": []
  },
  {
   "cell_type": "code",
   "execution_count": null,
   "metadata": {},
   "outputs": [],
   "source": []
  },
  {
   "cell_type": "code",
   "execution_count": null,
   "metadata": {},
   "outputs": [],
   "source": []
  },
  {
   "cell_type": "code",
   "execution_count": null,
   "metadata": {},
   "outputs": [],
   "source": []
  },
  {
   "cell_type": "markdown",
   "metadata": {},
   "source": [
    "Нужно не забывать, что он можетбыть хитрым. Вполне возможно, что он скрыл из списка своих друзей всех тех (ну вы поняли), чтобы конкретно ТЫ, наша милая вооброжалка, не нашла их. Чтобы переиграть его, можно собрать всех друзей его друзей и поискать его лайки там.  Однако при таком подходе придётся собирать тысячи стен. Нужно будет придумать какой-то способ немного отфильтровать людей. "
   ]
  },
  {
   "cell_type": "markdown",
   "metadata": {},
   "source": [
    "https://python-graph-gallery.com/231-chord-diagram-with-bokeh/\n",
    "\n",
    "https://habrahabr.ru/post/243229/\n",
    "\n",
    "https://habrahabr.ru/post/221251/"
   ]
  },
  {
   "cell_type": "markdown",
   "metadata": {
    "collapsed": true
   },
   "source": [
    "Для чего это можно всё использовать? Конечно же для рисёрча! Можно собирать кучу разных данных по всему уютному контактику и что-то по ним изучать. \n",
    "\n",
    "\n",
    "## Почиташки \n",
    "\n",
    "* [Сказ о том как пацаны код ускоряли.](  https://habrahabr.ru/post/243229/)\n",
    "* [Граф в d3,](https://habrahabr.ru/post/221251/) на основе которого делалась визуализация]\n",
    "\n",
    "\n",
    "<img align=\"center\" src=\"https://raw.githubusercontent.com/FUlyankin/Parsers/master/images%20/cats.jpg\" height=\"1200\" width=\"1200\"> \n"
   ]
  },
  {
   "cell_type": "code",
   "execution_count": null,
   "metadata": {},
   "outputs": [],
   "source": []
  }
 ],
 "metadata": {
  "kernelspec": {
   "display_name": "Python 3",
   "language": "python",
   "name": "python3"
  },
  "language_info": {
   "codemirror_mode": {
    "name": "ipython",
    "version": 3
   },
   "file_extension": ".py",
   "mimetype": "text/x-python",
   "name": "python",
   "nbconvert_exporter": "python",
   "pygments_lexer": "ipython3",
   "version": "3.6.3"
  },
  "widgets": {
   "state": {
    "2742031b364a47c88a9e1560957f18a6": {
     "views": [
      {
       "cell_index": 24
      }
     ]
    },
    "87d7cf453c0c4c92bd2141787ff2e270": {
     "views": [
      {
       "cell_index": 22
      }
     ]
    },
    "bbe6f01fa3b3415fb8fc0c66491471a0": {
     "views": [
      {
       "cell_index": 42
      }
     ]
    }
   },
   "version": "1.2.0"
  }
 },
 "nbformat": 4,
 "nbformat_minor": 2
}
