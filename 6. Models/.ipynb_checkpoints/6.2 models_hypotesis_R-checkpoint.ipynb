{
 "cells": [
  {
   "cell_type": "markdown",
   "metadata": {},
   "source": [
    "<center>\n",
    "<img src=\"https://raw.githubusercontent.com/FUlyankin/ekenam_grand_research/master/images/cover.png\">\n",
    "</center>\n",
    "\n",
    "\n",
    "# <center> Иканам гранд рисёрч </center>\n",
    "## <center>  Часть седьмая: моделирование </center>\n",
    "\n",
    "\n",
    "Проект **Иканам гранд рисёрч** реализуется [Иканам стьюдентс коммьюнити,](https://vk.com/ikanam)\n",
    "в частности [вот этим парнем по имени Филипп.](https://vk.com/ppilif)  Если вы нашли ошибку или у вас есть предложения, замечания, деньги, слава или женщины, можно ему написать. Весь говнокод, использованный в исследовании распостраняется по лицензии [Creative Commons CC BY-NC-SA 4.0.](https://creativecommons.org/licenses/by-nc-sa/4.0/) Его можно использовать в любых целях (редактировать, поправлять и брать за основу), кроме коммерческих, но с обязательным упоминанием автора материала. При наличии технической возможности необходимо также указать активную гиперссылку на [страницу рисёрча.](https://github.com/FUlyankin/ekenam_grand_research) "
   ]
  },
  {
   "cell_type": "markdown",
   "metadata": {},
   "source": [
    "# 1. Отбор переменных через ~~постель~~ проверку гипотез\n",
    "\n",
    "Проведём селекцию переменных из уже знакомой нам таблички эконометрическими способами. Делать это мы будем не в python, а в R. Потому что R делался именно для таких вещей."
   ]
  },
  {
   "cell_type": "code",
   "execution_count": 126,
   "metadata": {},
   "outputs": [
    {
     "name": "stdout",
     "output_type": "stream",
     "text": [
      "[1] 278 103\n"
     ]
    }
   ],
   "source": [
    "library(\"dplyr\")\n",
    "library(\"ggplot2\")\n",
    "library(\"mlogit\")\n",
    "\n",
    "options(stringsAsFactors=FALSE)\n",
    "\n",
    "df = read.csv('data_for_R.csv', sep = ';')\n",
    "print(dim(df))"
   ]
  },
  {
   "cell_type": "code",
   "execution_count": 127,
   "metadata": {},
   "outputs": [
    {
     "data": {
      "text/html": [
       "<table>\n",
       "<thead><tr><th scope=col>lgota</th><th scope=col>chelevoe</th><th scope=col>olimp</th><th scope=col>dogovor</th><th scope=col>ochko.zaochka</th><th scope=col>ege_diff</th><th scope=col>kozko</th><th scope=col>profile_city_moscow_dummy</th><th scope=col>profile_city_none_dummy</th><th scope=col>profile_country_none_dummy</th><th scope=col>⋯</th><th scope=col>X30pub_clust_21</th><th scope=col>X30pub_clust_22</th><th scope=col>X30pub_clust_23</th><th scope=col>X30pub_clust_24</th><th scope=col>X30pub_clust_25</th><th scope=col>X30pub_clust_26</th><th scope=col>X30pub_clust_27</th><th scope=col>X30pub_clust_28</th><th scope=col>X30pub_clust_29</th><th scope=col>target_1</th></tr></thead>\n",
       "<tbody>\n",
       "\t<tr><td>0           </td><td>0           </td><td>1           </td><td>0           </td><td>0           </td><td>-1.71436063 </td><td>0           </td><td>1           </td><td>0           </td><td>0           </td><td>⋯           </td><td>0.002063675 </td><td>0.02963645  </td><td>0.0014059704</td><td>0.0021747033</td><td>0.09210429  </td><td>0.009421746 </td><td>0.005366837 </td><td>0.08721616  </td><td>0.0006871135</td><td>1           </td></tr>\n",
       "\t<tr><td>0           </td><td>0           </td><td>1           </td><td>0           </td><td>0           </td><td> 0.47396584 </td><td>0           </td><td>1           </td><td>0           </td><td>0           </td><td>⋯           </td><td>0.034113219 </td><td>0.04006099  </td><td>0.0074222157</td><td>0.0019801837</td><td>0.02033590  </td><td>0.005578764 </td><td>0.006944536 </td><td>0.04630750  </td><td>0.0004495845</td><td>1           </td></tr>\n",
       "\t<tr><td>0           </td><td>0           </td><td>1           </td><td>0           </td><td>0           </td><td> 0.22146663 </td><td>0           </td><td>1           </td><td>0           </td><td>0           </td><td>⋯           </td><td>0.024249456 </td><td>0.03723640  </td><td>0.0010818390</td><td>0.0041062428</td><td>0.09214286  </td><td>0.006559478 </td><td>0.018943973 </td><td>0.04310553  </td><td>0.0000000000</td><td>1           </td></tr>\n",
       "\t<tr><td>1           </td><td>0           </td><td>0           </td><td>0           </td><td>0           </td><td>-0.07311578 </td><td>0           </td><td>0           </td><td>1           </td><td>0           </td><td>⋯           </td><td>0.015666752 </td><td>0.01476522  </td><td>0.0000000000</td><td>0.0000000000</td><td>0.10734050  </td><td>0.001523200 </td><td>0.043704440 </td><td>0.01338805  </td><td>0.0179090897</td><td>0           </td></tr>\n",
       "\t<tr><td>1           </td><td>0           </td><td>0           </td><td>0           </td><td>0           </td><td>-1.71436063 </td><td>0           </td><td>0           </td><td>0           </td><td>0           </td><td>⋯           </td><td>0.017459158 </td><td>0.01146120  </td><td>0.0006298577</td><td>0.0006298577</td><td>0.00478961  </td><td>0.017663595 </td><td>0.021905194 </td><td>0.05992046  </td><td>0.0006298577</td><td>1           </td></tr>\n",
       "\t<tr><td>1           </td><td>0           </td><td>0           </td><td>0           </td><td>0           </td><td>-2.09310944 </td><td>0           </td><td>1           </td><td>0           </td><td>0           </td><td>⋯           </td><td>0.000000000 </td><td>0.02219519  </td><td>0.0000000000</td><td>0.0000000000</td><td>0.03107851  </td><td>0.006224493 </td><td>0.017723031 </td><td>0.11494936  </td><td>0.0000000000</td><td>1           </td></tr>\n",
       "</tbody>\n",
       "</table>\n"
      ],
      "text/latex": [
       "\\begin{tabular}{r|lllllllllllllllllllllllllllllllllllllllllllllllllllllllllllllllllllllllllllllllllllllllllllllllllllllll}\n",
       " lgota & chelevoe & olimp & dogovor & ochko.zaochka & ege\\_diff & kozko & profile\\_city\\_moscow\\_dummy & profile\\_city\\_none\\_dummy & profile\\_country\\_none\\_dummy & ⋯ & X30pub\\_clust\\_21 & X30pub\\_clust\\_22 & X30pub\\_clust\\_23 & X30pub\\_clust\\_24 & X30pub\\_clust\\_25 & X30pub\\_clust\\_26 & X30pub\\_clust\\_27 & X30pub\\_clust\\_28 & X30pub\\_clust\\_29 & target\\_1\\\\\n",
       "\\hline\n",
       "\t 0            & 0            & 1            & 0            & 0            & -1.71436063  & 0            & 1            & 0            & 0            & ⋯            & 0.002063675  & 0.02963645   & 0.0014059704 & 0.0021747033 & 0.09210429   & 0.009421746  & 0.005366837  & 0.08721616   & 0.0006871135 & 1           \\\\\n",
       "\t 0            & 0            & 1            & 0            & 0            &  0.47396584  & 0            & 1            & 0            & 0            & ⋯            & 0.034113219  & 0.04006099   & 0.0074222157 & 0.0019801837 & 0.02033590   & 0.005578764  & 0.006944536  & 0.04630750   & 0.0004495845 & 1           \\\\\n",
       "\t 0            & 0            & 1            & 0            & 0            &  0.22146663  & 0            & 1            & 0            & 0            & ⋯            & 0.024249456  & 0.03723640   & 0.0010818390 & 0.0041062428 & 0.09214286   & 0.006559478  & 0.018943973  & 0.04310553   & 0.0000000000 & 1           \\\\\n",
       "\t 1            & 0            & 0            & 0            & 0            & -0.07311578  & 0            & 0            & 1            & 0            & ⋯            & 0.015666752  & 0.01476522   & 0.0000000000 & 0.0000000000 & 0.10734050   & 0.001523200  & 0.043704440  & 0.01338805   & 0.0179090897 & 0           \\\\\n",
       "\t 1            & 0            & 0            & 0            & 0            & -1.71436063  & 0            & 0            & 0            & 0            & ⋯            & 0.017459158  & 0.01146120   & 0.0006298577 & 0.0006298577 & 0.00478961   & 0.017663595  & 0.021905194  & 0.05992046   & 0.0006298577 & 1           \\\\\n",
       "\t 1            & 0            & 0            & 0            & 0            & -2.09310944  & 0            & 1            & 0            & 0            & ⋯            & 0.000000000  & 0.02219519   & 0.0000000000 & 0.0000000000 & 0.03107851   & 0.006224493  & 0.017723031  & 0.11494936   & 0.0000000000 & 1           \\\\\n",
       "\\end{tabular}\n"
      ],
      "text/markdown": [
       "\n",
       "lgota | chelevoe | olimp | dogovor | ochko.zaochka | ege_diff | kozko | profile_city_moscow_dummy | profile_city_none_dummy | profile_country_none_dummy | ⋯ | X30pub_clust_21 | X30pub_clust_22 | X30pub_clust_23 | X30pub_clust_24 | X30pub_clust_25 | X30pub_clust_26 | X30pub_clust_27 | X30pub_clust_28 | X30pub_clust_29 | target_1 | \n",
       "|---|---|---|---|---|---|\n",
       "| 0            | 0            | 1            | 0            | 0            | -1.71436063  | 0            | 1            | 0            | 0            | ⋯            | 0.002063675  | 0.02963645   | 0.0014059704 | 0.0021747033 | 0.09210429   | 0.009421746  | 0.005366837  | 0.08721616   | 0.0006871135 | 1            | \n",
       "| 0            | 0            | 1            | 0            | 0            |  0.47396584  | 0            | 1            | 0            | 0            | ⋯            | 0.034113219  | 0.04006099   | 0.0074222157 | 0.0019801837 | 0.02033590   | 0.005578764  | 0.006944536  | 0.04630750   | 0.0004495845 | 1            | \n",
       "| 0            | 0            | 1            | 0            | 0            |  0.22146663  | 0            | 1            | 0            | 0            | ⋯            | 0.024249456  | 0.03723640   | 0.0010818390 | 0.0041062428 | 0.09214286   | 0.006559478  | 0.018943973  | 0.04310553   | 0.0000000000 | 1            | \n",
       "| 1            | 0            | 0            | 0            | 0            | -0.07311578  | 0            | 0            | 1            | 0            | ⋯            | 0.015666752  | 0.01476522   | 0.0000000000 | 0.0000000000 | 0.10734050   | 0.001523200  | 0.043704440  | 0.01338805   | 0.0179090897 | 0            | \n",
       "| 1            | 0            | 0            | 0            | 0            | -1.71436063  | 0            | 0            | 0            | 0            | ⋯            | 0.017459158  | 0.01146120   | 0.0006298577 | 0.0006298577 | 0.00478961   | 0.017663595  | 0.021905194  | 0.05992046   | 0.0006298577 | 1            | \n",
       "| 1            | 0            | 0            | 0            | 0            | -2.09310944  | 0            | 1            | 0            | 0            | ⋯            | 0.000000000  | 0.02219519   | 0.0000000000 | 0.0000000000 | 0.03107851   | 0.006224493  | 0.017723031  | 0.11494936   | 0.0000000000 | 1            | \n",
       "\n",
       "\n"
      ],
      "text/plain": [
       "  lgota chelevoe olimp dogovor ochko.zaochka ege_diff    kozko\n",
       "1 0     0        1     0       0             -1.71436063 0    \n",
       "2 0     0        1     0       0              0.47396584 0    \n",
       "3 0     0        1     0       0              0.22146663 0    \n",
       "4 1     0        0     0       0             -0.07311578 0    \n",
       "5 1     0        0     0       0             -1.71436063 0    \n",
       "6 1     0        0     0       0             -2.09310944 0    \n",
       "  profile_city_moscow_dummy profile_city_none_dummy profile_country_none_dummy\n",
       "1 1                         0                       0                         \n",
       "2 1                         0                       0                         \n",
       "3 1                         0                       0                         \n",
       "4 0                         1                       0                         \n",
       "5 0                         0                       0                         \n",
       "6 1                         0                       0                         \n",
       "  ⋯ X30pub_clust_21 X30pub_clust_22 X30pub_clust_23 X30pub_clust_24\n",
       "1 ⋯ 0.002063675     0.02963645      0.0014059704    0.0021747033   \n",
       "2 ⋯ 0.034113219     0.04006099      0.0074222157    0.0019801837   \n",
       "3 ⋯ 0.024249456     0.03723640      0.0010818390    0.0041062428   \n",
       "4 ⋯ 0.015666752     0.01476522      0.0000000000    0.0000000000   \n",
       "5 ⋯ 0.017459158     0.01146120      0.0006298577    0.0006298577   \n",
       "6 ⋯ 0.000000000     0.02219519      0.0000000000    0.0000000000   \n",
       "  X30pub_clust_25 X30pub_clust_26 X30pub_clust_27 X30pub_clust_28\n",
       "1 0.09210429      0.009421746     0.005366837     0.08721616     \n",
       "2 0.02033590      0.005578764     0.006944536     0.04630750     \n",
       "3 0.09214286      0.006559478     0.018943973     0.04310553     \n",
       "4 0.10734050      0.001523200     0.043704440     0.01338805     \n",
       "5 0.00478961      0.017663595     0.021905194     0.05992046     \n",
       "6 0.03107851      0.006224493     0.017723031     0.11494936     \n",
       "  X30pub_clust_29 target_1\n",
       "1 0.0006871135    1       \n",
       "2 0.0004495845    1       \n",
       "3 0.0000000000    1       \n",
       "4 0.0179090897    0       \n",
       "5 0.0006298577    1       \n",
       "6 0.0000000000    1       "
      ]
     },
     "metadata": {},
     "output_type": "display_data"
    }
   ],
   "source": [
    "head(df)"
   ]
  },
  {
   "cell_type": "markdown",
   "metadata": {},
   "source": [
    "Оцениваем логистическую регрессию! "
   ]
  },
  {
   "cell_type": "code",
   "execution_count": 128,
   "metadata": {
    "scrolled": false
   },
   "outputs": [
    {
     "data": {
      "text/plain": [
       "\n",
       "Call:\n",
       "glm(formula = target_1 ~ ., data = df)\n",
       "\n",
       "Deviance Residuals: \n",
       "     Min        1Q    Median        3Q       Max  \n",
       "-0.83899  -0.24916   0.04496   0.20536   0.72958  \n",
       "\n",
       "Coefficients:\n",
       "                                     Estimate Std. Error t value Pr(>|t|)   \n",
       "(Intercept)                         0.7228178  0.2856126   2.531  0.01226 * \n",
       "lgota                              -0.0977458  0.1565898  -0.624  0.53330   \n",
       "chelevoe                           -0.1305235  0.1828515  -0.714  0.47629   \n",
       "olimp                               0.1684901  0.1775991   0.949  0.34408   \n",
       "dogovor                            -0.0926102  0.1025479  -0.903  0.36772   \n",
       "ochko.zaochka                       0.2268103  0.1277830   1.775  0.07764 . \n",
       "ege_diff                            0.0341182  0.0448879   0.760  0.44823   \n",
       "kozko                               0.0555638  0.0633672   0.877  0.38177   \n",
       "profile_city_moscow_dummy          -0.0122117  0.0913745  -0.134  0.89384   \n",
       "profile_city_none_dummy            -0.1388909  0.1767071  -0.786  0.43293   \n",
       "profile_country_none_dummy          0.1023857  0.1733766   0.591  0.55559   \n",
       "profile_folowers_cnt               -1.3736581  0.5456012  -2.518  0.01271 * \n",
       "profile_male_dummy                  0.0514247  0.0959718   0.536  0.59276   \n",
       "profile_has_ava_dummy               0.0218663  0.1246198   0.175  0.86092   \n",
       "profile_wall_comments_dummy        -0.1159059  0.1124284  -1.031  0.30400   \n",
       "profile_facebook_dummy             -0.0309068  0.1799216  -0.172  0.86381   \n",
       "profile_instagram_dummy            -0.0287312  0.0808695  -0.355  0.72281   \n",
       "profile_skype_dummy                -0.0944079  0.1046256  -0.902  0.36812   \n",
       "profile_twitter_dummy               0.0035971  0.1716822   0.021  0.98331   \n",
       "profile_mobile_phone_dummy          0.0120063  0.0919916   0.131  0.89631   \n",
       "profile_notes_cnt                   0.2442863  0.4006640   0.610  0.54285   \n",
       "profile_albums_cnt                  0.9628200  0.4316795   2.230  0.02699 * \n",
       "profile_videos_cnt                  0.0477975  0.3611382   0.132  0.89486   \n",
       "profile_audio_cnt                  -0.1270201  0.2079084  -0.611  0.54203   \n",
       "profile_pages_cnt                  -0.3067616  0.2532558  -1.211  0.22742   \n",
       "profile_photos_cnt                  0.0723491  0.3626965   0.199  0.84212   \n",
       "profile_friends_cnt                -0.3764834  0.9016000  -0.418  0.67677   \n",
       "profile_subscriptions_cnt          -0.1726402  0.4795753  -0.360  0.71929   \n",
       "profile_gifts_cnt                   0.2496902  0.1803780   1.384  0.16804   \n",
       "profile_relation_partner_yes_dummy -0.1058087  0.1650141  -0.641  0.52222   \n",
       "profile_group_hide_dummy            0.0007069  0.0004843   1.460  0.14615   \n",
       "profile_engl_dummy                 -0.0353624  0.2163246  -0.163  0.87034   \n",
       "profile_lang_cnt                    0.2487199  0.4076674   0.610  0.54258   \n",
       "photo_like_mean                     0.1300916  0.0512930   2.536  0.01208 * \n",
       "photo_repost_cnt                   -1.1382292  0.4531828  -2.512  0.01292 * \n",
       "photo_repost_mean                   0.0810310  0.0414949   1.953  0.05244 . \n",
       "vk_photo_ava_change_cnt            -0.0852731  0.3857069  -0.221  0.82529   \n",
       "vk_photo_wall_ph_post_cnt           0.5637469  0.5111688   1.103  0.27160   \n",
       "photo_text_len_cnt                 -0.3527176  0.4198051  -0.840  0.40195   \n",
       "vk_photo_text_url_len_cnt          -0.5121539  0.5475271  -0.935  0.35087   \n",
       "photo_month_mean                    0.0059181  0.0695141   0.085  0.93225   \n",
       "wall_audio_cnt                     -0.5985585  0.6051907  -0.989  0.32401   \n",
       "wall_audio_mean                     0.0092056  0.0306883   0.300  0.76455   \n",
       "wall_can_comment                    0.1811450  0.0798617   2.268  0.02454 * \n",
       "wall_comment_cnt                    0.6989635  0.8302987   0.842  0.40104   \n",
       "wall_comment_max                    0.0269246  0.0341246   0.789  0.43118   \n",
       "wall_comment_mean                  -0.0151893  0.0387074  -0.392  0.69523   \n",
       "wall_doc_cnt                        0.4048200  0.4311277   0.939  0.34904   \n",
       "wall_emoji_cnt                      0.2771296  0.4298405   0.645  0.51995   \n",
       "wall_emoji_mean                    -0.0598175  0.0323757  -1.848  0.06635 . \n",
       "wall_graffiti_cnt                  -0.3630570  0.4955209  -0.733  0.46474   \n",
       "wall_like_cnt                       0.7336500  0.7002711   1.048  0.29624   \n",
       "wall_like_max                      -0.0717497  0.0440195  -1.630  0.10491   \n",
       "wall_like_mean                      0.0491451  0.0548807   0.895  0.37176   \n",
       "wall_link_cnt                      -0.4104437  0.9113535  -0.450  0.65300   \n",
       "wall_photo_max                      0.0822283  0.0610994   1.346  0.18010   \n",
       "wall_photo_mean                    -0.0144190  0.0369026  -0.391  0.69647   \n",
       "wall_poll_cnt                       0.4106975  0.4614380   0.890  0.37467   \n",
       "wall_post_android_cnt              -1.0704204  0.4096930  -2.613  0.00976 **\n",
       "wall_post_cnt                      -0.8501077  1.3816488  -0.615  0.53917   \n",
       "wall_post_instagram_cnt            -0.1999820  0.4377826  -0.457  0.64838   \n",
       "wall_post_ipad_cnt                  1.1967923  0.5012174   2.388  0.01802 * \n",
       "wall_post_iphone_cnt               -0.3269836  0.8305349  -0.394  0.69428   \n",
       "wall_post_mweb_cnt                  0.4154656  0.3468913   1.198  0.23266   \n",
       "wall_post_original_cnt              0.2353908  0.4448424   0.529  0.59737   \n",
       "wall_post_wphone_cnt                0.4041238  0.4519611   0.894  0.37247   \n",
       "wall_repost_cnt                     0.0376435  0.5160138   0.073  0.94193   \n",
       "wall_repost_mean                   -0.0536716  0.0368031  -1.458  0.14654   \n",
       "wall_slowpok_hour_max              -0.0502885  0.0482571  -1.042  0.29880   \n",
       "wall_text_len_max                   0.0607205  0.0598310   1.015  0.31157   \n",
       "wall_text_len_mean                 -0.0438288  0.0468509  -0.935  0.35082   \n",
       "wall_video_cnt                     -0.6433219  0.4966371  -1.295  0.19690   \n",
       "wall_video_mean                     0.0847456  0.0303206   2.795  0.00577 **\n",
       "X30pub_clust_0                      2.0179642  0.8854438   2.279  0.02387 * \n",
       "X30pub_clust_1                      2.2962342  2.7758336   0.827  0.40924   \n",
       "X30pub_clust_2                     -1.3154440  1.2409766  -1.060  0.29060   \n",
       "X30pub_clust_3                      1.0326785  1.5595411   0.662  0.50873   \n",
       "X30pub_clust_4                     -0.0990199  1.2699439  -0.078  0.93794   \n",
       "X30pub_clust_5                      3.6843697  3.6674600   1.005  0.31647   \n",
       "X30pub_clust_6                      1.1049688  0.8106384   1.363  0.17461   \n",
       "X30pub_clust_7                      1.7780862  0.8582236   2.072  0.03975 * \n",
       "X30pub_clust_8                      0.6703889  1.4905872   0.450  0.65345   \n",
       "X30pub_clust_9                      2.0145828  1.8936188   1.064  0.28885   \n",
       "X30pub_clust_10                     0.7119342  0.7800663   0.913  0.36268   \n",
       "X30pub_clust_11                    -3.2555983  3.7084841  -0.878  0.38121   \n",
       "X30pub_clust_12                    -0.5710707  0.9589343  -0.596  0.55226   \n",
       "X30pub_clust_13                     0.5915189  0.6705471   0.882  0.37891   \n",
       "X30pub_clust_14                    -1.4067779  1.0766140  -1.307  0.19304   \n",
       "X30pub_clust_15                    -1.9024611  2.3411358  -0.813  0.41754   \n",
       "X30pub_clust_16                     2.1015965  2.1748037   0.966  0.33521   \n",
       "X30pub_clust_17                    -2.4576711  1.0695346  -2.298  0.02275 * \n",
       "X30pub_clust_18                     0.6583383  1.1601287   0.567  0.57112   \n",
       "X30pub_clust_19                     6.8855580  8.7647058   0.786  0.43316   \n",
       "X30pub_clust_20                    -7.4492527  6.7464390  -1.104  0.27103   \n",
       "X30pub_clust_21                    -1.4930546  1.5147392  -0.986  0.32565   \n",
       "X30pub_clust_22                    -1.4734183  0.8510149  -1.731  0.08515 . \n",
       "X30pub_clust_23                    -1.0612913  2.4879574  -0.427  0.67022   \n",
       "X30pub_clust_24                    -1.2153520  2.8091564  -0.433  0.66581   \n",
       "X30pub_clust_25                    -1.4063845  0.8134282  -1.729  0.08558 . \n",
       "X30pub_clust_26                     0.6938836  1.2748905   0.544  0.58695   \n",
       "X30pub_clust_27                     1.1537298  1.9208127   0.601  0.54885   \n",
       "X30pub_clust_28                     0.2400828  0.6843889   0.351  0.72616   \n",
       "X30pub_clust_29                    -2.2870124  2.4346409  -0.939  0.34884   \n",
       "---\n",
       "Signif. codes:  0 ‘***’ 0.001 ‘**’ 0.01 ‘*’ 0.05 ‘.’ 0.1 ‘ ’ 1\n",
       "\n",
       "(Dispersion parameter for gaussian family taken to be 0.1624012)\n",
       "\n",
       "    Null deviance: 54.766  on 277  degrees of freedom\n",
       "Residual deviance: 28.420  on 175  degrees of freedom\n",
       "AIC: 362.95\n",
       "\n",
       "Number of Fisher Scoring iterations: 2\n"
      ]
     },
     "metadata": {},
     "output_type": "display_data"
    }
   ],
   "source": [
    "m_logit <- glm(data = df, target_1~.)\n",
    "summary(m_logit)"
   ]
  },
  {
   "cell_type": "markdown",
   "metadata": {},
   "source": [
    "Отбираем только значимые на $10\\%$ уровне переменные. "
   ]
  },
  {
   "cell_type": "code",
   "execution_count": 129,
   "metadata": {},
   "outputs": [
    {
     "data": {
      "text/html": [
       "<ol class=list-inline>\n",
       "\t<li>278</li>\n",
       "\t<li>17</li>\n",
       "</ol>\n"
      ],
      "text/latex": [
       "\\begin{enumerate*}\n",
       "\\item 278\n",
       "\\item 17\n",
       "\\end{enumerate*}\n"
      ],
      "text/markdown": [
       "1. 278\n",
       "2. 17\n",
       "\n",
       "\n"
      ],
      "text/plain": [
       "[1] 278  17"
      ]
     },
     "metadata": {},
     "output_type": "display_data"
    },
    {
     "data": {
      "text/html": [
       "<table>\n",
       "<thead><tr><th scope=col>ochko.zaochka</th><th scope=col>profile_folowers_cnt</th><th scope=col>profile_albums_cnt</th><th scope=col>photo_like_mean</th><th scope=col>photo_repost_cnt</th><th scope=col>photo_repost_mean</th><th scope=col>wall_can_comment</th><th scope=col>wall_emoji_mean</th><th scope=col>wall_post_android_cnt</th><th scope=col>wall_post_ipad_cnt</th><th scope=col>wall_video_mean</th><th scope=col>X30pub_clust_0</th><th scope=col>X30pub_clust_7</th><th scope=col>X30pub_clust_17</th><th scope=col>X30pub_clust_22</th><th scope=col>X30pub_clust_25</th><th scope=col>target_1</th></tr></thead>\n",
       "<tbody>\n",
       "\t<tr><td>0          </td><td>0.05193370 </td><td>0.11764706 </td><td>-0.2293428 </td><td>0.00000000 </td><td>-0.24601687</td><td>1          </td><td>-0.5185866 </td><td>0.002141328</td><td>0.000000000</td><td> 0.5001020 </td><td>0.05958521 </td><td>0.20132429 </td><td>0.02075507 </td><td>0.02963645 </td><td>0.09210429 </td><td>1          </td></tr>\n",
       "\t<tr><td>0          </td><td>0.06372007 </td><td>0.00000000 </td><td>-0.1923482 </td><td>0.13333333 </td><td> 0.25085308</td><td>1          </td><td>-0.4098165 </td><td>0.000000000</td><td>0.000000000</td><td>-0.2315396 </td><td>0.08988292 </td><td>0.04601237 </td><td>0.05590318 </td><td>0.04006099 </td><td>0.02033590 </td><td>1          </td></tr>\n",
       "\t<tr><td>0          </td><td>0.05009208 </td><td>0.29411765 </td><td>-0.5767502 </td><td>0.66666667 </td><td> 0.21803023</td><td>1          </td><td>-0.3208929 </td><td>0.027837259</td><td>0.008902077</td><td>-0.1410449 </td><td>0.16198111 </td><td>0.04996228 </td><td>0.04655112 </td><td>0.03723640 </td><td>0.09214286 </td><td>1          </td></tr>\n",
       "\t<tr><td>0          </td><td>0.04383057 </td><td>0.00000000 </td><td>-0.1644617 </td><td>0.06666667 </td><td> 0.72406255</td><td>0          </td><td>-0.5185866 </td><td>0.000000000</td><td>0.000000000</td><td>-0.4928402 </td><td>0.06522227 </td><td>0.05523752 </td><td>0.06484989 </td><td>0.01476522 </td><td>0.10734050 </td><td>0          </td></tr>\n",
       "\t<tr><td>0          </td><td>0.00000000 </td><td>0.05882353 </td><td>-0.6188478 </td><td>0.00000000 </td><td>-0.24601687</td><td>1          </td><td>-0.2602577 </td><td>0.017130621</td><td>0.000000000</td><td> 0.5001020 </td><td>0.14008663 </td><td>0.02126039 </td><td>0.12471156 </td><td>0.01146120 </td><td>0.00478961 </td><td>1          </td></tr>\n",
       "\t<tr><td>0          </td><td>0.02320442 </td><td>0.52941176 </td><td>-0.7920010 </td><td>0.33333333 </td><td>-0.01132023</td><td>1          </td><td>-0.3686040 </td><td>0.171306210</td><td>0.000000000</td><td>-0.2938980 </td><td>0.20563254 </td><td>0.07383964 </td><td>0.16899444 </td><td>0.02219519 </td><td>0.03107851 </td><td>1          </td></tr>\n",
       "</tbody>\n",
       "</table>\n"
      ],
      "text/latex": [
       "\\begin{tabular}{r|lllllllllllllllll}\n",
       " ochko.zaochka & profile\\_folowers\\_cnt & profile\\_albums\\_cnt & photo\\_like\\_mean & photo\\_repost\\_cnt & photo\\_repost\\_mean & wall\\_can\\_comment & wall\\_emoji\\_mean & wall\\_post\\_android\\_cnt & wall\\_post\\_ipad\\_cnt & wall\\_video\\_mean & X30pub\\_clust\\_0 & X30pub\\_clust\\_7 & X30pub\\_clust\\_17 & X30pub\\_clust\\_22 & X30pub\\_clust\\_25 & target\\_1\\\\\n",
       "\\hline\n",
       "\t 0           & 0.05193370  & 0.11764706  & -0.2293428  & 0.00000000  & -0.24601687 & 1           & -0.5185866  & 0.002141328 & 0.000000000 &  0.5001020  & 0.05958521  & 0.20132429  & 0.02075507  & 0.02963645  & 0.09210429  & 1          \\\\\n",
       "\t 0           & 0.06372007  & 0.00000000  & -0.1923482  & 0.13333333  &  0.25085308 & 1           & -0.4098165  & 0.000000000 & 0.000000000 & -0.2315396  & 0.08988292  & 0.04601237  & 0.05590318  & 0.04006099  & 0.02033590  & 1          \\\\\n",
       "\t 0           & 0.05009208  & 0.29411765  & -0.5767502  & 0.66666667  &  0.21803023 & 1           & -0.3208929  & 0.027837259 & 0.008902077 & -0.1410449  & 0.16198111  & 0.04996228  & 0.04655112  & 0.03723640  & 0.09214286  & 1          \\\\\n",
       "\t 0           & 0.04383057  & 0.00000000  & -0.1644617  & 0.06666667  &  0.72406255 & 0           & -0.5185866  & 0.000000000 & 0.000000000 & -0.4928402  & 0.06522227  & 0.05523752  & 0.06484989  & 0.01476522  & 0.10734050  & 0          \\\\\n",
       "\t 0           & 0.00000000  & 0.05882353  & -0.6188478  & 0.00000000  & -0.24601687 & 1           & -0.2602577  & 0.017130621 & 0.000000000 &  0.5001020  & 0.14008663  & 0.02126039  & 0.12471156  & 0.01146120  & 0.00478961  & 1          \\\\\n",
       "\t 0           & 0.02320442  & 0.52941176  & -0.7920010  & 0.33333333  & -0.01132023 & 1           & -0.3686040  & 0.171306210 & 0.000000000 & -0.2938980  & 0.20563254  & 0.07383964  & 0.16899444  & 0.02219519  & 0.03107851  & 1          \\\\\n",
       "\\end{tabular}\n"
      ],
      "text/markdown": [
       "\n",
       "ochko.zaochka | profile_folowers_cnt | profile_albums_cnt | photo_like_mean | photo_repost_cnt | photo_repost_mean | wall_can_comment | wall_emoji_mean | wall_post_android_cnt | wall_post_ipad_cnt | wall_video_mean | X30pub_clust_0 | X30pub_clust_7 | X30pub_clust_17 | X30pub_clust_22 | X30pub_clust_25 | target_1 | \n",
       "|---|---|---|---|---|---|\n",
       "| 0           | 0.05193370  | 0.11764706  | -0.2293428  | 0.00000000  | -0.24601687 | 1           | -0.5185866  | 0.002141328 | 0.000000000 |  0.5001020  | 0.05958521  | 0.20132429  | 0.02075507  | 0.02963645  | 0.09210429  | 1           | \n",
       "| 0           | 0.06372007  | 0.00000000  | -0.1923482  | 0.13333333  |  0.25085308 | 1           | -0.4098165  | 0.000000000 | 0.000000000 | -0.2315396  | 0.08988292  | 0.04601237  | 0.05590318  | 0.04006099  | 0.02033590  | 1           | \n",
       "| 0           | 0.05009208  | 0.29411765  | -0.5767502  | 0.66666667  |  0.21803023 | 1           | -0.3208929  | 0.027837259 | 0.008902077 | -0.1410449  | 0.16198111  | 0.04996228  | 0.04655112  | 0.03723640  | 0.09214286  | 1           | \n",
       "| 0           | 0.04383057  | 0.00000000  | -0.1644617  | 0.06666667  |  0.72406255 | 0           | -0.5185866  | 0.000000000 | 0.000000000 | -0.4928402  | 0.06522227  | 0.05523752  | 0.06484989  | 0.01476522  | 0.10734050  | 0           | \n",
       "| 0           | 0.00000000  | 0.05882353  | -0.6188478  | 0.00000000  | -0.24601687 | 1           | -0.2602577  | 0.017130621 | 0.000000000 |  0.5001020  | 0.14008663  | 0.02126039  | 0.12471156  | 0.01146120  | 0.00478961  | 1           | \n",
       "| 0           | 0.02320442  | 0.52941176  | -0.7920010  | 0.33333333  | -0.01132023 | 1           | -0.3686040  | 0.171306210 | 0.000000000 | -0.2938980  | 0.20563254  | 0.07383964  | 0.16899444  | 0.02219519  | 0.03107851  | 1           | \n",
       "\n",
       "\n"
      ],
      "text/plain": [
       "  ochko.zaochka profile_folowers_cnt profile_albums_cnt photo_like_mean\n",
       "1 0             0.05193370           0.11764706         -0.2293428     \n",
       "2 0             0.06372007           0.00000000         -0.1923482     \n",
       "3 0             0.05009208           0.29411765         -0.5767502     \n",
       "4 0             0.04383057           0.00000000         -0.1644617     \n",
       "5 0             0.00000000           0.05882353         -0.6188478     \n",
       "6 0             0.02320442           0.52941176         -0.7920010     \n",
       "  photo_repost_cnt photo_repost_mean wall_can_comment wall_emoji_mean\n",
       "1 0.00000000       -0.24601687       1                -0.5185866     \n",
       "2 0.13333333        0.25085308       1                -0.4098165     \n",
       "3 0.66666667        0.21803023       1                -0.3208929     \n",
       "4 0.06666667        0.72406255       0                -0.5185866     \n",
       "5 0.00000000       -0.24601687       1                -0.2602577     \n",
       "6 0.33333333       -0.01132023       1                -0.3686040     \n",
       "  wall_post_android_cnt wall_post_ipad_cnt wall_video_mean X30pub_clust_0\n",
       "1 0.002141328           0.000000000         0.5001020      0.05958521    \n",
       "2 0.000000000           0.000000000        -0.2315396      0.08988292    \n",
       "3 0.027837259           0.008902077        -0.1410449      0.16198111    \n",
       "4 0.000000000           0.000000000        -0.4928402      0.06522227    \n",
       "5 0.017130621           0.000000000         0.5001020      0.14008663    \n",
       "6 0.171306210           0.000000000        -0.2938980      0.20563254    \n",
       "  X30pub_clust_7 X30pub_clust_17 X30pub_clust_22 X30pub_clust_25 target_1\n",
       "1 0.20132429     0.02075507      0.02963645      0.09210429      1       \n",
       "2 0.04601237     0.05590318      0.04006099      0.02033590      1       \n",
       "3 0.04996228     0.04655112      0.03723640      0.09214286      1       \n",
       "4 0.05523752     0.06484989      0.01476522      0.10734050      0       \n",
       "5 0.02126039     0.12471156      0.01146120      0.00478961      1       \n",
       "6 0.07383964     0.16899444      0.02219519      0.03107851      1       "
      ]
     },
     "metadata": {},
     "output_type": "display_data"
    }
   ],
   "source": [
    "res = summary(m_logit)\n",
    "n = length(res$coefficients[,4])\n",
    "df = df[,c(res$coefficients[,4][2:n] < 0.1, TRUE)]\n",
    "dim(df)\n",
    "head(df)"
   ]
  },
  {
   "cell_type": "markdown",
   "metadata": {},
   "source": [
    "Таких переменных остаётся 15. Оценим модель с этими переменными и проверим гипотезу о совместной незначимости с помощью теста отношения правдоподобий.  "
   ]
  },
  {
   "cell_type": "code",
   "execution_count": 130,
   "metadata": {},
   "outputs": [
    {
     "data": {
      "text/html": [
       "<table>\n",
       "<thead><tr><th scope=col>#Df</th><th scope=col>LogLik</th><th scope=col>Df</th><th scope=col>Chisq</th><th scope=col>Pr(&gt;Chisq)</th></tr></thead>\n",
       "<tbody>\n",
       "\t<tr><td>104       </td><td> -77.47254</td><td> NA       </td><td>      NA  </td><td>       NA </td></tr>\n",
       "\t<tr><td> 18       </td><td>-124.33487</td><td>-86       </td><td>93.72466  </td><td>0.2667322 </td></tr>\n",
       "</tbody>\n",
       "</table>\n"
      ],
      "text/latex": [
       "\\begin{tabular}{r|lllll}\n",
       " \\#Df & LogLik & Df & Chisq & Pr(>Chisq)\\\\\n",
       "\\hline\n",
       "\t 104        &  -77.47254 &  NA        &       NA   &        NA \\\\\n",
       "\t  18        & -124.33487 & -86        & 93.72466   & 0.2667322 \\\\\n",
       "\\end{tabular}\n"
      ],
      "text/markdown": [
       "\n",
       "#Df | LogLik | Df | Chisq | Pr(>Chisq) | \n",
       "|---|---|\n",
       "| 104        |  -77.47254 |  NA        |       NA   |        NA  | \n",
       "|  18        | -124.33487 | -86        | 93.72466   | 0.2667322  | \n",
       "\n",
       "\n"
      ],
      "text/plain": [
       "  #Df LogLik     Df  Chisq    Pr(>Chisq)\n",
       "1 104  -77.47254  NA       NA        NA \n",
       "2  18 -124.33487 -86 93.72466 0.2667322 "
      ]
     },
     "metadata": {},
     "output_type": "display_data"
    }
   ],
   "source": [
    "m_logit_1 <- glm(data = df, target_1~.)\n",
    "res_1 = summary(m_logit_1)\n",
    "lrtest(m_logit,m_logit_1)"
   ]
  },
  {
   "cell_type": "code",
   "execution_count": 131,
   "metadata": {},
   "outputs": [
    {
     "data": {
      "text/plain": [
       "\n",
       "Call:\n",
       "glm(formula = target_1 ~ ., data = df)\n",
       "\n",
       "Deviance Residuals: \n",
       "    Min       1Q   Median       3Q      Max  \n",
       "-0.9148  -0.2827   0.1074   0.2777   0.6706  \n",
       "\n",
       "Coefficients:\n",
       "                      Estimate Std. Error t value Pr(>|t|)    \n",
       "(Intercept)            0.70929    0.08576   8.271 6.87e-15 ***\n",
       "ochko.zaochka          0.16107    0.08648   1.862 0.063672 .  \n",
       "profile_folowers_cnt  -1.04254    0.37036  -2.815 0.005251 ** \n",
       "profile_albums_cnt     0.78369    0.20052   3.908 0.000118 ***\n",
       "photo_like_mean        0.09072    0.03295   2.753 0.006322 ** \n",
       "photo_repost_cnt      -0.24672    0.21753  -1.134 0.257756    \n",
       "photo_repost_mean      0.05012    0.02683   1.868 0.062898 .  \n",
       "wall_can_comment       0.23638    0.05114   4.622 5.98e-06 ***\n",
       "wall_emoji_mean       -0.02608    0.02440  -1.069 0.286088    \n",
       "wall_post_android_cnt -0.63354    0.25731  -2.462 0.014458 *  \n",
       "wall_post_ipad_cnt     0.56046    0.27435   2.043 0.042072 *  \n",
       "wall_video_mean        0.04797    0.02438   1.967 0.050194 .  \n",
       "X30pub_clust_0         1.19368    0.58661   2.035 0.042872 *  \n",
       "X30pub_clust_7         1.17359    0.58618   2.002 0.046307 *  \n",
       "X30pub_clust_17       -2.30067    0.58780  -3.914 0.000116 ***\n",
       "X30pub_clust_22       -1.63998    0.48469  -3.384 0.000825 ***\n",
       "X30pub_clust_25       -0.15461    0.52757  -0.293 0.769704    \n",
       "---\n",
       "Signif. codes:  0 ‘***’ 0.001 ‘**’ 0.01 ‘*’ 0.05 ‘.’ 0.1 ‘ ’ 1\n",
       "\n",
       "(Dispersion parameter for gaussian family taken to be 0.1525472)\n",
       "\n",
       "    Null deviance: 54.766  on 277  degrees of freedom\n",
       "Residual deviance: 39.815  on 261  degrees of freedom\n",
       "AIC: 284.67\n",
       "\n",
       "Number of Fisher Scoring iterations: 2\n"
      ]
     },
     "metadata": {},
     "output_type": "display_data"
    }
   ],
   "source": [
    "res_1"
   ]
  },
  {
   "cell_type": "code",
   "execution_count": 132,
   "metadata": {},
   "outputs": [
    {
     "data": {
      "text/html": [
       "<ol class=list-inline>\n",
       "\t<li>278</li>\n",
       "\t<li>14</li>\n",
       "</ol>\n"
      ],
      "text/latex": [
       "\\begin{enumerate*}\n",
       "\\item 278\n",
       "\\item 14\n",
       "\\end{enumerate*}\n"
      ],
      "text/markdown": [
       "1. 278\n",
       "2. 14\n",
       "\n",
       "\n"
      ],
      "text/plain": [
       "[1] 278  14"
      ]
     },
     "metadata": {},
     "output_type": "display_data"
    },
    {
     "data": {
      "text/html": [
       "<table>\n",
       "<thead><tr><th scope=col>ochko.zaochka</th><th scope=col>profile_folowers_cnt</th><th scope=col>profile_albums_cnt</th><th scope=col>photo_like_mean</th><th scope=col>photo_repost_mean</th><th scope=col>wall_can_comment</th><th scope=col>wall_post_android_cnt</th><th scope=col>wall_post_ipad_cnt</th><th scope=col>wall_video_mean</th><th scope=col>X30pub_clust_0</th><th scope=col>X30pub_clust_7</th><th scope=col>X30pub_clust_17</th><th scope=col>X30pub_clust_22</th><th scope=col>target_1</th></tr></thead>\n",
       "<tbody>\n",
       "\t<tr><td>0          </td><td>0.05193370 </td><td>0.11764706 </td><td>-0.2293428 </td><td>-0.24601687</td><td>1          </td><td>0.002141328</td><td>0.000000000</td><td> 0.5001020 </td><td>0.05958521 </td><td>0.20132429 </td><td>0.02075507 </td><td>0.02963645 </td><td>1          </td></tr>\n",
       "\t<tr><td>0          </td><td>0.06372007 </td><td>0.00000000 </td><td>-0.1923482 </td><td> 0.25085308</td><td>1          </td><td>0.000000000</td><td>0.000000000</td><td>-0.2315396 </td><td>0.08988292 </td><td>0.04601237 </td><td>0.05590318 </td><td>0.04006099 </td><td>1          </td></tr>\n",
       "\t<tr><td>0          </td><td>0.05009208 </td><td>0.29411765 </td><td>-0.5767502 </td><td> 0.21803023</td><td>1          </td><td>0.027837259</td><td>0.008902077</td><td>-0.1410449 </td><td>0.16198111 </td><td>0.04996228 </td><td>0.04655112 </td><td>0.03723640 </td><td>1          </td></tr>\n",
       "\t<tr><td>0          </td><td>0.04383057 </td><td>0.00000000 </td><td>-0.1644617 </td><td> 0.72406255</td><td>0          </td><td>0.000000000</td><td>0.000000000</td><td>-0.4928402 </td><td>0.06522227 </td><td>0.05523752 </td><td>0.06484989 </td><td>0.01476522 </td><td>0          </td></tr>\n",
       "\t<tr><td>0          </td><td>0.00000000 </td><td>0.05882353 </td><td>-0.6188478 </td><td>-0.24601687</td><td>1          </td><td>0.017130621</td><td>0.000000000</td><td> 0.5001020 </td><td>0.14008663 </td><td>0.02126039 </td><td>0.12471156 </td><td>0.01146120 </td><td>1          </td></tr>\n",
       "\t<tr><td>0          </td><td>0.02320442 </td><td>0.52941176 </td><td>-0.7920010 </td><td>-0.01132023</td><td>1          </td><td>0.171306210</td><td>0.000000000</td><td>-0.2938980 </td><td>0.20563254 </td><td>0.07383964 </td><td>0.16899444 </td><td>0.02219519 </td><td>1          </td></tr>\n",
       "</tbody>\n",
       "</table>\n"
      ],
      "text/latex": [
       "\\begin{tabular}{r|llllllllllllll}\n",
       " ochko.zaochka & profile\\_folowers\\_cnt & profile\\_albums\\_cnt & photo\\_like\\_mean & photo\\_repost\\_mean & wall\\_can\\_comment & wall\\_post\\_android\\_cnt & wall\\_post\\_ipad\\_cnt & wall\\_video\\_mean & X30pub\\_clust\\_0 & X30pub\\_clust\\_7 & X30pub\\_clust\\_17 & X30pub\\_clust\\_22 & target\\_1\\\\\n",
       "\\hline\n",
       "\t 0           & 0.05193370  & 0.11764706  & -0.2293428  & -0.24601687 & 1           & 0.002141328 & 0.000000000 &  0.5001020  & 0.05958521  & 0.20132429  & 0.02075507  & 0.02963645  & 1          \\\\\n",
       "\t 0           & 0.06372007  & 0.00000000  & -0.1923482  &  0.25085308 & 1           & 0.000000000 & 0.000000000 & -0.2315396  & 0.08988292  & 0.04601237  & 0.05590318  & 0.04006099  & 1          \\\\\n",
       "\t 0           & 0.05009208  & 0.29411765  & -0.5767502  &  0.21803023 & 1           & 0.027837259 & 0.008902077 & -0.1410449  & 0.16198111  & 0.04996228  & 0.04655112  & 0.03723640  & 1          \\\\\n",
       "\t 0           & 0.04383057  & 0.00000000  & -0.1644617  &  0.72406255 & 0           & 0.000000000 & 0.000000000 & -0.4928402  & 0.06522227  & 0.05523752  & 0.06484989  & 0.01476522  & 0          \\\\\n",
       "\t 0           & 0.00000000  & 0.05882353  & -0.6188478  & -0.24601687 & 1           & 0.017130621 & 0.000000000 &  0.5001020  & 0.14008663  & 0.02126039  & 0.12471156  & 0.01146120  & 1          \\\\\n",
       "\t 0           & 0.02320442  & 0.52941176  & -0.7920010  & -0.01132023 & 1           & 0.171306210 & 0.000000000 & -0.2938980  & 0.20563254  & 0.07383964  & 0.16899444  & 0.02219519  & 1          \\\\\n",
       "\\end{tabular}\n"
      ],
      "text/markdown": [
       "\n",
       "ochko.zaochka | profile_folowers_cnt | profile_albums_cnt | photo_like_mean | photo_repost_mean | wall_can_comment | wall_post_android_cnt | wall_post_ipad_cnt | wall_video_mean | X30pub_clust_0 | X30pub_clust_7 | X30pub_clust_17 | X30pub_clust_22 | target_1 | \n",
       "|---|---|---|---|---|---|\n",
       "| 0           | 0.05193370  | 0.11764706  | -0.2293428  | -0.24601687 | 1           | 0.002141328 | 0.000000000 |  0.5001020  | 0.05958521  | 0.20132429  | 0.02075507  | 0.02963645  | 1           | \n",
       "| 0           | 0.06372007  | 0.00000000  | -0.1923482  |  0.25085308 | 1           | 0.000000000 | 0.000000000 | -0.2315396  | 0.08988292  | 0.04601237  | 0.05590318  | 0.04006099  | 1           | \n",
       "| 0           | 0.05009208  | 0.29411765  | -0.5767502  |  0.21803023 | 1           | 0.027837259 | 0.008902077 | -0.1410449  | 0.16198111  | 0.04996228  | 0.04655112  | 0.03723640  | 1           | \n",
       "| 0           | 0.04383057  | 0.00000000  | -0.1644617  |  0.72406255 | 0           | 0.000000000 | 0.000000000 | -0.4928402  | 0.06522227  | 0.05523752  | 0.06484989  | 0.01476522  | 0           | \n",
       "| 0           | 0.00000000  | 0.05882353  | -0.6188478  | -0.24601687 | 1           | 0.017130621 | 0.000000000 |  0.5001020  | 0.14008663  | 0.02126039  | 0.12471156  | 0.01146120  | 1           | \n",
       "| 0           | 0.02320442  | 0.52941176  | -0.7920010  | -0.01132023 | 1           | 0.171306210 | 0.000000000 | -0.2938980  | 0.20563254  | 0.07383964  | 0.16899444  | 0.02219519  | 1           | \n",
       "\n",
       "\n"
      ],
      "text/plain": [
       "  ochko.zaochka profile_folowers_cnt profile_albums_cnt photo_like_mean\n",
       "1 0             0.05193370           0.11764706         -0.2293428     \n",
       "2 0             0.06372007           0.00000000         -0.1923482     \n",
       "3 0             0.05009208           0.29411765         -0.5767502     \n",
       "4 0             0.04383057           0.00000000         -0.1644617     \n",
       "5 0             0.00000000           0.05882353         -0.6188478     \n",
       "6 0             0.02320442           0.52941176         -0.7920010     \n",
       "  photo_repost_mean wall_can_comment wall_post_android_cnt wall_post_ipad_cnt\n",
       "1 -0.24601687       1                0.002141328           0.000000000       \n",
       "2  0.25085308       1                0.000000000           0.000000000       \n",
       "3  0.21803023       1                0.027837259           0.008902077       \n",
       "4  0.72406255       0                0.000000000           0.000000000       \n",
       "5 -0.24601687       1                0.017130621           0.000000000       \n",
       "6 -0.01132023       1                0.171306210           0.000000000       \n",
       "  wall_video_mean X30pub_clust_0 X30pub_clust_7 X30pub_clust_17 X30pub_clust_22\n",
       "1  0.5001020      0.05958521     0.20132429     0.02075507      0.02963645     \n",
       "2 -0.2315396      0.08988292     0.04601237     0.05590318      0.04006099     \n",
       "3 -0.1410449      0.16198111     0.04996228     0.04655112      0.03723640     \n",
       "4 -0.4928402      0.06522227     0.05523752     0.06484989      0.01476522     \n",
       "5  0.5001020      0.14008663     0.02126039     0.12471156      0.01146120     \n",
       "6 -0.2938980      0.20563254     0.07383964     0.16899444      0.02219519     \n",
       "  target_1\n",
       "1 1       \n",
       "2 1       \n",
       "3 1       \n",
       "4 0       \n",
       "5 1       \n",
       "6 1       "
      ]
     },
     "metadata": {},
     "output_type": "display_data"
    }
   ],
   "source": [
    "n = length(res_1$coefficients[,4])\n",
    "df = df[,c(res_1$coefficients[,4][2:n] < 0.1, TRUE)]\n",
    "dim(df)\n",
    "head(df)"
   ]
  },
  {
   "cell_type": "code",
   "execution_count": 133,
   "metadata": {},
   "outputs": [
    {
     "data": {
      "text/html": [
       "<table>\n",
       "<thead><tr><th scope=col>#Df</th><th scope=col>LogLik</th><th scope=col>Df</th><th scope=col>Chisq</th><th scope=col>Pr(&gt;Chisq)</th></tr></thead>\n",
       "<tbody>\n",
       "\t<tr><td>18       </td><td>-124.3349</td><td>NA       </td><td>      NA </td><td>       NA</td></tr>\n",
       "\t<tr><td>15       </td><td>-125.7648</td><td>-3       </td><td>2.859949 </td><td>0.4137261</td></tr>\n",
       "</tbody>\n",
       "</table>\n"
      ],
      "text/latex": [
       "\\begin{tabular}{r|lllll}\n",
       " \\#Df & LogLik & Df & Chisq & Pr(>Chisq)\\\\\n",
       "\\hline\n",
       "\t 18        & -124.3349 & NA        &       NA  &        NA\\\\\n",
       "\t 15        & -125.7648 & -3        & 2.859949  & 0.4137261\\\\\n",
       "\\end{tabular}\n"
      ],
      "text/markdown": [
       "\n",
       "#Df | LogLik | Df | Chisq | Pr(>Chisq) | \n",
       "|---|---|\n",
       "| 18        | -124.3349 | NA        |       NA  |        NA | \n",
       "| 15        | -125.7648 | -3        | 2.859949  | 0.4137261 | \n",
       "\n",
       "\n"
      ],
      "text/plain": [
       "  #Df LogLik    Df Chisq    Pr(>Chisq)\n",
       "1 18  -124.3349 NA       NA        NA \n",
       "2 15  -125.7648 -3 2.859949 0.4137261 "
      ]
     },
     "metadata": {},
     "output_type": "display_data"
    }
   ],
   "source": [
    "m_logit_2 <- glm(data = df, target_1~.)\n",
    "res_2 = summary(m_logit_2)\n",
    "lrtest(m_logit_1,m_logit_2)"
   ]
  },
  {
   "cell_type": "code",
   "execution_count": 134,
   "metadata": {},
   "outputs": [
    {
     "data": {
      "text/plain": [
       "\n",
       "Call:\n",
       "glm(formula = target_1 ~ ., data = df)\n",
       "\n",
       "Deviance Residuals: \n",
       "    Min       1Q   Median       3Q      Max  \n",
       "-0.9362  -0.2706   0.1047   0.2806   0.6760  \n",
       "\n",
       "Coefficients:\n",
       "                      Estimate Std. Error t value Pr(>|t|)    \n",
       "(Intercept)            0.70765    0.08203   8.627 5.97e-16 ***\n",
       "ochko.zaochka          0.15543    0.08631   1.801 0.072867 .  \n",
       "profile_folowers_cnt  -1.08778    0.36402  -2.988 0.003071 ** \n",
       "profile_albums_cnt     0.70774    0.19230   3.680 0.000282 ***\n",
       "photo_like_mean        0.09104    0.03243   2.807 0.005367 ** \n",
       "photo_repost_mean      0.03737    0.02417   1.546 0.123264    \n",
       "wall_can_comment       0.22894    0.05053   4.531 8.90e-06 ***\n",
       "wall_post_android_cnt -0.62617    0.25698  -2.437 0.015486 *  \n",
       "wall_post_ipad_cnt     0.52589    0.26983   1.949 0.052360 .  \n",
       "wall_video_mean        0.04432    0.02421   1.831 0.068298 .  \n",
       "X30pub_clust_0         1.03748    0.56631   1.832 0.068076 .  \n",
       "X30pub_clust_7         1.19921    0.56857   2.109 0.035871 *  \n",
       "X30pub_clust_17       -2.28522    0.57868  -3.949 0.000101 ***\n",
       "X30pub_clust_22       -1.50544    0.46252  -3.255 0.001283 ** \n",
       "---\n",
       "Signif. codes:  0 ‘***’ 0.001 ‘**’ 0.01 ‘*’ 0.05 ‘.’ 0.1 ‘ ’ 1\n",
       "\n",
       "(Dispersion parameter for gaussian family taken to be 0.1523733)\n",
       "\n",
       "    Null deviance: 54.766  on 277  degrees of freedom\n",
       "Residual deviance: 40.227  on 264  degrees of freedom\n",
       "AIC: 281.53\n",
       "\n",
       "Number of Fisher Scoring iterations: 2\n"
      ]
     },
     "metadata": {},
     "output_type": "display_data"
    }
   ],
   "source": [
    "res_2"
   ]
  },
  {
   "cell_type": "code",
   "execution_count": 135,
   "metadata": {},
   "outputs": [
    {
     "data": {
      "text/html": [
       "<ol class=list-inline>\n",
       "\t<li>278</li>\n",
       "\t<li>13</li>\n",
       "</ol>\n"
      ],
      "text/latex": [
       "\\begin{enumerate*}\n",
       "\\item 278\n",
       "\\item 13\n",
       "\\end{enumerate*}\n"
      ],
      "text/markdown": [
       "1. 278\n",
       "2. 13\n",
       "\n",
       "\n"
      ],
      "text/plain": [
       "[1] 278  13"
      ]
     },
     "metadata": {},
     "output_type": "display_data"
    },
    {
     "data": {
      "text/html": [
       "<table>\n",
       "<thead><tr><th scope=col>ochko.zaochka</th><th scope=col>profile_folowers_cnt</th><th scope=col>profile_albums_cnt</th><th scope=col>photo_like_mean</th><th scope=col>wall_can_comment</th><th scope=col>wall_post_android_cnt</th><th scope=col>wall_post_ipad_cnt</th><th scope=col>wall_video_mean</th><th scope=col>X30pub_clust_0</th><th scope=col>X30pub_clust_7</th><th scope=col>X30pub_clust_17</th><th scope=col>X30pub_clust_22</th><th scope=col>target_1</th></tr></thead>\n",
       "<tbody>\n",
       "\t<tr><td>0          </td><td>0.05193370 </td><td>0.11764706 </td><td>-0.2293428 </td><td>1          </td><td>0.002141328</td><td>0.000000000</td><td> 0.5001020 </td><td>0.05958521 </td><td>0.20132429 </td><td>0.02075507 </td><td>0.02963645 </td><td>1          </td></tr>\n",
       "\t<tr><td>0          </td><td>0.06372007 </td><td>0.00000000 </td><td>-0.1923482 </td><td>1          </td><td>0.000000000</td><td>0.000000000</td><td>-0.2315396 </td><td>0.08988292 </td><td>0.04601237 </td><td>0.05590318 </td><td>0.04006099 </td><td>1          </td></tr>\n",
       "\t<tr><td>0          </td><td>0.05009208 </td><td>0.29411765 </td><td>-0.5767502 </td><td>1          </td><td>0.027837259</td><td>0.008902077</td><td>-0.1410449 </td><td>0.16198111 </td><td>0.04996228 </td><td>0.04655112 </td><td>0.03723640 </td><td>1          </td></tr>\n",
       "\t<tr><td>0          </td><td>0.04383057 </td><td>0.00000000 </td><td>-0.1644617 </td><td>0          </td><td>0.000000000</td><td>0.000000000</td><td>-0.4928402 </td><td>0.06522227 </td><td>0.05523752 </td><td>0.06484989 </td><td>0.01476522 </td><td>0          </td></tr>\n",
       "\t<tr><td>0          </td><td>0.00000000 </td><td>0.05882353 </td><td>-0.6188478 </td><td>1          </td><td>0.017130621</td><td>0.000000000</td><td> 0.5001020 </td><td>0.14008663 </td><td>0.02126039 </td><td>0.12471156 </td><td>0.01146120 </td><td>1          </td></tr>\n",
       "\t<tr><td>0          </td><td>0.02320442 </td><td>0.52941176 </td><td>-0.7920010 </td><td>1          </td><td>0.171306210</td><td>0.000000000</td><td>-0.2938980 </td><td>0.20563254 </td><td>0.07383964 </td><td>0.16899444 </td><td>0.02219519 </td><td>1          </td></tr>\n",
       "</tbody>\n",
       "</table>\n"
      ],
      "text/latex": [
       "\\begin{tabular}{r|lllllllllllll}\n",
       " ochko.zaochka & profile\\_folowers\\_cnt & profile\\_albums\\_cnt & photo\\_like\\_mean & wall\\_can\\_comment & wall\\_post\\_android\\_cnt & wall\\_post\\_ipad\\_cnt & wall\\_video\\_mean & X30pub\\_clust\\_0 & X30pub\\_clust\\_7 & X30pub\\_clust\\_17 & X30pub\\_clust\\_22 & target\\_1\\\\\n",
       "\\hline\n",
       "\t 0           & 0.05193370  & 0.11764706  & -0.2293428  & 1           & 0.002141328 & 0.000000000 &  0.5001020  & 0.05958521  & 0.20132429  & 0.02075507  & 0.02963645  & 1          \\\\\n",
       "\t 0           & 0.06372007  & 0.00000000  & -0.1923482  & 1           & 0.000000000 & 0.000000000 & -0.2315396  & 0.08988292  & 0.04601237  & 0.05590318  & 0.04006099  & 1          \\\\\n",
       "\t 0           & 0.05009208  & 0.29411765  & -0.5767502  & 1           & 0.027837259 & 0.008902077 & -0.1410449  & 0.16198111  & 0.04996228  & 0.04655112  & 0.03723640  & 1          \\\\\n",
       "\t 0           & 0.04383057  & 0.00000000  & -0.1644617  & 0           & 0.000000000 & 0.000000000 & -0.4928402  & 0.06522227  & 0.05523752  & 0.06484989  & 0.01476522  & 0          \\\\\n",
       "\t 0           & 0.00000000  & 0.05882353  & -0.6188478  & 1           & 0.017130621 & 0.000000000 &  0.5001020  & 0.14008663  & 0.02126039  & 0.12471156  & 0.01146120  & 1          \\\\\n",
       "\t 0           & 0.02320442  & 0.52941176  & -0.7920010  & 1           & 0.171306210 & 0.000000000 & -0.2938980  & 0.20563254  & 0.07383964  & 0.16899444  & 0.02219519  & 1          \\\\\n",
       "\\end{tabular}\n"
      ],
      "text/markdown": [
       "\n",
       "ochko.zaochka | profile_folowers_cnt | profile_albums_cnt | photo_like_mean | wall_can_comment | wall_post_android_cnt | wall_post_ipad_cnt | wall_video_mean | X30pub_clust_0 | X30pub_clust_7 | X30pub_clust_17 | X30pub_clust_22 | target_1 | \n",
       "|---|---|---|---|---|---|\n",
       "| 0           | 0.05193370  | 0.11764706  | -0.2293428  | 1           | 0.002141328 | 0.000000000 |  0.5001020  | 0.05958521  | 0.20132429  | 0.02075507  | 0.02963645  | 1           | \n",
       "| 0           | 0.06372007  | 0.00000000  | -0.1923482  | 1           | 0.000000000 | 0.000000000 | -0.2315396  | 0.08988292  | 0.04601237  | 0.05590318  | 0.04006099  | 1           | \n",
       "| 0           | 0.05009208  | 0.29411765  | -0.5767502  | 1           | 0.027837259 | 0.008902077 | -0.1410449  | 0.16198111  | 0.04996228  | 0.04655112  | 0.03723640  | 1           | \n",
       "| 0           | 0.04383057  | 0.00000000  | -0.1644617  | 0           | 0.000000000 | 0.000000000 | -0.4928402  | 0.06522227  | 0.05523752  | 0.06484989  | 0.01476522  | 0           | \n",
       "| 0           | 0.00000000  | 0.05882353  | -0.6188478  | 1           | 0.017130621 | 0.000000000 |  0.5001020  | 0.14008663  | 0.02126039  | 0.12471156  | 0.01146120  | 1           | \n",
       "| 0           | 0.02320442  | 0.52941176  | -0.7920010  | 1           | 0.171306210 | 0.000000000 | -0.2938980  | 0.20563254  | 0.07383964  | 0.16899444  | 0.02219519  | 1           | \n",
       "\n",
       "\n"
      ],
      "text/plain": [
       "  ochko.zaochka profile_folowers_cnt profile_albums_cnt photo_like_mean\n",
       "1 0             0.05193370           0.11764706         -0.2293428     \n",
       "2 0             0.06372007           0.00000000         -0.1923482     \n",
       "3 0             0.05009208           0.29411765         -0.5767502     \n",
       "4 0             0.04383057           0.00000000         -0.1644617     \n",
       "5 0             0.00000000           0.05882353         -0.6188478     \n",
       "6 0             0.02320442           0.52941176         -0.7920010     \n",
       "  wall_can_comment wall_post_android_cnt wall_post_ipad_cnt wall_video_mean\n",
       "1 1                0.002141328           0.000000000         0.5001020     \n",
       "2 1                0.000000000           0.000000000        -0.2315396     \n",
       "3 1                0.027837259           0.008902077        -0.1410449     \n",
       "4 0                0.000000000           0.000000000        -0.4928402     \n",
       "5 1                0.017130621           0.000000000         0.5001020     \n",
       "6 1                0.171306210           0.000000000        -0.2938980     \n",
       "  X30pub_clust_0 X30pub_clust_7 X30pub_clust_17 X30pub_clust_22 target_1\n",
       "1 0.05958521     0.20132429     0.02075507      0.02963645      1       \n",
       "2 0.08988292     0.04601237     0.05590318      0.04006099      1       \n",
       "3 0.16198111     0.04996228     0.04655112      0.03723640      1       \n",
       "4 0.06522227     0.05523752     0.06484989      0.01476522      0       \n",
       "5 0.14008663     0.02126039     0.12471156      0.01146120      1       \n",
       "6 0.20563254     0.07383964     0.16899444      0.02219519      1       "
      ]
     },
     "metadata": {},
     "output_type": "display_data"
    }
   ],
   "source": [
    "n = length(res_2$coefficients[,4])\n",
    "df = df[,c(res_2$coefficients[,4][2:n] < 0.1, TRUE)]\n",
    "dim(df)\n",
    "head(df)"
   ]
  },
  {
   "cell_type": "code",
   "execution_count": 136,
   "metadata": {},
   "outputs": [
    {
     "data": {
      "text/html": [
       "<table>\n",
       "<thead><tr><th scope=col>#Df</th><th scope=col>LogLik</th><th scope=col>Df</th><th scope=col>Chisq</th><th scope=col>Pr(&gt;Chisq)</th></tr></thead>\n",
       "<tbody>\n",
       "\t<tr><td>15       </td><td>-125.7648</td><td>NA       </td><td>     NA  </td><td>       NA</td></tr>\n",
       "\t<tr><td>14       </td><td>-127.0179</td><td>-1       </td><td>2.50605  </td><td>0.1134099</td></tr>\n",
       "</tbody>\n",
       "</table>\n"
      ],
      "text/latex": [
       "\\begin{tabular}{r|lllll}\n",
       " \\#Df & LogLik & Df & Chisq & Pr(>Chisq)\\\\\n",
       "\\hline\n",
       "\t 15        & -125.7648 & NA        &      NA   &        NA\\\\\n",
       "\t 14        & -127.0179 & -1        & 2.50605   & 0.1134099\\\\\n",
       "\\end{tabular}\n"
      ],
      "text/markdown": [
       "\n",
       "#Df | LogLik | Df | Chisq | Pr(>Chisq) | \n",
       "|---|---|\n",
       "| 15        | -125.7648 | NA        |      NA   |        NA | \n",
       "| 14        | -127.0179 | -1        | 2.50605   | 0.1134099 | \n",
       "\n",
       "\n"
      ],
      "text/plain": [
       "  #Df LogLik    Df Chisq   Pr(>Chisq)\n",
       "1 15  -125.7648 NA      NA        NA \n",
       "2 14  -127.0179 -1 2.50605 0.1134099 "
      ]
     },
     "metadata": {},
     "output_type": "display_data"
    }
   ],
   "source": [
    "m_logit_3 <- glm(data = df, target_1~.)\n",
    "res_3 = summary(m_logit_3)\n",
    "lrtest(m_logit_2,m_logit_3)"
   ]
  },
  {
   "cell_type": "code",
   "execution_count": 137,
   "metadata": {},
   "outputs": [
    {
     "data": {
      "text/plain": [
       "\n",
       "Call:\n",
       "glm(formula = target_1 ~ ., data = df)\n",
       "\n",
       "Deviance Residuals: \n",
       "    Min       1Q   Median       3Q      Max  \n",
       "-0.9469  -0.2687   0.1013   0.2740   0.6533  \n",
       "\n",
       "Coefficients:\n",
       "                      Estimate Std. Error t value Pr(>|t|)    \n",
       "(Intercept)            0.71249    0.08218   8.670 4.40e-16 ***\n",
       "ochko.zaochka          0.14868    0.08642   1.720 0.086538 .  \n",
       "profile_folowers_cnt  -1.07563    0.36489  -2.948 0.003486 ** \n",
       "profile_albums_cnt     0.70769    0.19280   3.671 0.000293 ***\n",
       "photo_like_mean        0.09804    0.03219   3.045 0.002558 ** \n",
       "wall_can_comment       0.23854    0.05027   4.745 3.42e-06 ***\n",
       "wall_post_android_cnt -0.64220    0.25745  -2.494 0.013223 *  \n",
       "wall_post_ipad_cnt     0.51655    0.27047   1.910 0.057235 .  \n",
       "wall_video_mean        0.04322    0.02427   1.781 0.076041 .  \n",
       "X30pub_clust_0         0.99692    0.56718   1.758 0.079959 .  \n",
       "X30pub_clust_7         1.14889    0.56912   2.019 0.044525 *  \n",
       "X30pub_clust_17       -2.30052    0.58012  -3.966 9.43e-05 ***\n",
       "X30pub_clust_22       -1.54058    0.46318  -3.326 0.001005 ** \n",
       "---\n",
       "Signif. codes:  0 ‘***’ 0.001 ‘**’ 0.01 ‘*’ 0.05 ‘.’ 0.1 ‘ ’ 1\n",
       "\n",
       "(Dispersion parameter for gaussian family taken to be 0.1531729)\n",
       "\n",
       "    Null deviance: 54.766  on 277  degrees of freedom\n",
       "Residual deviance: 40.591  on 265  degrees of freedom\n",
       "AIC: 282.04\n",
       "\n",
       "Number of Fisher Scoring iterations: 2\n"
      ]
     },
     "metadata": {},
     "output_type": "display_data"
    }
   ],
   "source": [
    "res_3"
   ]
  },
  {
   "cell_type": "code",
   "execution_count": 138,
   "metadata": {},
   "outputs": [
    {
     "data": {
      "text/html": [
       "<ol class=list-inline>\n",
       "\t<li>278</li>\n",
       "\t<li>9</li>\n",
       "</ol>\n"
      ],
      "text/latex": [
       "\\begin{enumerate*}\n",
       "\\item 278\n",
       "\\item 9\n",
       "\\end{enumerate*}\n"
      ],
      "text/markdown": [
       "1. 278\n",
       "2. 9\n",
       "\n",
       "\n"
      ],
      "text/plain": [
       "[1] 278   9"
      ]
     },
     "metadata": {},
     "output_type": "display_data"
    },
    {
     "data": {
      "text/html": [
       "<table>\n",
       "<thead><tr><th scope=col>profile_folowers_cnt</th><th scope=col>profile_albums_cnt</th><th scope=col>photo_like_mean</th><th scope=col>wall_can_comment</th><th scope=col>wall_post_android_cnt</th><th scope=col>X30pub_clust_7</th><th scope=col>X30pub_clust_17</th><th scope=col>X30pub_clust_22</th><th scope=col>target_1</th></tr></thead>\n",
       "<tbody>\n",
       "\t<tr><td>0.05193370 </td><td>0.11764706 </td><td>-0.2293428 </td><td>1          </td><td>0.002141328</td><td>0.20132429 </td><td>0.02075507 </td><td>0.02963645 </td><td>1          </td></tr>\n",
       "\t<tr><td>0.06372007 </td><td>0.00000000 </td><td>-0.1923482 </td><td>1          </td><td>0.000000000</td><td>0.04601237 </td><td>0.05590318 </td><td>0.04006099 </td><td>1          </td></tr>\n",
       "\t<tr><td>0.05009208 </td><td>0.29411765 </td><td>-0.5767502 </td><td>1          </td><td>0.027837259</td><td>0.04996228 </td><td>0.04655112 </td><td>0.03723640 </td><td>1          </td></tr>\n",
       "\t<tr><td>0.04383057 </td><td>0.00000000 </td><td>-0.1644617 </td><td>0          </td><td>0.000000000</td><td>0.05523752 </td><td>0.06484989 </td><td>0.01476522 </td><td>0          </td></tr>\n",
       "\t<tr><td>0.00000000 </td><td>0.05882353 </td><td>-0.6188478 </td><td>1          </td><td>0.017130621</td><td>0.02126039 </td><td>0.12471156 </td><td>0.01146120 </td><td>1          </td></tr>\n",
       "\t<tr><td>0.02320442 </td><td>0.52941176 </td><td>-0.7920010 </td><td>1          </td><td>0.171306210</td><td>0.07383964 </td><td>0.16899444 </td><td>0.02219519 </td><td>1          </td></tr>\n",
       "</tbody>\n",
       "</table>\n"
      ],
      "text/latex": [
       "\\begin{tabular}{r|lllllllll}\n",
       " profile\\_folowers\\_cnt & profile\\_albums\\_cnt & photo\\_like\\_mean & wall\\_can\\_comment & wall\\_post\\_android\\_cnt & X30pub\\_clust\\_7 & X30pub\\_clust\\_17 & X30pub\\_clust\\_22 & target\\_1\\\\\n",
       "\\hline\n",
       "\t 0.05193370  & 0.11764706  & -0.2293428  & 1           & 0.002141328 & 0.20132429  & 0.02075507  & 0.02963645  & 1          \\\\\n",
       "\t 0.06372007  & 0.00000000  & -0.1923482  & 1           & 0.000000000 & 0.04601237  & 0.05590318  & 0.04006099  & 1          \\\\\n",
       "\t 0.05009208  & 0.29411765  & -0.5767502  & 1           & 0.027837259 & 0.04996228  & 0.04655112  & 0.03723640  & 1          \\\\\n",
       "\t 0.04383057  & 0.00000000  & -0.1644617  & 0           & 0.000000000 & 0.05523752  & 0.06484989  & 0.01476522  & 0          \\\\\n",
       "\t 0.00000000  & 0.05882353  & -0.6188478  & 1           & 0.017130621 & 0.02126039  & 0.12471156  & 0.01146120  & 1          \\\\\n",
       "\t 0.02320442  & 0.52941176  & -0.7920010  & 1           & 0.171306210 & 0.07383964  & 0.16899444  & 0.02219519  & 1          \\\\\n",
       "\\end{tabular}\n"
      ],
      "text/markdown": [
       "\n",
       "profile_folowers_cnt | profile_albums_cnt | photo_like_mean | wall_can_comment | wall_post_android_cnt | X30pub_clust_7 | X30pub_clust_17 | X30pub_clust_22 | target_1 | \n",
       "|---|---|---|---|---|---|\n",
       "| 0.05193370  | 0.11764706  | -0.2293428  | 1           | 0.002141328 | 0.20132429  | 0.02075507  | 0.02963645  | 1           | \n",
       "| 0.06372007  | 0.00000000  | -0.1923482  | 1           | 0.000000000 | 0.04601237  | 0.05590318  | 0.04006099  | 1           | \n",
       "| 0.05009208  | 0.29411765  | -0.5767502  | 1           | 0.027837259 | 0.04996228  | 0.04655112  | 0.03723640  | 1           | \n",
       "| 0.04383057  | 0.00000000  | -0.1644617  | 0           | 0.000000000 | 0.05523752  | 0.06484989  | 0.01476522  | 0           | \n",
       "| 0.00000000  | 0.05882353  | -0.6188478  | 1           | 0.017130621 | 0.02126039  | 0.12471156  | 0.01146120  | 1           | \n",
       "| 0.02320442  | 0.52941176  | -0.7920010  | 1           | 0.171306210 | 0.07383964  | 0.16899444  | 0.02219519  | 1           | \n",
       "\n",
       "\n"
      ],
      "text/plain": [
       "  profile_folowers_cnt profile_albums_cnt photo_like_mean wall_can_comment\n",
       "1 0.05193370           0.11764706         -0.2293428      1               \n",
       "2 0.06372007           0.00000000         -0.1923482      1               \n",
       "3 0.05009208           0.29411765         -0.5767502      1               \n",
       "4 0.04383057           0.00000000         -0.1644617      0               \n",
       "5 0.00000000           0.05882353         -0.6188478      1               \n",
       "6 0.02320442           0.52941176         -0.7920010      1               \n",
       "  wall_post_android_cnt X30pub_clust_7 X30pub_clust_17 X30pub_clust_22 target_1\n",
       "1 0.002141328           0.20132429     0.02075507      0.02963645      1       \n",
       "2 0.000000000           0.04601237     0.05590318      0.04006099      1       \n",
       "3 0.027837259           0.04996228     0.04655112      0.03723640      1       \n",
       "4 0.000000000           0.05523752     0.06484989      0.01476522      0       \n",
       "5 0.017130621           0.02126039     0.12471156      0.01146120      1       \n",
       "6 0.171306210           0.07383964     0.16899444      0.02219519      1       "
      ]
     },
     "metadata": {},
     "output_type": "display_data"
    },
    {
     "data": {
      "text/html": [
       "<table>\n",
       "<thead><tr><th scope=col>#Df</th><th scope=col>LogLik</th><th scope=col>Df</th><th scope=col>Chisq</th><th scope=col>Pr(&gt;Chisq)</th></tr></thead>\n",
       "<tbody>\n",
       "\t<tr><td>14        </td><td>-127.0179 </td><td>NA        </td><td>    NA    </td><td>        NA</td></tr>\n",
       "\t<tr><td>10        </td><td>-133.0494 </td><td>-4        </td><td>12.063    </td><td>0.01688886</td></tr>\n",
       "</tbody>\n",
       "</table>\n"
      ],
      "text/latex": [
       "\\begin{tabular}{r|lllll}\n",
       " \\#Df & LogLik & Df & Chisq & Pr(>Chisq)\\\\\n",
       "\\hline\n",
       "\t 14         & -127.0179  & NA         &     NA     &         NA\\\\\n",
       "\t 10         & -133.0494  & -4         & 12.063     & 0.01688886\\\\\n",
       "\\end{tabular}\n"
      ],
      "text/markdown": [
       "\n",
       "#Df | LogLik | Df | Chisq | Pr(>Chisq) | \n",
       "|---|---|\n",
       "| 14         | -127.0179  | NA         |     NA     |         NA | \n",
       "| 10         | -133.0494  | -4         | 12.063     | 0.01688886 | \n",
       "\n",
       "\n"
      ],
      "text/plain": [
       "  #Df LogLik    Df Chisq  Pr(>Chisq)\n",
       "1 14  -127.0179 NA     NA         NA\n",
       "2 10  -133.0494 -4 12.063 0.01688886"
      ]
     },
     "metadata": {},
     "output_type": "display_data"
    }
   ],
   "source": [
    "n = length(res_3$coefficients[,4])\n",
    "df = df[,c(res_3$coefficients[,4][2:n] < 0.05, TRUE)]\n",
    "dim(df)\n",
    "head(df)\n",
    "\n",
    "m_logit_4 <- glm(data = df, target_1~.)\n",
    "res_4 = summary(m_logit_4)\n",
    "lrtest(m_logit_3,m_logit_4)"
   ]
  },
  {
   "cell_type": "code",
   "execution_count": 139,
   "metadata": {},
   "outputs": [
    {
     "data": {
      "text/plain": [
       "\n",
       "Call:\n",
       "glm(formula = target_1 ~ ., data = df)\n",
       "\n",
       "Deviance Residuals: \n",
       "    Min       1Q   Median       3Q      Max  \n",
       "-0.9440  -0.3054   0.1177   0.2887   0.6743  \n",
       "\n",
       "Coefficients:\n",
       "                      Estimate Std. Error t value Pr(>|t|)    \n",
       "(Intercept)            0.81297    0.06527  12.455  < 2e-16 ***\n",
       "profile_folowers_cnt  -0.96566    0.36484  -2.647 0.008604 ** \n",
       "profile_albums_cnt     0.70760    0.19123   3.700 0.000261 ***\n",
       "photo_like_mean        0.09449    0.03239   2.917 0.003831 ** \n",
       "wall_can_comment       0.24017    0.05074   4.733 3.58e-06 ***\n",
       "wall_post_android_cnt -0.44429    0.24182  -1.837 0.067270 .  \n",
       "X30pub_clust_7         1.05746    0.55826   1.894 0.059271 .  \n",
       "X30pub_clust_17       -2.21757    0.58497  -3.791 0.000185 ***\n",
       "X30pub_clust_22       -1.44674    0.46638  -3.102 0.002126 ** \n",
       "---\n",
       "Signif. codes:  0 ‘***’ 0.001 ‘**’ 0.01 ‘*’ 0.05 ‘.’ 0.1 ‘ ’ 1\n",
       "\n",
       "(Dispersion parameter for gaussian family taken to be 0.157587)\n",
       "\n",
       "    Null deviance: 54.766  on 277  degrees of freedom\n",
       "Residual deviance: 42.391  on 269  degrees of freedom\n",
       "AIC: 286.1\n",
       "\n",
       "Number of Fisher Scoring iterations: 2\n"
      ]
     },
     "metadata": {},
     "output_type": "display_data"
    }
   ],
   "source": [
    "res_4"
   ]
  },
  {
   "cell_type": "code",
   "execution_count": null,
   "metadata": {},
   "outputs": [],
   "source": []
  },
  {
   "cell_type": "code",
   "execution_count": null,
   "metadata": {},
   "outputs": [],
   "source": []
  },
  {
   "cell_type": "code",
   "execution_count": null,
   "metadata": {},
   "outputs": [],
   "source": [
    "#надо указать R что ряд текстовых переменных факторные\n",
    "t <- mutate(t,sex=as.factor(sex),pclass=as.factor(pclass),survived=as.factor(survived))\n",
    "#описательные статистики по каждой переменной:\n",
    "summary(t)\n",
    "\n",
    "#Имеет смысл для качественной переменной построить несколько\n",
    "#типов графиков.\n",
    "\n",
    "mosaic(data=t,~sex+pclass+survived,shade=TRUE)\n",
    "#на графике видны соотношения между всеми факторами.\n",
    "# про независимость признаков и закраску не понял\n",
    "\n",
    "#построим график виалончель\n",
    "qplot(data=t,x=survived,y=age,geom=\"violin\")\n",
    "\n",
    "#если поделить пассажиров на выживших и не выживших\n",
    "#и отдожить по вертикали количественную переменную\n",
    "#а именно возраст, то мы видим что возраст меняется от\n",
    "# 0 до 80 и среди тех и других по возрастам распределение\n",
    "# примерно одинаковое.\n",
    "\n",
    "#раньше вместо виолнчели строли ящик с усами. \n",
    "\n",
    "qplot(data=t,x=survived,y=age,geom=\"boxplot\")\n",
    "\n",
    "#видно то же самое ;)\n",
    "\n",
    "# Первые два варианта (виол и усы) показывают лишь распределение выживших и не выживших,\n",
    "# а не их количество, на графике-мозаике же сравнить можно, причём особенно\n",
    "# наглядно это будет, если указать переменную survived первой.\n",
    "\n",
    "#Построим плотности выживших и невыживших на одном графике. \n",
    "qplot(data=t,x=age,y=..count..,fill=survived,geom=\"density\",position=\"stack\")\n",
    "#                 количество    закраска                 как расположены     \n",
    "#                 наблюдений    в соотв.                 накапливаются по   \n",
    "#                 комп сам      выжил или нет            вертикали\n",
    "\n",
    "qplot(data=t,x=age,y=..count..,fill=survived,geom=\"density\",position=\"fill\")\n",
    "#сглаженная услтвная вероятность. Среди пожилого возрата большая састь погибла и т.д.\n",
    "#график илюстрирует только соотношение, но не количество.\n",
    "\n",
    "\n",
    "\n",
    "\n",
    "#оценка logit и probit моделей.\n",
    "\n",
    "m_logit <- glm(data=t, survived~sex+age+pclass+fare,\n",
    "               family=binomial(link=\"logit\"),x=TRUE)\n",
    "\n",
    "m_probit <- glm(data=t, survived~sex+age+pclass+fare,\n",
    "               family=binomial(link=\"probit\"),x=TRUE)\n",
    "\n",
    "summary(m_logit)\n",
    "summary(m_probit)\n",
    "\n",
    "\n",
    "# \n",
    "# ИНТЕРПРЕТАЦИЯ!!!\n",
    "#\n",
    "#\n",
    "\n",
    "vcov(m_logit)\n",
    "#выдаст ковариац матрицу\n",
    "\n",
    "#коэфициены интерпретируются плохо. Лучше интерпретировать\n",
    "#вероятности и предельные эффекты\n",
    "#построим прогноз\n",
    "\n",
    "newdata <- data.frame(age=seq(5,100,length=100),sex=\"male\",pclass=\"2nd\",fare=100)\n",
    "head(newdata)\n",
    "pr_logit <- predict(m_logit,newdata,se=TRUE)\n",
    "newdata_pr <- cbind(newdata,pr_logit)\n",
    "#cbind объединяет столбики\n",
    "\n",
    "head(newdata_pr)\n",
    "#переменная fit - предсказанная y* residual.scale - вспомогательная \n",
    "\n",
    "#Доверительный интервал для вероятности и LR тест в R\n",
    "newdata_pr <- mutate(newdata_pr,prob=plogis(fit),\n",
    "                     left_ci=plogis(fit-1.96*se.fit),\n",
    "                     right_ci=plogis(fit+1.96*se.fit))\n",
    "head(newdata_pr)\n",
    "\n",
    "#Проилюстрируем графически\n",
    "qplot(data=newdata_pr, x=age,y=prob,geom=\"line\")\n",
    "#видим, что при росте возраста вероятность выжить падает\n",
    "qplot(data=newdata_pr, x=age,y=prob,geom=\"line\")+\n",
    "  geom_ribbon(aes(ymin=left_ci,ymax=right_ci),alpha=0.2)\n",
    "#добавили доверительные интервалы. Точность прогнозирования\n",
    "# увеличивается с возрастом, т.к. мало детей\n",
    "\n",
    "\n",
    "#Сравним нашу модель с моделью без финансовых переменных\n",
    "#первая модель оценивалась не по всей выборке. R откидывает пропущенное\n",
    "t2 <- select(t,sex,age,pclass,survived,fare) %>% na.omit\n",
    "m_logit2 <- glm(data=t2,survived~sex+age,\n",
    "                family=binomial(link=\"logit\"),x=TRUE)\n",
    "lrtest(m_logit,m_logit2)\n",
    "#гипотеза о том что финансовые переменные не оказывают\n",
    "#влияние на вер выжить отвергнута так как pvalue мало.\n",
    "\n",
    "\n",
    "\n",
    "#Предельные эффекты в R\n",
    "maBina(m_logit)\n",
    "#команда даст предельные эффекты для идивида \n",
    "#среднего возраста среднего пола и т.п. \n",
    "\n",
    "maBina(m_logit,x.mean=FALSE)\n",
    "#дает на сколько увеличение возраста на 1 год для каждого\n",
    "#пассажира увеличит или уменьшит его вер выжить а после\n",
    "#она усредняется по всем пассажирам\n",
    "\n",
    "#Проинтерпретируем предельные эффекты. \n",
    "\n",
    "\n",
    "\n",
    "#сделаем вид что мы не знаем о логит и пробит и применим мнк\n",
    "# ЭТО НЕКОРРЕКТНО! \n",
    "\n",
    "m_ols <- lm(data=t, as.numeric(survived)~sex+age+pclass+fare)\n",
    "summary(m_ols)\n",
    "#предскажем вероятности по ней\n",
    "pr_ols <- predict(m_ols,newdata)\n",
    "head(pr_ols)\n",
    "# вероятности больше 1!!!\n",
    "\n",
    "\n",
    "\n",
    "\n",
    "# ROC - кривая\n",
    "# Можно установить любой порог отсечение - погиб, выжил.\n",
    "# Этот выбор влияет на вероятности разных ошибок.\n",
    "pr_t <- predict(m_logit,t,se=TRUE)\n",
    "t <- cbind(t,pr_t)\n",
    "#превратим оценки в вероятности\n",
    "t <- mutate(t,prob=plogis(fit))\n",
    "select(t,age,survived,prob)\n",
    "#таблица вероятностей выжить и факты\n",
    "\n",
    "#Теперь на основании этих данных мы переберем пороги отсечения\n",
    "# и построим ROC-curve.\n",
    "roc.data <- roc(t$prob,t$survived)\n",
    "str(roc.data)\n",
    "#список из 3 переменных cutoffs - пороги\n",
    "#fpк - доля ошибочно классифицированных не выживших\n",
    "#tpr - доля правильно выживших пассажиров\n",
    "\n",
    "qplot(x=roc.data$cutoffs,y=roc.data$tpr,geom=\"line\")\n",
    "#по горизонтали - пороги по вертикали - доля верно выживших\n",
    "# если порог низок, большое кол-во выживет по прогнозу и доля высока\n",
    "# если порог высок, мало выживших выживет.\n",
    "\n",
    "qplot(x=roc.data$cutoffs,y=roc.data$fpr,geom=\"line\")\n",
    "# при маленьком пороге много неверно невыживших \n",
    "# при большом пороге много верно невыживших \n",
    "\n",
    "#Roc кривой называется сочетание этих нрафиков на одном\n",
    "\n",
    "qplot(x=roc.data$fpr,y=roc.data$tpr,geom=\"line\")\n",
    "\n",
    "# дилема выбора между верно погибшими и верно выжившими\n",
    "# если порог высок то у меня низка доля верно выживших \n",
    "# но высока доля верно невыживших и наоборот при низком \n",
    "# пороге.\n",
    "\n",
    "# Надо как-то выбрать порог....\n"
   ]
  },
  {
   "cell_type": "code",
   "execution_count": null,
   "metadata": {},
   "outputs": [],
   "source": []
  },
  {
   "cell_type": "code",
   "execution_count": null,
   "metadata": {},
   "outputs": [],
   "source": []
  },
  {
   "cell_type": "code",
   "execution_count": null,
   "metadata": {},
   "outputs": [],
   "source": []
  },
  {
   "cell_type": "code",
   "execution_count": null,
   "metadata": {},
   "outputs": [],
   "source": []
  },
  {
   "cell_type": "code",
   "execution_count": null,
   "metadata": {},
   "outputs": [],
   "source": []
  },
  {
   "cell_type": "code",
   "execution_count": null,
   "metadata": {},
   "outputs": [],
   "source": []
  }
 ],
 "metadata": {
  "kernelspec": {
   "display_name": "R",
   "language": "R",
   "name": "ir"
  },
  "language_info": {
   "codemirror_mode": "r",
   "file_extension": ".r",
   "mimetype": "text/x-r-source",
   "name": "R",
   "pygments_lexer": "r",
   "version": "3.4.2"
  }
 },
 "nbformat": 4,
 "nbformat_minor": 2
}
