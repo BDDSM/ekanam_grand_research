{
 "cells": [
  {
   "cell_type": "markdown",
   "metadata": {},
   "source": [
    "<center>\n",
    "<img src=\"https://raw.githubusercontent.com/FUlyankin/ekenam_grand_research/master/images/cover.png\">\n",
    "</center>\n",
    "\n",
    "\n",
    "# <center> Иканам гранд рисёрч </center>\n",
    "## <center>  Часть седьмая: моделирование </center>\n",
    "\n",
    "\n",
    "Проект **Иканам гранд рисёрч** реализуется [Иканам стьюдентс коммьюнити,](https://vk.com/ikanam)\n",
    "в частности [вот этим парнем по имени Филипп.](https://vk.com/ppilif)  Если вы нашли ошибку или у вас есть предложения, замечания, деньги, слава или женщины, можно ему написать. Весь говнокод, использованный в исследовании распостраняется по лицензии [Creative Commons CC BY-NC-SA 4.0.](https://creativecommons.org/licenses/by-nc-sa/4.0/) Его можно использовать в любых целях (редактировать, поправлять и брать за основу), кроме коммерческих, но с обязательным упоминанием автора материала. При наличии технической возможности необходимо также указать активную гиперссылку на [страницу рисёрча.](https://github.com/FUlyankin/ekenam_grand_research) "
   ]
  },
  {
   "cell_type": "markdown",
   "metadata": {},
   "source": [
    "# 1. Отбор переменных через ~~постель~~ проверку гипотез\n",
    "\n",
    "Проведём селекцию переменных из уже знакомой нам таблички эконометрическими способами. Делать это мы будем не в python, а в R. Потому что R делался именно для таких вещей."
   ]
  },
  {
   "cell_type": "code",
   "execution_count": 97,
   "metadata": {},
   "outputs": [],
   "source": [
    "setwd('../5. Data prepare')"
   ]
  },
  {
   "cell_type": "code",
   "execution_count": 112,
   "metadata": {},
   "outputs": [
    {
     "name": "stdout",
     "output_type": "stream",
     "text": [
      "[1] 278  60\n"
     ]
    }
   ],
   "source": [
    "library(\"dplyr\")\n",
    "library(\"ggplot2\")\n",
    "library(\"mlogit\")\n",
    "library('boot')\n",
    "library('pROC') \n",
    "\n",
    "options(stringsAsFactors=FALSE)\n",
    "\n",
    "df = read.csv('train_data_for_R.csv', sep = ';')\n",
    "new_df = read.csv('test_data_for_R.csv', sep = ';')\n",
    "print(dim(df))"
   ]
  },
  {
   "cell_type": "code",
   "execution_count": 113,
   "metadata": {},
   "outputs": [
    {
     "data": {
      "text/html": [
       "<table>\n",
       "<thead><tr><th scope=col>lgota</th><th scope=col>chelevoe</th><th scope=col>olimp</th><th scope=col>dogovor</th><th scope=col>ochko.zaochka</th><th scope=col>ege_diff</th><th scope=col>kozko</th><th scope=col>wall_audio_cnt</th><th scope=col>wall_audio_mean</th><th scope=col>wall_can_comment</th><th scope=col>⋯</th><th scope=col>X20pub_clust_11</th><th scope=col>X20pub_clust_12</th><th scope=col>X20pub_clust_13</th><th scope=col>X20pub_clust_14</th><th scope=col>X20pub_clust_15</th><th scope=col>X20pub_clust_16</th><th scope=col>X20pub_clust_17</th><th scope=col>X20pub_clust_18</th><th scope=col>X20pub_clust_19</th><th scope=col>target_1</th></tr></thead>\n",
       "<tbody>\n",
       "\t<tr><td>0          </td><td>0          </td><td>1          </td><td>0          </td><td>0          </td><td>-1.71436063</td><td>0          </td><td>0.001210654</td><td>-0.37519998</td><td>1          </td><td>⋯          </td><td>0.02989079 </td><td>0.14336749 </td><td>0.03302454 </td><td>0.001554972</td><td>0.04630034 </td><td>0.002384977</td><td>0.03489145 </td><td>0.07602706 </td><td>0.07726678 </td><td>1          </td></tr>\n",
       "\t<tr><td>0          </td><td>0          </td><td>1          </td><td>0          </td><td>0          </td><td> 0.47396584</td><td>0          </td><td>0.008474576</td><td> 0.40574274</td><td>1          </td><td>⋯          </td><td>0.04623266 </td><td>0.07535394 </td><td>0.09428196 </td><td>0.024351069</td><td>0.03137725 </td><td>0.011125820</td><td>0.12804240 </td><td>0.04748053 </td><td>0.02705087 </td><td>1          </td></tr>\n",
       "\t<tr><td>0          </td><td>0          </td><td>1          </td><td>0          </td><td>0          </td><td> 0.22146663</td><td>0          </td><td>0.151331719</td><td>-0.26119621</td><td>1          </td><td>⋯          </td><td>0.06671119 </td><td>0.10695414 </td><td>0.09642962 </td><td>0.002388607</td><td>0.02632434 </td><td>0.002383638</td><td>0.11780059 </td><td>0.05199055 </td><td>0.01902819 </td><td>1          </td></tr>\n",
       "\t<tr><td>1          </td><td>0          </td><td>0          </td><td>0          </td><td>0          </td><td>-0.07311578</td><td>0          </td><td>0.000000000</td><td>-0.54773384</td><td>0          </td><td>⋯          </td><td>0.04488996 </td><td>0.08183670 </td><td>0.11842301 </td><td>0.000000000</td><td>0.00967815 </td><td>0.006030470</td><td>0.18226847 </td><td>0.02074338 </td><td>0.03613418 </td><td>0          </td></tr>\n",
       "\t<tr><td>1          </td><td>0          </td><td>0          </td><td>0          </td><td>0          </td><td>-1.71436063</td><td>0          </td><td>0.004842615</td><td>-0.03013227</td><td>1          </td><td>⋯          </td><td>0.01079370 </td><td>0.07079418 </td><td>0.05716315 </td><td>0.020233241</td><td>0.02941722 </td><td>0.005071339</td><td>0.21965020 </td><td>0.02719962 </td><td>0.05738306 </td><td>1          </td></tr>\n",
       "\t<tr><td>1          </td><td>0          </td><td>0          </td><td>0          </td><td>0          </td><td>-2.09310944</td><td>0          </td><td>0.228813559</td><td>-0.11217419</td><td>1          </td><td>⋯          </td><td>0.03317695 </td><td>0.07697521 </td><td>0.09042338 </td><td>0.000000000</td><td>0.09171961 </td><td>0.001280769</td><td>0.20409107 </td><td>0.02315552 </td><td>0.07277238 </td><td>1          </td></tr>\n",
       "</tbody>\n",
       "</table>\n"
      ],
      "text/latex": [
       "\\begin{tabular}{r|llllllllllllllllllllllllllllllllllllllllllllllllllllllllllll}\n",
       " lgota & chelevoe & olimp & dogovor & ochko.zaochka & ege\\_diff & kozko & wall\\_audio\\_cnt & wall\\_audio\\_mean & wall\\_can\\_comment & ⋯ & X20pub\\_clust\\_11 & X20pub\\_clust\\_12 & X20pub\\_clust\\_13 & X20pub\\_clust\\_14 & X20pub\\_clust\\_15 & X20pub\\_clust\\_16 & X20pub\\_clust\\_17 & X20pub\\_clust\\_18 & X20pub\\_clust\\_19 & target\\_1\\\\\n",
       "\\hline\n",
       "\t 0           & 0           & 1           & 0           & 0           & -1.71436063 & 0           & 0.001210654 & -0.37519998 & 1           & ⋯           & 0.02989079  & 0.14336749  & 0.03302454  & 0.001554972 & 0.04630034  & 0.002384977 & 0.03489145  & 0.07602706  & 0.07726678  & 1          \\\\\n",
       "\t 0           & 0           & 1           & 0           & 0           &  0.47396584 & 0           & 0.008474576 &  0.40574274 & 1           & ⋯           & 0.04623266  & 0.07535394  & 0.09428196  & 0.024351069 & 0.03137725  & 0.011125820 & 0.12804240  & 0.04748053  & 0.02705087  & 1          \\\\\n",
       "\t 0           & 0           & 1           & 0           & 0           &  0.22146663 & 0           & 0.151331719 & -0.26119621 & 1           & ⋯           & 0.06671119  & 0.10695414  & 0.09642962  & 0.002388607 & 0.02632434  & 0.002383638 & 0.11780059  & 0.05199055  & 0.01902819  & 1          \\\\\n",
       "\t 1           & 0           & 0           & 0           & 0           & -0.07311578 & 0           & 0.000000000 & -0.54773384 & 0           & ⋯           & 0.04488996  & 0.08183670  & 0.11842301  & 0.000000000 & 0.00967815  & 0.006030470 & 0.18226847  & 0.02074338  & 0.03613418  & 0          \\\\\n",
       "\t 1           & 0           & 0           & 0           & 0           & -1.71436063 & 0           & 0.004842615 & -0.03013227 & 1           & ⋯           & 0.01079370  & 0.07079418  & 0.05716315  & 0.020233241 & 0.02941722  & 0.005071339 & 0.21965020  & 0.02719962  & 0.05738306  & 1          \\\\\n",
       "\t 1           & 0           & 0           & 0           & 0           & -2.09310944 & 0           & 0.228813559 & -0.11217419 & 1           & ⋯           & 0.03317695  & 0.07697521  & 0.09042338  & 0.000000000 & 0.09171961  & 0.001280769 & 0.20409107  & 0.02315552  & 0.07277238  & 1          \\\\\n",
       "\\end{tabular}\n"
      ],
      "text/markdown": [
       "\n",
       "lgota | chelevoe | olimp | dogovor | ochko.zaochka | ege_diff | kozko | wall_audio_cnt | wall_audio_mean | wall_can_comment | ⋯ | X20pub_clust_11 | X20pub_clust_12 | X20pub_clust_13 | X20pub_clust_14 | X20pub_clust_15 | X20pub_clust_16 | X20pub_clust_17 | X20pub_clust_18 | X20pub_clust_19 | target_1 | \n",
       "|---|---|---|---|---|---|\n",
       "| 0           | 0           | 1           | 0           | 0           | -1.71436063 | 0           | 0.001210654 | -0.37519998 | 1           | ⋯           | 0.02989079  | 0.14336749  | 0.03302454  | 0.001554972 | 0.04630034  | 0.002384977 | 0.03489145  | 0.07602706  | 0.07726678  | 1           | \n",
       "| 0           | 0           | 1           | 0           | 0           |  0.47396584 | 0           | 0.008474576 |  0.40574274 | 1           | ⋯           | 0.04623266  | 0.07535394  | 0.09428196  | 0.024351069 | 0.03137725  | 0.011125820 | 0.12804240  | 0.04748053  | 0.02705087  | 1           | \n",
       "| 0           | 0           | 1           | 0           | 0           |  0.22146663 | 0           | 0.151331719 | -0.26119621 | 1           | ⋯           | 0.06671119  | 0.10695414  | 0.09642962  | 0.002388607 | 0.02632434  | 0.002383638 | 0.11780059  | 0.05199055  | 0.01902819  | 1           | \n",
       "| 1           | 0           | 0           | 0           | 0           | -0.07311578 | 0           | 0.000000000 | -0.54773384 | 0           | ⋯           | 0.04488996  | 0.08183670  | 0.11842301  | 0.000000000 | 0.00967815  | 0.006030470 | 0.18226847  | 0.02074338  | 0.03613418  | 0           | \n",
       "| 1           | 0           | 0           | 0           | 0           | -1.71436063 | 0           | 0.004842615 | -0.03013227 | 1           | ⋯           | 0.01079370  | 0.07079418  | 0.05716315  | 0.020233241 | 0.02941722  | 0.005071339 | 0.21965020  | 0.02719962  | 0.05738306  | 1           | \n",
       "| 1           | 0           | 0           | 0           | 0           | -2.09310944 | 0           | 0.228813559 | -0.11217419 | 1           | ⋯           | 0.03317695  | 0.07697521  | 0.09042338  | 0.000000000 | 0.09171961  | 0.001280769 | 0.20409107  | 0.02315552  | 0.07277238  | 1           | \n",
       "\n",
       "\n"
      ],
      "text/plain": [
       "  lgota chelevoe olimp dogovor ochko.zaochka ege_diff    kozko wall_audio_cnt\n",
       "1 0     0        1     0       0             -1.71436063 0     0.001210654   \n",
       "2 0     0        1     0       0              0.47396584 0     0.008474576   \n",
       "3 0     0        1     0       0              0.22146663 0     0.151331719   \n",
       "4 1     0        0     0       0             -0.07311578 0     0.000000000   \n",
       "5 1     0        0     0       0             -1.71436063 0     0.004842615   \n",
       "6 1     0        0     0       0             -2.09310944 0     0.228813559   \n",
       "  wall_audio_mean wall_can_comment ⋯ X20pub_clust_11 X20pub_clust_12\n",
       "1 -0.37519998     1                ⋯ 0.02989079      0.14336749     \n",
       "2  0.40574274     1                ⋯ 0.04623266      0.07535394     \n",
       "3 -0.26119621     1                ⋯ 0.06671119      0.10695414     \n",
       "4 -0.54773384     0                ⋯ 0.04488996      0.08183670     \n",
       "5 -0.03013227     1                ⋯ 0.01079370      0.07079418     \n",
       "6 -0.11217419     1                ⋯ 0.03317695      0.07697521     \n",
       "  X20pub_clust_13 X20pub_clust_14 X20pub_clust_15 X20pub_clust_16\n",
       "1 0.03302454      0.001554972     0.04630034      0.002384977    \n",
       "2 0.09428196      0.024351069     0.03137725      0.011125820    \n",
       "3 0.09642962      0.002388607     0.02632434      0.002383638    \n",
       "4 0.11842301      0.000000000     0.00967815      0.006030470    \n",
       "5 0.05716315      0.020233241     0.02941722      0.005071339    \n",
       "6 0.09042338      0.000000000     0.09171961      0.001280769    \n",
       "  X20pub_clust_17 X20pub_clust_18 X20pub_clust_19 target_1\n",
       "1 0.03489145      0.07602706      0.07726678      1       \n",
       "2 0.12804240      0.04748053      0.02705087      1       \n",
       "3 0.11780059      0.05199055      0.01902819      1       \n",
       "4 0.18226847      0.02074338      0.03613418      0       \n",
       "5 0.21965020      0.02719962      0.05738306      1       \n",
       "6 0.20409107      0.02315552      0.07277238      1       "
      ]
     },
     "metadata": {},
     "output_type": "display_data"
    }
   ],
   "source": [
    "head(df)"
   ]
  },
  {
   "cell_type": "markdown",
   "metadata": {},
   "source": [
    "Оцениваем логистическую регрессию! "
   ]
  },
  {
   "cell_type": "code",
   "execution_count": 114,
   "metadata": {},
   "outputs": [
    {
     "data": {
      "text/plain": [
       "\n",
       "Family: binomial \n",
       "Link function: logit \n"
      ]
     },
     "metadata": {},
     "output_type": "display_data"
    }
   ],
   "source": [
    "m_logit$family"
   ]
  },
  {
   "cell_type": "code",
   "execution_count": 115,
   "metadata": {
    "scrolled": false
   },
   "outputs": [
    {
     "name": "stderr",
     "output_type": "stream",
     "text": [
      "Warning message:\n",
      "“glm.fit: fitted probabilities numerically 0 or 1 occurred”"
     ]
    },
    {
     "data": {
      "text/plain": [
       "\n",
       "Call:\n",
       "glm(formula = target_1 ~ ., family = binomial(link = \"logit\"), \n",
       "    data = df)\n",
       "\n",
       "Deviance Residuals: \n",
       "    Min       1Q   Median       3Q      Max  \n",
       "-2.2684  -0.4433   0.2302   0.6281   1.9658  \n",
       "\n",
       "Coefficients:\n",
       "                         Estimate Std. Error z value Pr(>|z|)  \n",
       "(Intercept)               2.12676    1.31746   1.614   0.1065  \n",
       "lgota                     1.37421    1.03523   1.327   0.1844  \n",
       "chelevoe                 -0.42046    1.13237  -0.371   0.7104  \n",
       "olimp                     1.04249    1.38651   0.752   0.4521  \n",
       "dogovor                   0.09935    0.66415   0.150   0.8811  \n",
       "ochko.zaochka             1.95447    0.94139   2.076   0.0379 *\n",
       "ege_diff                  0.54809    0.30038   1.825   0.0680 .\n",
       "kozko                    -0.18549    0.41800  -0.444   0.6572  \n",
       "wall_audio_cnt           -0.87474    4.50712  -0.194   0.8461  \n",
       "wall_audio_mean           0.11239    0.17481   0.643   0.5203  \n",
       "wall_can_comment          0.99555    0.59517   1.673   0.0944 .\n",
       "wall_comment_cnt         -0.90802    9.69067  -0.094   0.9253  \n",
       "wall_comment_max          5.30676    2.73489   1.940   0.0523 .\n",
       "wall_comment_mean        -0.05528    0.32650  -0.169   0.8656  \n",
       "wall_doc_cnt              7.88407    6.39836   1.232   0.2179  \n",
       "wall_emoji_cnt           -1.56165    3.66572  -0.426   0.6701  \n",
       "wall_emoji_mean          -0.10093    0.19746  -0.511   0.6092  \n",
       "wall_graffiti_cnt         3.28765    4.66288   0.705   0.4808  \n",
       "wall_like_cnt             5.38705    5.56401   0.968   0.3329  \n",
       "wall_like_max            -1.12815    0.75190  -1.500   0.1335  \n",
       "wall_like_mean            0.68554    0.38345   1.788   0.0738 .\n",
       "wall_link_cnt             2.77717   13.92569   0.199   0.8419  \n",
       "wall_photo_max            0.24575    0.40352   0.609   0.5425  \n",
       "wall_photo_mean          -0.12855    0.22091  -0.582   0.5606  \n",
       "wall_poll_cnt            15.86660    7.00161   2.266   0.0234 *\n",
       "wall_post_android_cnt    -9.54820    3.76744  -2.534   0.0113 *\n",
       "wall_post_cnt           -12.75936   12.02573  -1.061   0.2887  \n",
       "wall_post_instagram_cnt   0.47965    3.97697   0.121   0.9040  \n",
       "wall_post_ipad_cnt        8.31399    5.71500   1.455   0.1457  \n",
       "wall_post_iphone_cnt    -13.57430    6.73267  -2.016   0.0438 *\n",
       "wall_post_mweb_cnt        1.17531    2.55722   0.460   0.6458  \n",
       "wall_post_original_cnt   12.17393  882.74402   0.014   0.9890  \n",
       "wall_post_wphone_cnt     -4.04895    3.36519  -1.203   0.2289  \n",
       "wall_repost_cnt          -3.16545    4.81618  -0.657   0.5110  \n",
       "wall_repost_mean         -0.67588    0.53647  -1.260   0.2077  \n",
       "wall_slowpok_hour_max     0.07436    0.32420   0.229   0.8186  \n",
       "wall_text_len_max         0.70881    0.46460   1.526   0.1271  \n",
       "wall_text_len_mean       -0.50104    0.31666  -1.582   0.1136  \n",
       "wall_video_cnt           -5.77101    3.82542  -1.509   0.1314  \n",
       "wall_video_mean           0.53820    0.24531   2.194   0.0282 *\n",
       "X20pub_clust_0           10.58022    4.85232   2.180   0.0292 *\n",
       "X20pub_clust_1           18.74946   38.60926   0.486   0.6272  \n",
       "X20pub_clust_2           -3.12459    5.63392  -0.555   0.5792  \n",
       "X20pub_clust_3           25.54012   14.00228   1.824   0.0682 .\n",
       "X20pub_clust_4           -2.39515    8.09678  -0.296   0.7674  \n",
       "X20pub_clust_5           -7.14522   21.70518  -0.329   0.7420  \n",
       "X20pub_clust_6            1.26392    3.71960   0.340   0.7340  \n",
       "X20pub_clust_7           -3.56897    7.11198  -0.502   0.6158  \n",
       "X20pub_clust_8            1.73560    9.96460   0.174   0.8617  \n",
       "X20pub_clust_9          -53.67694   36.54603  -1.469   0.1419  \n",
       "X20pub_clust_10          -0.30846    3.80316  -0.081   0.9354  \n",
       "X20pub_clust_11          -5.45138    3.89034  -1.401   0.1611  \n",
       "X20pub_clust_12          -2.27086    5.48099  -0.414   0.6786  \n",
       "X20pub_clust_13          -5.40102    4.50274  -1.199   0.2303  \n",
       "X20pub_clust_14         -11.66772   23.43572  -0.498   0.6186  \n",
       "X20pub_clust_15          -6.60445    5.42045  -1.218   0.2231  \n",
       "X20pub_clust_16          13.97881   11.95926   1.169   0.2425  \n",
       "X20pub_clust_17          -2.02205    3.53156  -0.573   0.5669  \n",
       "X20pub_clust_18           7.07397    8.17185   0.866   0.3867  \n",
       "X20pub_clust_19           5.65846    7.05717   0.802   0.4227  \n",
       "---\n",
       "Signif. codes:  0 ‘***’ 0.001 ‘**’ 0.01 ‘*’ 0.05 ‘.’ 0.1 ‘ ’ 1\n",
       "\n",
       "(Dispersion parameter for binomial family taken to be 1)\n",
       "\n",
       "    Null deviance: 324.17  on 277  degrees of freedom\n",
       "Residual deviance: 208.63  on 218  degrees of freedom\n",
       "AIC: 328.63\n",
       "\n",
       "Number of Fisher Scoring iterations: 13\n"
      ]
     },
     "metadata": {},
     "output_type": "display_data"
    }
   ],
   "source": [
    "m_logit <- glm(data = df, target_1~. ,family=binomial(link=\"logit\"))\n",
    "summary(m_logit)"
   ]
  },
  {
   "cell_type": "markdown",
   "metadata": {},
   "source": [
    "Отбираем только значимые на $10\\%$ уровне переменные. "
   ]
  },
  {
   "cell_type": "code",
   "execution_count": 116,
   "metadata": {
    "scrolled": false
   },
   "outputs": [
    {
     "data": {
      "text/html": [
       "<ol class=list-inline>\n",
       "\t<li>278</li>\n",
       "\t<li>12</li>\n",
       "</ol>\n"
      ],
      "text/latex": [
       "\\begin{enumerate*}\n",
       "\\item 278\n",
       "\\item 12\n",
       "\\end{enumerate*}\n"
      ],
      "text/markdown": [
       "1. 278\n",
       "2. 12\n",
       "\n",
       "\n"
      ],
      "text/plain": [
       "[1] 278  12"
      ]
     },
     "metadata": {},
     "output_type": "display_data"
    },
    {
     "data": {
      "text/html": [
       "<table>\n",
       "<thead><tr><th scope=col>#Df</th><th scope=col>LogLik</th><th scope=col>Df</th><th scope=col>Chisq</th><th scope=col>Pr(&gt;Chisq)</th></tr></thead>\n",
       "<tbody>\n",
       "\t<tr><td>60       </td><td>-104.3160</td><td> NA      </td><td>      NA </td><td>       NA</td></tr>\n",
       "\t<tr><td>12       </td><td>-132.0627</td><td>-48      </td><td>55.49342 </td><td>0.2131512</td></tr>\n",
       "</tbody>\n",
       "</table>\n"
      ],
      "text/latex": [
       "\\begin{tabular}{r|lllll}\n",
       " \\#Df & LogLik & Df & Chisq & Pr(>Chisq)\\\\\n",
       "\\hline\n",
       "\t 60        & -104.3160 &  NA       &       NA  &        NA\\\\\n",
       "\t 12        & -132.0627 & -48       & 55.49342  & 0.2131512\\\\\n",
       "\\end{tabular}\n"
      ],
      "text/markdown": [
       "\n",
       "#Df | LogLik | Df | Chisq | Pr(>Chisq) | \n",
       "|---|---|\n",
       "| 60        | -104.3160 |  NA       |       NA  |        NA | \n",
       "| 12        | -132.0627 | -48       | 55.49342  | 0.2131512 | \n",
       "\n",
       "\n"
      ],
      "text/plain": [
       "  #Df LogLik    Df  Chisq    Pr(>Chisq)\n",
       "1 60  -104.3160  NA       NA        NA \n",
       "2 12  -132.0627 -48 55.49342 0.2131512 "
      ]
     },
     "metadata": {},
     "output_type": "display_data"
    },
    {
     "data": {
      "text/plain": [
       "\n",
       "Call:\n",
       "glm(formula = target_1 ~ ., family = binomial(link = \"logit\"), \n",
       "    data = df, x = TRUE)\n",
       "\n",
       "Deviance Residuals: \n",
       "    Min       1Q   Median       3Q      Max  \n",
       "-2.2832  -0.8916   0.4667   0.7509   1.6632  \n",
       "\n",
       "Coefficients:\n",
       "                      Estimate Std. Error z value Pr(>|z|)   \n",
       "(Intercept)           -0.12140    0.43967  -0.276  0.78245   \n",
       "ochko.zaochka          1.08030    0.61512   1.756  0.07905 . \n",
       "ege_diff               0.36458    0.15035   2.425  0.01531 * \n",
       "wall_can_comment       1.13315    0.38509   2.943  0.00326 **\n",
       "wall_comment_max       1.31841    0.74632   1.767  0.07730 . \n",
       "wall_like_mean        -0.06018    0.13290  -0.453  0.65068   \n",
       "wall_poll_cnt          7.98564    4.93712   1.617  0.10578   \n",
       "wall_post_android_cnt -4.69104    1.98783  -2.360  0.01828 * \n",
       "wall_post_iphone_cnt  -6.45991    3.01081  -2.146  0.03191 * \n",
       "wall_video_mean        0.40984    0.19552   2.096  0.03607 * \n",
       "X20pub_clust_0         6.28098    3.24856   1.933  0.05318 . \n",
       "X20pub_clust_3        17.88452    8.85334   2.020  0.04337 * \n",
       "---\n",
       "Signif. codes:  0 ‘***’ 0.001 ‘**’ 0.01 ‘*’ 0.05 ‘.’ 0.1 ‘ ’ 1\n",
       "\n",
       "(Dispersion parameter for binomial family taken to be 1)\n",
       "\n",
       "    Null deviance: 324.17  on 277  degrees of freedom\n",
       "Residual deviance: 264.13  on 266  degrees of freedom\n",
       "AIC: 288.13\n",
       "\n",
       "Number of Fisher Scoring iterations: 6\n"
      ]
     },
     "metadata": {},
     "output_type": "display_data"
    }
   ],
   "source": [
    "res = summary(m_logit)\n",
    "n = length(res$coefficients[,4])\n",
    "df = df[,c(res$coefficients[,4][2:n] < 0.1, TRUE)]\n",
    "dim(df)\n",
    "#head(df)\n",
    "\n",
    "m_logit_1 <- glm(data = df, target_1~. ,family=binomial(link=\"logit\"),x=TRUE)\n",
    "res_1 = summary(m_logit_1)\n",
    "lrtest(m_logit,m_logit_1)\n",
    "res_1"
   ]
  },
  {
   "cell_type": "code",
   "execution_count": 117,
   "metadata": {},
   "outputs": [
    {
     "data": {
      "text/html": [
       "<ol class=list-inline>\n",
       "\t<li>278</li>\n",
       "\t<li>10</li>\n",
       "</ol>\n"
      ],
      "text/latex": [
       "\\begin{enumerate*}\n",
       "\\item 278\n",
       "\\item 10\n",
       "\\end{enumerate*}\n"
      ],
      "text/markdown": [
       "1. 278\n",
       "2. 10\n",
       "\n",
       "\n"
      ],
      "text/plain": [
       "[1] 278  10"
      ]
     },
     "metadata": {},
     "output_type": "display_data"
    },
    {
     "data": {
      "text/html": [
       "<table>\n",
       "<thead><tr><th scope=col>#Df</th><th scope=col>LogLik</th><th scope=col>Df</th><th scope=col>Chisq</th><th scope=col>Pr(&gt;Chisq)</th></tr></thead>\n",
       "<tbody>\n",
       "\t<tr><td>12       </td><td>-132.0627</td><td>NA       </td><td>     NA  </td><td>       NA</td></tr>\n",
       "\t<tr><td>10       </td><td>-134.2570</td><td>-2       </td><td>4.38853  </td><td>0.1114404</td></tr>\n",
       "</tbody>\n",
       "</table>\n"
      ],
      "text/latex": [
       "\\begin{tabular}{r|lllll}\n",
       " \\#Df & LogLik & Df & Chisq & Pr(>Chisq)\\\\\n",
       "\\hline\n",
       "\t 12        & -132.0627 & NA        &      NA   &        NA\\\\\n",
       "\t 10        & -134.2570 & -2        & 4.38853   & 0.1114404\\\\\n",
       "\\end{tabular}\n"
      ],
      "text/markdown": [
       "\n",
       "#Df | LogLik | Df | Chisq | Pr(>Chisq) | \n",
       "|---|---|\n",
       "| 12        | -132.0627 | NA        |      NA   |        NA | \n",
       "| 10        | -134.2570 | -2        | 4.38853   | 0.1114404 | \n",
       "\n",
       "\n"
      ],
      "text/plain": [
       "  #Df LogLik    Df Chisq   Pr(>Chisq)\n",
       "1 12  -132.0627 NA      NA        NA \n",
       "2 10  -134.2570 -2 4.38853 0.1114404 "
      ]
     },
     "metadata": {},
     "output_type": "display_data"
    },
    {
     "data": {
      "text/plain": [
       "\n",
       "Call:\n",
       "glm(formula = target_1 ~ ., family = binomial(link = \"logit\"), \n",
       "    data = df)\n",
       "\n",
       "Deviance Residuals: \n",
       "    Min       1Q   Median       3Q      Max  \n",
       "-2.2776  -0.8138   0.4774   0.7597   1.6885  \n",
       "\n",
       "Coefficients:\n",
       "                      Estimate Std. Error z value Pr(>|z|)   \n",
       "(Intercept)           -0.09794    0.43917  -0.223  0.82352   \n",
       "ochko.zaochka          0.95084    0.60697   1.567  0.11722   \n",
       "ege_diff               0.38037    0.14834   2.564  0.01034 * \n",
       "wall_can_comment       1.15838    0.38725   2.991  0.00278 **\n",
       "wall_comment_max       1.34265    0.76095   1.764  0.07766 . \n",
       "wall_post_android_cnt -2.10978    1.33331  -1.582  0.11357   \n",
       "wall_post_iphone_cnt  -5.25849    2.73821  -1.920  0.05481 . \n",
       "wall_video_mean        0.43372    0.20031   2.165  0.03037 * \n",
       "X20pub_clust_0         6.25255    3.21392   1.945  0.05172 . \n",
       "X20pub_clust_3        17.36287    8.74068   1.986  0.04698 * \n",
       "---\n",
       "Signif. codes:  0 ‘***’ 0.001 ‘**’ 0.01 ‘*’ 0.05 ‘.’ 0.1 ‘ ’ 1\n",
       "\n",
       "(Dispersion parameter for binomial family taken to be 1)\n",
       "\n",
       "    Null deviance: 324.17  on 277  degrees of freedom\n",
       "Residual deviance: 268.51  on 268  degrees of freedom\n",
       "AIC: 288.51\n",
       "\n",
       "Number of Fisher Scoring iterations: 6\n"
      ]
     },
     "metadata": {},
     "output_type": "display_data"
    }
   ],
   "source": [
    "n = length(res_1$coefficients[,4])\n",
    "df = df[,c(res_1$coefficients[,4][2:n] < 0.1, TRUE)]\n",
    "dim(df)\n",
    "# head(df)\n",
    "\n",
    "m_logit_2 <- glm(data = df, target_1~., family=binomial(link=\"logit\"))\n",
    "res_2 = summary(m_logit_2)\n",
    "lrtest(m_logit_1,m_logit_2)\n",
    "res_2"
   ]
  },
  {
   "cell_type": "code",
   "execution_count": 118,
   "metadata": {},
   "outputs": [
    {
     "data": {
      "text/html": [
       "<ol class=list-inline>\n",
       "\t<li>278</li>\n",
       "\t<li>8</li>\n",
       "</ol>\n"
      ],
      "text/latex": [
       "\\begin{enumerate*}\n",
       "\\item 278\n",
       "\\item 8\n",
       "\\end{enumerate*}\n"
      ],
      "text/markdown": [
       "1. 278\n",
       "2. 8\n",
       "\n",
       "\n"
      ],
      "text/plain": [
       "[1] 278   8"
      ]
     },
     "metadata": {},
     "output_type": "display_data"
    },
    {
     "data": {
      "text/html": [
       "<table>\n",
       "<thead><tr><th scope=col>#Df</th><th scope=col>LogLik</th><th scope=col>Df</th><th scope=col>Chisq</th><th scope=col>Pr(&gt;Chisq)</th></tr></thead>\n",
       "<tbody>\n",
       "\t<tr><td>10        </td><td>-134.2570 </td><td>NA        </td><td>      NA  </td><td>        NA</td></tr>\n",
       "\t<tr><td> 8        </td><td>-136.7087 </td><td>-2        </td><td>4.903398  </td><td>0.08614709</td></tr>\n",
       "</tbody>\n",
       "</table>\n"
      ],
      "text/latex": [
       "\\begin{tabular}{r|lllll}\n",
       " \\#Df & LogLik & Df & Chisq & Pr(>Chisq)\\\\\n",
       "\\hline\n",
       "\t 10         & -134.2570  & NA         &       NA   &         NA\\\\\n",
       "\t  8         & -136.7087  & -2         & 4.903398   & 0.08614709\\\\\n",
       "\\end{tabular}\n"
      ],
      "text/markdown": [
       "\n",
       "#Df | LogLik | Df | Chisq | Pr(>Chisq) | \n",
       "|---|---|\n",
       "| 10         | -134.2570  | NA         |       NA   |         NA | \n",
       "|  8         | -136.7087  | -2         | 4.903398   | 0.08614709 | \n",
       "\n",
       "\n"
      ],
      "text/plain": [
       "  #Df LogLik    Df Chisq    Pr(>Chisq)\n",
       "1 10  -134.2570 NA       NA         NA\n",
       "2  8  -136.7087 -2 4.903398 0.08614709"
      ]
     },
     "metadata": {},
     "output_type": "display_data"
    },
    {
     "data": {
      "text/plain": [
       "\n",
       "Call:\n",
       "glm(formula = target_1 ~ ., family = binomial(link = \"logit\"), \n",
       "    data = df)\n",
       "\n",
       "Deviance Residuals: \n",
       "    Min       1Q   Median       3Q      Max  \n",
       "-2.2736  -0.8836   0.5039   0.7580   1.6266  \n",
       "\n",
       "Coefficients:\n",
       "                     Estimate Std. Error z value Pr(>|z|)   \n",
       "(Intercept)          -0.06925    0.42976  -0.161  0.87198   \n",
       "ege_diff              0.34212    0.14473   2.364  0.01809 * \n",
       "wall_can_comment      1.06443    0.37665   2.826  0.00471 **\n",
       "wall_comment_max      1.25442    0.74842   1.676  0.09372 . \n",
       "wall_post_iphone_cnt -5.37323    2.74146  -1.960  0.05000 * \n",
       "wall_video_mean       0.39667    0.19328   2.052  0.04014 * \n",
       "X20pub_clust_0        6.46230    3.12955   2.065  0.03893 * \n",
       "X20pub_clust_3       16.25065    8.37413   1.941  0.05231 . \n",
       "---\n",
       "Signif. codes:  0 ‘***’ 0.001 ‘**’ 0.01 ‘*’ 0.05 ‘.’ 0.1 ‘ ’ 1\n",
       "\n",
       "(Dispersion parameter for binomial family taken to be 1)\n",
       "\n",
       "    Null deviance: 324.17  on 277  degrees of freedom\n",
       "Residual deviance: 273.42  on 270  degrees of freedom\n",
       "AIC: 289.42\n",
       "\n",
       "Number of Fisher Scoring iterations: 6\n"
      ]
     },
     "metadata": {},
     "output_type": "display_data"
    }
   ],
   "source": [
    "n = length(res_2$coefficients[,4])\n",
    "df = df[,c(res_2$coefficients[,4][2:n] < 0.1, TRUE)]\n",
    "dim(df)\n",
    "#head(df)\n",
    "\n",
    "m_logit_3 <- glm(data = df, target_1~., family=binomial(link=\"logit\"))\n",
    "res_3 = summary(m_logit_3)\n",
    "lrtest(m_logit_2,m_logit_3)\n",
    "\n",
    "res_3"
   ]
  },
  {
   "cell_type": "code",
   "execution_count": 105,
   "metadata": {},
   "outputs": [
    {
     "data": {
      "text/html": [
       "<ol class=list-inline>\n",
       "\t<li>278</li>\n",
       "\t<li>22</li>\n",
       "</ol>\n"
      ],
      "text/latex": [
       "\\begin{enumerate*}\n",
       "\\item 278\n",
       "\\item 22\n",
       "\\end{enumerate*}\n"
      ],
      "text/markdown": [
       "1. 278\n",
       "2. 22\n",
       "\n",
       "\n"
      ],
      "text/plain": [
       "[1] 278  22"
      ]
     },
     "metadata": {},
     "output_type": "display_data"
    },
    {
     "name": "stderr",
     "output_type": "stream",
     "text": [
      "Warning message:\n",
      "“glm.fit: fitted probabilities numerically 0 or 1 occurred”"
     ]
    },
    {
     "data": {
      "text/html": [
       "<table>\n",
       "<thead><tr><th scope=col>#Df</th><th scope=col>LogLik</th><th scope=col>Df</th><th scope=col>Chisq</th><th scope=col>Pr(&gt;Chisq)</th></tr></thead>\n",
       "<tbody>\n",
       "\t<tr><td>22          </td><td>-102.7236   </td><td>NA          </td><td>          NA</td><td>NA          </td></tr>\n",
       "\t<tr><td>22          </td><td>-102.7236   </td><td> 0          </td><td>2.842171e-14</td><td> 0          </td></tr>\n",
       "</tbody>\n",
       "</table>\n"
      ],
      "text/latex": [
       "\\begin{tabular}{r|lllll}\n",
       " \\#Df & LogLik & Df & Chisq & Pr(>Chisq)\\\\\n",
       "\\hline\n",
       "\t 22           & -102.7236    & NA           &           NA & NA          \\\\\n",
       "\t 22           & -102.7236    &  0           & 2.842171e-14 &  0          \\\\\n",
       "\\end{tabular}\n"
      ],
      "text/markdown": [
       "\n",
       "#Df | LogLik | Df | Chisq | Pr(>Chisq) | \n",
       "|---|---|\n",
       "| 22           | -102.7236    | NA           |           NA | NA           | \n",
       "| 22           | -102.7236    |  0           | 2.842171e-14 |  0           | \n",
       "\n",
       "\n"
      ],
      "text/plain": [
       "  #Df LogLik    Df Chisq        Pr(>Chisq)\n",
       "1 22  -102.7236 NA           NA NA        \n",
       "2 22  -102.7236  0 2.842171e-14  0        "
      ]
     },
     "metadata": {},
     "output_type": "display_data"
    },
    {
     "data": {
      "text/plain": [
       "\n",
       "Call:\n",
       "glm(formula = target_1 ~ ., family = binomial(link = \"logit\"), \n",
       "    data = df)\n",
       "\n",
       "Deviance Residuals: \n",
       "    Min       1Q   Median       3Q      Max  \n",
       "-3.4824  -0.3765   0.1758   0.6730   1.8876  \n",
       "\n",
       "Coefficients:\n",
       "                      Estimate Std. Error z value Pr(>|z|)    \n",
       "(Intercept)             2.2075     0.8011   2.756 0.005857 ** \n",
       "profile_folowers_cnt   -5.9695     2.3593  -2.530 0.011399 *  \n",
       "profile_skype_dummy    -1.6506     0.6874  -2.401 0.016335 *  \n",
       "profile_albums_cnt     20.1929     4.6351   4.357 1.32e-05 ***\n",
       "profile_audio_cnt      -3.7783     1.5176  -2.490 0.012786 *  \n",
       "profile_lang_cnt        4.6777     1.5188   3.080 0.002071 ** \n",
       "wall_comment_max        5.5715     1.6627   3.351 0.000806 ***\n",
       "wall_like_mean          0.4679     0.2474   1.891 0.058620 .  \n",
       "wall_link_cnt         -44.7819    11.0768  -4.043 5.28e-05 ***\n",
       "wall_post_cnt         -13.9129     4.5971  -3.026 0.002474 ** \n",
       "wall_post_ipad_cnt     13.8106     3.6504   3.783 0.000155 ***\n",
       "wall_repost_mean       -1.0256     0.4843  -2.118 0.034200 *  \n",
       "wall_text_len_max       0.8774     0.3475   2.525 0.011577 *  \n",
       "wall_text_len_mean     -0.4518     0.2492  -1.813 0.069787 .  \n",
       "wall_video_cnt         -4.5732     2.3299  -1.963 0.049660 *  \n",
       "wall_video_mean         0.6033     0.2490   2.422 0.015424 *  \n",
       "X30pub_clust_0         11.6185     4.6985   2.473 0.013405 *  \n",
       "X30pub_clust_6         11.8159     5.4253   2.178 0.029412 *  \n",
       "X30pub_clust_7         13.1407     5.9150   2.222 0.026311 *  \n",
       "X30pub_clust_14       -20.9384     6.7784  -3.089 0.002009 ** \n",
       "X30pub_clust_20      -103.5527    36.8255  -2.812 0.004924 ** \n",
       "X30pub_clust_29       -25.5889    12.9913  -1.970 0.048873 *  \n",
       "---\n",
       "Signif. codes:  0 ‘***’ 0.001 ‘**’ 0.01 ‘*’ 0.05 ‘.’ 0.1 ‘ ’ 1\n",
       "\n",
       "(Dispersion parameter for binomial family taken to be 1)\n",
       "\n",
       "    Null deviance: 324.17  on 277  degrees of freedom\n",
       "Residual deviance: 205.45  on 256  degrees of freedom\n",
       "AIC: 249.45\n",
       "\n",
       "Number of Fisher Scoring iterations: 8\n"
      ]
     },
     "metadata": {},
     "output_type": "display_data"
    }
   ],
   "source": [
    "n = length(res_3$coefficients[,4])\n",
    "df = df[,c(res_3$coefficients[,4][2:n] < 0.1, TRUE)]\n",
    "dim(df)\n",
    "#head(df)\n",
    "\n",
    "m_logit_4 <- glm(data = df, target_1~., family=binomial(link=\"logit\"))\n",
    "res_4 = summary(m_logit_4)\n",
    "lrtest(m_logit_3,m_logit_4)\n",
    "\n",
    "res_4"
   ]
  },
  {
   "cell_type": "code",
   "execution_count": 106,
   "metadata": {},
   "outputs": [],
   "source": [
    "pred_df = new_df[colnames(t(res_4$coefficients))[-1]]\n",
    "pred_prob = predict(m_logit_4, pred_df, se=TRUE)\n",
    "real_targets = new_df['target_1']"
   ]
  },
  {
   "cell_type": "code",
   "execution_count": 111,
   "metadata": {},
   "outputs": [
    {
     "data": {
      "text/html": [
       "<table>\n",
       "<thead><tr><th scope=col>prob</th><th scope=col>left_ci</th><th scope=col>right_ci</th></tr></thead>\n",
       "<tbody>\n",
       "\t<tr><td>0.99102978 </td><td>0.915680935</td><td>0.9991111  </td></tr>\n",
       "\t<tr><td>0.82728916 </td><td>0.674360438</td><td>0.9172152  </td></tr>\n",
       "\t<tr><td>0.80408672 </td><td>0.685302233</td><td>0.8855249  </td></tr>\n",
       "\t<tr><td>0.99953006 </td><td>0.989051912</td><td>0.9999800  </td></tr>\n",
       "\t<tr><td>0.05827789 </td><td>0.006018485</td><td>0.3874386  </td></tr>\n",
       "\t<tr><td>0.72705933 </td><td>0.455752869</td><td>0.8944439  </td></tr>\n",
       "</tbody>\n",
       "</table>\n"
      ],
      "text/latex": [
       "\\begin{tabular}{r|lll}\n",
       " prob & left\\_ci & right\\_ci\\\\\n",
       "\\hline\n",
       "\t 0.99102978  & 0.915680935 & 0.9991111  \\\\\n",
       "\t 0.82728916  & 0.674360438 & 0.9172152  \\\\\n",
       "\t 0.80408672  & 0.685302233 & 0.8855249  \\\\\n",
       "\t 0.99953006  & 0.989051912 & 0.9999800  \\\\\n",
       "\t 0.05827789  & 0.006018485 & 0.3874386  \\\\\n",
       "\t 0.72705933  & 0.455752869 & 0.8944439  \\\\\n",
       "\\end{tabular}\n"
      ],
      "text/markdown": [
       "\n",
       "prob | left_ci | right_ci | \n",
       "|---|---|---|---|---|---|\n",
       "| 0.99102978  | 0.915680935 | 0.9991111   | \n",
       "| 0.82728916  | 0.674360438 | 0.9172152   | \n",
       "| 0.80408672  | 0.685302233 | 0.8855249   | \n",
       "| 0.99953006  | 0.989051912 | 0.9999800   | \n",
       "| 0.05827789  | 0.006018485 | 0.3874386   | \n",
       "| 0.72705933  | 0.455752869 | 0.8944439   | \n",
       "\n",
       "\n"
      ],
      "text/plain": [
       "  prob       left_ci     right_ci \n",
       "1 0.99102978 0.915680935 0.9991111\n",
       "2 0.82728916 0.674360438 0.9172152\n",
       "3 0.80408672 0.685302233 0.8855249\n",
       "4 0.99953006 0.989051912 0.9999800\n",
       "5 0.05827789 0.006018485 0.3874386\n",
       "6 0.72705933 0.455752869 0.8944439"
      ]
     },
     "metadata": {},
     "output_type": "display_data"
    },
    {
     "data": {
      "text/html": [
       "0.472"
      ],
      "text/latex": [
       "0.472"
      ],
      "text/markdown": [
       "0.472"
      ],
      "text/plain": [
       "Area under the curve: 0.472"
      ]
     },
     "metadata": {},
     "output_type": "display_data"
    },
    {
     "name": "stderr",
     "output_type": "stream",
     "text": [
      "Warning message:\n",
      "“glm.fit: fitted probabilities numerically 0 or 1 occurred”Warning message:\n",
      "“glm.fit: fitted probabilities numerically 0 or 1 occurred”Warning message:\n",
      "“glm.fit: fitted probabilities numerically 0 or 1 occurred”Warning message:\n",
      "“glm.fit: fitted probabilities numerically 0 or 1 occurred”Warning message:\n",
      "“glm.fit: fitted probabilities numerically 0 or 1 occurred”"
     ]
    },
    {
     "data": {
      "text/html": [
       "<ol class=list-inline>\n",
       "\t<li>0.793152891791999</li>\n",
       "\t<li>0.805393739507915</li>\n",
       "</ol>\n"
      ],
      "text/latex": [
       "\\begin{enumerate*}\n",
       "\\item 0.793152891791999\n",
       "\\item 0.805393739507915\n",
       "\\end{enumerate*}\n"
      ],
      "text/markdown": [
       "1. 0.793152891791999\n",
       "2. 0.805393739507915\n",
       "\n",
       "\n"
      ],
      "text/plain": [
       "[1] 0.7931529 0.8053937"
      ]
     },
     "metadata": {},
     "output_type": "display_data"
    }
   ],
   "source": [
    "pred_df = data_frame(prob = plogis(pred_prob$fit),\n",
    "                     left_ci=plogis(pred_prob$fit-1.96*pred_prob$se.fit),\n",
    "                     right_ci=plogis(pred_prob$fit+1.96*pred_prob$se.fit))\n",
    "head(pred_df)\n",
    "\n",
    "t = data.frame(prob = pred_prob$fit, target = real_targets)\n",
    "roc.data <- roc(t$target,t$prob)\n",
    "roc.data$auc\n",
    "\n",
    "ric_auc_score <- function(x,y){\n",
    "    roc.data <- roc(x,y)\n",
    "    return(roc.data$auc)\n",
    "}\n",
    "\n",
    "kfCV <- cv.glm(data=df, glmfit=m_logit_4, K=5, cost = ric_auc_score)\n",
    "kfCV$delta"
   ]
  },
  {
   "cell_type": "code",
   "execution_count": null,
   "metadata": {},
   "outputs": [],
   "source": []
  },
  {
   "cell_type": "code",
   "execution_count": null,
   "metadata": {},
   "outputs": [],
   "source": []
  },
  {
   "cell_type": "code",
   "execution_count": null,
   "metadata": {},
   "outputs": [],
   "source": []
  },
  {
   "cell_type": "code",
   "execution_count": null,
   "metadata": {},
   "outputs": [],
   "source": [
    "# ROC - кривая\n",
    "# Можно установить любой порог отсечение - погиб, выжил.\n",
    "# Этот выбор влияет на вероятности разных ошибок.\n",
    "pr_t <- predict(m_logit,t,se=TRUE)\n",
    "t <- cbind(t,pr_t)\n",
    "#превратим оценки в вероятности\n",
    "t <- mutate(t,prob=plogis(fit))\n",
    "select(t,age,survived,prob)\n",
    "#таблица вероятностей выжить и факты\n",
    "\n",
    "#Теперь на основании этих данных мы переберем пороги отсечения\n",
    "# и построим ROC-curve.\n",
    "roc.data <- roc(t$prob,t$survived)\n",
    "str(roc.data)\n",
    "#список из 3 переменных cutoffs - пороги\n",
    "#fpк - доля ошибочно классифицированных не выживших\n",
    "#tpr - доля правильно выживших пассажиров\n",
    "\n",
    "qplot(x=roc.data$cutoffs,y=roc.data$tpr,geom=\"line\")\n",
    "#по горизонтали - пороги по вертикали - доля верно выживших\n",
    "# если порог низок, большое кол-во выживет по прогнозу и доля высока\n",
    "# если порог высок, мало выживших выживет.\n",
    "\n",
    "qplot(x=roc.data$cutoffs,y=roc.data$fpr,geom=\"line\")\n",
    "# при маленьком пороге много неверно невыживших \n",
    "# при большом пороге много верно невыживших \n",
    "\n",
    "#Roc кривой называется сочетание этих нрафиков на одном\n",
    "\n",
    "qplot(x=roc.data$fpr,y=roc.data$tpr,geom=\"line\")\n",
    "\n",
    "# дилема выбора между верно погибшими и верно выжившими\n",
    "# если порог высок то у меня низка доля верно выживших \n",
    "# но высока доля верно невыживших и наоборот при низком \n",
    "# пороге.\n",
    "\n",
    "# Надо как-то выбрать порог....\n"
   ]
  },
  {
   "cell_type": "code",
   "execution_count": null,
   "metadata": {},
   "outputs": [],
   "source": []
  },
  {
   "cell_type": "code",
   "execution_count": null,
   "metadata": {},
   "outputs": [],
   "source": []
  },
  {
   "cell_type": "code",
   "execution_count": null,
   "metadata": {},
   "outputs": [],
   "source": []
  },
  {
   "cell_type": "code",
   "execution_count": null,
   "metadata": {},
   "outputs": [],
   "source": []
  },
  {
   "cell_type": "code",
   "execution_count": null,
   "metadata": {},
   "outputs": [],
   "source": []
  },
  {
   "cell_type": "code",
   "execution_count": null,
   "metadata": {},
   "outputs": [],
   "source": []
  },
  {
   "cell_type": "code",
   "execution_count": null,
   "metadata": {},
   "outputs": [],
   "source": [
    "#надо указать R что ряд текстовых переменных факторные\n",
    "t <- mutate(t,sex=as.factor(sex),pclass=as.factor(pclass),survived=as.factor(survived))\n",
    "#описательные статистики по каждой переменной:\n",
    "summary(t)\n",
    "\n",
    "#Имеет смысл для качественной переменной построить несколько\n",
    "#типов графиков.\n",
    "\n",
    "mosaic(data=t,~sex+pclass+survived,shade=TRUE)\n",
    "#на графике видны соотношения между всеми факторами.\n",
    "# про независимость признаков и закраску не понял\n",
    "\n",
    "#построим график виалончель\n",
    "qplot(data=t,x=survived,y=age,geom=\"violin\")\n",
    "\n",
    "#если поделить пассажиров на выживших и не выживших\n",
    "#и отдожить по вертикали количественную переменную\n",
    "#а именно возраст, то мы видим что возраст меняется от\n",
    "# 0 до 80 и среди тех и других по возрастам распределение\n",
    "# примерно одинаковое.\n",
    "\n",
    "#раньше вместо виолнчели строли ящик с усами. \n",
    "\n",
    "qplot(data=t,x=survived,y=age,geom=\"boxplot\")\n",
    "\n",
    "#видно то же самое ;)\n",
    "\n",
    "# Первые два варианта (виол и усы) показывают лишь распределение выживших и не выживших,\n",
    "# а не их количество, на графике-мозаике же сравнить можно, причём особенно\n",
    "# наглядно это будет, если указать переменную survived первой.\n",
    "\n",
    "#Построим плотности выживших и невыживших на одном графике. \n",
    "qplot(data=t,x=age,y=..count..,fill=survived,geom=\"density\",position=\"stack\")\n",
    "#                 количество    закраска                 как расположены     \n",
    "#                 наблюдений    в соотв.                 накапливаются по   \n",
    "#                 комп сам      выжил или нет            вертикали\n",
    "\n",
    "qplot(data=t,x=age,y=..count..,fill=survived,geom=\"density\",position=\"fill\")\n",
    "#сглаженная услтвная вероятность. Среди пожилого возрата большая састь погибла и т.д.\n",
    "#график илюстрирует только соотношение, но не количество.\n",
    "\n",
    "\n",
    "\n",
    "\n",
    "#оценка logit и probit моделей.\n",
    "\n",
    "m_logit <- glm(data=t, survived~sex+age+pclass+fare,\n",
    "               family=binomial(link=\"logit\"),x=TRUE)\n",
    "\n",
    "m_probit <- glm(data=t, survived~sex+age+pclass+fare,\n",
    "               family=binomial(link=\"probit\"),x=TRUE)\n",
    "\n",
    "summary(m_logit)\n",
    "summary(m_probit)\n",
    "\n",
    "\n",
    "# \n",
    "# ИНТЕРПРЕТАЦИЯ!!!\n",
    "#\n",
    "#\n",
    "\n",
    "vcov(m_logit)\n",
    "#выдаст ковариац матрицу\n",
    "\n",
    "#коэфициены интерпретируются плохо. Лучше интерпретировать\n",
    "#вероятности и предельные эффекты\n",
    "#построим прогноз\n",
    "\n",
    "newdata <- data.frame(age=seq(5,100,length=100),sex=\"male\",pclass=\"2nd\",fare=100)\n",
    "head(newdata)\n",
    "pr_logit <- predict(m_logit,newdata,se=TRUE)\n",
    "newdata_pr <- cbind(newdata,pr_logit)\n",
    "#cbind объединяет столбики\n",
    "\n",
    "head(newdata_pr)\n",
    "#переменная fit - предсказанная y* residual.scale - вспомогательная \n",
    "\n",
    "#Доверительный интервал для вероятности и LR тест в R\n",
    "newdata_pr <- mutate(newdata_pr,prob=plogis(fit),\n",
    "                     left_ci=plogis(fit-1.96*se.fit),\n",
    "                     right_ci=plogis(fit+1.96*se.fit))\n",
    "head(newdata_pr)\n",
    "\n",
    "#Проилюстрируем графически\n",
    "qplot(data=newdata_pr, x=age,y=prob,geom=\"line\")\n",
    "#видим, что при росте возраста вероятность выжить падает\n",
    "qplot(data=newdata_pr, x=age,y=prob,geom=\"line\")+\n",
    "  geom_ribbon(aes(ymin=left_ci,ymax=right_ci),alpha=0.2)\n",
    "#добавили доверительные интервалы. Точность прогнозирования\n",
    "# увеличивается с возрастом, т.к. мало детей\n",
    "\n",
    "\n",
    "#Сравним нашу модель с моделью без финансовых переменных\n",
    "#первая модель оценивалась не по всей выборке. R откидывает пропущенное\n",
    "t2 <- select(t,sex,age,pclass,survived,fare) %>% na.omit\n",
    "m_logit2 <- glm(data=t2,survived~sex+age,\n",
    "                family=binomial(link=\"logit\"),x=TRUE)\n",
    "lrtest(m_logit,m_logit2)\n",
    "#гипотеза о том что финансовые переменные не оказывают\n",
    "#влияние на вер выжить отвергнута так как pvalue мало.\n",
    "\n",
    "\n",
    "\n",
    "#Предельные эффекты в R\n",
    "maBina(m_logit)\n",
    "#команда даст предельные эффекты для идивида \n",
    "#среднего возраста среднего пола и т.п. \n",
    "\n",
    "maBina(m_logit,x.mean=FALSE)\n",
    "#дает на сколько увеличение возраста на 1 год для каждого\n",
    "#пассажира увеличит или уменьшит его вер выжить а после\n",
    "#она усредняется по всем пассажирам\n",
    "\n",
    "#Проинтерпретируем предельные эффекты. \n",
    "\n",
    "\n",
    "\n",
    "#сделаем вид что мы не знаем о логит и пробит и применим мнк\n",
    "# ЭТО НЕКОРРЕКТНО! \n",
    "\n",
    "m_ols <- lm(data=t, as.numeric(survived)~sex+age+pclass+fare)\n",
    "summary(m_ols)\n",
    "#предскажем вероятности по ней\n",
    "pr_ols <- predict(m_ols,newdata)\n",
    "head(pr_ols)\n",
    "# вероятности больше 1!!!\n",
    "\n",
    "\n",
    "\n",
    "\n",
    "# ROC - кривая\n",
    "# Можно установить любой порог отсечение - погиб, выжил.\n",
    "# Этот выбор влияет на вероятности разных ошибок.\n",
    "pr_t <- predict(m_logit,t,se=TRUE)\n",
    "t <- cbind(t,pr_t)\n",
    "#превратим оценки в вероятности\n",
    "t <- mutate(t,prob=plogis(fit))\n",
    "select(t,age,survived,prob)\n",
    "#таблица вероятностей выжить и факты\n",
    "\n",
    "#Теперь на основании этих данных мы переберем пороги отсечения\n",
    "# и построим ROC-curve.\n",
    "roc.data <- roc(t$prob,t$survived)\n",
    "str(roc.data)\n",
    "#список из 3 переменных cutoffs - пороги\n",
    "#fpк - доля ошибочно классифицированных не выживших\n",
    "#tpr - доля правильно выживших пассажиров\n",
    "\n",
    "qplot(x=roc.data$cutoffs,y=roc.data$tpr,geom=\"line\")\n",
    "#по горизонтали - пороги по вертикали - доля верно выживших\n",
    "# если порог низок, большое кол-во выживет по прогнозу и доля высока\n",
    "# если порог высок, мало выживших выживет.\n",
    "\n",
    "qplot(x=roc.data$cutoffs,y=roc.data$fpr,geom=\"line\")\n",
    "# при маленьком пороге много неверно невыживших \n",
    "# при большом пороге много верно невыживших \n",
    "\n",
    "#Roc кривой называется сочетание этих нрафиков на одном\n",
    "\n",
    "qplot(x=roc.data$fpr,y=roc.data$tpr,geom=\"line\")\n",
    "\n",
    "# дилема выбора между верно погибшими и верно выжившими\n",
    "# если порог высок то у меня низка доля верно выживших \n",
    "# но высока доля верно невыживших и наоборот при низком \n",
    "# пороге.\n",
    "\n",
    "# Надо как-то выбрать порог....\n"
   ]
  },
  {
   "cell_type": "code",
   "execution_count": null,
   "metadata": {},
   "outputs": [],
   "source": []
  },
  {
   "cell_type": "code",
   "execution_count": null,
   "metadata": {},
   "outputs": [],
   "source": []
  },
  {
   "cell_type": "code",
   "execution_count": null,
   "metadata": {},
   "outputs": [],
   "source": []
  },
  {
   "cell_type": "code",
   "execution_count": null,
   "metadata": {},
   "outputs": [],
   "source": []
  },
  {
   "cell_type": "code",
   "execution_count": null,
   "metadata": {},
   "outputs": [],
   "source": []
  },
  {
   "cell_type": "code",
   "execution_count": null,
   "metadata": {},
   "outputs": [],
   "source": []
  }
 ],
 "metadata": {
  "kernelspec": {
   "display_name": "R",
   "language": "R",
   "name": "ir"
  },
  "language_info": {
   "codemirror_mode": "r",
   "file_extension": ".r",
   "mimetype": "text/x-r-source",
   "name": "R",
   "pygments_lexer": "r",
   "version": "3.4.2"
  }
 },
 "nbformat": 4,
 "nbformat_minor": 2
}
