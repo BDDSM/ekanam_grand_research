{
 "cells": [
  {
   "cell_type": "markdown",
   "metadata": {},
   "source": [
    "<center>\n",
    "<img src=\"https://raw.githubusercontent.com/FUlyankin/ekenam_grand_research/master/images/cover.png\">\n",
    "</center>\n",
    "\n",
    "\n",
    "# <center> Иканам гранд рисёрч </center>\n",
    "## <center>  Часть седьмая: моделирование </center>\n",
    "\n",
    "\n",
    "Проект **Иканам гранд рисёрч** реализуется [Иканам стьюдентс коммьюнити,](https://vk.com/ikanam)\n",
    "в частности [вот этим парнем по имени Филипп.](https://vk.com/ppilif)  Если вы нашли ошибку или у вас есть предложения, замечания, деньги, слава или женщины, можно ему написать. Весь говнокод, использованный в исследовании распостраняется по лицензии [Creative Commons CC BY-NC-SA 4.0.](https://creativecommons.org/licenses/by-nc-sa/4.0/) Его можно использовать в любых целях (редактировать, поправлять и брать за основу), кроме коммерческих, но с обязательным упоминанием автора материала. При наличии технической возможности необходимо также указать активную гиперссылку на [страницу рисёрча.](https://github.com/FUlyankin/ekenam_grand_research) \n"
   ]
  },
  {
   "cell_type": "code",
   "execution_count": 13,
   "metadata": {},
   "outputs": [],
   "source": [
    "import warnings     # Игнорирование варнингов\n",
    "warnings.filterwarnings(\"ignore\")  "
   ]
  },
  {
   "cell_type": "code",
   "execution_count": 3,
   "metadata": {},
   "outputs": [],
   "source": [
    "import numpy as np     # Нумпай для векторов \n",
    "import pandas as pd    # Пандас для табличек \n",
    "# Округлять в табличках значения до второго знака\n",
    "pd.set_option('precision', 2)           \n",
    "\n",
    "# Пакеты для графииков\n",
    "import matplotlib\n",
    "import matplotlib.pyplot as plt                             \n",
    "import seaborn as sns\n",
    "plt.style.use('ggplot')   # Правильный стиль графиков   \n",
    "\n",
    "# Пакет для красивых циклов. При желании его можно отключить. Тогда из всех циклов придётся \n",
    "# удалять команду tqdm_notebook.\n",
    "from tqdm import tqdm_notebook   # подробнее: https://github.com/tqdm/tqdm"
   ]
  },
  {
   "cell_type": "code",
   "execution_count": 4,
   "metadata": {},
   "outputs": [],
   "source": [
    "%matplotlib inline  "
   ]
  },
  {
   "cell_type": "markdown",
   "metadata": {},
   "source": [
    "# 1. Две задачи и одна наука \n",
    "\n",
    "Анализ данных — это довольно обширная область знания. Она включает в себя классический матстат, эконометрику, машинное обучение и многие другие более специфические вещи. Анализ данных занимается тем, что ищет ответ на [два великих вопроса:](https://www.coursera.org/learn/ekonometrika/lecture/S7E9y/1-1-1-sut-mietoda-naimien-shikh-kvadratov) \n",
    "\n",
    "* Как устроен мир? Как переменная $y$ зависит от переменной $x$? \n",
    "* Что будет завтра? Как спрогнозировать переменную $y$? \n",
    "\n",
    "Обычно для поиска ответов на эти два вопроса используются модели. Эти модели оцениваются с помощью собранных данных. На работу каждой модели накладываются какие-то ограничения. Оценивая коэффициенты в моделях, мы хотим, чтобы они обладали тремя свойствами: \n",
    "\n",
    "1. **Несмещенность** — чем больше у нас наблюдений, тем ближе среднее значение наших оценок к истиному значению параметра;\n",
    "2. **Состоятельность** — чем больше данных, тем почти наверное ближе наши оценки к истине;\n",
    "3. **Эффективность** — разброс нашей оценки минимален в некотором классе оценок, если данные меняются, наша оценка меняется менее сильно, нежели другие.\n",
    "\n",
    "В зависимости от того на какой из двух вопросов мы ищем ответ, мы можем приносить некоторые ограничения в жертву. Переформулируем великие вопросы в контексте нашей проблемы и немного подумаем о жертвах, которые мы собираемя принести анализу данных."
   ]
  },
  {
   "cell_type": "markdown",
   "metadata": {},
   "source": [
    "## 1.1 Великий вопрос номер один\n",
    "\n",
    "Интерпретация. Пусть мы хотим знать какие именно переменные увеличивают наши шансы закончить эконом и насколько сильно. \n",
    "В нашем распоряжении оказался довольно большой массив данных. От баллов за ЕГЭ до подписок и информации из профилей. Предположим, что мы оценили модель только по баллам ЕГЭ и по наличию олимпиады. Коэффицент перед переменной, отвечающей за наличие олимпиады получился довольно большим. Он равен $42$. \n",
    "\n",
    "Означает ли это, что при наличии олимпиады, мои шансы закончить эконом возрастают пропорционально этому коэффициенту?  Заметьте, я не говорю, что вероятность закончить эконом увеличивается на 42 процентных пункта, потому что мы оцениваем логистическую регрессию. В такой модели интерпретация коэффициентов устроена более сложным образом. Значение коэффициента $\\hat \\beta$ интерпретируется, как величина изменения шансов (смотри 2 том Носко, страницу 205) либо [7 неделю лекций Бориса Борисовича,](https://www.coursera.org/learn/ekonometrika/lecture/JaRpY/7-1-5-loghit-modiel-doska) а лучше и то и то.\n",
    "\n",
    "Так вот, означат ли это, что мои шансы закончить эконом растут пропорционально 42? Нет, не означает. Почему? Потому что вероятность закончить первый курс, в равной степени как и способность написать олимпиаду или хорошо сдать ЕГЭ, зависят от такой ненаблюдаемой переменной, как уровень умственных способностей. Эта переменная, в нашей ситуации оказалась в ошибке. В конечном счёте, из-за её пропуска возникает корреляция регрессора и ошибки, оценки коэффициентов оказываются смещёнными и несостоятельными, а сама по себе эта ситуация, называется **эндогенностью.** В этом месте я хотел бы передать привет третьему курсу, который, по большей части, не мог сформулировать мне на зачёте по эконометрике, определение эндогенности. \n",
    "\n",
    "Так вот, из-за эндогенности, оценки коэффициентов оказываются **смещенными** и **несостоятельными**. Они ни в коей мере не отражают реальность. В связи с этим мы ничерта не можем сказать о влиянии олимпиады на шансы закончить эконом. Для того, чтобы сделать это, нужно добавить в модель какие-то **инструментальные переменные**, которые будут нести в себе информацию об уровне умственных способностей человека. \n",
    "\n",
    "В нашем случае, за создание таких переменных отвечает социальная сеть. Мы наблюдаем за тем, на какие паблики подписывается человек, что он пишет у себя в профиле и так далее. Это позволяет собрать какую-то информацию о его складе ума, характере и других, одному процессу порождения данных ведомых, скрытых от нас характеристиках. В конечном счёте, когда мы добавим в модель эти переменные, мы вынесем ненаблюдаемый эффект из ошибки, корреляция между ошибкой и регрессором исчезнет и оценки в модели получатся состоятельными. \n",
    "\n",
    "Предположим, что оценка коэффициента после всех этих манипуляций, оказалась равна $5$. Если никаких других источников эндогенности не осталось,и, при этом, объём данных был довольно большим, мы, дейтвительно можем сказать, что наличие олимпиды увеличивает шансы человека закончить эконом пропроционально 5. Конечно же, при условии, если коэффициент оказывается значим. \n",
    "\n",
    "Мы боролись за интерпретацию коэффициента перед переменной, отвечающей за олимпиаду и хотели узнать насколько это важно. Можно сказать, что наша борьба закончилась успешно. \n",
    "\n",
    "**Но ведь кроме олимпиады у нас в модели куча других переменных!** Например,  в ней есть переменная, которая отвечает за наличие подписки на мдк. И она равна $-3000$. Означает ли это, что если я прямо сейчас отпишусь от мдк, мои шансы закончить эконом так сильно вырастут? \n",
    "\n",
    "Если вы знали об исследовании и отписались из-за этого, **ничего у вас не вырсатет,** потому что изменилась не причина, а следствие.  Если вы не знали об исследовании, в вашей жизни произошло какое-то переосмысление ценностей, вы поняли, что там тупые мемы, а ботать очень круто, то да. Ваши шансы закончить эконом возрастут. Возрастут не потому что вы отписались от мдк, а потому что что-то произошло с причиной того, что вы на него были подписаны. Произошло что-то с ненаблюдаемой переменной, которая несёт информацию о вашем характере.\n",
    "\n",
    "**Ещё раз, ещё раз,** в первой ситуации, просто-напросто, испортился информационный канал, за который отвечала инструментальная переменная \"паблик мдк\", во втором случае изменилась истиная информация и наш информационный канал в виде инструментальной переменной сообшил нам про это.  Интерпретировать коэффициенты в логистической регрессии можно так и только так. "
   ]
  },
  {
   "cell_type": "markdown",
   "metadata": {},
   "source": [
    "## 1.2  Великий вопрос номер два \n",
    "\n",
    "Прогнозы. Пусть мы хотим уметь хорошо прогнозировать отчислят ли человека с эконома или нет. Предположим, что мы оценили регрессию из предыдущего пункта. Она хороша, коэффициенты хороши, всё значимо, на улице светит солнце, все гиптезы проверены, вода в ручьях кристально чистая, эндогенности нет и во всём мире мир. Можно ли использовать её для прогнозирования? **Конечно да.** Ура, расходимся!\n",
    "\n",
    "**Секундочку. А что если я скажу вам, что ваши прогнозы можно улучшить?** При оценивании логистической регрессии максимизируется логарифм правдоподобия. Этот логарифм можно немного переписать и получить логистическую функцию потерь, которую уже нужно будет минимизировать. Уже к ней можно присобачить дополнительное слагаемое, которое будет отвечать за ограничения, накладываеммые на коэффициенты. Если выбрать перед этим ограничением правильный множатель и проминимизировать всё это добро, то коэффициенты окажутся смещенными, но при этом прогнозы станут лучше. \n",
    "\n",
    "Как такое происходит? А очень просто! [Можно показать,](https://habrahabr.ru/company/ods/blog/323890/) что ошибка прогноза складывается из **квадрата смещения**, **дисперсии** и **неустранимой ошибки**\n",
    "\n",
    "$$\n",
    "Err = Var(\\hat y) + Bias^2(\\hat y) + \\sigma^2 \n",
    "$$\n",
    "\n",
    "\n",
    "Если с последней мы ничего сделать не можем, то на первые два слагаемых мы можем как-то влиять. В идеале, конечно же, хотелось бы свести на нет оба этих слагаемых (левый верхний квадрат рисунка), но на практике часто приходится балансировать между смещенными и нестабильными оценками (высокая дисперсия).\n",
    "\n",
    "<img align=\"center\" src=\"https://hsto.org/files/aa5/d0f/149/aa5d0f149838470fb997ca405c4c55a0.png\" width=\"350\">\n",
    "\n",
    "\n"
   ]
  },
  {
   "cell_type": "markdown",
   "metadata": {},
   "source": [
    "Как правило, при увеличении сложности модели (например, при увеличении количества свободных параметров) увеличивается дисперсия (разброс) оценки, но уменьшается смещение. Из-за того что тренировочный набор данных полностью запоминается вместо обобщения, небольшие изменения приводят к неожиданным результатам (переобучение). Если же модель слабая, то она не состоянии выучить закономерность, в результате выучивается что-то другое, смещенное относительно правильного решения.\n",
    "\n",
    "Наша святая всех святых, **Теорема Гаусса-Маркова** как раз утверждает, что МНК-оценка параметров линейной модели является самой лучшей в классе несмещенных линейных оценок, то есть с наименьшей дисперсией. Вопрос в предпосылках теоремы Гаусса-Маркова. Они практически никогда не выполнены. Это позволяет регуляризатором уменьшить разброс за счёт смещения и улучшить прогнозы. \n",
    "\n",
    "Однако, в этом случае, мы приносим в жертву интерпретацию. Оценки коэффициентов оказываются смещёнными и не отражают никаких реалий. Единственное, на что в такой ситуации можно обращать внимание, это знак коэффициента и его размер. Чем больше абсолютное значение коэффициента, тем более важна эта переменная. Но какой именно вклад она вносит, мы не знаем. \n",
    "\n",
    "Более подробно, со всеми формулами и выводами, об этом (и не только об этом) можно почитать в двух отлично сделанных статьях на хабре. \n",
    "\n",
    "1. [Про переобучение, комплексные собственные значения, регуляризаторы и байесовскую интерпретацию линейных моделей](https://habrahabr.ru/company/ods/blog/322076/)\n",
    "2. [Про линейные модели и логит.](https://habrahabr.ru/company/ods/blog/323890/) На мой взгляд, написано на стыке эконометрики и машинного обучения. \n",
    "\n",
    "Более того, модели можно усложнять. В большей части ситуаций, такое усложнение, делает модель неинтерпретируемой."
   ]
  },
  {
   "cell_type": "markdown",
   "metadata": {},
   "source": [
    "## 1.3 О том, где находится тонкая грань\n",
    "\n",
    "Итак, есть два великих вопроса. **А ещё есть совершенно дебильная грань между людьми, которые пытаются найти ответы на них.** Не просто дебильная грань, а условная дебильная грань. Каждый раз, когда я на неё наталкиваюсь, меня это удивляет и поражает. \n",
    "\n",
    "Область, которая занимается поиском интерпретации, чаще всего называют эконометрикой. Она сконцентрирована на смысле оценок. Она пытается понять за какой рычаг надо дернуть, чтобы целевая переменная изменилась ровно настолько, насколько нам нужно. Эти благородные цели вынуждают эконометриста проверять гипотезы и строить доверительные интервалы, чтобы быть уверенным. Не преведи процесс порождения данных, если что-то пойдёт не так. Прошу заметить, что это не означет, что эконометрика не уделяет прогнозам никакого внимания. Она уделяет им огромное внимание (вспомним хотябы то, как изучаются временные ряды). Но при этом это внимание уделяется через призму интерпретации. Чаще всего специалистами по эконометрике становятся экономисты. Главная отличительная особенность эконометристов в том, что они относятся к данным как к чему-то очень хрупкому. Они бояться их исказить. Эконометрика является более академичной. Она довольно стара.  \n",
    "\n",
    "Область, которая концентрируется на прогнозах, чаще всего называют машинным обучением. Эта область использует ровно те же самые концепции, что и эконометрика, но немного иначе. Концентрация на прогнозах обогащает арсенал статитсики всякими приблудами вроде нейронок и деревьев. Интерпретируемости моделей уделяется второстепенная роль. На неё смотрят сквозь призму прогнозирования. Чаще всего специалистами по машинному обучению становятся прогеры. Главная отличительная особенность таких людей в том, что они смотрят на машинное обучение как на набор алгоритмов и относятся к данным как к расходному материалу. Машинка моложе эконометрики. \n",
    "\n",
    "В итоге, на почве этих различий рождаются [вот такие статьи.](http://www.machinelearning.ru/wiki/images/8/85/Breiman01stat-ml.pdf) и [записи в блогах по ним.](http://econometricsense.blogspot.ru/2011/01/classical-statistics-vs-machine.html) Вот как так получается, чёрт возьми! Я экономист. Сначала я выучил эконометрику, затем машинку. Я очень удивился тому, что на эконометрике никто не обмолвился ни одним словом про кросс-валидацию и регуляризацию. Как можно вообще изучать временные ряды, где одной из целей является именно прогнозирование, без кросс-валидации? Ещё больше я удивляюсь, когда пацаны с ВМК занимаются машинкой и не знают что такое гетероскедастичность или инструментальная переменная. В этом же блоге есть вот такая замечательная картинка. \n",
    "\n",
    "<img align=\"center\" src=\"http://3.bp.blogspot.com/_0Lnn2oP30gU/TTWr0XRM1MI/AAAAAAAAAKk/pqA6JSThqsA/s320/data+science+Venn-724969.jpeg\" width=\"350\">\n"
   ]
  },
  {
   "cell_type": "markdown",
   "metadata": {},
   "source": [
    "Вы закончили ВМК? Умеете прогать и можете в матан? Вы машинлёрнер! Вы закончили эконом и можете в здравый смысл и всякие разные эконом-конецепции, а ещё вы можете в матан, потому что вы закончили нормальный эконом? Вы традиционый рисёрчер-эконометрист! Ну не херня ли? Боже мой, а когда речь заходит о сраче между python, основным инструментов машинлёрнеров и R, основным инструментов эконометристов, то тут хоть стой хоть падай. Оба языка прекрасны! Внешне они похожи, поэтому их легко осваивать. При этом они сделаны под разные задачи. Например, я никогда не буду заниматься временными рядами в python, точно также как я не буду никогда заниматься нейросетями в R. \n",
    "\n",
    "УХ! Вместо кратенького введния в моделирование получился целый толмуд философии. Не ожидал я от себя такого. Друзья! Я призываю вас ещё разок посмотреть на диаграмму выше. Не надо быть традиционным рисёрчером-эконометристом. Не надо быть машинлёрнером. Обе этих дороги одни сплошные ограничения. Смотрите на всё это добро как на одну огромную цельную область. Бутстрапьте доверительные интервалы для деревьев, кросс-валидируйте вары и векмы. Будьте дата-сайнтистами. Это окроет перед вами огромные приемущества.   "
   ]
  },
  {
   "cell_type": "markdown",
   "metadata": {},
   "source": [
    "# 2. Наша первая модель (логистическая регрессия)\n",
    "\n",
    "Сконцентрируемся на прогнозах. Будем использовать линейные модели с регуляризаторами.\n",
    "\n",
    "## 2.1 Данные по приказам\n",
    "\n",
    "Для начала В ходе предобработки данных, мы сохранили несколько разных датафрэймов. Подгрузим самый первый. Разобьём его на две части. На **тренировочной выборке,** `X_tr`, мы будем обучать модели. На **тестовой выборке,** `X_val`, мы будем проверять качество модели. На тест оставим 2016 год."
   ]
  },
  {
   "cell_type": "code",
   "execution_count": 76,
   "metadata": {
    "scrolled": false
   },
   "outputs": [
    {
     "name": "stdout",
     "output_type": "stream",
     "text": [
      "Всего: (379, 11)\n",
      "Трэйн: (308, 10) (308,)\n",
      "Тест: (71, 10) (71,)\n",
      "\n",
      " Метки: \n",
      " [ 1.  1.  1.  0.  1.  1.  1.  0.  1.  0.] \n",
      "\n",
      "Переменные: \n",
      " [[ 203.            0.            0.         ...,    3.33333333  -44.            0.        ]\n",
      " [ 255.            0.            0.         ...,    3.33333333    8.            0.        ]\n",
      " [ 249.            0.            0.         ...,    3.33333333    2.            0.        ]\n",
      " ..., \n",
      " [ 217.            0.            0.         ...,    5.          -36.            1.        ]\n",
      " [ 217.            0.            0.         ...,    3.33333333  -36.            1.        ]\n",
      " [ 211.            0.            0.         ...,    3.33333333  -42.            1.        ]]\n"
     ]
    },
    {
     "data": {
      "text/html": [
       "<div>\n",
       "<style scoped>\n",
       "    .dataframe tbody tr th:only-of-type {\n",
       "        vertical-align: middle;\n",
       "    }\n",
       "\n",
       "    .dataframe tbody tr th {\n",
       "        vertical-align: top;\n",
       "    }\n",
       "\n",
       "    .dataframe thead th {\n",
       "        text-align: right;\n",
       "    }\n",
       "</style>\n",
       "<table border=\"1\" class=\"dataframe\">\n",
       "  <thead>\n",
       "    <tr style=\"text-align: right;\">\n",
       "      <th></th>\n",
       "      <th>year</th>\n",
       "      <th>EGE</th>\n",
       "      <th>lgota</th>\n",
       "      <th>chelevoe</th>\n",
       "      <th>olimp</th>\n",
       "      <th>dogovor</th>\n",
       "      <th>ochko-zaochka</th>\n",
       "      <th>hodit_para</th>\n",
       "      <th>hodit_tusa</th>\n",
       "      <th>ege_diff</th>\n",
       "      <th>kozko</th>\n",
       "    </tr>\n",
       "  </thead>\n",
       "  <tbody>\n",
       "    <tr>\n",
       "      <th>0</th>\n",
       "      <td>2012</td>\n",
       "      <td>203.0</td>\n",
       "      <td>0</td>\n",
       "      <td>0.0</td>\n",
       "      <td>1</td>\n",
       "      <td>0</td>\n",
       "      <td>0</td>\n",
       "      <td>2.67</td>\n",
       "      <td>3.33</td>\n",
       "      <td>-44.0</td>\n",
       "      <td>0</td>\n",
       "    </tr>\n",
       "    <tr>\n",
       "      <th>1</th>\n",
       "      <td>2012</td>\n",
       "      <td>255.0</td>\n",
       "      <td>0</td>\n",
       "      <td>0.0</td>\n",
       "      <td>1</td>\n",
       "      <td>0</td>\n",
       "      <td>0</td>\n",
       "      <td>3.67</td>\n",
       "      <td>3.33</td>\n",
       "      <td>8.0</td>\n",
       "      <td>0</td>\n",
       "    </tr>\n",
       "    <tr>\n",
       "      <th>2</th>\n",
       "      <td>2012</td>\n",
       "      <td>249.0</td>\n",
       "      <td>0</td>\n",
       "      <td>0.0</td>\n",
       "      <td>1</td>\n",
       "      <td>0</td>\n",
       "      <td>0</td>\n",
       "      <td>3.67</td>\n",
       "      <td>3.33</td>\n",
       "      <td>2.0</td>\n",
       "      <td>0</td>\n",
       "    </tr>\n",
       "    <tr>\n",
       "      <th>3</th>\n",
       "      <td>2012</td>\n",
       "      <td>242.0</td>\n",
       "      <td>1</td>\n",
       "      <td>0.0</td>\n",
       "      <td>0</td>\n",
       "      <td>0</td>\n",
       "      <td>0</td>\n",
       "      <td>3.33</td>\n",
       "      <td>1.67</td>\n",
       "      <td>-5.0</td>\n",
       "      <td>0</td>\n",
       "    </tr>\n",
       "    <tr>\n",
       "      <th>4</th>\n",
       "      <td>2012</td>\n",
       "      <td>203.0</td>\n",
       "      <td>1</td>\n",
       "      <td>0.0</td>\n",
       "      <td>0</td>\n",
       "      <td>0</td>\n",
       "      <td>0</td>\n",
       "      <td>3.67</td>\n",
       "      <td>1.67</td>\n",
       "      <td>-44.0</td>\n",
       "      <td>0</td>\n",
       "    </tr>\n",
       "  </tbody>\n",
       "</table>\n",
       "</div>"
      ],
      "text/plain": [
       "   year    EGE  lgota  chelevoe  olimp  dogovor  ochko-zaochka  hodit_para  \\\n",
       "0  2012  203.0      0       0.0      1        0              0        2.67   \n",
       "1  2012  255.0      0       0.0      1        0              0        3.67   \n",
       "2  2012  249.0      0       0.0      1        0              0        3.67   \n",
       "3  2012  242.0      1       0.0      0        0              0        3.33   \n",
       "4  2012  203.0      1       0.0      0        0              0        3.67   \n",
       "\n",
       "   hodit_tusa  ege_diff  kozko  \n",
       "0        3.33     -44.0      0  \n",
       "1        3.33       8.0      0  \n",
       "2        3.33       2.0      0  \n",
       "3        1.67      -5.0      0  \n",
       "4        1.67     -44.0      0  "
      ]
     },
     "execution_count": 76,
     "metadata": {},
     "output_type": "execute_result"
    }
   ],
   "source": [
    "# подгрузили\n",
    "data1 = pd.read_csv('data_1_easy.csv',sep='\\t',index_col=0)\n",
    "\n",
    "# выбросили хлам \n",
    "data1_X = data1[data1.year != 2017].drop(['uids','firstname','lastname','prohodnoy', # 'hodit_para','hodit_tusa',\n",
    "        'target_1','target_2','target_3','target_4','kurs','zima','leto','akadem'],axis=1)\n",
    "\n",
    "# Нулями залились только недостающие куски в колонке с целевиками\n",
    "X_tr = data1_X[data1_X.year != 2016].drop('year',axis=1).fillna(0).get_values( )\n",
    "X_val = data1_X[data1_X.year == 2016].drop('year',axis=1).fillna(0).get_values( )\n",
    "\n",
    "# Выделили таргеты в отдельную переменную\n",
    "y_tr = data1[data1.year < 2016]['target_1'].get_values()\n",
    "y_val = data1[data1.year == 2016]['target_1'].get_values()\n",
    "\n",
    "variable_names = data1_X.drop('year',axis=1).columns.get_values()\n",
    "\n",
    "print('Всего:', data1_X.shape)\n",
    "print('Трэйн:', X_tr.shape, y_tr.shape)\n",
    "print('Тест:', X_val.shape, y_val.shape)\n",
    "\n",
    "print('\\n Метки:', '\\n', y_tr[:10], '\\n')\n",
    "print('Переменные: \\n', X_tr)\n",
    "\n",
    "data1_X.head()"
   ]
  },
  {
   "cell_type": "markdown",
   "metadata": {},
   "source": [
    "Первую модель будем строить на основе данных из приказов. Построим константное предсказание. "
   ]
  },
  {
   "cell_type": "code",
   "execution_count": 77,
   "metadata": {},
   "outputs": [
    {
     "name": "stdout",
     "output_type": "stream",
     "text": [
      "Трэйн:\n",
      "accuracy_0 : 0.324675324675\n",
      "accuracy_1 : 0.675324675325\n",
      "roc-auc: 0.5\n",
      "\n",
      " Тест:\n",
      "accuracy_0 : 0.295774647887\n",
      "accuracy_1 : 0.704225352113\n",
      "roc-auc: 0.5\n"
     ]
    }
   ],
   "source": [
    "from sklearn.metrics import accuracy_score, roc_auc_score, roc_curve, auc\n",
    "\n",
    "n_tr = y_tr.shape[0]\n",
    "n_val = y_val.shape[0]\n",
    "\n",
    "print('Трэйн:')\n",
    "print('accuracy_0 :', accuracy_score(y_tr, [0]*n_tr))\n",
    "print('accuracy_1 :', accuracy_score(y_tr, [1]*n_tr))\n",
    "print('roc-auc:', roc_auc_score(y_tr, np.ones(y_tr.shape)))\n",
    "\n",
    "print( '\\n', 'Тест:')\n",
    "print('accuracy_0 :', accuracy_score(y_val, [0]*n_val))\n",
    "print('accuracy_1 :', accuracy_score(y_val, [1]*n_val))\n",
    "print ('roc-auc:', roc_auc_score(y_val, np.ones(y_val.shape)))"
   ]
  },
  {
   "cell_type": "markdown",
   "metadata": {},
   "source": [
    "Напомню, что из предварительного анализа данных, было ясно, что $2/3$ людей заканчиваю эконом. Соответственно, если мы спрогнозируем для каждого человека, что он закончит эконом, точность у такой модели окажется на уровне $70%$. Любая модель, которая покажет точность ниже сразу же может быть отправлена на свалку. \n",
    "\n",
    "**написать про рок аук** отсылка к ББ\n",
    "\n",
    "Попробуем обучить нашу первую логистическую регрессию без всего и посмотрим что она нам выдаст. "
   ]
  },
  {
   "cell_type": "code",
   "execution_count": 78,
   "metadata": {},
   "outputs": [
    {
     "data": {
      "text/plain": [
       "LogisticRegression(C=1.0, class_weight=None, dual=False, fit_intercept=True,\n",
       "          intercept_scaling=1, max_iter=100, multi_class='ovr', n_jobs=1,\n",
       "          penalty='l2', random_state=None, solver='liblinear', tol=0.0001,\n",
       "          verbose=0, warm_start=False)"
      ]
     },
     "execution_count": 78,
     "metadata": {},
     "output_type": "execute_result"
    }
   ],
   "source": [
    "from sklearn.linear_model import LogisticRegression\n",
    "\n",
    "lr = LogisticRegression()\n",
    "lr.fit(X_tr, y_tr)"
   ]
  },
  {
   "cell_type": "code",
   "execution_count": 79,
   "metadata": {},
   "outputs": [
    {
     "name": "stdout",
     "output_type": "stream",
     "text": [
      "Train accuracy 0.782467532468\n",
      "Validation accuracy 0.802816901408 \n",
      "\n",
      "Train roc-auc 0.854759615385\n",
      "Validation roc-auc 0.864285714286\n"
     ]
    },
    {
     "data": {
      "image/png": "[encoded data removed]",
      "text/plain": [
       "<matplotlib.figure.Figure at 0x108c94048>"
      ]
     },
     "metadata": {},
     "output_type": "display_data"
    }
   ],
   "source": [
    "# Функция для вывода метрик качества\n",
    "def printer(y_tr, y_val, model):\n",
    "    y_hat_tr = model.predict_proba(X_tr)[:,1]\n",
    "    y_hat_val = model.predict_proba(X_val)[:,1]\n",
    "    print ('Train accuracy', accuracy_score(y_tr, model.predict(X_tr)))\n",
    "    print ('Validation accuracy', accuracy_score(y_val, model.predict(X_val)), '\\n')\n",
    "    print ('Train roc-auc', roc_auc_score(y_tr, y_hat_tr))\n",
    "    print ('Validation roc-auc', roc_auc_score(y_val, y_hat_val))\n",
    "    \n",
    "# Функция для отрисовки roc-auc кривой    \n",
    "def roc_auc_pic(y_tr,y_val,model):\n",
    "    y_hat_tr = model.predict_proba(X_tr)[:,1]\n",
    "    y_hat_val = model.predict_proba(X_val)[:,1]\n",
    "    \n",
    "    fpr_train, tpr_train, thresholds_train = roc_curve(y_tr, y_hat_tr)\n",
    "    fpr_test, tpr_test, thresholds_test = roc_curve(y_val, y_hat_val)\n",
    "    roc_auc_train = roc_auc_score(y_tr, y_hat_tr)\n",
    "    roc_auc_test = roc_auc_score(y_val, y_hat_val)\n",
    "\n",
    "    matplotlib.rcParams['figure.figsize'] = (7, 7)\n",
    "    plt.plot(fpr_train, tpr_train, label='Train ROC AUC {0}'.format(roc_auc_train))\n",
    "    plt.plot(fpr_test, tpr_test, label='Test ROC AUC {0}'.format(roc_auc_test))\n",
    "    plt.plot([0, 1], [0, 1], '--', color=(0.6, 0.6, 0.6))\n",
    "    plt.xlim([0, 1])\n",
    "    plt.ylim([0, 1])\n",
    "    plt.xlabel('False Positive Rate')\n",
    "    plt.ylabel('True Positive Rate')\n",
    "    plt.title('Logit', size=16)\n",
    "    plt.legend(loc='lower right')\n",
    "    plt.show()\n",
    "    \n",
    "printer(y_tr, y_val, lr)\n",
    "roc_auc_pic(y_tr,y_val, lr)"
   ]
  },
  {
   "cell_type": "code",
   "execution_count": 80,
   "metadata": {},
   "outputs": [
    {
     "name": "stdout",
     "output_type": "stream",
     "text": [
      "0.753093601269\n"
     ]
    },
    {
     "data": {
      "text/plain": [
       "array([ 0.70967742,  0.82258065,  0.77419355,  0.73770492,  0.72131148])"
      ]
     },
     "execution_count": 80,
     "metadata": {},
     "output_type": "execute_result"
    }
   ],
   "source": [
    "# Качество модели на кросс-валидации \n",
    "from sklearn.cross_validation import cross_val_score\n",
    "scoring = cross_val_score(lr, X_tr, y_tr, scoring = 'accuracy', cv =5)\n",
    "print(scoring.mean())\n",
    "scoring"
   ]
  },
  {
   "cell_type": "code",
   "execution_count": 81,
   "metadata": {},
   "outputs": [
    {
     "name": "stdout",
     "output_type": "stream",
     "text": [
      "year -0.0137302221302\n",
      "EGE 0.42454650784\n",
      "lgota -0.231390167366\n",
      "chelevoe 0.631667366923\n",
      "olimp -0.417665697723\n",
      "dogovor 0.459763954895\n",
      "ochko-zaochka 0.981341714722\n",
      "hodit_para 0.442521146727\n",
      "hodit_tusa 0.0189182909729\n",
      "ege_diff -0.230847398393\n"
     ]
    }
   ],
   "source": [
    "for a,b in zip(data1_X.columns.get_values(), lr.coef_[0]):\n",
    "    print(a,b)"
   ]
  },
  {
   "cell_type": "markdown",
   "metadata": {},
   "source": [
    "Качество модели около $60%$. Хуже константного. Можно смело отправлять модель на помойку. "
   ]
  },
  {
   "cell_type": "code",
   "execution_count": 82,
   "metadata": {},
   "outputs": [
    {
     "name": "stdout",
     "output_type": "stream",
     "text": [
      "{'C': 0.040201005123115578}\n"
     ]
    },
    {
     "data": {
      "image/png": "[encoded data removed]",
      "text/plain": [
       "<matplotlib.figure.Figure at 0x108bc1eb8>"
      ]
     },
     "metadata": {},
     "output_type": "display_data"
    }
   ],
   "source": [
    "from sklearn.grid_search import GridSearchCV\n",
    "\n",
    "parameters_grid = {\n",
    "    # 'penalty' : ['l1', 'l2'],\n",
    "    'C' : np.linspace(0.0000000001, 2, num = 200)\n",
    "}\n",
    "\n",
    "gridsearch = GridSearchCV(LogisticRegression(penalty = 'l1'), parameters_grid, scoring = 'accuracy', cv = 3)\n",
    "gridsearch.fit(X_tr, y_tr)\n",
    "\n",
    "def plot_scores(optimizer):\n",
    "    print( optimizer.best_params_)\n",
    "    scores = [[item[0]['C'], \n",
    "               item[1], \n",
    "               (np.sum((item[2]-item[1])**2)/(item[2].size-1))**0.5] for item in optimizer.grid_scores_]\n",
    "    scores = np.array(scores)\n",
    "    plt.semilogx(scores[:,0], scores[:,1])\n",
    "    plt.fill_between(scores[:,0], scores[:,1]-scores[:,2], \n",
    "                                  scores[:,1]+scores[:,2], alpha=0.3)\n",
    "    plt.show()\n",
    "\n",
    "plot_scores(gridsearch)"
   ]
  },
  {
   "cell_type": "code",
   "execution_count": 83,
   "metadata": {},
   "outputs": [
    {
     "name": "stdout",
     "output_type": "stream",
     "text": [
      "Train accuracy 0.772727272727\n",
      "Validation accuracy 0.830985915493 \n",
      "\n",
      "Train roc-auc 0.838125\n",
      "Validation roc-auc 0.849047619048\n"
     ]
    }
   ],
   "source": [
    "printer(y_tr, y_val, gridsearch.best_estimator_)"
   ]
  },
  {
   "cell_type": "code",
   "execution_count": 84,
   "metadata": {},
   "outputs": [
    {
     "name": "stdout",
     "output_type": "stream",
     "text": [
      "EGE -0.00601790549887\n",
      "lgota 0.0\n",
      "chelevoe 0.0\n",
      "olimp 0.0\n",
      "dogovor 0.0\n",
      "ochko-zaochka 0.0\n",
      "hodit_para 0.611383157562\n",
      "hodit_tusa 0.138135906391\n",
      "ege_diff 0.0172151994095\n",
      "kozko 0.0\n"
     ]
    }
   ],
   "source": [
    "for a,b in zip(variable_names, gridsearch.best_estimator_.coef_[0]):\n",
    "    print(a,b)"
   ]
  },
  {
   "cell_type": "code",
   "execution_count": 85,
   "metadata": {},
   "outputs": [
    {
     "name": "stdout",
     "output_type": "stream",
     "text": [
      "0.762665256478\n"
     ]
    }
   ],
   "source": [
    "scoring = cross_val_score(LogisticRegression(penalty='l1', C = 0.04), X_tr, y_tr, scoring = 'accuracy', cv =5)\n",
    "print(scoring.mean())"
   ]
  },
  {
   "cell_type": "markdown",
   "metadata": {},
   "source": [
    "Если добавить в модель переменные `hodit_tusa` и `hodit_para`, качество подскакивает до $75\\%$."
   ]
  },
  {
   "cell_type": "markdown",
   "metadata": {},
   "source": [
    "## 2. 2  Данные по профилю вк "
   ]
  },
  {
   "cell_type": "code",
   "execution_count": 99,
   "metadata": {},
   "outputs": [
    {
     "name": "stdout",
     "output_type": "stream",
     "text": [
      "Всего: (379, 39)\n",
      "Трэйн: (308, 38) (308,)\n",
      "Тест: (71, 38) (71,)\n",
      "\n",
      " Метки: \n",
      " [ 1.  1.  1.  0.  1.  1.  1.  0.  1.  0.] \n",
      "\n",
      "Переменные: \n",
      " [[   1.    0.    1. ...,  157.    0.    0.]\n",
      " [   1.    0.    1. ...,    0.    1.    3.]\n",
      " [   1.    0.    1. ...,  258.    0.    0.]\n",
      " ..., \n",
      " [   1.    0.    1. ...,    0.    0.    0.]\n",
      " [   0.    0.    0. ...,    0.    0.    0.]\n",
      " [   0.    1.    0. ...,    6.    0.    0.]]\n"
     ]
    },
    {
     "data": {
      "text/html": [
       "<div>\n",
       "<style scoped>\n",
       "    .dataframe tbody tr th:only-of-type {\n",
       "        vertical-align: middle;\n",
       "    }\n",
       "\n",
       "    .dataframe tbody tr th {\n",
       "        vertical-align: top;\n",
       "    }\n",
       "\n",
       "    .dataframe thead th {\n",
       "        text-align: right;\n",
       "    }\n",
       "</style>\n",
       "<table border=\"1\" class=\"dataframe\">\n",
       "  <thead>\n",
       "    <tr style=\"text-align: right;\">\n",
       "      <th></th>\n",
       "      <th>year</th>\n",
       "      <th>profile_city_moscow_dummy</th>\n",
       "      <th>profile_city_none_dummy</th>\n",
       "      <th>profile_country_russia_dummy</th>\n",
       "      <th>profile_country_none_dummy</th>\n",
       "      <th>profile_folowers_cnt</th>\n",
       "      <th>profile_male_dummy</th>\n",
       "      <th>profile_has_ava_dummy</th>\n",
       "      <th>profile_wall_comments_dummy</th>\n",
       "      <th>profile_facebook_dummy</th>\n",
       "      <th>...</th>\n",
       "      <th>profile_pages_cnt</th>\n",
       "      <th>profile_vuz_ranepa_yes_dummy</th>\n",
       "      <th>profile_vuz_none_dummy</th>\n",
       "      <th>profile_gifts_cnt</th>\n",
       "      <th>profile_moscow_hometown_dummy</th>\n",
       "      <th>profile_econom_yes_dummy</th>\n",
       "      <th>profile_relation_partner_yes_dummy</th>\n",
       "      <th>profile_group_hide_dummy</th>\n",
       "      <th>profile_engl_dummy</th>\n",
       "      <th>profile_lang_cnt</th>\n",
       "    </tr>\n",
       "  </thead>\n",
       "  <tbody>\n",
       "    <tr>\n",
       "      <th>0</th>\n",
       "      <td>2012</td>\n",
       "      <td>1.0</td>\n",
       "      <td>0.0</td>\n",
       "      <td>1.0</td>\n",
       "      <td>0.0</td>\n",
       "      <td>141.0</td>\n",
       "      <td>1.0</td>\n",
       "      <td>1.0</td>\n",
       "      <td>1.0</td>\n",
       "      <td>0.0</td>\n",
       "      <td>...</td>\n",
       "      <td>100.0</td>\n",
       "      <td>1.0</td>\n",
       "      <td>0.0</td>\n",
       "      <td>0.0</td>\n",
       "      <td>0.0</td>\n",
       "      <td>0.0</td>\n",
       "      <td>0.0</td>\n",
       "      <td>157.0</td>\n",
       "      <td>0.0</td>\n",
       "      <td>0.0</td>\n",
       "    </tr>\n",
       "    <tr>\n",
       "      <th>1</th>\n",
       "      <td>2012</td>\n",
       "      <td>1.0</td>\n",
       "      <td>0.0</td>\n",
       "      <td>1.0</td>\n",
       "      <td>0.0</td>\n",
       "      <td>173.0</td>\n",
       "      <td>0.0</td>\n",
       "      <td>1.0</td>\n",
       "      <td>1.0</td>\n",
       "      <td>0.0</td>\n",
       "      <td>...</td>\n",
       "      <td>76.0</td>\n",
       "      <td>1.0</td>\n",
       "      <td>0.0</td>\n",
       "      <td>0.0</td>\n",
       "      <td>0.0</td>\n",
       "      <td>1.0</td>\n",
       "      <td>0.0</td>\n",
       "      <td>0.0</td>\n",
       "      <td>1.0</td>\n",
       "      <td>3.0</td>\n",
       "    </tr>\n",
       "    <tr>\n",
       "      <th>2</th>\n",
       "      <td>2012</td>\n",
       "      <td>1.0</td>\n",
       "      <td>0.0</td>\n",
       "      <td>1.0</td>\n",
       "      <td>0.0</td>\n",
       "      <td>136.0</td>\n",
       "      <td>0.0</td>\n",
       "      <td>1.0</td>\n",
       "      <td>1.0</td>\n",
       "      <td>0.0</td>\n",
       "      <td>...</td>\n",
       "      <td>102.0</td>\n",
       "      <td>0.0</td>\n",
       "      <td>0.0</td>\n",
       "      <td>27.0</td>\n",
       "      <td>0.0</td>\n",
       "      <td>0.0</td>\n",
       "      <td>1.0</td>\n",
       "      <td>258.0</td>\n",
       "      <td>0.0</td>\n",
       "      <td>0.0</td>\n",
       "    </tr>\n",
       "    <tr>\n",
       "      <th>3</th>\n",
       "      <td>2012</td>\n",
       "      <td>0.0</td>\n",
       "      <td>1.0</td>\n",
       "      <td>1.0</td>\n",
       "      <td>0.0</td>\n",
       "      <td>119.0</td>\n",
       "      <td>0.0</td>\n",
       "      <td>1.0</td>\n",
       "      <td>0.0</td>\n",
       "      <td>0.0</td>\n",
       "      <td>...</td>\n",
       "      <td>16.0</td>\n",
       "      <td>0.0</td>\n",
       "      <td>1.0</td>\n",
       "      <td>37.0</td>\n",
       "      <td>0.0</td>\n",
       "      <td>0.0</td>\n",
       "      <td>0.0</td>\n",
       "      <td>35.0</td>\n",
       "      <td>0.0</td>\n",
       "      <td>0.0</td>\n",
       "    </tr>\n",
       "    <tr>\n",
       "      <th>4</th>\n",
       "      <td>2012</td>\n",
       "      <td>0.0</td>\n",
       "      <td>0.0</td>\n",
       "      <td>1.0</td>\n",
       "      <td>0.0</td>\n",
       "      <td>0.0</td>\n",
       "      <td>0.0</td>\n",
       "      <td>0.0</td>\n",
       "      <td>1.0</td>\n",
       "      <td>0.0</td>\n",
       "      <td>...</td>\n",
       "      <td>28.0</td>\n",
       "      <td>0.0</td>\n",
       "      <td>1.0</td>\n",
       "      <td>0.0</td>\n",
       "      <td>0.0</td>\n",
       "      <td>0.0</td>\n",
       "      <td>0.0</td>\n",
       "      <td>0.0</td>\n",
       "      <td>0.0</td>\n",
       "      <td>0.0</td>\n",
       "    </tr>\n",
       "  </tbody>\n",
       "</table>\n",
       "<p>5 rows × 39 columns</p>\n",
       "</div>"
      ],
      "text/plain": [
       "   year  profile_city_moscow_dummy  profile_city_none_dummy  \\\n",
       "0  2012                        1.0                      0.0   \n",
       "1  2012                        1.0                      0.0   \n",
       "2  2012                        1.0                      0.0   \n",
       "3  2012                        0.0                      1.0   \n",
       "4  2012                        0.0                      0.0   \n",
       "\n",
       "   profile_country_russia_dummy  profile_country_none_dummy  \\\n",
       "0                           1.0                         0.0   \n",
       "1                           1.0                         0.0   \n",
       "2                           1.0                         0.0   \n",
       "3                           1.0                         0.0   \n",
       "4                           1.0                         0.0   \n",
       "\n",
       "   profile_folowers_cnt  profile_male_dummy  profile_has_ava_dummy  \\\n",
       "0                 141.0                 1.0                    1.0   \n",
       "1                 173.0                 0.0                    1.0   \n",
       "2                 136.0                 0.0                    1.0   \n",
       "3                 119.0                 0.0                    1.0   \n",
       "4                   0.0                 0.0                    0.0   \n",
       "\n",
       "   profile_wall_comments_dummy  profile_facebook_dummy        ...         \\\n",
       "0                          1.0                     0.0        ...          \n",
       "1                          1.0                     0.0        ...          \n",
       "2                          1.0                     0.0        ...          \n",
       "3                          0.0                     0.0        ...          \n",
       "4                          1.0                     0.0        ...          \n",
       "\n",
       "   profile_pages_cnt  profile_vuz_ranepa_yes_dummy  profile_vuz_none_dummy  \\\n",
       "0              100.0                           1.0                     0.0   \n",
       "1               76.0                           1.0                     0.0   \n",
       "2              102.0                           0.0                     0.0   \n",
       "3               16.0                           0.0                     1.0   \n",
       "4               28.0                           0.0                     1.0   \n",
       "\n",
       "   profile_gifts_cnt  profile_moscow_hometown_dummy  profile_econom_yes_dummy  \\\n",
       "0                0.0                            0.0                       0.0   \n",
       "1                0.0                            0.0                       1.0   \n",
       "2               27.0                            0.0                       0.0   \n",
       "3               37.0                            0.0                       0.0   \n",
       "4                0.0                            0.0                       0.0   \n",
       "\n",
       "   profile_relation_partner_yes_dummy  profile_group_hide_dummy  \\\n",
       "0                                 0.0                     157.0   \n",
       "1                                 0.0                       0.0   \n",
       "2                                 1.0                     258.0   \n",
       "3                                 0.0                      35.0   \n",
       "4                                 0.0                       0.0   \n",
       "\n",
       "   profile_engl_dummy  profile_lang_cnt  \n",
       "0                 0.0               0.0  \n",
       "1                 1.0               3.0  \n",
       "2                 0.0               0.0  \n",
       "3                 0.0               0.0  \n",
       "4                 0.0               0.0  \n",
       "\n",
       "[5 rows x 39 columns]"
      ]
     },
     "execution_count": 99,
     "metadata": {},
     "output_type": "execute_result"
    }
   ],
   "source": [
    "# подгрузили\n",
    "data2 = pd.read_csv('prof_data.csv',sep='\\t')\n",
    "\n",
    "data2_X = data2[data2.year != 2017].drop(['uids','uid','firstname','lastname','prohodnoy', \n",
    "                                        'hodit_para','hodit_tusa',\n",
    "        'target_1','target_2','target_3','target_4','kurs','zima','leto','akadem'],axis=1)\n",
    "\n",
    "data2_X.drop(['EGE','lgota','chelevoe','olimp','dogovor','ochko-zaochka','ege_diff','kozko'],axis=1,inplace=True)\n",
    "data2_X.drop(['profile_first_name','profile_last_name'],axis=1,inplace=True)\n",
    "data2_X.drop([item for item in data2_X.columns.get_values() if item[-3:] == 'cat'],axis=1,inplace=True)\n",
    "\n",
    "# Нулями залились только недостающие куски в колонке с целевиками\n",
    "X_tr = data2_X[data2_X.year != 2016].drop('year',axis=1).fillna(0).get_values( )\n",
    "X_val = data2_X[data2_X.year == 2016].drop('year',axis=1).fillna(0).get_values( )\n",
    "\n",
    "# Выделили таргеты в отдельную переменную\n",
    "y_tr = data2[data2.year < 2016]['target_1'].get_values()\n",
    "y_val = data2[data2.year == 2016]['target_1'].get_values()\n",
    "\n",
    "variable_names = data2_X.drop('year',axis=1).columns.get_values()\n",
    "\n",
    "print('Всего:', data2_X.shape)\n",
    "print('Трэйн:', X_tr.shape, y_tr.shape)\n",
    "print('Тест:', X_val.shape, y_val.shape)\n",
    "\n",
    "print('\\n Метки:', '\\n', y_tr[:10], '\\n')\n",
    "print('Переменные: \\n', X_tr)\n",
    "\n",
    "data2_X.head()"
   ]
  },
  {
   "cell_type": "code",
   "execution_count": 100,
   "metadata": {},
   "outputs": [
    {
     "name": "stdout",
     "output_type": "stream",
     "text": [
      "Train accuracy 0.883116883117\n",
      "Validation accuracy 0.845070422535 \n",
      "\n",
      "Train roc-auc 0.938389423077\n",
      "Validation roc-auc 0.872380952381\n"
     ]
    },
    {
     "data": {
      "image/png": "[encoded data removed]",
      "text/plain": [
       "<matplotlib.figure.Figure at 0x108c78550>"
      ]
     },
     "metadata": {},
     "output_type": "display_data"
    },
    {
     "name": "stdout",
     "output_type": "stream",
     "text": [
      "Качество на валидации: 0.840824960338\n"
     ]
    }
   ],
   "source": [
    "lr = LogisticRegression()\n",
    "lr.fit(X_tr, y_tr)\n",
    "\n",
    "printer(y_tr, y_val, lr)\n",
    "roc_auc_pic(y_tr,y_val, lr)\n",
    "\n",
    "scoring = cross_val_score(lr, X_tr, y_tr, scoring = 'accuracy', cv =5)\n",
    "print('Качество на валидации:', scoring.mean())"
   ]
  },
  {
   "cell_type": "code",
   "execution_count": 101,
   "metadata": {},
   "outputs": [
    {
     "name": "stdout",
     "output_type": "stream",
     "text": [
      "{'C': 0.2110552764713568}\n"
     ]
    },
    {
     "data": {
      "image/png": "[encoded data removed]",
      "text/plain": [
       "<matplotlib.figure.Figure at 0x10b4cea20>"
      ]
     },
     "metadata": {},
     "output_type": "display_data"
    }
   ],
   "source": [
    "gridsearch = GridSearchCV(LogisticRegression(penalty = 'l1'), parameters_grid, scoring = 'accuracy', cv = 3)\n",
    "gridsearch.fit(X_tr, y_tr)\n",
    "\n",
    "plot_scores(gridsearch)"
   ]
  },
  {
   "cell_type": "code",
   "execution_count": 102,
   "metadata": {},
   "outputs": [
    {
     "name": "stdout",
     "output_type": "stream",
     "text": [
      "profile_city_moscow_dummy 0.0\n",
      "profile_city_none_dummy 0.0\n",
      "profile_country_russia_dummy 0.0\n",
      "profile_country_none_dummy 0.0\n",
      "profile_folowers_cnt -0.00124893958968\n",
      "profile_male_dummy 0.0\n",
      "profile_has_ava_dummy 0.0\n",
      "profile_wall_comments_dummy 0.0\n",
      "profile_facebook_dummy 0.0\n",
      "profile_instagram_dummy 0.0\n",
      "profile_skype_dummy 0.0\n",
      "profile_twitter_dummy 0.0\n",
      "profile_home_phone_dummy 0.0\n",
      "profile_mobile_phone_dummy 0.0\n",
      "profile_site_dummy 0.0\n",
      "meprofile_can_post_dummy 0.0\n",
      "meprofile_can_see_all_posts_dummy 0.0\n",
      "meprofile_can_see_audio_dummy 0.0\n",
      "meprofile_can_write_private_message_dummy 0.0\n",
      "profile_albums_cnt 0.306613565868\n",
      "profile_audio_cnt -0.000246510627489\n",
      "profile_followers_cnt -0.000831337718617\n",
      "profile_friends_cnt -0.00239668261152\n",
      "profile_mutual_friends_cnt 0.100184769611\n",
      "profile_notes_cnt 0.0393226791682\n",
      "profile_photos_cnt 0.0310530149331\n",
      "profile_subscriptions_cnt -0.0963279112994\n",
      "profile_videos_cnt 0.000220753416777\n",
      "profile_pages_cnt -0.00529269205084\n",
      "profile_vuz_ranepa_yes_dummy 0.0\n",
      "profile_vuz_none_dummy 0.0\n",
      "profile_gifts_cnt 0.00527472868041\n",
      "profile_moscow_hometown_dummy 0.0\n",
      "profile_econom_yes_dummy 0.0984193918883\n",
      "profile_relation_partner_yes_dummy 0.0\n",
      "profile_group_hide_dummy 0.0106579974169\n",
      "profile_engl_dummy 0.0\n",
      "profile_lang_cnt 0.22338747432\n"
     ]
    }
   ],
   "source": [
    "for a,b in zip(variable_names, gridsearch.best_estimator_.coef_[0]):\n",
    "    print(a,b)"
   ]
  },
  {
   "cell_type": "code",
   "execution_count": 109,
   "metadata": {},
   "outputs": [
    {
     "data": {
      "text/plain": [
       "15"
      ]
     },
     "execution_count": 109,
     "metadata": {},
     "output_type": "execute_result"
    }
   ],
   "source": [
    "sum(gridsearch.best_estimator_.coef_[0] != 0)"
   ]
  },
  {
   "cell_type": "code",
   "execution_count": 103,
   "metadata": {},
   "outputs": [
    {
     "name": "stdout",
     "output_type": "stream",
     "text": [
      "Train accuracy 0.873376623377\n",
      "Validation accuracy 0.816901408451 \n",
      "\n",
      "Train roc-auc 0.913052884615\n",
      "Validation roc-auc 0.890476190476\n"
     ]
    },
    {
     "data": {
      "image/png": "[encoded data removed]",
      "text/plain": [
       "<matplotlib.figure.Figure at 0x10b0384a8>"
      ]
     },
     "metadata": {},
     "output_type": "display_data"
    }
   ],
   "source": [
    "printer(y_tr, y_val, gridsearch.best_estimator_)\n",
    "roc_auc_pic(y_tr,y_val, lr)"
   ]
  },
  {
   "cell_type": "code",
   "execution_count": 104,
   "metadata": {},
   "outputs": [
    {
     "name": "stdout",
     "output_type": "stream",
     "text": [
      "0.84103648863\n"
     ]
    }
   ],
   "source": [
    "scoring = cross_val_score(LogisticRegression(penalty='l1', C = 0.23), X_tr, y_tr, scoring = 'accuracy', cv =5)\n",
    "print(scoring.mean())"
   ]
  },
  {
   "cell_type": "code",
   "execution_count": null,
   "metadata": {},
   "outputs": [],
   "source": []
  },
  {
   "cell_type": "code",
   "execution_count": null,
   "metadata": {},
   "outputs": [],
   "source": []
  },
  {
   "cell_type": "code",
   "execution_count": null,
   "metadata": {},
   "outputs": [],
   "source": []
  },
  {
   "cell_type": "code",
   "execution_count": null,
   "metadata": {},
   "outputs": [],
   "source": []
  },
  {
   "cell_type": "code",
   "execution_count": null,
   "metadata": {},
   "outputs": [],
   "source": []
  },
  {
   "cell_type": "code",
   "execution_count": 105,
   "metadata": {},
   "outputs": [
    {
     "name": "stdout",
     "output_type": "stream",
     "text": [
      "Train accuracy 0.980519480519\n",
      "Validation accuracy 0.830985915493 \n",
      "\n",
      "Train roc-auc 0.989927884615\n",
      "Validation roc-auc 0.759047619048\n"
     ]
    },
    {
     "data": {
      "image/png": "[encoded data removed]",
      "text/plain": [
       "<matplotlib.figure.Figure at 0x10a52edd8>"
      ]
     },
     "metadata": {},
     "output_type": "display_data"
    }
   ],
   "source": [
    "from sklearn.ensemble import RandomForestClassifier\n",
    "rf = RandomForestClassifier(n_estimators=10,max_features='sqrt')\n",
    "rf.fit(X_tr, y_tr)\n",
    "\n",
    "printer(y_tr, y_val, rf)\n",
    "roc_auc_pic(y_tr,y_val, rf)"
   ]
  },
  {
   "cell_type": "code",
   "execution_count": 106,
   "metadata": {},
   "outputs": [
    {
     "name": "stdout",
     "output_type": "stream",
     "text": [
      "0.850713907985\n"
     ]
    },
    {
     "data": {
      "text/plain": [
       "array([ 0.80645161,  0.88709677,  0.83870968,  0.85245902,  0.86885246])"
      ]
     },
     "execution_count": 106,
     "metadata": {},
     "output_type": "execute_result"
    }
   ],
   "source": [
    "scoring = cross_val_score(rf, X_tr, y_tr, scoring = 'accuracy', cv =5)\n",
    "print(scoring.mean())\n",
    "scoring"
   ]
  },
  {
   "cell_type": "markdown",
   "metadata": {},
   "source": [
    "# 3. Только фотки \n",
    "\n"
   ]
  },
  {
   "cell_type": "code",
   "execution_count": null,
   "metadata": {},
   "outputs": [],
   "source": [
    "df_ph = pd.read_csv('../1.Download_vk_data/vk_photo_data_v18-12-17.csv', sep = '\\t', index_col=0)\n",
    "df_ph.drop(['photo_text'], axis=1, inplace= True )\n",
    "\n",
    "data3 = pd.read_csv('data_1_easy.csv',sep='\\t',index_col=0)\n",
    "\n",
    "data3_X = data1[data3.year != 2017].drop(['firstname','lastname','year','prohodnoy', 'hodit_para','hodit_tusa',\n",
    "        'target_1','target_2','target_3','target_4','kurs','zima','leto','akadem'],axis=1)\n",
    "\n",
    "data3_X = pd.merge(df_ph, data3_X, right_on='uids', left_on='uid',how='right')\n",
    "data3_X.drop(['uid','uids'],axis=1,inplace=True)\n",
    "\n",
    "data3_X.drop(['EGE','lgota','chelevoe','olimp','dogovor','ochko-zaochka','ege_diff','kozko'],axis=1,inplace=True)\n",
    "\n",
    "\n",
    "print(data3_X.shape)\n",
    "\n",
    "data1_X.head()"
   ]
  },
  {
   "cell_type": "code",
   "execution_count": null,
   "metadata": {},
   "outputs": [],
   "source": [
    "# Нулями залились только недостающие куски в колонке с целевиками\n",
    "X = data3_X.fillna(0).get_values( )\n",
    "\n",
    "y = data1[data1.year != 2017]['target_1'].get_values()\n",
    "print('Метки:', '\\n', y[:10], '\\n')\n",
    "print('Переменные: \\n', X)\n",
    "\n",
    "X_tr, X_val, y_tr, y_val = train_test_split(X, y, test_size=0.15, random_state=42)\n",
    "print('\\n', 'Размеры трэйна и теста:', X_tr.shape, X_val.shape)"
   ]
  },
  {
   "cell_type": "code",
   "execution_count": null,
   "metadata": {},
   "outputs": [],
   "source": [
    "lr = LogisticRegression()\n",
    "lr.fit(X_tr, y_tr)\n",
    "\n",
    "printer(y_tr, y_val, lr)\n",
    "roc_auc_pic(y_tr,y_val, lr)"
   ]
  },
  {
   "cell_type": "code",
   "execution_count": null,
   "metadata": {},
   "outputs": [],
   "source": [
    "gridsearch = GridSearchCV(LogisticRegression(penalty = 'l1'), parameters_grid, scoring = 'log_loss', cv = 3)\n",
    "gridsearch.fit(X_tr, y_tr)\n",
    "plot_scores(gridsearch)\n",
    "\n",
    "printer(y_tr, y_val, gridsearch.best_estimator_)\n",
    "roc_auc_pic(y_tr,y_val, lr)"
   ]
  },
  {
   "cell_type": "code",
   "execution_count": null,
   "metadata": {},
   "outputs": [],
   "source": [
    "for a,b in zip(data3_X.columns.get_values(), lr.coef_[0]):\n",
    "    print(a,b)"
   ]
  },
  {
   "cell_type": "code",
   "execution_count": null,
   "metadata": {},
   "outputs": [],
   "source": []
  },
  {
   "cell_type": "code",
   "execution_count": null,
   "metadata": {},
   "outputs": [],
   "source": []
  },
  {
   "cell_type": "markdown",
   "metadata": {},
   "source": [
    "<img align=\"center\" src=\"http://img0.reactor.cc/pics/post/ванга-мемгенератор-59018.jpeg\" width=\"300\">\n"
   ]
  },
  {
   "cell_type": "code",
   "execution_count": null,
   "metadata": {},
   "outputs": [],
   "source": []
  }
 ],
 "metadata": {
  "kernelspec": {
   "display_name": "Python 3",
   "language": "python",
   "name": "python3"
  },
  "language_info": {
   "codemirror_mode": {
    "name": "ipython",
    "version": 3
   },
   "file_extension": ".py",
   "mimetype": "text/x-python",
   "name": "python",
   "nbconvert_exporter": "python",
   "pygments_lexer": "ipython3",
   "version": "3.6.3"
  }
 },
 "nbformat": 4,
 "nbformat_minor": 2
}
